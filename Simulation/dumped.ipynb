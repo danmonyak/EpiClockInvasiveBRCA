{
 "cells": [
  {
   "cell_type": "code",
   "execution_count": null,
   "id": "65191552",
   "metadata": {},
   "outputs": [],
   "source": [
    "n = 1000\n",
    "\n",
    "div_1 = []\n",
    "div_2 = []\n",
    "die_1 = []\n",
    "die_2 = []\n",
    "for i in range(10000):\n",
    "    n_divide, n_die, _ = gen.multinomial(n, pvals=[init_params['growth_rate'], init_params['death_rate'], 1 - init_params['growth_rate'] - init_params['death_rate']])\n",
    "    n_divide_exp = np.sum(gen.exponential(1/init_params['growth_rate'], size=n) < 1)\n",
    "    n_die_exp = np.sum(gen.exponential(1/init_params['death_rate'], size=n) < 1)\n",
    "    \n",
    "    div_1.append(n_divide)\n",
    "    div_2.append(n_divide_exp)\n",
    "    die_1.append(n_die)\n",
    "    die_2.append(n_die_exp)\n",
    "    \n",
    "from scipy.stats import ttest_ind\n",
    "\n",
    "print(ttest_ind(div_1, div_2))\n",
    "print(ttest_ind(die_1, die_2))\n",
    "\n",
    "print(np.mean(div_1))\n",
    "print(np.mean(div_2))\n",
    "print(np.mean(die_1))\n",
    "print(np.mean(die_2))"
   ]
  },
  {
   "cell_type": "code",
   "execution_count": null,
   "id": "e81c3c35",
   "metadata": {},
   "outputs": [],
   "source": [
    "l = []\n",
    "for j in range(100):\n",
    "    s = 1\n",
    "    for i in range(1000):\n",
    "        n_divide = gen.binomial(s, p=init_params['growth_rate'] - init_params['death_rate'])\n",
    "        s += n_divide\n",
    "    l.append(s)\n",
    "print(f'{np.mean(l):.2e}')\n",
    "\n",
    "print(f'{1.02**1000:.2e}')"
   ]
  }
 ],
 "metadata": {
  "kernelspec": {
   "display_name": "Python 3 (ipykernel)",
   "language": "python",
   "name": "python3"
  },
  "language_info": {
   "codemirror_mode": {
    "name": "ipython",
    "version": 3
   },
   "file_extension": ".py",
   "mimetype": "text/x-python",
   "name": "python",
   "nbconvert_exporter": "python",
   "pygments_lexer": "ipython3",
   "version": "3.9.19"
  }
 },
 "nbformat": 4,
 "nbformat_minor": 5
}
