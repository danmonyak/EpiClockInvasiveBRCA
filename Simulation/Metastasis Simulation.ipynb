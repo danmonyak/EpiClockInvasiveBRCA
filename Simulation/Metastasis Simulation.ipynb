{
 "cells": [
  {
   "cell_type": "code",
   "execution_count": 4,
   "id": "0ef43432",
   "metadata": {},
   "outputs": [],
   "source": [
    "import numpy as np\n",
    "import seaborn as sns\n",
    "import simulation as sim"
   ]
  },
  {
   "cell_type": "code",
   "execution_count": 5,
   "id": "ad65a4cc",
   "metadata": {},
   "outputs": [],
   "source": [
    "FLIP_RATE = 0.004\n",
    "GROWTH_RATE = 0.16\n",
    "DEATH_RATE = 0.14"
   ]
  },
  {
   "cell_type": "code",
   "execution_count": 6,
   "id": "6632dc62",
   "metadata": {},
   "outputs": [],
   "source": [
    "# scale factor\n",
    "sf = 0.4\n",
    "\n",
    "figsize = np.array([7, 6])\n",
    "labelfontsize = 25\n",
    "ticksfontsize = 18\n",
    "opacity = 0.8\n",
    "linewidth = 1\n",
    "\n",
    "sns.set(rc={\"savefig.bbox\":'tight', 'axes.linewidth':sf}, font_scale=1, style='ticks')"
   ]
  },
  {
   "cell_type": "code",
   "execution_count": 7,
   "id": "49bfa4b3",
   "metadata": {},
   "outputs": [],
   "source": [
    "seed = 4"
   ]
  },
  {
   "cell_type": "code",
   "execution_count": null,
   "id": "236c8370",
   "metadata": {},
   "outputs": [],
   "source": []
  }
 ],
 "metadata": {
  "kernelspec": {
   "display_name": "Python 3 (ipykernel)",
   "language": "python",
   "name": "python3"
  },
  "language_info": {
   "codemirror_mode": {
    "name": "ipython",
    "version": 3
   },
   "file_extension": ".py",
   "mimetype": "text/x-python",
   "name": "python",
   "nbconvert_exporter": "python",
   "pygments_lexer": "ipython3",
   "version": "3.9.19"
  }
 },
 "nbformat": 4,
 "nbformat_minor": 5
}
