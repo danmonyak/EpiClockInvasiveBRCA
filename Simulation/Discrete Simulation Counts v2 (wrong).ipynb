{
 "cells": [
  {
   "cell_type": "code",
   "execution_count": 1,
   "id": "92e0300a",
   "metadata": {},
   "outputs": [],
   "source": [
    "import numpy as np\n",
    "import pandas as pd\n",
    "import sys\n",
    "import os\n",
    "import copy\n",
    "from time import process_time\n",
    "import matplotlib.pyplot as plt\n",
    "import matplotlib.patches as mpatches\n",
    "import seaborn as sns\n",
    "from matplotlib.patches import Ellipse, Circle\n",
    "from EpiClockInvasiveBRCA.src.consts import consts\n",
    "import simulation_wrong as sim"
   ]
  },
  {
   "cell_type": "code",
   "execution_count": 2,
   "id": "02d38a7a",
   "metadata": {},
   "outputs": [],
   "source": [
    "figure_outdir = 'figures'\n",
    "if not os.path.exists(figure_outdir):\n",
    "    os.mkdir(figure_outdir)\n",
    "\n",
    "FLIP_RATE = 0.004\n",
    "GROWTH_RATE = 0.16\n",
    "DEATH_RATE = 0.14"
   ]
  },
  {
   "cell_type": "code",
   "execution_count": 3,
   "id": "c78eaed9",
   "metadata": {},
   "outputs": [],
   "source": [
    "# scale factor\n",
    "sf = 0.4\n",
    "\n",
    "figsize = np.array([7, 6])\n",
    "labelfontsize = 25\n",
    "ticksfontsize = 18\n",
    "opacity = 0.8\n",
    "linewidth = 1\n",
    "\n",
    "sns.set(rc={\"savefig.bbox\":'tight', 'axes.linewidth':sf}, font_scale=1, style='ticks')"
   ]
  },
  {
   "cell_type": "code",
   "execution_count": 4,
   "id": "f18b5a6f",
   "metadata": {},
   "outputs": [
    {
     "data": {
      "text/plain": [
       "array([0. , 0.5, 1. ])"
      ]
     },
     "execution_count": 4,
     "metadata": {},
     "output_type": "execute_result"
    }
   ],
   "source": [
    "seed = 4\n",
    "\n",
    "init_params = {'n_cells':1,\n",
    "               'flip_rate':FLIP_RATE, # flip rate per cell division per allele\n",
    "               'growth_rate':GROWTH_RATE, # cell divisions per day\n",
    "               'death_rate':DEATH_RATE, # cell deaths per day,\n",
    "               'init_site_state_counts':[1, 1, 0, 1]\n",
    "              }\n",
    "gen = np.random.default_rng(seed)\n",
    "ensmbl = sim.Ensemble(init_params, gen)\n",
    "ensmbl.getBetaValues()"
   ]
  },
  {
   "cell_type": "code",
   "execution_count": 6,
   "id": "8d67cdad",
   "metadata": {
    "scrolled": false
   },
   "outputs": [
    {
     "name": "stdout",
     "output_type": "stream",
     "text": [
      "0\n",
      "1\n",
      "\n",
      "Restarted on day 0!\n",
      "0\n",
      "1\n",
      "\n",
      "Restarted on day 0!\n",
      "0\n",
      "1\n",
      "\n",
      "Restarted on day 0!\n",
      "0\n",
      "1\n",
      "\n",
      "Restarted on day 0!\n",
      "0\n",
      "1\n",
      "\n",
      "100\n",
      "114\n",
      "\n",
      "200\n",
      "758\n",
      "\n",
      "300\n",
      "5690\n",
      "\n",
      "400\n",
      "38430\n",
      "\n",
      "500\n",
      "284316\n",
      "\n",
      "600\n",
      "2048256\n",
      "\n",
      "700\n",
      "14831608\n",
      "\n"
     ]
    }
   ],
   "source": [
    "init_params = {'n_cells':1,\n",
    "               'flip_rate':FLIP_RATE, # flip rate per cell division per allele\n",
    "               'growth_rate':GROWTH_RATE, # cell divisions per day\n",
    "               'death_rate':DEATH_RATE, # cell deaths per day,\n",
    "               'init_site_state_counts':[1, 1, 0, 1],\n",
    "              }\n",
    "gen = np.random.default_rng(seed)\n",
    "\n",
    "nyears = 2\n",
    "\n",
    "total_days = int(nyears * 365)\n",
    "ensmbl = sim.Ensemble(init_params, gen)\n",
    "\n",
    "beta_list = [[], [], []]\n",
    "n_cells_list = []\n",
    "    \n",
    "i = k = 0\n",
    "while i < total_days+1:\n",
    "    if k == 1e9:\n",
    "        sys.exit()\n",
    "    \n",
    "    if i % 100 == 0:\n",
    "        print(i)\n",
    "        print(ensmbl.n_cells)\n",
    "        print()\n",
    "\n",
    "    beta_list.append(ensmbl.getBetaValues())\n",
    "    n_cells_list.append(ensmbl.n_cells)\n",
    "\n",
    "    if ensmbl.passDay():\n",
    "        i += 1\n",
    "    else:\n",
    "        i = 0\n",
    "        ensmbl.reInit()\n",
    "        beta_list.clear()\n",
    "        n_cells_list.clear()\n",
    "\n",
    "    k += 1\n",
    "            "
   ]
  },
  {
   "cell_type": "code",
   "execution_count": 14,
   "id": "a45784d4",
   "metadata": {},
   "outputs": [
    {
     "data": {
      "text/plain": [
       "(-0.1, 2.1)"
      ]
     },
     "execution_count": 14,
     "metadata": {},
     "output_type": "execute_result"
    },
    {
     "data": {
      "image/png": "[encoded data removed]",
      "text/plain": [
       "<Figure size 403.2x239.04 with 1 Axes>"
      ]
     },
     "metadata": {
      "needs_background": "light"
     },
     "output_type": "display_data"
    }
   ],
   "source": [
    "figsize = np.array([14, 8.3])\n",
    "\n",
    "plot_data = pd.melt(pd.DataFrame(np.stack(beta_list, axis=0)).reset_index(), ['index'])\n",
    "plot_data['Year'] = plot_data['index'] / 365\n",
    "color_list = [consts['palette_jco'][i] for i in [0, 1, 3]]\n",
    "\n",
    "fig, ax = plt.subplots(figsize=figsize * sf)\n",
    "\n",
    "plot = sns.lineplot(ax=ax, x='Year', y='value', data=plot_data,\n",
    "                    hue='variable',\n",
    "                    palette=color_list, linestyle='solid', linewidth=2.5 * sf)\n",
    "\n",
    "xlim = (-0.1, nyears + 0.1)\n",
    "\n",
    "ax.set_ylim((-0.1, 1.1))\n",
    "ax.set_yticks([0, 0.5, 1])\n",
    "ax.set_title('Bulk-level methylation ($β$)', fontsize=labelfontsize * sf)\n",
    "ax.set_ylabel('')\n",
    "# ax.yaxis.set_label_coords(0.0, 1.07)\n",
    "ax.set_xlabel('Time (years)', fontsize=labelfontsize * sf)\n",
    "ax.legend('', frameon=False)\n",
    "\n",
    "line_x = np.linspace(xlim[0], xlim[1], 100)\n",
    "line_y = [0.5] * 100\n",
    "ax.plot(line_x, line_y, color=\"grey\", linestyle='dashed', linewidth=1.0)\n",
    "\n",
    "ax.tick_params(axis='both', labelsize=ticksfontsize * sf, width=sf, length=8 * sf)\n",
    "\n",
    "ax.set_xlim(xlim)\n",
    "\n",
    "# fig.savefig(os.path.join(figure_outdir, 'simulation_3_sites.pdf'), format='pdf', pad_inches=0.1)"
   ]
  },
  {
   "cell_type": "code",
   "execution_count": 26,
   "id": "426c4afd",
   "metadata": {},
   "outputs": [
    {
     "data": {
      "image/png": "[encoded data removed]",
      "text/plain": [
       "<Figure size 403.2x230.4 with 1 Axes>"
      ]
     },
     "metadata": {
      "needs_background": "light"
     },
     "output_type": "display_data"
    }
   ],
   "source": [
    "figsize = np.array([14, 8])\n",
    "\n",
    "plot_data = pd.DataFrame(data=np.log10(n_cells_list), columns=['log10_n_cells'])\n",
    "plot_data['Year'] = plot_data.index / 365\n",
    "color_list = [consts['palette_jco'][i] for i in [0, 1, 3]]\n",
    "\n",
    "\n",
    "fig, ax = plt.subplots(figsize=figsize * sf)\n",
    "\n",
    "plot = sns.lineplot(ax=ax, x='Year', y='log10_n_cells', data=plot_data,\n",
    "                    linestyle='solid', linewidth=2.5 * sf)\n",
    "\n",
    "xlim = (-0.1, nyears + 0.1)\n",
    "\n",
    "ax.set_title('Number of cells (log$_{10}$)', fontsize=labelfontsize * sf)\n",
    "ax.set_ylabel('')\n",
    "# ax.yaxis.set_label_coords(0.0, 1.07)\n",
    "ax.set_xlabel('Time (years)', fontsize=labelfontsize * sf)\n",
    "ax.legend('', frameon=False)\n",
    "ax.tick_params(axis='both', labelsize=ticksfontsize * sf, width=sf, length=8 * sf)\n",
    "\n",
    "ax.set_xlim(xlim)\n",
    "\n",
    "fig.savefig(os.path.join(figure_outdir, 'simulation_3_sites_n_cells.pdf'), format='pdf', pad_inches=0.1)"
   ]
  },
  {
   "cell_type": "code",
   "execution_count": 4,
   "id": "7fde4085",
   "metadata": {},
   "outputs": [],
   "source": [
    "seed = 0"
   ]
  },
  {
   "cell_type": "code",
   "execution_count": 5,
   "id": "7622c11a",
   "metadata": {},
   "outputs": [
    {
     "name": "stdout",
     "output_type": "stream",
     "text": [
      "0\n",
      "1\n",
      "\n",
      "0\n",
      "1\n",
      "\n",
      "50\n",
      "1\n",
      "\n",
      "100\n",
      "37\n",
      "\n",
      "150\n",
      "118\n",
      "\n",
      "200\n",
      "314\n",
      "\n",
      "250\n",
      "962\n",
      "\n",
      "300\n",
      "3098\n",
      "\n",
      "350\n",
      "8632\n",
      "\n",
      "400\n",
      "22117\n",
      "\n",
      "450\n",
      "57638\n",
      "\n",
      "500\n",
      "155477\n",
      "\n",
      "550\n",
      "420189\n",
      "\n",
      "600\n",
      "1127422\n",
      "\n",
      "650\n",
      "3038043\n",
      "\n",
      "700\n",
      "8189668\n",
      "\n"
     ]
    }
   ],
   "source": [
    "n_CpGs_each = 3\n",
    "\n",
    "init_params = {'n_cells':1,\n",
    "               'flip_rate':FLIP_RATE, # flip rate per cell division per allele\n",
    "               'growth_rate':GROWTH_RATE, # cell divisions per day\n",
    "               'death_rate':DEATH_RATE, # cell deaths per day,\n",
    "               'init_site_state_counts':[n_CpGs_each, n_CpGs_each, 0, n_CpGs_each],\n",
    "              }\n",
    "gen = np.random.default_rng(seed)\n",
    "\n",
    "nyears = 2\n",
    "\n",
    "total_days = int(nyears * 365)\n",
    "ensmbl = sim.Ensemble(init_params, gen)\n",
    "\n",
    "beta_list = [[], [], []]\n",
    "n_cells_list = []\n",
    "    \n",
    "i = k = 0\n",
    "while i < total_days+1:\n",
    "    if k == 1e9:\n",
    "        sys.exit()\n",
    "    \n",
    "    if i % 50 == 0:\n",
    "        print(i)\n",
    "        print(ensmbl.n_cells)\n",
    "        print()\n",
    "\n",
    "    beta_list.append(ensmbl.getBetaValues())\n",
    "    n_cells_list.append(ensmbl.n_cells)\n",
    "\n",
    "    if ensmbl.passDay():\n",
    "        i += 1\n",
    "    else:\n",
    "        i = 0\n",
    "        ensmbl.reInit()\n",
    "        beta_list.clear()\n",
    "        n_cells_list.clear()\n",
    "\n",
    "    k += 1\n",
    "            \n",
    "beta_values_arr = np.stack(beta_list, axis=1)"
   ]
  },
  {
   "cell_type": "code",
   "execution_count": 6,
   "id": "299b03cf",
   "metadata": {},
   "outputs": [
    {
     "data": {
      "image/png": "[encoded data removed]",
      "text/plain": [
       "<Figure size 115.2x86.4 with 1 Axes>"
      ]
     },
     "metadata": {
      "needs_background": "light"
     },
     "output_type": "display_data"
    },
    {
     "data": {
      "image/png": "[encoded data removed]",
      "text/plain": [
       "<Figure size 115.2x86.4 with 1 Axes>"
      ]
     },
     "metadata": {
      "needs_background": "light"
     },
     "output_type": "display_data"
    },
    {
     "data": {
      "image/png": "[encoded data removed]",
      "text/plain": [
       "<Figure size 115.2x86.4 with 1 Axes>"
      ]
     },
     "metadata": {
      "needs_background": "light"
     },
     "output_type": "display_data"
    }
   ],
   "source": [
    "figsize = np.array([4, 3])\n",
    "\n",
    "time_checkpoints = [0, int(total_days/2), total_days]\n",
    "color_list = [consts['palette_jco'][i] for i in [0, 1, 3]]\n",
    "\n",
    "k = 0\n",
    "for chk in time_checkpoints:\n",
    "    fig, ax = plt.subplots(figsize=figsize * sf)\n",
    "    \n",
    "    sim.plotBetaValues(ax, beta_values=beta_values_arr[:, chk],\n",
    "                   binwidth=0.1, color=consts['palette_jco'][2], opacity=opacity,\n",
    "                   labelfontsize=labelfontsize, ticksfontsize=ticksfontsize, sf=sf, bins=np.linspace(-0.05, 1.05, 12))\n",
    "    ax.set_ylim(0, 0.5)\n",
    "    \n",
    "    \n",
    "    for j in range(3):\n",
    "#         beta = beta_values_arr[j * init_params['n_CpGs'], chk]     # Individual representative site\n",
    "        beta = np.mean(beta_values_arr[j*n_CpGs_each:(j+1)*n_CpGs_each, chk])     # Mean of sites in group\n",
    "        y_height = ax.get_ylim()[1]\n",
    "        ax.add_patch(Ellipse((beta, y_height/10), 0.25 * sf, 0.3*y_height * sf, color=color_list[j]))\n",
    "    \n",
    "    fig.savefig(os.path.join(figure_outdir, f'simulation_300_sites_hist_{k}.pdf'), format='pdf', pad_inches=0.1)\n",
    "    \n",
    "    k += 1"
   ]
  },
  {
   "cell_type": "code",
   "execution_count": 7,
   "id": "e0bb51d3",
   "metadata": {},
   "outputs": [
    {
     "data": {
      "image/png": "[encoded data removed]",
      "text/plain": [
       "<Figure size 489.6x230.4 with 1 Axes>"
      ]
     },
     "metadata": {
      "needs_background": "light"
     },
     "output_type": "display_data"
    }
   ],
   "source": [
    "figsize = np.array([17, 8])\n",
    "\n",
    "data_list = []\n",
    "for j in range(3):\n",
    "    data = pd.melt(pd.DataFrame(\n",
    "        beta_values_arr[j*n_CpGs_each:(j+1)*n_CpGs_each]\n",
    "    ).T.reset_index(), ['index'])\n",
    "    data['Year'] = data['index'] / 365\n",
    "    data['variable'] += n_CpGs_each * j\n",
    "    data_list.append(data)\n",
    "\n",
    "plot_data = pd.concat(data_list, axis=0)\n",
    "\n",
    "palette = np.concatenate([[color]*n_CpGs_each for color in color_list]).tolist()\n",
    "\n",
    "fig, ax = plt.subplots(figsize=figsize * sf)\n",
    "\n",
    "plot = sns.lineplot(ax=ax, x='Year', y='value', data=plot_data,\n",
    "                    hue='variable', palette=palette,\n",
    "                    linestyle='solid', linewidth=1 * sf, alpha=0.5\n",
    "                   )\n",
    "# xlim = (-0.1, nyears + 0.1)\n",
    "xlim = (-0.01, nyears + 0.01)\n",
    "\n",
    "ax.set_ylim(0, 1)\n",
    "ax.set_xlim(xlim)\n",
    "ax.tick_params(\n",
    "    axis='x',          # changes apply to the x-axis\n",
    "    which='both',      # both major and minor ticks are affected\n",
    "    bottom=False,      # ticks along the bottom edge are off\n",
    "    top=True,         # ticks along the top edge are off\n",
    "    labelbottom=False, # labels along the bottom edge are off\n",
    "    labeltop=True)\n",
    "ax.tick_params(axis='both', labelsize=ticksfontsize * sf, width=sf, length=8 * sf)\n",
    "ax.set_yticks([0, 0.5, 1])\n",
    "ax.set_ylabel('$β$', rotation=0, fontsize=labelfontsize * sf)\n",
    "ax.yaxis.set_label_coords(0.0, 1.07)\n",
    "ax.set_xlabel('Time (years)', fontsize=labelfontsize * sf)\n",
    "ax.xaxis.set_label_coords(0.5, 1.15)\n",
    "ax.legend('', frameon=False)\n",
    "\n",
    "for t in time_checkpoints:\n",
    "    ax.axvline(x = t / 365, linestyle='dashed', color='black', linewidth=2.5 * sf)\n",
    "    \n",
    "# for j in range(3):\n",
    "#     plot_data_group_j = plot_data.loc[(plot_data['variable'] >= j*n_CpGs_each) & (plot_data['variable'] < (j+1)*n_CpGs_each)]\n",
    "#     mean_beta_ser = plot_data_group_j.groupby('Year')['value'].agg('mean')\n",
    "#     ax.plot(mean_beta_ser.index, mean_beta_ser, color=color_list[j], lw = 3 * sf)\n",
    "\n",
    "fig.savefig(os.path.join(figure_outdir, 'simulation_300_sites.pdf'), format='pdf', pad_inches=0.1)"
   ]
  },
  {
   "cell_type": "code",
   "execution_count": 64,
   "id": "8f10a6f2",
   "metadata": {},
   "outputs": [
    {
     "ename": "ValueError",
     "evalue": "x and y must have same first dimension, but have shapes (184,) and (183,)",
     "output_type": "error",
     "traceback": [
      "\u001b[0;31m---------------------------------------------------------------------------\u001b[0m",
      "\u001b[0;31mValueError\u001b[0m                                Traceback (most recent call last)",
      "\u001b[0;32m/var/folders/m9/kv2y3r0s0p1_cl3s3py1wprh0000gn/T/ipykernel_14847/353870810.py\u001b[0m in \u001b[0;36m<module>\u001b[0;34m\u001b[0m\n\u001b[1;32m      9\u001b[0m \u001b[0;34m\u001b[0m\u001b[0m\n\u001b[1;32m     10\u001b[0m \u001b[0myear_arr\u001b[0m \u001b[0;34m=\u001b[0m \u001b[0mnp\u001b[0m\u001b[0;34m.\u001b[0m\u001b[0marange\u001b[0m\u001b[0;34m(\u001b[0m\u001b[0;36m0\u001b[0m\u001b[0;34m,\u001b[0m \u001b[0mnyears\u001b[0m\u001b[0;34m*\u001b[0m\u001b[0;36m365\u001b[0m \u001b[0;34m+\u001b[0m \u001b[0;36m1\u001b[0m\u001b[0;34m)\u001b[0m \u001b[0;34m/\u001b[0m \u001b[0;36m365\u001b[0m\u001b[0;34m\u001b[0m\u001b[0;34m\u001b[0m\u001b[0m\n\u001b[0;32m---> 11\u001b[0;31m \u001b[0max\u001b[0m\u001b[0;34m.\u001b[0m\u001b[0mplot\u001b[0m\u001b[0;34m(\u001b[0m\u001b[0myear_arr\u001b[0m\u001b[0;34m,\u001b[0m \u001b[0ms_beta\u001b[0m\u001b[0;34m,\u001b[0m \u001b[0mcolor\u001b[0m\u001b[0;34m=\u001b[0m\u001b[0mconsts\u001b[0m\u001b[0;34m[\u001b[0m\u001b[0;34m'palette_jco'\u001b[0m\u001b[0;34m]\u001b[0m\u001b[0;34m[\u001b[0m\u001b[0;36m4\u001b[0m\u001b[0;34m]\u001b[0m\u001b[0;34m)\u001b[0m\u001b[0;34m\u001b[0m\u001b[0;34m\u001b[0m\u001b[0m\n\u001b[0m\u001b[1;32m     12\u001b[0m \u001b[0max\u001b[0m\u001b[0;34m.\u001b[0m\u001b[0mplot\u001b[0m\u001b[0;34m(\u001b[0m\u001b[0myear_arr\u001b[0m\u001b[0;34m,\u001b[0m \u001b[0mc_beta\u001b[0m\u001b[0;34m,\u001b[0m \u001b[0mcolor\u001b[0m\u001b[0;34m=\u001b[0m\u001b[0mconsts\u001b[0m\u001b[0;34m[\u001b[0m\u001b[0;34m'palette_jco'\u001b[0m\u001b[0;34m]\u001b[0m\u001b[0;34m[\u001b[0m\u001b[0;36m6\u001b[0m\u001b[0;34m]\u001b[0m\u001b[0;34m)\u001b[0m\u001b[0;34m\u001b[0m\u001b[0;34m\u001b[0m\u001b[0m\n\u001b[1;32m     13\u001b[0m \u001b[0;34m\u001b[0m\u001b[0m\n",
      "\u001b[0;32m~/opt/anaconda3/lib/python3.9/site-packages/matplotlib/axes/_axes.py\u001b[0m in \u001b[0;36mplot\u001b[0;34m(self, scalex, scaley, data, *args, **kwargs)\u001b[0m\n\u001b[1;32m   1719\u001b[0m         \"\"\"\n\u001b[1;32m   1720\u001b[0m         \u001b[0mkwargs\u001b[0m \u001b[0;34m=\u001b[0m \u001b[0mcbook\u001b[0m\u001b[0;34m.\u001b[0m\u001b[0mnormalize_kwargs\u001b[0m\u001b[0;34m(\u001b[0m\u001b[0mkwargs\u001b[0m\u001b[0;34m,\u001b[0m \u001b[0mmlines\u001b[0m\u001b[0;34m.\u001b[0m\u001b[0mLine2D\u001b[0m\u001b[0;34m)\u001b[0m\u001b[0;34m\u001b[0m\u001b[0;34m\u001b[0m\u001b[0m\n\u001b[0;32m-> 1721\u001b[0;31m         \u001b[0mlines\u001b[0m \u001b[0;34m=\u001b[0m \u001b[0;34m[\u001b[0m\u001b[0;34m*\u001b[0m\u001b[0mself\u001b[0m\u001b[0;34m.\u001b[0m\u001b[0m_get_lines\u001b[0m\u001b[0;34m(\u001b[0m\u001b[0mself\u001b[0m\u001b[0;34m,\u001b[0m \u001b[0;34m*\u001b[0m\u001b[0margs\u001b[0m\u001b[0;34m,\u001b[0m \u001b[0mdata\u001b[0m\u001b[0;34m=\u001b[0m\u001b[0mdata\u001b[0m\u001b[0;34m,\u001b[0m \u001b[0;34m**\u001b[0m\u001b[0mkwargs\u001b[0m\u001b[0;34m)\u001b[0m\u001b[0;34m]\u001b[0m\u001b[0;34m\u001b[0m\u001b[0;34m\u001b[0m\u001b[0m\n\u001b[0m\u001b[1;32m   1722\u001b[0m         \u001b[0;32mfor\u001b[0m \u001b[0mline\u001b[0m \u001b[0;32min\u001b[0m \u001b[0mlines\u001b[0m\u001b[0;34m:\u001b[0m\u001b[0;34m\u001b[0m\u001b[0;34m\u001b[0m\u001b[0m\n\u001b[1;32m   1723\u001b[0m             \u001b[0mself\u001b[0m\u001b[0;34m.\u001b[0m\u001b[0madd_line\u001b[0m\u001b[0;34m(\u001b[0m\u001b[0mline\u001b[0m\u001b[0;34m)\u001b[0m\u001b[0;34m\u001b[0m\u001b[0;34m\u001b[0m\u001b[0m\n",
      "\u001b[0;32m~/opt/anaconda3/lib/python3.9/site-packages/matplotlib/axes/_base.py\u001b[0m in \u001b[0;36m__call__\u001b[0;34m(self, axes, data, *args, **kwargs)\u001b[0m\n\u001b[1;32m    301\u001b[0m                 \u001b[0mthis\u001b[0m \u001b[0;34m+=\u001b[0m \u001b[0margs\u001b[0m\u001b[0;34m[\u001b[0m\u001b[0;36m0\u001b[0m\u001b[0;34m]\u001b[0m\u001b[0;34m,\u001b[0m\u001b[0;34m\u001b[0m\u001b[0;34m\u001b[0m\u001b[0m\n\u001b[1;32m    302\u001b[0m                 \u001b[0margs\u001b[0m \u001b[0;34m=\u001b[0m \u001b[0margs\u001b[0m\u001b[0;34m[\u001b[0m\u001b[0;36m1\u001b[0m\u001b[0;34m:\u001b[0m\u001b[0;34m]\u001b[0m\u001b[0;34m\u001b[0m\u001b[0;34m\u001b[0m\u001b[0m\n\u001b[0;32m--> 303\u001b[0;31m             yield from self._plot_args(\n\u001b[0m\u001b[1;32m    304\u001b[0m                 axes, this, kwargs, ambiguous_fmt_datakey=ambiguous_fmt_datakey)\n\u001b[1;32m    305\u001b[0m \u001b[0;34m\u001b[0m\u001b[0m\n",
      "\u001b[0;32m~/opt/anaconda3/lib/python3.9/site-packages/matplotlib/axes/_base.py\u001b[0m in \u001b[0;36m_plot_args\u001b[0;34m(self, axes, tup, kwargs, return_kwargs, ambiguous_fmt_datakey)\u001b[0m\n\u001b[1;32m    497\u001b[0m \u001b[0;34m\u001b[0m\u001b[0m\n\u001b[1;32m    498\u001b[0m         \u001b[0;32mif\u001b[0m \u001b[0mx\u001b[0m\u001b[0;34m.\u001b[0m\u001b[0mshape\u001b[0m\u001b[0;34m[\u001b[0m\u001b[0;36m0\u001b[0m\u001b[0;34m]\u001b[0m \u001b[0;34m!=\u001b[0m \u001b[0my\u001b[0m\u001b[0;34m.\u001b[0m\u001b[0mshape\u001b[0m\u001b[0;34m[\u001b[0m\u001b[0;36m0\u001b[0m\u001b[0;34m]\u001b[0m\u001b[0;34m:\u001b[0m\u001b[0;34m\u001b[0m\u001b[0;34m\u001b[0m\u001b[0m\n\u001b[0;32m--> 499\u001b[0;31m             raise ValueError(f\"x and y must have same first dimension, but \"\n\u001b[0m\u001b[1;32m    500\u001b[0m                              f\"have shapes {x.shape} and {y.shape}\")\n\u001b[1;32m    501\u001b[0m         \u001b[0;32mif\u001b[0m \u001b[0mx\u001b[0m\u001b[0;34m.\u001b[0m\u001b[0mndim\u001b[0m \u001b[0;34m>\u001b[0m \u001b[0;36m2\u001b[0m \u001b[0;32mor\u001b[0m \u001b[0my\u001b[0m\u001b[0;34m.\u001b[0m\u001b[0mndim\u001b[0m \u001b[0;34m>\u001b[0m \u001b[0;36m2\u001b[0m\u001b[0;34m:\u001b[0m\u001b[0;34m\u001b[0m\u001b[0;34m\u001b[0m\u001b[0m\n",
      "\u001b[0;31mValueError\u001b[0m: x and y must have same first dimension, but have shapes (184,) and (183,)"
     ]
    },
    {
     "data": {
      "image/png": "[encoded data removed]",
      "text/plain": [
       "<Figure size 259.2x172.8 with 1 Axes>"
      ]
     },
     "metadata": {
      "needs_background": "light"
     },
     "output_type": "display_data"
    }
   ],
   "source": [
    "s_beta = np.std(beta_values_arr, axis=0)\n",
    "c_beta = 1 - s_beta\n",
    "\n",
    "figsize = np.array([9, 6])\n",
    "\n",
    "\n",
    "\n",
    "fig, ax = plt.subplots(figsize=figsize * sf)\n",
    "\n",
    "year_arr = np.arange(0, nyears*365 + 1) / 365\n",
    "ax.plot(year_arr, s_beta, color=consts['palette_jco'][4])\n",
    "ax.plot(year_arr, c_beta, color=consts['palette_jco'][6])\n",
    "\n",
    "xlim = (-0.1, nyears + 0.1)\n",
    "\n",
    "ax.set_ylim(0, 1)\n",
    "ax.set_xlim(xlim)\n",
    "ax.tick_params(\n",
    "    axis='x',          # changes apply to the x-axis\n",
    "    which='both',      # both major and minor ticks are affected\n",
    "    bottom=False,      # ticks along the bottom edge are off\n",
    "    top=True,         # ticks along the top edge are off\n",
    "    labelbottom=False, # labels along the bottom edge are off\n",
    "    labeltop=True)\n",
    "\n",
    "ax.tick_params(axis='both', labelsize=ticksfontsize * sf, width=sf, length=8 * sf)\n",
    "ax.set_yticks([0, 0.5, 1])\n",
    "ax.set_xlabel('Time (years)', fontsize=labelfontsize * sf)\n",
    "ax.xaxis.set_label_coords(0.5, 1.2)\n",
    "\n",
    "patches = [\n",
    "    mpatches.Patch(color=consts['palette_jco'][6], label='$c_β$'),\n",
    "    mpatches.Patch(color=consts['palette_jco'][4], label='$s_β$')\n",
    "]\n",
    "leg = fig.legend(\n",
    "    handles=patches,\n",
    "    loc='upper right',\n",
    "    bbox_to_anchor=(0.8, 0.63),\n",
    "    fontsize=0.9*labelfontsize * sf,\n",
    ")\n",
    "\n",
    "fig.savefig(os.path.join(figure_outdir, 'simulation_300_sites_c_s_beta.pdf'), format='pdf', pad_inches=0.1)"
   ]
  },
  {
   "cell_type": "code",
   "execution_count": 9,
   "id": "1e216a2f",
   "metadata": {},
   "outputs": [],
   "source": [
    "init_params = {'n_CpGs':1, 'n_cells':1,\n",
    "               'flip_rate':FLIP_RATE, # flip rate per cell division per allele\n",
    "               'growth_rate':GROWTH_RATE, # cell divisions per day\n",
    "               'death_rate':DEATH_RATE, # cell deaths per day,\n",
    "               'init_site_state_probs':[1, 0, 0, 0],\n",
    "              }\n",
    "gen = np.random.default_rng(seed)\n",
    "\n",
    "site_list = [site(copy.deepcopy(init_params), gen)]\n",
    "\n",
    "slower_init_params = init_params.copy()\n",
    "slower_init_params['death_rate'] = (slower_init_params['growth_rate'] + slower_init_params['death_rate']) / 2\n",
    "site_list.append(site(slower_init_params, gen))\n",
    "\n",
    "n_cells_list = [[], []]\n",
    "\n",
    "for j in range(2):\n",
    "    i = k = 0\n",
    "    while True:\n",
    "        if k == 1e9:\n",
    "            sys.exit()\n",
    "\n",
    "        n_cells = np.sum(site_list[j].cell_counts)\n",
    "        n_cells_list[j].append(n_cells)\n",
    "\n",
    "        if n_cells > 1e9:\n",
    "            break\n",
    "        \n",
    "        if sim.passDay(site_list[j].cell_counts, site_list[j].init_params, gen):\n",
    "            i += 1\n",
    "        else:   # restart simulation\n",
    "            i = 0\n",
    "            site_list[j].reInit()\n",
    "            n_cells_list[j].clear()\n",
    "\n",
    "        k += 1\n"
   ]
  },
  {
   "cell_type": "code",
   "execution_count": 59,
   "id": "7090ae16",
   "metadata": {},
   "outputs": [
    {
     "data": {
      "image/png": "[encoded data removed]",
      "text/plain": [
       "<Figure size 403.2x172.8 with 1 Axes>"
      ]
     },
     "metadata": {},
     "output_type": "display_data"
    }
   ],
   "source": [
    "figsize = np.array([14,  6])\n",
    "\n",
    "scale = 10**8\n",
    "\n",
    "plot_data = pd.concat([pd.DataFrame({'n_cells':n_cells_list[j], 'Death Rate':round(site_list[j].init_params['death_rate'], 2)}) for j in range(2)], axis=0).reset_index()\n",
    "plot_data['Year'] = plot_data['index'] / 365\n",
    "plot_data['n_cells'] /= scale\n",
    "color_list = [consts['palette_jco'][i] for i in [0, 1]]\n",
    "color_dict = dict(zip(plot_data['Death Rate'].unique(), color_list))\n",
    "\n",
    "fig, ax = plt.subplots(figsize=figsize * sf)\n",
    "\n",
    "plot = sns.lineplot(ax=ax, x='Year', y='n_cells', data=plot_data,\n",
    "                    hue='Death Rate', legend=False,\n",
    "                    palette=color_dict, linestyle='solid', linewidth=2.5 * sf)\n",
    "\n",
    "ax.set_title(f'Growth rate: {site_list[0].init_params[\"growth_rate\"]}', fontsize=labelfontsize * sf)\n",
    "ax.set_ylabel(f'Number of cells ($10^{int(np.log10(scale))}$)', fontsize=labelfontsize * sf)\n",
    "ax.set_xlabel('Tumor age (years)', fontsize=labelfontsize * sf)\n",
    "ax.tick_params(axis='both', labelsize=ticksfontsize * sf, width=sf, length=8 * sf)\n",
    "\n",
    "patches = [mpatches.Patch(color=color_dict[group], label=group) for group in color_dict.keys()]\n",
    "leg = fig.legend(\n",
    "    title = 'Death Rate',\n",
    "    handles=patches,\n",
    "    loc='upper right',\n",
    "    bbox_to_anchor=(0.3, 0.6),\n",
    "    fontsize=0.9*labelfontsize * sf,\n",
    ")\n",
    "\n",
    "leg.get_title().set_fontsize(0.9*labelfontsize * sf)\n",
    "\n",
    "ax.axhline(y=10, ls='--', lw=0.5, color='black')\n",
    "ax.text(0, 9, 'Detection threshold',\n",
    "        ha=\"left\", va=\"bottom\", fontfamily='sans-serif', color='black',\n",
    "        fontsize=labelfontsize * 0.9 * sf)\n",
    "\n",
    "fig.savefig(os.path.join(figure_outdir, 'simulation_different_death_rates.pdf'), format='pdf', pad_inches=0.1)"
   ]
  }
 ],
 "metadata": {
  "kernelspec": {
   "display_name": "Python 3 (ipykernel)",
   "language": "python",
   "name": "python3"
  },
  "language_info": {
   "codemirror_mode": {
    "name": "ipython",
    "version": 3
   },
   "file_extension": ".py",
   "mimetype": "text/x-python",
   "name": "python",
   "nbconvert_exporter": "python",
   "pygments_lexer": "ipython3",
   "version": "3.9.19"
  }
 },
 "nbformat": 4,
 "nbformat_minor": 5
}
