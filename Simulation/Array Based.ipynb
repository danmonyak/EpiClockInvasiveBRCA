{
 "cells": [
  {
   "cell_type": "code",
   "execution_count": 1,
   "id": "99dc7cc5",
   "metadata": {},
   "outputs": [],
   "source": [
    "import numpy as np\n",
    "import pandas as pd\n",
    "import sys\n",
    "import os\n",
    "import copy\n",
    "from time import process_time\n",
    "import matplotlib.pyplot as plt\n",
    "import matplotlib.patches as mpatches\n",
    "import seaborn as sns\n",
    "from matplotlib.patches import Ellipse, Circle\n",
    "from EpiClockInvasiveBRCA.src.consts import consts\n",
    "import simulation_array as sim"
   ]
  },
  {
   "cell_type": "code",
   "execution_count": 2,
   "id": "f6e3c43f",
   "metadata": {},
   "outputs": [],
   "source": [
    "figure_outdir = 'figures'\n",
    "if not os.path.exists(figure_outdir):\n",
    "    os.mkdir(figure_outdir)"
   ]
  },
  {
   "cell_type": "code",
   "execution_count": 3,
   "id": "f2f07007",
   "metadata": {},
   "outputs": [],
   "source": [
    "FLIP_RATE = 0.004\n",
    "GROWTH_RATE = 0.16\n",
    "DEATH_RATE = 0.14"
   ]
  },
  {
   "cell_type": "code",
   "execution_count": 4,
   "id": "61590537",
   "metadata": {},
   "outputs": [],
   "source": [
    "# scale factor\n",
    "sf = 0.4\n",
    "\n",
    "figsize = np.array([7, 6])\n",
    "labelfontsize = 25\n",
    "ticksfontsize = 18\n",
    "opacity = 0.8\n",
    "linewidth = 1\n",
    "\n",
    "color_list = [consts['palette_jco'][i] for i in [0, 1, 3]]\n",
    "sns.set(rc={\"savefig.bbox\":'tight', 'axes.linewidth':sf}, font_scale=1, style='ticks')"
   ]
  },
  {
   "cell_type": "code",
   "execution_count": 5,
   "id": "25276774",
   "metadata": {},
   "outputs": [],
   "source": [
    "init_params = {'n_cells':1,\n",
    "               'flip_rate':FLIP_RATE, # flip rate per cell division per allele\n",
    "               'growth_rate':GROWTH_RATE, # cell divisions per day\n",
    "               'death_rate':DEATH_RATE, # cell deaths per day,\n",
    "               'init_site_state_counts':[1, 1, 0, 1],\n",
    "              }"
   ]
  },
  {
   "cell_type": "code",
   "execution_count": 14,
   "id": "5478eae1",
   "metadata": {},
   "outputs": [
    {
     "name": "stdout",
     "output_type": "stream",
     "text": [
      "allocated\n"
     ]
    }
   ],
   "source": [
    "seed = 0\n",
    "gen = np.random.default_rng(seed)\n",
    "\n",
    "ens = sim.Ensemble(init_params, gen)"
   ]
  },
  {
   "cell_type": "code",
   "execution_count": 15,
   "id": "41484196",
   "metadata": {},
   "outputs": [
    {
     "name": "stdout",
     "output_type": "stream",
     "text": [
      "\n",
      "died\n",
      "1\n",
      "1\n",
      "\n",
      "\n",
      "died\n",
      "1\n",
      "1\n",
      "\n",
      "\n",
      "died\n",
      "2\n",
      "2\n",
      "\n",
      "\n",
      "died\n",
      "1\n",
      "1\n",
      "\n",
      "\n",
      "died\n",
      "1\n",
      "1\n",
      "\n",
      "\n",
      "died\n",
      "1\n",
      "1\n",
      "\n",
      "\n",
      "died\n",
      "1\n",
      "1\n",
      "\n",
      "\n",
      "died\n",
      "1\n",
      "1\n",
      "\n",
      "\n",
      "died\n",
      "1\n",
      "1\n",
      "\n",
      "\n",
      "died\n",
      "1\n",
      "1\n",
      "\n",
      "\n",
      "died\n",
      "1\n",
      "1\n",
      "\n",
      "\n",
      "died\n",
      "1\n",
      "1\n",
      "\n",
      "\n",
      "died\n",
      "1\n",
      "1\n",
      "\n",
      "\n",
      "died\n",
      "1\n",
      "1\n",
      "\n",
      "\n",
      "died\n",
      "1\n",
      "1\n",
      "\n",
      "\n",
      "died\n",
      "1\n",
      "1\n",
      "\n",
      "\n",
      "died\n",
      "1\n",
      "1\n",
      "\n",
      "\n",
      "died\n",
      "1\n",
      "1\n",
      "\n",
      "\n",
      "died\n",
      "2\n",
      "2\n",
      "\n",
      "\n",
      "died\n",
      "1\n",
      "1\n",
      "\n",
      "\n",
      "died\n",
      "2\n",
      "2\n",
      "\n",
      "\n",
      "died\n",
      "1\n",
      "1\n",
      "\n",
      "\n",
      "died\n",
      "2\n",
      "2\n",
      "\n",
      "\n",
      "died\n",
      "1\n",
      "1\n",
      "\n",
      "\n",
      "died\n",
      "1\n",
      "1\n",
      "\n",
      "\n",
      "died\n",
      "2\n",
      "2\n",
      "\n",
      "\n",
      "died\n",
      "1\n",
      "1\n",
      "\n",
      "\n",
      "died\n",
      "1\n",
      "1\n",
      "\n",
      "\n",
      "died\n",
      "1\n",
      "1\n",
      "\n",
      "\n",
      "died\n",
      "2\n",
      "2\n",
      "\n",
      "\n",
      "died\n",
      "1\n",
      "1\n",
      "\n",
      "\n",
      "died\n",
      "1\n",
      "1\n",
      "\n",
      "\n",
      "died\n",
      "1\n",
      "1\n",
      "\n",
      "\n",
      "died\n",
      "1\n",
      "1\n",
      "\n",
      "\n",
      "died\n",
      "1\n",
      "1\n",
      "\n",
      "\n",
      "died\n",
      "1\n",
      "1\n",
      "\n",
      "\n",
      "died\n",
      "1\n",
      "1\n",
      "\n",
      "\n",
      "died\n",
      "1\n",
      "1\n",
      "\n",
      "\n",
      "died\n",
      "1\n",
      "1\n",
      "\n",
      "\n",
      "died\n",
      "1\n",
      "1\n",
      "\n",
      "\n",
      "died\n",
      "1\n",
      "1\n",
      "\n",
      "\n",
      "died\n",
      "1\n",
      "1\n",
      "\n",
      "\n",
      "died\n",
      "1\n",
      "1\n",
      "\n",
      "\n",
      "died\n",
      "1\n",
      "1\n",
      "\n",
      "\n",
      "died\n",
      "1\n",
      "1\n",
      "\n",
      "\n",
      "died\n",
      "2\n",
      "2\n",
      "\n",
      "Total time: 0.05762300000000131\n"
     ]
    }
   ],
   "source": [
    "time_list = []\n",
    "\n",
    "before_total = process_time()\n",
    "\n",
    "for i in range(600):\n",
    "    \n",
    "    before = process_time()\n",
    "    ens.passDay()\n",
    "    after = process_time()\n",
    "    \n",
    "    time_list.append(after - before)\n",
    "    \n",
    "after_total = process_time()\n",
    "\n",
    "print(f'Total time: {after_total - before_total}')"
   ]
  },
  {
   "cell_type": "code",
   "execution_count": 10,
   "id": "41201ded",
   "metadata": {},
   "outputs": [
    {
     "data": {
      "text/plain": [
       "{'a': 0.048109000000026825,\n",
       " 'b': 0.010526999999994402,\n",
       " 'c': 0.11923500000002996,\n",
       " 'd': 0.0169979999999903}"
      ]
     },
     "execution_count": 10,
     "metadata": {},
     "output_type": "execute_result"
    }
   ],
   "source": [
    "ens.time_obj"
   ]
  },
  {
   "cell_type": "code",
   "execution_count": 19,
   "id": "2f3dbeff",
   "metadata": {},
   "outputs": [],
   "source": [
    "self = ens\n",
    "meth_alleles = np.ceil(self.state_arr[self.living_cells] / 2)"
   ]
  },
  {
   "cell_type": "code",
   "execution_count": 20,
   "id": "e65ee200",
   "metadata": {},
   "outputs": [
    {
     "data": {
      "text/plain": [
       "array([[1., 2., 2.],\n",
       "       [1., 2., 2.],\n",
       "       [1., 2., 2.],\n",
       "       [1., 2., 2.]])"
      ]
     },
     "execution_count": 20,
     "metadata": {},
     "output_type": "execute_result"
    }
   ],
   "source": [
    "meth_alleles"
   ]
  },
  {
   "cell_type": "code",
   "execution_count": 18,
   "id": "c48bad67",
   "metadata": {},
   "outputs": [
    {
     "data": {
      "text/plain": [
       "(10000000, 3)"
      ]
     },
     "execution_count": 18,
     "metadata": {},
     "output_type": "execute_result"
    }
   ],
   "source": [
    "ens.state_arr.shape"
   ]
  },
  {
   "cell_type": "code",
   "execution_count": 16,
   "id": "21446df8",
   "metadata": {},
   "outputs": [
    {
     "data": {
      "text/plain": [
       "array([0.5, 1. , 1. ])"
      ]
     },
     "execution_count": 16,
     "metadata": {},
     "output_type": "execute_result"
    }
   ],
   "source": [
    "ens.getBetaValues()"
   ]
  },
  {
   "cell_type": "code",
   "execution_count": 8,
   "id": "600ec034",
   "metadata": {},
   "outputs": [
    {
     "data": {
      "text/plain": [
       "<Axes: >"
      ]
     },
     "execution_count": 8,
     "metadata": {},
     "output_type": "execute_result"
    },
    {
     "data": {
      "image/png": "[encoded data removed]",
      "text/plain": [
       "<Figure size 432x288 with 1 Axes>"
      ]
     },
     "metadata": {
      "needs_background": "light"
     },
     "output_type": "display_data"
    }
   ],
   "source": [
    "xvals = np.arange(len(time_list))\n",
    "sns.lineplot(x=xvals, y=time_list)"
   ]
  },
  {
   "cell_type": "code",
   "execution_count": 266,
   "id": "b3a0e41a",
   "metadata": {},
   "outputs": [
    {
     "data": {
      "text/plain": [
       "<Axes: >"
      ]
     },
     "execution_count": 266,
     "metadata": {},
     "output_type": "execute_result"
    },
    {
     "data": {
      "image/png": "[encoded data removed]",
      "text/plain": [
       "<Figure size 432x288 with 1 Axes>"
      ]
     },
     "metadata": {
      "needs_background": "light"
     },
     "output_type": "display_data"
    }
   ],
   "source": [
    "a = 0.0012\n",
    "b = 1.0116\n",
    "yvals = a*(b**xvals)\n",
    "\n",
    "sns.lineplot(x=xvals, y=yvals)"
   ]
  },
  {
   "cell_type": "code",
   "execution_count": 14,
   "id": "14d5b147",
   "metadata": {},
   "outputs": [
    {
     "data": {
      "text/plain": [
       "(-0.1, 2.1)"
      ]
     },
     "execution_count": 14,
     "metadata": {},
     "output_type": "execute_result"
    },
    {
     "data": {
      "image/png": "[encoded data removed]",
      "text/plain": [
       "<Figure size 403.2x239.04 with 1 Axes>"
      ]
     },
     "metadata": {
      "needs_background": "light"
     },
     "output_type": "display_data"
    }
   ],
   "source": [
    "figsize = np.array([14, 8.3])\n",
    "\n",
    "beta_arr = np.loadtxt(os.path.join('three_sites', 'beta_values.txt'), delimiter='\\t', dtype=float)\n",
    "\n",
    "plot_data = pd.melt(pd.DataFrame(beta_arr).reset_index(), ['index'])\n",
    "plot_data['Year'] = plot_data['index'] / 365\n",
    "color_list = [consts['palette_jco'][i] for i in [0, 1, 3]]\n",
    "\n",
    "fig, ax = plt.subplots(figsize=figsize * sf)\n",
    "\n",
    "plot = sns.lineplot(ax=ax, x='Year', y='value', data=plot_data,\n",
    "                    hue='variable',\n",
    "                    palette=color_list, linestyle='solid', linewidth=2.5 * sf)\n",
    "\n",
    "xlim = (-0.1, plot_data['Year'].max() + 0.1)\n",
    "\n",
    "ax.set_ylim((-0.1, 1.1))\n",
    "ax.set_yticks([0, 0.5, 1])\n",
    "ax.set_title('Bulk-level methylation ($β$)', fontsize=labelfontsize * sf)\n",
    "ax.set_ylabel('')\n",
    "ax.set_xlabel('Time (years)', fontsize=labelfontsize * sf)\n",
    "ax.legend('', frameon=False)\n",
    "\n",
    "line_x = np.linspace(xlim[0], xlim[1], 100)\n",
    "line_y = [0.5] * 100\n",
    "ax.plot(line_x, line_y, color=\"grey\", linestyle='dashed', linewidth=1.0)\n",
    "\n",
    "ax.tick_params(axis='both', labelsize=ticksfontsize * sf, width=sf, length=8 * sf)\n",
    "\n",
    "ax.set_xlim(xlim)\n",
    "\n",
    "# fig.savefig(os.path.join(figure_outdir, 'simulation_3_sites.pdf'), format='pdf', pad_inches=0.1)"
   ]
  },
  {
   "cell_type": "code",
   "execution_count": 15,
   "id": "18da350d",
   "metadata": {},
   "outputs": [
    {
     "data": {
      "image/png": "[encoded data removed]",
      "text/plain": [
       "<Figure size 403.2x230.4 with 1 Axes>"
      ]
     },
     "metadata": {
      "needs_background": "light"
     },
     "output_type": "display_data"
    }
   ],
   "source": [
    "n_cells_list = np.loadtxt(os.path.join('three_sites', 'n_cells.txt'), dtype=int)\n",
    "\n",
    "figsize = np.array([14, 8])\n",
    "\n",
    "plot_data = pd.DataFrame(data=np.log10(n_cells_list), columns=['log10_n_cells'])\n",
    "plot_data['Year'] = plot_data.index / 365\n",
    "color_list = [consts['palette_jco'][i] for i in [0, 1, 3]]\n",
    "\n",
    "\n",
    "fig, ax = plt.subplots(figsize=figsize * sf)\n",
    "\n",
    "plot = sns.lineplot(ax=ax, x='Year', y='log10_n_cells', data=plot_data,\n",
    "                    linestyle='solid', linewidth=2.5 * sf)\n",
    "\n",
    "xlim = (-0.1, plot_data['Year'].max() + 0.1)\n",
    "\n",
    "ax.set_title('Number of cells (log$_{10}$)', fontsize=labelfontsize * sf)\n",
    "ax.set_ylabel('')\n",
    "# ax.yaxis.set_label_coords(0.0, 1.07)\n",
    "ax.set_xlabel('Time (years)', fontsize=labelfontsize * sf)\n",
    "ax.legend('', frameon=False)\n",
    "ax.tick_params(axis='both', labelsize=ticksfontsize * sf, width=sf, length=8 * sf)\n",
    "\n",
    "ax.set_xlim(xlim)\n",
    "\n",
    "fig.savefig(os.path.join(figure_outdir, 'simulation_3_sites_n_cells.pdf'), format='pdf', pad_inches=0.1)"
   ]
  },
  {
   "cell_type": "code",
   "execution_count": null,
   "id": "fa6bf51c",
   "metadata": {},
   "outputs": [],
   "source": []
  }
 ],
 "metadata": {
  "kernelspec": {
   "display_name": "Python 3 (ipykernel)",
   "language": "python",
   "name": "python3"
  },
  "language_info": {
   "codemirror_mode": {
    "name": "ipython",
    "version": 3
   },
   "file_extension": ".py",
   "mimetype": "text/x-python",
   "name": "python",
   "nbconvert_exporter": "python",
   "pygments_lexer": "ipython3",
   "version": "3.9.19"
  }
 },
 "nbformat": 4,
 "nbformat_minor": 5
}
