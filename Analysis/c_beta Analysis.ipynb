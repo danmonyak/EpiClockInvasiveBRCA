{
 "cells": [
  {
   "cell_type": "markdown",
   "id": "c43d953e-0fd5-4d22-80ff-4d31c2418828",
   "metadata": {},
   "source": [
    "# $c_β$ Analysis"
   ]
  },
  {
   "cell_type": "code",
   "execution_count": 33,
   "id": "74e7d698",
   "metadata": {},
   "outputs": [],
   "source": [
    "import pandas as pd\n",
    "import numpy as np\n",
    "import os\n",
    "import sys\n",
    "import seaborn as sns\n",
    "import matplotlib.pyplot as plt\n",
    "import statsmodels.api as sm\n",
    "import EpiClockInvasiveBRCA.src.util as epi_util\n",
    "from EpiClockInvasiveBRCA.src.consts import consts"
   ]
  },
  {
   "cell_type": "code",
   "execution_count": 34,
   "id": "b3c56bdc",
   "metadata": {},
   "outputs": [],
   "source": [
    "## Set up directories for figures\n",
    "\n",
    "figure_outdir = 'figures'\n",
    "clin_path_outdir = os.path.join(figure_outdir, 'clin_path')\n",
    "cell_chars_outdir = os.path.join(figure_outdir, 'cell_chars')\n",
    "supp_path_outdir = os.path.join(figure_outdir, 'supplementary')\n",
    "\n",
    "if not os.path.exists(clin_path_outdir):\n",
    "    os.makedirs(clin_path_outdir)\n",
    "if not os.path.exists(cell_chars_outdir):\n",
    "    os.makedirs(cell_chars_outdir)    \n",
    "if not os.path.exists(supp_path_outdir):\n",
    "    os.makedirs(supp_path_outdir)"
   ]
  },
  {
   "cell_type": "markdown",
   "id": "20f3ec20",
   "metadata": {},
   "source": [
    "## Prep data"
   ]
  },
  {
   "cell_type": "code",
   "execution_count": 35,
   "id": "d0f09616",
   "metadata": {},
   "outputs": [],
   "source": [
    "## Data directories\n",
    "\n",
    "TCGA_clinical_dir = os.path.join(consts['official_indir'], 'TCGA')\n",
    "TCGA_c_beta_dir = os.path.join(consts['repo_dir'], 'Select_fCpGs', 'outputs')\n",
    "Lund_clinical_dir = os.path.join(consts['official_indir'], 'Ringner')\n",
    "Lund_c_beta_dir = os.path.join(consts['repo_dir'], 'Process_Other_Data_Sources', 'outputs', 'cohort_T2')"
   ]
  },
  {
   "cell_type": "code",
   "execution_count": 36,
   "id": "60684668",
   "metadata": {},
   "outputs": [],
   "source": [
    "## Import clinical data for both cohorts into data dictionary\n",
    "## Import c_beta values into dataframes\n",
    "\n",
    "clinical = {}\n",
    "\n",
    "# Lund\n",
    "\n",
    "clinical['Lund'] = pd.read_table(os.path.join(Lund_clinical_dir, 'cohort.T2.clinical.txt'), index_col=0, dtype={'grade':str})\n",
    "clinical['Lund']['c_beta'] = pd.read_table(os.path.join(Lund_c_beta_dir, 'cohort.T2.c_beta.txt'), index_col=0).squeeze(\"columns\")\n",
    "\n",
    "# TCGA\n",
    "\n",
    "clinical['TCGA'] = pd.read_table(os.path.join(TCGA_clinical_dir, 'cohort1.clinical.tsv'), index_col=0)\n",
    "clinical['TCGA'] = clinical['TCGA'].set_index('bcr_patient_barcode')\n",
    "c_beta_tcga = pd.read_table(os.path.join(TCGA_c_beta_dir, 'cohort.T1.c_beta.txt'), index_col=0, header=None).squeeze(\"columns\")\n",
    "c_beta_tcga.index = c_beta_tcga.index.map(epi_util.sampleToPatientID)\n",
    "clinical['TCGA']['c_beta'] = c_beta_tcga\n",
    "\n",
    "clinical['TCGA']['T Stage'] = clinical['TCGA']['ajcc_pathologic_t'].dropna().apply(lambda x:x[:2])\n",
    "clinical['TCGA']['Stage'] = clinical['TCGA']['ajcc_pathologic_stage'].dropna().str.rstrip('ABC')\n",
    "clinical['TCGA']['age'] = clinical['TCGA']['age_at_diagnosis'] / 365\n",
    "\n",
    "# Add sample IDs (as opposed to patient/submitter IDs) to TCGA clinical table\n",
    "patient_to_sample_IDs = pd.read_table(os.path.join(TCGA_clinical_dir, 'patient_to_sample_IDs.txt'), index_col=0).squeeze('columns')\n",
    "clinical['TCGA'] = clinical['TCGA'].merge(patient_to_sample_IDs, left_index=True, right_index=True, how='left')"
   ]
  },
  {
   "cell_type": "code",
   "execution_count": 62,
   "id": "dee4145a",
   "metadata": {},
   "outputs": [],
   "source": [
    "jeff_samples = clinical['TCGA'].index[(clinical['TCGA'].index.str.startswith('TCGA-B6') & ~clinical['TCGA']['c_beta'].isna() & clinical['TCGA']['in_analysis_dataset'])].values"
   ]
  },
  {
   "cell_type": "code",
   "execution_count": 63,
   "id": "a4d6f2d6",
   "metadata": {
    "scrolled": false
   },
   "outputs": [
    {
     "data": {
      "text/plain": [
       "LumB     9\n",
       "LumA     9\n",
       "Basal    7\n",
       "Her2     2\n",
       "Name: subtype.pam50, dtype: int64"
      ]
     },
     "metadata": {},
     "output_type": "display_data"
    },
    {
     "data": {
      "text/plain": [
       "subtype.pam50\n",
       "Basal    0.759492\n",
       "Her2     0.807698\n",
       "LumA     0.781761\n",
       "LumB     0.758954\n",
       "Name: c_beta, dtype: float64"
      ]
     },
     "metadata": {},
     "output_type": "display_data"
    },
    {
     "data": {
      "image/png": "[encoded data removed]",
      "text/plain": [
       "<Figure size 432x288 with 1 Axes>"
      ]
     },
     "metadata": {
      "needs_background": "light"
     },
     "output_type": "display_data"
    }
   ],
   "source": [
    "sns.histplot(clinical['TCGA'].loc[jeff_samples, 'c_beta'])\n",
    "display(clinical['TCGA'].loc[jeff_samples, 'subtype.pam50'].value_counts())\n",
    "display(clinical['TCGA'].loc[jeff_samples].groupby('subtype.pam50')['c_beta'].mean())"
   ]
  },
  {
   "cell_type": "code",
   "execution_count": 66,
   "id": "66698e9c",
   "metadata": {},
   "outputs": [],
   "source": [
    "clinical['TCGA'].loc[jeff_samples, ['subtype.pam50', 'c_beta', 'CPE']].sort_values('c_beta').to_csv('~/Desktop/TCGA_B6_samples_for_Jeff.txt', sep='\\t')"
   ]
  },
  {
   "cell_type": "markdown",
   "id": "a285c6b5",
   "metadata": {},
   "source": [
    "### Import subtyping results"
   ]
  },
  {
   "cell_type": "code",
   "execution_count": 56,
   "id": "e0b48890",
   "metadata": {},
   "outputs": [],
   "source": [
    "## Import pam50 subtype predictions from log2 norm TPM\n",
    "## Merge subtype column with TCGA clinical table\n",
    "\n",
    "TCGA_genefu_pam50_subtypes_log2_norm = pd.read_table('../Subtyping/TCGA.genefu.pam50.subtypes_log2.norm.txt')\n",
    "TCGA_genefu_pam50_subtypes_log2_norm.index = TCGA_genefu_pam50_subtypes_log2_norm['libName'].apply(lambda x:epi_util.sampleToPatientID(x.replace('.', '-')))\n",
    "TCGA_genefu_pam50_subtypes_log2_norm = TCGA_genefu_pam50_subtypes_log2_norm.drop('libName', axis=1)\n",
    "clinical['TCGA'] = clinical['TCGA'].merge(TCGA_genefu_pam50_subtypes_log2_norm['subtype.pam50'], left_index=True, right_index=True, how='left')"
   ]
  },
  {
   "cell_type": "markdown",
   "id": "02cc262c",
   "metadata": {},
   "source": [
    "### RNA-seq"
   ]
  },
  {
   "cell_type": "code",
   "execution_count": 22,
   "id": "4c1448fd",
   "metadata": {},
   "outputs": [],
   "source": [
    "## Import RNA-seq TPM data\n",
    "\n",
    "markers_TPM_df = pd.read_table(\n",
    "    os.path.join(TCGA_clinical_dir, 'cohort1.rnaseq_tpm.tsv'),\n",
    "    sep='\\t')\n",
    "markers_TPM_df = markers_TPM_df.set_index('gene_id')\n",
    "markers_TPM_df = markers_TPM_df.rename(columns=lambda x:'-'.join(x.split('-')[:3]))\n",
    "gene_name = markers_TPM_df.pop('gene_name')\n",
    "nonzero_values = (markers_TPM_df != 0).any(axis=1)\n",
    "\n",
    "markers_TPM_df = markers_TPM_df.loc[nonzero_values]\n",
    "gene_name = gene_name.loc[nonzero_values]"
   ]
  },
  {
   "cell_type": "code",
   "execution_count": 23,
   "id": "32d946af",
   "metadata": {},
   "outputs": [],
   "source": [
    "## Log transform TPM and center the values for each gene across all tumors\n",
    "\n",
    "markers_log_transformed_df = np.log2(markers_TPM_df + 1)\n",
    "markers_transformed_df = markers_log_transformed_df.apply(lambda col:col - markers_log_transformed_df.mean(axis=1), axis=0)\n",
    "assert (markers_transformed_df.mean(axis=1) < 1e-5).all()"
   ]
  },
  {
   "cell_type": "code",
   "execution_count": 24,
   "id": "5afc503c",
   "metadata": {},
   "outputs": [
    {
     "name": "stdout",
     "output_type": "stream",
     "text": [
      "1 genes not found from the IR module\n"
     ]
    }
   ],
   "source": [
    "## Gene modules\n",
    "\n",
    "# Import gene modules from Fredlund et al.\n",
    "\n",
    "gene_module_dict = {}\n",
    "with open(os.path.join(consts['official_indir'], 'misc', 'Fredlund.gene.modules.txt'), 'r') as f:\n",
    "    line_list = f.readlines()\n",
    "\n",
    "for line in line_list:\n",
    "    list_temp = line.rstrip().split('\\t')\n",
    "    gene_module_dict[list_temp[0]] = list_temp[1:]\n",
    "    \n",
    "# Add columns for the average expression of each gene module\n",
    "\n",
    "for module in gene_module_dict.keys():\n",
    "    markers = gene_module_dict[module]\n",
    "    genes_used = gene_name.index[gene_name.isin(markers)]\n",
    "    if genes_used.shape[0] != len(markers):\n",
    "        print(f'{len(markers) - genes_used.shape[0]} genes not found from the {module} module')\n",
    "    selected_TPM = markers_transformed_df.loc[genes_used]\n",
    "    avg_module_expression = selected_TPM.mean(axis=0)\n",
    "    avg_module_expression.name = module\n",
    "    clinical['TCGA'] = clinical['TCGA'].drop(module, axis=1, errors='ignore')\n",
    "    clinical['TCGA'] = clinical['TCGA'].merge(avg_module_expression, left_index=True, right_index=True, how='left')"
   ]
  },
  {
   "cell_type": "code",
   "execution_count": 25,
   "id": "1c605493",
   "metadata": {},
   "outputs": [],
   "source": [
    "## Include expression of certain genes in clinical table\n",
    "## Genes specifically relevant for breast cancer\n",
    "\n",
    "clinical['TCGA']['MKI67'] = markers_transformed_df.loc[gene_name.index[gene_name=='MKI67']].T\n",
    "clinical['TCGA']['MCM2'] = markers_transformed_df.loc[gene_name.index[gene_name=='MCM2']].T\n",
    "\n",
    "MCM_family = ['MCM2', 'MCM3', 'MCM4', 'MCM5', 'MCM6', 'MCM7']\n",
    "clinical['TCGA']['MCM'] = markers_transformed_df.loc[gene_name.index[gene_name.isin(MCM_family)]].mean(axis=0)"
   ]
  },
  {
   "cell_type": "markdown",
   "id": "25a12304",
   "metadata": {},
   "source": [
    "### Copy number analysis"
   ]
  },
  {
   "cell_type": "code",
   "execution_count": 26,
   "id": "eb40c39e",
   "metadata": {},
   "outputs": [],
   "source": [
    "## Import CNV table and transform data\n",
    "\n",
    "CNV_df = pd.read_table(\n",
    "    os.path.join(TCGA_clinical_dir, 'cohort1.cnv.tsv'),\n",
    "    sep='\\t')\n",
    "CNV_df['CN'] = 2 * (2 ** CNV_df['Segment_Mean'])\n",
    "all_samples = CNV_df['Sample'].unique()"
   ]
  },
  {
   "cell_type": "code",
   "execution_count": 27,
   "id": "1732cdbb",
   "metadata": {},
   "outputs": [],
   "source": [
    "## Iterate through samples and calculate CN losses and gains\n",
    "\n",
    "# Thresholds for CN losses and gains\n",
    "FGA_loss_threshold = 1.5\n",
    "FGA_gain_threshold = 2.5\n",
    "\n",
    "# Store FGA loss/gain and ploidy (not used) for each sample\n",
    "FGA_loss_list = []\n",
    "FGA_gain_list = []\n",
    "ploidy_list = []\n",
    "\n",
    "for samp in all_samples:\n",
    "\n",
    "    # Select only rows corresponding to this sample\n",
    "    sample_CNV_df = CNV_df.loc[CNV_df['Sample'] == samp]\n",
    "    \n",
    "    total_num_probes = sample_CNV_df['Num_Probes'].sum()\n",
    "    \n",
    "    # Sum of number of probes in regions that are beyond the loss and gain thresholds\n",
    "    FGA_loss = sample_CNV_df.loc[sample_CNV_df['CN'] < FGA_loss_threshold, 'Num_Probes'].sum() / total_num_probes\n",
    "    FGA_gain = sample_CNV_df.loc[sample_CNV_df['CN'] > FGA_gain_threshold, 'Num_Probes'].sum() / total_num_probes\n",
    "\n",
    "    FGA_loss_list.append(FGA_loss)\n",
    "    FGA_gain_list.append(FGA_gain)\n",
    "\n",
    "    ploidy_list.append(\n",
    "        (sample_CNV_df['CN'] * sample_CNV_df['Num_Probes']).sum() / total_num_probes\n",
    "    )\n",
    "    \n",
    "FGA_output = pd.DataFrame(index=all_samples, data={'FGA_loss':FGA_loss_list, 'FGA_gain':FGA_gain_list})\n",
    "FGA_output['FGA'] = FGA_output['FGA_loss'] + FGA_output['FGA_gain']\n",
    "FGA_output.index = FGA_output.index.to_series().apply(epi_util.sampleToPatientID)\n",
    "\n",
    "# Add new columns to TCGA clinical table\n",
    "clinical['TCGA'] = clinical['TCGA'].drop(['FGA_loss', 'FGA_gain', 'FGA'], axis=1, errors='ignore')\n",
    "clinical['TCGA'] = clinical['TCGA'].merge(FGA_output, left_index=True, right_index=True, how='left')"
   ]
  },
  {
   "cell_type": "markdown",
   "id": "4796551a",
   "metadata": {},
   "source": [
    "### Save annotated clinical file for TCGA cohort"
   ]
  },
  {
   "cell_type": "code",
   "execution_count": 28,
   "id": "11ed67f4",
   "metadata": {
    "scrolled": true
   },
   "outputs": [],
   "source": [
    "# Save modified TCGA clinical table\n",
    "\n",
    "clinical_annotated_filepath = os.path.join(TCGA_clinical_dir, 'cohort1.clinical.annotated.tsv')\n",
    "if os.path.exists(clinical_annotated_filepath):\n",
    "    existing_table = pd.read_table(clinical_annotated_filepath, index_col=0)\n",
    "    assert (existing_table.round(5).fillna(0) == clinical['TCGA'].round(5).fillna(0)).all(axis=None, skipna=True)\n",
    "else:\n",
    "    clinical['TCGA'].to_csv(clinical_annotated_filepath, sep='\\t')"
   ]
  },
  {
   "cell_type": "markdown",
   "id": "0c4d0d0a",
   "metadata": {},
   "source": [
    "## Make Figures"
   ]
  },
  {
   "cell_type": "code",
   "execution_count": 29,
   "id": "5536347f",
   "metadata": {},
   "outputs": [],
   "source": [
    "# scale factor\n",
    "sf = 0.4\n",
    "\n",
    "figsize = np.array([7, 6])\n",
    "labelfontsize = 25\n",
    "ticksfontsize = 18\n",
    "signif_fontsize = 14\n",
    "opacity = 0.8\n",
    "linewidth = 1\n",
    "fliersize = 1\n",
    "\n",
    "sns.set(rc={\"savefig.bbox\":'tight', 'axes.linewidth':sf}, font_scale=1, style='ticks')"
   ]
  },
  {
   "cell_type": "code",
   "execution_count": 30,
   "id": "1053c967",
   "metadata": {},
   "outputs": [],
   "source": [
    "# Must set dataframe names for use of saveBoxPlotNew and saveCorrelationPlot\n",
    "\n",
    "clinical['TCGA'].name = 'TCGA'\n",
    "clinical['Lund'].name = 'Lund'"
   ]
  },
  {
   "cell_type": "code",
   "execution_count": 21,
   "id": "28e54d12",
   "metadata": {
    "scrolled": true
   },
   "outputs": [
    {
     "data": {
      "image/png": "[encoded data removed]",
      "text/plain": [
       "<Figure size 463.68x138.24 with 3 Axes>"
      ]
     },
     "metadata": {
      "needs_background": "light"
     },
     "output_type": "display_data"
    }
   ],
   "source": [
    "data = {'tumor':{'beta_values_balancedSites':\n",
    "        pd.read_table(os.path.join(TCGA_clinical_dir, 'cohort1.methyl.balancedSites.tsv'),\n",
    "                      index_col=0)\n",
    "       }}\n",
    "\n",
    "sample_list = {'Tum1':'TCGA-B6-A1KF-01A',\n",
    "               'Tum2':'TCGA-B6-A0RO-01A',\n",
    "               'Tum3':'TCGA-E2-A1B1-01A'\n",
    "              }\n",
    "\n",
    "# epi_util.plotTumorWise(data, CpG_list=balanced_CpGs_final_set, sample_list=[sample_list[tum] for tum in sample_list],\n",
    "epi_util.plotTumorWise(data, data_obj='beta_values_balancedSites', sample_list=[sample_list[tum] for tum in sample_list],\n",
    "                     suptitle='', xlabel='β', title_formats=[tum + ' ({})' for tum in sample_list],\n",
    "                     outfile=True, outdir=figure_outdir, outfile_name='example_tumors.pdf',\n",
    "                     choose_random=False, color=consts['palette_jco'][2],\n",
    "                     ylim=(0, 0.28), bins=12,\n",
    "                     figsize=figsize * [2.3, 0.8], text_fontsize=labelfontsize, ticksfontsize=ticksfontsize, opacity=opacity, sf=sf,\n",
    "                     tight_layout_pad=0.2\n",
    "             )"
   ]
  },
  {
   "cell_type": "code",
   "execution_count": 22,
   "id": "82aad369",
   "metadata": {},
   "outputs": [
    {
     "data": {
      "image/png": "[encoded data removed]",
      "text/plain": [
       "<Figure size 262.08x164.16 with 1 Axes>"
      ]
     },
     "metadata": {
      "needs_background": "light"
     },
     "output_type": "display_data"
    }
   ],
   "source": [
    "fig, ax = plt.subplots(1, 1, figsize=figsize * [1.3, 0.95] * sf)\n",
    "\n",
    "plot_data = clinical['TCGA'].loc[clinical['TCGA']['in_analysis_dataset'], 'c_beta']\n",
    "sns.histplot(ax=ax, x=plot_data,\n",
    "             color=consts['palette_jco'][2], alpha=opacity)\n",
    "\n",
    "x_0 = clinical['TCGA'].loc[epi_util.sampleToPatientID(sample_list['Tum1']), 'c_beta']\n",
    "x_1 = clinical['TCGA'].loc[epi_util.sampleToPatientID(sample_list['Tum2']), 'c_beta']\n",
    "x_2 = clinical['TCGA'].loc[epi_util.sampleToPatientID(sample_list['Tum3']), 'c_beta']\n",
    "\n",
    "line_color = 'black'\n",
    "\n",
    "tumor_heights = [0.8, 0.8, 0.8]\n",
    "ax.axvline(x=x_0, ymax=tumor_heights[0], lw=2.5 * sf, color=line_color)\n",
    "ax.axvline(x=x_1, ymax=tumor_heights[1], lw=2.5 * sf, color=line_color)\n",
    "ax.axvline(x=x_2, ymax=tumor_heights[2], lw=2.5 * sf, color=line_color)\n",
    "\n",
    "ax.set_xlabel('$c_β$', fontsize=labelfontsize * sf)\n",
    "ax.set_ylabel('Count', fontsize=labelfontsize * sf)\n",
    "# ax.set_title(f\"Ductal TCGA (n = {(~plot_data.isna()).sum()})\", fontsize=labelfontsize * sf)\n",
    "ax.tick_params(axis='both', labelsize=ticksfontsize * sf, width=sf, length=8 * sf)\n",
    "\n",
    "xlim = ax.get_xlim()\n",
    "width = xlim[1] - xlim[0]\n",
    "ax.set_xlim(left = xlim[0] - width/20)\n",
    "y_height = ax.get_ylim()[1]\n",
    "\n",
    "ax.text(x_0, (tumor_heights[0]+0.05)*y_height,\n",
    "        'Tum1', color=line_color,\n",
    "        ha=\"center\", fontfamily='sans-serif', fontsize=0.8 * labelfontsize * sf, alpha=opacity\n",
    "       )\n",
    "ax.text(x_1-0.005, (tumor_heights[1]+0.05)*y_height,\n",
    "        'Tum2', color=line_color,\n",
    "        ha=\"center\", fontfamily='sans-serif', fontsize=0.8 * labelfontsize * sf, alpha=opacity\n",
    "       )\n",
    "ax.text(x_2, (tumor_heights[2]+0.05)*y_height,\n",
    "        'Tum3', color=line_color,\n",
    "        ha=\"center\", fontfamily='sans-serif', fontsize=0.8 * labelfontsize * sf, alpha=opacity\n",
    "       )\n",
    "\n",
    "fig.savefig(os.path.join(figure_outdir, 'c_beta_distribution.pdf'), format='pdf', pad_inches=0.1)"
   ]
  },
  {
   "cell_type": "code",
   "execution_count": 23,
   "id": "25796eca",
   "metadata": {
    "scrolled": false
   },
   "outputs": [
    {
     "name": "stdout",
     "output_type": "stream",
     "text": [
      "Median c_beta of ductal TCGA tumors: 0.785\n",
      "Median c_beta of lobular TCGA tumors: 0.819\n",
      "Wilcoxon rank sum test: P=2e-16\n"
     ]
    }
   ],
   "source": [
    "ductal_c_betas = clinical['TCGA'].loc[clinical['TCGA']['primary_diagnosis'] == 'Infiltrating duct carcinoma, NOS', 'c_beta'].dropna()\n",
    "lobular_c_betas = clinical['TCGA'].loc[clinical['TCGA']['primary_diagnosis'] == 'Lobular carcinoma, NOS', 'c_beta'].dropna()\n",
    "pvalue = epi_util.wilcoxonRankSums(ductal_c_betas, lobular_c_betas).pvalue\n",
    "\n",
    "print(f'Median c_beta of ductal TCGA tumors: {np.median(ductal_c_betas):.3f}')\n",
    "print(f'Median c_beta of lobular TCGA tumors: {np.median(lobular_c_betas):.3f}')\n",
    "print(f'Wilcoxon rank sum test: P={pvalue:.0e}')"
   ]
  },
  {
   "cell_type": "code",
   "execution_count": 24,
   "id": "8ef8707b",
   "metadata": {
    "scrolled": false
   },
   "outputs": [
    {
     "data": {
      "image/png": "[encoded data removed]",
      "text/plain": [
       "<Figure size 201.6x172.8 with 1 Axes>"
      ]
     },
     "metadata": {
      "needs_background": "light"
     },
     "output_type": "display_data"
    },
    {
     "data": {
      "image/png": "[encoded data removed]",
      "text/plain": [
       "<Figure size 201.6x172.8 with 1 Axes>"
      ]
     },
     "metadata": {
      "needs_background": "light"
     },
     "output_type": "display_data"
    },
    {
     "data": {
      "image/png": "[encoded data removed]",
      "text/plain": [
       "<Figure size 201.6x172.8 with 1 Axes>"
      ]
     },
     "metadata": {
      "needs_background": "light"
     },
     "output_type": "display_data"
    },
    {
     "data": {
      "image/png": "[encoded data removed]",
      "text/plain": [
       "<Figure size 221.76x172.8 with 1 Axes>"
      ]
     },
     "metadata": {
      "needs_background": "light"
     },
     "output_type": "display_data"
    },
    {
     "data": {
      "image/png": "[encoded data removed]",
      "text/plain": [
       "<Figure size 181.44x155.52 with 1 Axes>"
      ]
     },
     "metadata": {
      "needs_background": "light"
     },
     "output_type": "display_data"
    },
    {
     "data": {
      "image/png": "[encoded data removed]",
      "text/plain": [
       "<Figure size 221.76x172.8 with 1 Axes>"
      ]
     },
     "metadata": {
      "needs_background": "light"
     },
     "output_type": "display_data"
    },
    {
     "data": {
      "image/png": "[encoded data removed]",
      "text/plain": [
       "<Figure size 181.44x155.52 with 1 Axes>"
      ]
     },
     "metadata": {
      "needs_background": "light"
     },
     "output_type": "display_data"
    },
    {
     "data": {
      "image/png": "[encoded data removed]",
      "text/plain": [
       "<Figure size 181.44x155.52 with 1 Axes>"
      ]
     },
     "metadata": {
      "needs_background": "light"
     },
     "output_type": "display_data"
    }
   ],
   "source": [
    "epi_util.saveBoxPlotNew(clinical['Lund'], 'grade', restrict=True,\n",
    "                   var_y='c_beta',\n",
    "                   outdir=clin_path_outdir, title=True, use_groups=['Grade 1', 'Grade 2', 'Grade 3'],\n",
    "                   palette=consts['palette_jco'],\n",
    "                   figsize=figsize, labelfontsize=labelfontsize, ticksfontsize=ticksfontsize, sf=sf, linewidth=linewidth, fliersize=fliersize)\n",
    "\n",
    "epi_util.saveBoxPlotNew(clinical['TCGA'], 'Stage', restrict=True,\n",
    "                   var_y='c_beta',\n",
    "                   outdir=clin_path_outdir, title=True, use_groups = ['Stage I', 'Stage II', 'Stage III'],\n",
    "                   palette=consts['palette_jco'],\n",
    "                   figsize=figsize, labelfontsize=labelfontsize, ticksfontsize=ticksfontsize, sf=sf, linewidth=linewidth, fliersize=fliersize)\n",
    "\n",
    "epi_util.saveBoxPlotNew(clinical['Lund'], 'genefu.pam50.subtype', restrict=True,\n",
    "                   var_y='c_beta',\n",
    "                   outdir=clin_path_outdir, title=True, use_groups = ['LumA', 'LumB', 'Her2', 'Basal'],\n",
    "                   palette=consts['palette_jco'],\n",
    "                   figsize=figsize, labelfontsize=labelfontsize, ticksfontsize=ticksfontsize, sf=sf, linewidth=linewidth, fliersize=fliersize)\n",
    "\n",
    "epi_util.saveBoxPlotNew(clinical['TCGA'], 'subtype.pam50', restrict=True,\n",
    "                   var_y='c_beta',\n",
    "                   outdir=clin_path_outdir, title=True, use_groups = ['LumA', 'LumB', 'Her2', 'Basal'],\n",
    "                   palette=consts['palette_jco'], plot_ymax_mult=0.2,\n",
    "                   figsize=figsize * [1.1, 1], labelfontsize=labelfontsize, ticksfontsize=ticksfontsize, sf=sf, linewidth=linewidth, fliersize=fliersize)\n",
    "\n",
    "epi_util.saveCorrelationPlot(clinical['Lund'], var_y='size', restrict=True,\n",
    "                           var_x='c_beta',\n",
    "                           outdir=clin_path_outdir, label='Size (mm)',\n",
    "                           text_x=0.85, text_y=85,\n",
    "                           figsize=figsize * 0.9, labelfontsize=labelfontsize, ticksfontsize=ticksfontsize, sf=sf, s=1,\n",
    "                           color=consts['palette_jco'][0], line_kws={'linewidth':1 * sf}\n",
    "                          )\n",
    "\n",
    "epi_util.saveBoxPlotNew(clinical['TCGA'], 'T Stage', restrict=True,\n",
    "                   var_y='c_beta',\n",
    "                   outdir=clin_path_outdir, title=True, use_groups = ['T1', 'T2', 'T3', 'T4'],\n",
    "                   palette=consts['palette_jco'],\n",
    "                   figsize=figsize * [1.1, 1], labelfontsize=labelfontsize, ticksfontsize=ticksfontsize, sf=sf, linewidth=linewidth, fliersize=fliersize)\n",
    "\n",
    "epi_util.saveCorrelationPlot(clinical['TCGA'], var_y='FGA', restrict=True,\n",
    "                           var_x='c_beta',\n",
    "                           outdir=cell_chars_outdir, label='FGA',\n",
    "                           text_x=0.85, text_y=0.5,\n",
    "                           figsize=figsize * 0.9, labelfontsize=labelfontsize, ticksfontsize=ticksfontsize, sf=sf, s=1,\n",
    "                           color=consts['palette_jco'][0], line_kws={'linewidth':1 * sf}\n",
    "                          )\n",
    "\n",
    "epi_util.saveCorrelationPlot(clinical['Lund'], var_y='FGA', restrict=True,\n",
    "                           var_x='c_beta',\n",
    "                           outdir=cell_chars_outdir, label='FGA',\n",
    "                           text_x=0.85, text_y=0.7,\n",
    "                           figsize=figsize * 0.9, labelfontsize=labelfontsize, ticksfontsize=ticksfontsize, sf=sf, s=1,\n",
    "                           color=consts['palette_jco'][0], line_kws={'linewidth':1 * sf}\n",
    "                          )"
   ]
  },
  {
   "cell_type": "code",
   "execution_count": 32,
   "id": "809bdada",
   "metadata": {},
   "outputs": [
    {
     "data": {
      "image/png": "[encoded data removed]",
      "text/plain": [
       "<Figure size 181.44x155.52 with 1 Axes>"
      ]
     },
     "metadata": {
      "needs_background": "light"
     },
     "output_type": "display_data"
    },
    {
     "data": {
      "image/png": "[encoded data removed]",
      "text/plain": [
       "<Figure size 181.44x155.52 with 1 Axes>"
      ]
     },
     "metadata": {
      "needs_background": "light"
     },
     "output_type": "display_data"
    }
   ],
   "source": [
    "a = clinical['TCGA'].loc[clinical['TCGA']['subtype.pam50'] != 'Basal']\n",
    "a.name='TCGA'\n",
    "epi_util.saveCorrelationPlot(a, var_y='FGA', restrict=True,\n",
    "                           var_x='c_beta', outfile=False,\n",
    "                           outdir=cell_chars_outdir, label='FGA',\n",
    "                           text_x=0.85, text_y=0.5,\n",
    "                           figsize=figsize * 0.9, labelfontsize=labelfontsize, ticksfontsize=ticksfontsize, sf=sf, s=1,\n",
    "                           color=consts['palette_jco'][0], line_kws={'linewidth':1 * sf}\n",
    "                          )\n",
    "\n",
    "b = clinical['Lund'].loc[clinical['Lund']['genefu.pam50.subtype'] != 'Basal']\n",
    "b.name='Lund'\n",
    "epi_util.saveCorrelationPlot(b, var_y='FGA', restrict=True,\n",
    "                           var_x='c_beta', outfile=False,\n",
    "                           outdir=cell_chars_outdir, label='FGA',\n",
    "                           text_x=0.85, text_y=0.7,\n",
    "                           figsize=figsize * 0.9, labelfontsize=labelfontsize, ticksfontsize=ticksfontsize, sf=sf, s=1,\n",
    "                           color=consts['palette_jco'][0], line_kws={'linewidth':1 * sf}\n",
    "                          )"
   ]
  },
  {
   "cell_type": "code",
   "execution_count": 25,
   "id": "ad26dc7c",
   "metadata": {},
   "outputs": [],
   "source": [
    "def printCorr(dataset, var_x):\n",
    "    ductal_samples = clinical[dataset].index[clinical[dataset]['in_analysis_dataset']].values\n",
    "    res = epi_util.getCorrelation(clinical[dataset], var_x=var_x, var_y='c_beta', use_samples=ductal_samples)\n",
    "    print(f'{dataset}, {var_x}: R={res.rvalue:.2f}, P={res.pvalue:.0e}')"
   ]
  },
  {
   "cell_type": "code",
   "execution_count": 26,
   "id": "58be7e0a",
   "metadata": {},
   "outputs": [
    {
     "name": "stdout",
     "output_type": "stream",
     "text": [
      "TCGA, age: R=-0.18, P=2e-04\n",
      "Lund, age: R=-0.06, P=5e-01\n",
      "Lund, size: R=-0.29, P=5e-03\n",
      "TCGA, MKI67: R=-0.19, P=9e-05\n",
      "TCGA, MCM2: R=-0.19, P=2e-04\n",
      "TCGA, Mitotic Checkpoint: R=-0.24, P=1e-06\n",
      "Lund, Mitotic Checkpoint: R=-0.43, P=8e-06\n",
      "Lund, spfPercent: R=-0.43, P=2e-05\n",
      "TCGA, FGA: R=-0.56, P=4e-34\n",
      "Lund, FGA: R=-0.50, P=2e-07\n"
     ]
    }
   ],
   "source": [
    "printCorr('TCGA', 'age')\n",
    "printCorr('Lund', 'age')\n",
    "printCorr('Lund', 'size')\n",
    "printCorr('TCGA', 'MKI67')\n",
    "printCorr('TCGA', 'MCM2')\n",
    "printCorr('TCGA', 'Mitotic Checkpoint')\n",
    "printCorr('Lund', 'Mitotic Checkpoint')\n",
    "printCorr('Lund', 'spfPercent')\n",
    "printCorr('TCGA', 'FGA')\n",
    "printCorr('Lund', 'FGA')"
   ]
  },
  {
   "cell_type": "code",
   "execution_count": 27,
   "id": "2ea3b7a2",
   "metadata": {},
   "outputs": [
    {
     "data": {
      "image/png": "[encoded data removed]",
      "text/plain": [
       "<Figure size 161.28x138.24 with 1 Axes>"
      ]
     },
     "metadata": {
      "needs_background": "light"
     },
     "output_type": "display_data"
    },
    {
     "data": {
      "image/png": "[encoded data removed]",
      "text/plain": [
       "<Figure size 161.28x138.24 with 1 Axes>"
      ]
     },
     "metadata": {
      "needs_background": "light"
     },
     "output_type": "display_data"
    },
    {
     "data": {
      "image/png": "[encoded data removed]",
      "text/plain": [
       "<Figure size 161.28x138.24 with 1 Axes>"
      ]
     },
     "metadata": {
      "needs_background": "light"
     },
     "output_type": "display_data"
    }
   ],
   "source": [
    "epi_util.saveCorrelationPlot(clinical['Lund'], var_y='Mitotic Checkpoint', restrict=True,\n",
    "                           var_x='c_beta',\n",
    "                           outdir=cell_chars_outdir,\n",
    "                           text_x=0.85, text_y=2.2,\n",
    "                           figsize=figsize * 0.8, labelfontsize=labelfontsize, ticksfontsize=ticksfontsize, sf=sf, s=1,\n",
    "                           color=consts['palette_jco'][0], line_kws={'linewidth':1 * sf}\n",
    "                          )\n",
    "\n",
    "epi_util.saveCorrelationPlot(clinical['TCGA'], var_y='Mitotic Checkpoint', restrict=True,\n",
    "                           var_x='c_beta',\n",
    "                           outdir=cell_chars_outdir,\n",
    "                           text_x=0.85, text_y=2.1,\n",
    "                           figsize=figsize * 0.8, labelfontsize=labelfontsize, ticksfontsize=ticksfontsize, sf=sf, s=1,\n",
    "                           color=consts['palette_jco'][0], line_kws={'linewidth':1 * sf}\n",
    "                          )\n",
    "\n",
    "epi_util.saveCorrelationPlot(clinical['Lund'], var_y='spfPercent', restrict=True,\n",
    "                           var_x='c_beta',\n",
    "                           label='S-phase fraction (%)',\n",
    "                           outdir=cell_chars_outdir,\n",
    "                           text_x=0.85, text_y=26,\n",
    "                           figsize=figsize * 0.8, labelfontsize=labelfontsize, ticksfontsize=ticksfontsize, sf=sf, s=1,\n",
    "                           color=consts['palette_jco'][0], line_kws={'linewidth':1 * sf}\n",
    "                          )"
   ]
  },
  {
   "cell_type": "code",
   "execution_count": 28,
   "id": "d17dc39e",
   "metadata": {},
   "outputs": [
    {
     "name": "stdout",
     "output_type": "stream",
     "text": [
      "0\n",
      "5000\n",
      "10000\n",
      "15000\n",
      "20000\n",
      "25000\n",
      "30000\n",
      "35000\n",
      "40000\n",
      "45000\n",
      "50000\n",
      "55000\n"
     ]
    }
   ],
   "source": [
    "gene_list = markers_transformed_df.index.values # list of genes to search\n",
    "use_samples = clinical['TCGA'].index[clinical['TCGA']['in_analysis_dataset']] # list of samples to use - make sure these are only pure ductal samples\n",
    "\n",
    "c_beta_use_samples = clinical['TCGA'].loc[use_samples, 'c_beta']\n",
    "markers_transformed_df_use_samples = markers_transformed_df[use_samples]\n",
    "\n",
    "rvalue_list = []\n",
    "for i in range(len(gene_list)):\n",
    "    if i % 5000 == 0:\n",
    "        print(i)\n",
    "    \n",
    "    res = epi_util.pearsonCorrelation(c_beta_use_samples, markers_transformed_df_use_samples.loc[gene_list[i]])\n",
    "    rvalue_list.append(res.rvalue)\n",
    "\n",
    "rvalue_ser = pd.Series(index=gene_list, data=rvalue_list)"
   ]
  },
  {
   "cell_type": "code",
   "execution_count": 29,
   "id": "0a751df9",
   "metadata": {
    "scrolled": true
   },
   "outputs": [
    {
     "name": "stdout",
     "output_type": "stream",
     "text": [
      "19259 protein coding genes considered\n"
     ]
    },
    {
     "data": {
      "image/png": "[encoded data removed]",
      "text/plain": [
       "<Figure size 403.2x172.8 with 1 Axes>"
      ]
     },
     "metadata": {
      "needs_background": "light"
     },
     "output_type": "display_data"
    }
   ],
   "source": [
    "genenames_proteincoding = pd.read_table(os.path.join(consts['official_indir'], 'misc', 'genenames.proteincoding.txt'),\n",
    "                                       low_memory=False, usecols=['symbol']).squeeze('columns').values\n",
    "\n",
    "print(f'{genenames_proteincoding.shape[0]} protein coding genes considered')\n",
    "\n",
    "fig, ax = plt.subplots(1, 1, figsize=figsize * [2, 1] * sf)\n",
    "\n",
    "plot_data = rvalue_ser[gene_name.isin(genenames_proteincoding)]\n",
    "sns.histplot(ax=ax, x=plot_data,\n",
    "             color=consts['palette_jco'][0])\n",
    "\n",
    "genes_displayed = ['MKI67', 'MCM2', 'CD3E', 'CD4', 'CD8A', 'CD8B', 'FOXP3', 'PTPRC']\n",
    "heights = [0.85, 0.6, 0.5, 0.25, 0.75, 0.75, 0.75, 0.75]\n",
    "\n",
    "gene_heights = {\n",
    "    'MKI67': 0.75,\n",
    "    'MCM2': 0.5,\n",
    "    'CD3E': 0.3,\n",
    "    'CD4': 0.2,\n",
    "    'CD8A': 0.4,\n",
    "    'CD8B': 0.65,\n",
    "    'FOXP3': 0.55,\n",
    "    'PTPRC': 0.65\n",
    "}\n",
    "horiz_offset = {\n",
    "    'MCM2':0.04,\n",
    "    'CD8A':0.01,\n",
    "    'CD4':0.02\n",
    "}\n",
    "y_height = ax.get_ylim()[1]\n",
    "for gene in gene_heights:\n",
    "    corr = rvalue_ser.loc[gene_name.index[gene_name == gene]].values\n",
    "    assert len(corr) == 1\n",
    "    x_pos = corr[0]\n",
    "    if gene in horiz_offset:\n",
    "        x_pos += horiz_offset[gene]\n",
    "    ax.axvline(x=corr[0], ymin=0, ymax=gene_heights[gene], color='black', lw=2.5 * sf)\n",
    "    ax.text(x_pos, (gene_heights[gene] + 0.02)*y_height, gene,\n",
    "                            ha=\"center\", fontfamily='sans-serif', fontsize=labelfontsize * 0.8 * sf, color='black'\n",
    "           )\n",
    "\n",
    "ax.set_ylabel('Count', fontsize=labelfontsize * sf)\n",
    "ax.set_xlabel(f'Pearson correlation between $c_β$ and gene expression (n = {len(plot_data):,} genes)', fontsize=labelfontsize * sf)\n",
    "ax.set_title(f'TCGA', fontsize=labelfontsize * sf)\n",
    "ax.tick_params(axis='both', labelsize=ticksfontsize * sf, width=sf, length=8 * sf)\n",
    "\n",
    "fig.savefig(os.path.join(cell_chars_outdir, 'all_gene_correlations.pdf'), format='pdf', pad_inches=0.1)"
   ]
  },
  {
   "cell_type": "markdown",
   "id": "0d884135",
   "metadata": {},
   "source": [
    "### $c_β^a$ analysis (adjusted for purity)"
   ]
  },
  {
   "cell_type": "code",
   "execution_count": 30,
   "id": "0b69ab0b",
   "metadata": {},
   "outputs": [],
   "source": [
    "c_beta_adj1_tcga = pd.read_table(os.path.join(TCGA_clinical_dir, 'c_beta_adj1.tsv')).T.squeeze('columns')\n",
    "c_beta_adj1_tcga.index = c_beta_adj1_tcga.index.map(epi_util.sampleToPatientID)\n",
    "clinical['TCGA']['c_beta_adj1'] = c_beta_adj1_tcga\n",
    "clinical['TCGA'].name = 'TCGA'"
   ]
  },
  {
   "cell_type": "code",
   "execution_count": 37,
   "id": "44e8fcd5",
   "metadata": {},
   "outputs": [
    {
     "data": {
      "image/png": "[encoded data removed]",
      "text/plain": [
       "<Figure size 201.6x172.8 with 1 Axes>"
      ]
     },
     "metadata": {
      "needs_background": "light"
     },
     "output_type": "display_data"
    },
    {
     "data": {
      "image/png": "[encoded data removed]",
      "text/plain": [
       "<Figure size 221.76x172.8 with 1 Axes>"
      ]
     },
     "metadata": {
      "needs_background": "light"
     },
     "output_type": "display_data"
    },
    {
     "data": {
      "image/png": "[encoded data removed]",
      "text/plain": [
       "<Figure size 221.76x172.8 with 1 Axes>"
      ]
     },
     "metadata": {
      "needs_background": "light"
     },
     "output_type": "display_data"
    },
    {
     "data": {
      "image/png": "[encoded data removed]",
      "text/plain": [
       "<Figure size 181.44x155.52 with 1 Axes>"
      ]
     },
     "metadata": {
      "needs_background": "light"
     },
     "output_type": "display_data"
    },
    {
     "data": {
      "image/png": "[encoded data removed]",
      "text/plain": [
       "<Figure size 181.44x155.52 with 1 Axes>"
      ]
     },
     "metadata": {
      "needs_background": "light"
     },
     "output_type": "display_data"
    }
   ],
   "source": [
    "epi_util.saveBoxPlotNew(clinical['TCGA'], 'Stage', restrict=True,\n",
    "                   var_y='c_beta_adj1',\n",
    "                   outdir=supp_path_outdir, title=True, use_groups = ['Stage I', 'Stage II', 'Stage III'],\n",
    "                   palette=consts['palette_jco'],\n",
    "                   figsize=figsize, labelfontsize=labelfontsize, ticksfontsize=ticksfontsize, sf=sf, linewidth=linewidth, fliersize=fliersize)\n",
    "\n",
    "epi_util.saveBoxPlotNew(clinical['TCGA'], 'subtype.pam50', restrict=True,\n",
    "                   var_y='c_beta_adj1',\n",
    "                   outdir=supp_path_outdir, title=True, use_groups = ['LumA', 'LumB', 'Her2', 'Basal'],\n",
    "                   palette=consts['palette_jco'], plot_ymax_mult=0.2,\n",
    "                   figsize=figsize * [1.1, 1], labelfontsize=labelfontsize, ticksfontsize=ticksfontsize, sf=sf, linewidth=linewidth, fliersize=fliersize)\n",
    "\n",
    "epi_util.saveBoxPlotNew(clinical['TCGA'], 'T Stage', restrict=True,\n",
    "                   var_y='c_beta_adj1',\n",
    "                   outdir=supp_path_outdir, title=True, use_groups = ['T1', 'T2', 'T3', 'T4'],\n",
    "                   palette=consts['palette_jco'],\n",
    "                   figsize=figsize * [1.1, 1], labelfontsize=labelfontsize, ticksfontsize=ticksfontsize, sf=sf, linewidth=linewidth, fliersize=fliersize)\n",
    "\n",
    "\n",
    "epi_util.saveCorrelationPlot(clinical['TCGA'], var_y='FGA', restrict=True,\n",
    "                           var_x='c_beta_adj1',\n",
    "                           outdir=supp_path_outdir, label='FGA',\n",
    "                           text_x=0.8, text_y=0.5,\n",
    "                           figsize=figsize * 0.9, labelfontsize=labelfontsize, ticksfontsize=ticksfontsize, sf=sf, s=1,\n",
    "                           color=consts['palette_jco'][0], line_kws={'linewidth':1 * sf}\n",
    "                          )\n",
    "\n",
    "####################\n",
    "\n",
    "epi_util.saveCorrelationPlot(clinical['TCGA'], var_y='Mitotic Checkpoint', restrict=True,\n",
    "                           var_x='c_beta_adj1',\n",
    "                           outdir=supp_path_outdir,\n",
    "                           text_x=0.8, text_y=2.1,\n",
    "                           figsize=figsize * 0.9, labelfontsize=labelfontsize, ticksfontsize=ticksfontsize, sf=sf, s=1,\n",
    "                           color=consts['palette_jco'][0], line_kws={'linewidth':1 * sf}\n",
    "                          )"
   ]
  }
 ],
 "metadata": {
  "kernelspec": {
   "display_name": "Python 3 (ipykernel)",
   "language": "python",
   "name": "python3"
  },
  "language_info": {
   "codemirror_mode": {
    "name": "ipython",
    "version": 3
   },
   "file_extension": ".py",
   "mimetype": "text/x-python",
   "name": "python",
   "nbconvert_exporter": "python",
   "pygments_lexer": "ipython3",
   "version": "3.9.19"
  }
 },
 "nbformat": 4,
 "nbformat_minor": 5
}
