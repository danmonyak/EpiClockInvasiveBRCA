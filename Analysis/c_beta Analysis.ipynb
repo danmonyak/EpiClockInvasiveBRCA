{
 "cells": [
  {
   "cell_type": "markdown",
   "id": "c43d953e-0fd5-4d22-80ff-4d31c2418828",
   "metadata": {},
   "source": [
    "# c_beta Analysis"
   ]
  },
  {
   "cell_type": "code",
   "execution_count": 5,
   "id": "74e7d698",
   "metadata": {},
   "outputs": [],
   "source": [
    "import pandas as pd\n",
    "import numpy as np\n",
    "import os\n",
    "import sys\n",
    "import seaborn as sns\n",
    "import matplotlib.pyplot as plt\n",
    "import statsmodels.api as sm\n",
    "import EpiClockInvasiveBRCA.src.util as epi_util\n",
    "from EpiClockInvasiveBRCA.src.consts import consts"
   ]
  },
  {
   "cell_type": "code",
   "execution_count": 6,
   "id": "b3c56bdc",
   "metadata": {},
   "outputs": [],
   "source": [
    "## Set up directories for figures\n",
    "\n",
    "figure_outdir = 'figures'\n",
    "clin_path_outdir = os.path.join(figure_outdir, 'clin_path')\n",
    "cell_chars_outdir = os.path.join(figure_outdir, 'cell_chars')\n",
    "\n",
    "if not os.path.exists(clin_path_outdir):\n",
    "    os.makedirs(clin_path_outdir)\n",
    "if not os.path.exists(cell_chars_outdir):\n",
    "    os.makedirs(cell_chars_outdir)"
   ]
  },
  {
   "cell_type": "markdown",
   "id": "20f3ec20",
   "metadata": {},
   "source": [
    "## Prep data"
   ]
  },
  {
   "cell_type": "code",
   "execution_count": 7,
   "id": "d0f09616",
   "metadata": {},
   "outputs": [],
   "source": [
    "## Data directories\n",
    "\n",
    "TCGA_clinical_dir = os.path.join(consts['official_indir'], 'TCGA')\n",
    "TCGA_c_beta_dir = os.path.join(consts['repo_dir'], 'Select_fCpGs', 'outputs')\n",
    "Ringner_clinical_dir = os.path.join(consts['official_indir'], 'Ringner')\n",
    "Ringner_c_beta_dir = os.path.join(consts['repo_dir'], 'Process_Other_Data_Sources', 'outputs', 'cohort_T2')"
   ]
  },
  {
   "cell_type": "code",
   "execution_count": 8,
   "id": "60684668",
   "metadata": {},
   "outputs": [],
   "source": [
    "## Import clinical data for both cohorts into data dictionary\n",
    "## Import c_beta values into dataframes\n",
    "\n",
    "clinical = {}\n",
    "\n",
    "# Lund\n",
    "\n",
    "clinical['ringner'] = pd.read_table(os.path.join(Ringner_clinical_dir, 'cohort.T2.clinical.txt'), index_col=0, dtype={'grade':str})\n",
    "clinical['ringner']['c_beta'] = pd.read_table(os.path.join(Ringner_c_beta_dir, 'cohort.T2.c_beta.txt'), index_col=0).squeeze(\"columns\")\n",
    "\n",
    "# TCGA\n",
    "\n",
    "clinical['TCGA'] = pd.read_table(os.path.join(TCGA_clinical_dir, 'cohort1.clinical.tsv'), index_col=0)\n",
    "clinical['TCGA'] = clinical['TCGA'].set_index('bcr_patient_barcode')\n",
    "c_beta_tcga = pd.read_table(os.path.join(TCGA_c_beta_dir, 'cohort.T1.c_beta.txt'), index_col=0, header=None).squeeze(\"columns\")\n",
    "c_beta_tcga.index = c_beta_tcga.index.to_series().apply(epi_util.sampleToPatientID)\n",
    "clinical['TCGA']['c_beta'] = c_beta_tcga\n",
    "\n",
    "clinical['TCGA']['T Stage'] = clinical['TCGA']['ajcc_pathologic_t'].dropna().apply(lambda x:x[:2])\n",
    "clinical['TCGA']['Stage'] = clinical['TCGA']['ajcc_pathologic_stage'].dropna().str.rstrip('ABC')\n",
    "clinical['TCGA']['age'] = clinical['TCGA']['age_at_diagnosis'] / 365\n",
    "\n",
    "# Add sample IDs (as opposed to patient/submitter IDs) to TCGA clinical table\n",
    "patient_to_sample_IDs = pd.read_table(os.path.join(TCGA_clinical_dir, 'patient_to_sample_IDs.txt'), index_col=0).squeeze('columns')\n",
    "clinical['TCGA'] = clinical['TCGA'].merge(patient_to_sample_IDs, left_index=True, right_index=True, how='left')"
   ]
  },
  {
   "cell_type": "markdown",
   "id": "a285c6b5",
   "metadata": {},
   "source": [
    "### Import subtyping results"
   ]
  },
  {
   "cell_type": "code",
   "execution_count": 9,
   "id": "e0b48890",
   "metadata": {},
   "outputs": [],
   "source": [
    "## Import pam50 subtype predictions from log2 norm TPM\n",
    "## Merge subtype column with TCGA clinical table\n",
    "\n",
    "TCGA_genefu_pam50_subtypes_log2_norm = pd.read_table('../Subtyping/TCGA.genefu.pam50.subtypes_log2.norm.txt')\n",
    "TCGA_genefu_pam50_subtypes_log2_norm.index = TCGA_genefu_pam50_subtypes_log2_norm['libName'].apply(lambda x:epi_util.sampleToPatientID(x.replace('.', '-')))\n",
    "TCGA_genefu_pam50_subtypes_log2_norm = TCGA_genefu_pam50_subtypes_log2_norm.drop('libName', axis=1)\n",
    "clinical['TCGA'] = clinical['TCGA'].merge(TCGA_genefu_pam50_subtypes_log2_norm['subtype.pam50'], left_index=True, right_index=True, how='left')"
   ]
  },
  {
   "cell_type": "markdown",
   "id": "02cc262c",
   "metadata": {},
   "source": [
    "### RNA-seq"
   ]
  },
  {
   "cell_type": "code",
   "execution_count": 10,
   "id": "4c1448fd",
   "metadata": {},
   "outputs": [],
   "source": [
    "## Import RNA-seq TPM data\n",
    "\n",
    "markers_TPM_df = pd.read_table(\n",
    "    os.path.join(TCGA_clinical_dir, 'cohort1.rnaseq_tpm.tsv'),\n",
    "    sep='\\t')\n",
    "markers_TPM_df = markers_TPM_df.set_index('gene_id')\n",
    "markers_TPM_df = markers_TPM_df.rename(columns=lambda x:'-'.join(x.split('-')[:3]))\n",
    "gene_name = markers_TPM_df.pop('gene_name')\n",
    "nonzero_values = (markers_TPM_df != 0).any(axis=1)\n",
    "\n",
    "markers_TPM_df = markers_TPM_df.loc[nonzero_values]\n",
    "gene_name = gene_name.loc[nonzero_values]"
   ]
  },
  {
   "cell_type": "code",
   "execution_count": 11,
   "id": "32d946af",
   "metadata": {},
   "outputs": [],
   "source": [
    "## Log transform TPM and center the values for each gene across all tumors\n",
    "\n",
    "markers_log_transformed_df = np.log2(markers_TPM_df + 1)\n",
    "markers_transformed_df = markers_log_transformed_df.apply(lambda col:col - markers_log_transformed_df.mean(axis=1), axis=0)\n",
    "assert (markers_transformed_df.mean(axis=1) < 1e-5).all()"
   ]
  },
  {
   "cell_type": "code",
   "execution_count": 12,
   "id": "5afc503c",
   "metadata": {},
   "outputs": [
    {
     "name": "stdout",
     "output_type": "stream",
     "text": [
      "1 genes not found from the IR module\n"
     ]
    }
   ],
   "source": [
    "## Gene modules\n",
    "\n",
    "# Import gene modules from Fredlund et al.\n",
    "\n",
    "gene_module_dict = {}\n",
    "with open(os.path.join(consts['official_indir'], 'misc', 'Fredlund.gene.modules.txt'), 'r') as f:\n",
    "    line_list = f.readlines()\n",
    "\n",
    "for line in line_list:\n",
    "    list_temp = line.rstrip().split('\\t')\n",
    "    gene_module_dict[list_temp[0]] = list_temp[1:]\n",
    "    \n",
    "# Add columns for the average expression of each gene module\n",
    "\n",
    "for module in gene_module_dict.keys():\n",
    "    markers = gene_module_dict[module]\n",
    "    genes_used = gene_name.index[gene_name.isin(markers)]\n",
    "    if genes_used.shape[0] != len(markers):\n",
    "        print(f'{len(markers) - genes_used.shape[0]} genes not found from the {module} module')\n",
    "    selected_TPM = markers_transformed_df.loc[genes_used]\n",
    "    avg_module_expression = selected_TPM.mean(axis=0)\n",
    "    avg_module_expression.name = module\n",
    "    clinical['TCGA'] = clinical['TCGA'].drop(module, axis=1, errors='ignore')\n",
    "    clinical['TCGA'] = clinical['TCGA'].merge(avg_module_expression, left_index=True, right_index=True, how='left')"
   ]
  },
  {
   "cell_type": "code",
   "execution_count": 13,
   "id": "1c605493",
   "metadata": {},
   "outputs": [],
   "source": [
    "## Include expression of certain genes in clinical table\n",
    "## Genes specifically relevant for breast cancer\n",
    "\n",
    "clinical['TCGA']['MKI67'] = markers_transformed_df.loc[gene_name.index[gene_name=='MKI67']].T\n",
    "\n",
    "MCM_family = ['MCM2', 'MCM3', 'MCM4', 'MCM5', 'MCM6', 'MCM7']\n",
    "clinical['TCGA']['MCM'] = markers_transformed_df.loc[gene_name.index[gene_name.isin(MCM_family)]].mean(axis=0)"
   ]
  },
  {
   "cell_type": "markdown",
   "id": "25a12304",
   "metadata": {},
   "source": [
    "### Copy number analysis"
   ]
  },
  {
   "cell_type": "code",
   "execution_count": 14,
   "id": "eb40c39e",
   "metadata": {},
   "outputs": [],
   "source": [
    "## Import CNV table and transform data\n",
    "\n",
    "CNV_df = pd.read_table(\n",
    "    os.path.join(TCGA_clinical_dir, 'cohort1.cnv.tsv'),\n",
    "    sep='\\t')\n",
    "CNV_df['CN'] = 2 * (2 ** CNV_df['Segment_Mean'])\n",
    "all_samples = CNV_df['Sample'].unique()"
   ]
  },
  {
   "cell_type": "code",
   "execution_count": 15,
   "id": "1732cdbb",
   "metadata": {},
   "outputs": [],
   "source": [
    "## Iterate through samples and calculate CN losses and gains\n",
    "\n",
    "# Thresholds for CN losses and gains\n",
    "FGA_loss_threshold = 1.5\n",
    "FGA_gain_threshold = 2.5\n",
    "\n",
    "# Store FGA loss/gain and ploidy (not used) for each sample\n",
    "FGA_loss_list = []\n",
    "FGA_gain_list = []\n",
    "ploidy_list = []\n",
    "\n",
    "for samp in all_samples:\n",
    "\n",
    "    # Select only rows corresponding to this sample\n",
    "    sample_CNV_df = CNV_df.loc[CNV_df['Sample'] == samp]\n",
    "    \n",
    "    total_num_probes = sample_CNV_df['Num_Probes'].sum()\n",
    "    \n",
    "    # Sum of number of probes in regions that are beyond the loss and gain thresholds\n",
    "    FGA_loss = sample_CNV_df.loc[sample_CNV_df['CN'] < FGA_loss_threshold, 'Num_Probes'].sum() / total_num_probes\n",
    "    FGA_gain = sample_CNV_df.loc[sample_CNV_df['CN'] > FGA_gain_threshold, 'Num_Probes'].sum() / total_num_probes\n",
    "\n",
    "    FGA_loss_list.append(FGA_loss)\n",
    "    FGA_gain_list.append(FGA_gain)\n",
    "\n",
    "    ploidy_list.append(\n",
    "        (sample_CNV_df['CN'] * sample_CNV_df['Num_Probes']).sum() / total_num_probes\n",
    "    )\n",
    "    \n",
    "FGA_output = pd.DataFrame(index=all_samples, data={'FGA_loss':FGA_loss_list, 'FGA_gain':FGA_gain_list})\n",
    "FGA_output['FGA'] = FGA_output['FGA_loss'] + FGA_output['FGA_gain']\n",
    "FGA_output.index = FGA_output.index.to_series().apply(lambda x:'-'.join(x.split('-')[:3]))\n",
    "\n",
    "# Add new columns to TCGA clinical table\n",
    "clinical['TCGA'] = clinical['TCGA'].drop(['FGA_loss', 'FGA_gain', 'FGA'], axis=1, errors='ignore')\n",
    "clinical['TCGA'] = clinical['TCGA'].merge(FGA_output, left_index=True, right_index=True, how='left')"
   ]
  },
  {
   "cell_type": "markdown",
   "id": "4796551a",
   "metadata": {},
   "source": [
    "### Save annotated clinical file for TCGA cohort"
   ]
  },
  {
   "cell_type": "code",
   "execution_count": 17,
   "id": "11ed67f4",
   "metadata": {
    "scrolled": true
   },
   "outputs": [],
   "source": [
    "# Save modified TCGA clinical table\n",
    "\n",
    "clinical_annotated_filepath = os.path.join(TCGA_clinical_dir, 'cohort1.clinical.annotated.tsv')\n",
    "if os.path.exists(clinical_annotated_filepath):\n",
    "    existing_table = pd.read_table(clinical_annotated_filepath, index_col=0)\n",
    "    assert (existing_table.round(5).fillna(0) == clinical['TCGA'].round(5).fillna(0)).all(axis=None, skipna=True)\n",
    "else:\n",
    "    clinical['TCGA'].to_csv(clinical_annotated_filepath, sep='\\t')"
   ]
  },
  {
   "cell_type": "markdown",
   "id": "0c4d0d0a",
   "metadata": {},
   "source": [
    "## Make Figures"
   ]
  },
  {
   "cell_type": "code",
   "execution_count": null,
   "id": "5536347f",
   "metadata": {},
   "outputs": [],
   "source": [
    "# scale factor\n",
    "sf = 0.4\n",
    "# sf = 1\n",
    "\n",
    "figsize = np.array([7, 6])\n",
    "labelfontsize = 25\n",
    "ticksfontsize = 18\n",
    "signif_fontsize = 14\n",
    "opacity = 0.8\n",
    "linewidth = 1\n",
    "fliersize = 1\n",
    "\n",
    "sns.set(rc={\"savefig.bbox\":'tight', 'axes.linewidth':sf}, font_scale=1, style='ticks')"
   ]
  },
  {
   "cell_type": "code",
   "execution_count": 216,
   "id": "1053c967",
   "metadata": {},
   "outputs": [],
   "source": [
    "# Must set dataframe names for use of saveBoxPlotNew and saveCorrelationPlot\n",
    "\n",
    "clinical['TCGA'].name = 'TCGA'\n",
    "clinical['ringner'].name = 'Lund'"
   ]
  },
  {
   "cell_type": "code",
   "execution_count": 217,
   "id": "28e54d12",
   "metadata": {
    "scrolled": true
   },
   "outputs": [
    {
     "data": {
      "image/png": "[encoded data removed]",
      "text/plain": [
       "<Figure size 463.68x138.24 with 3 Axes>"
      ]
     },
     "metadata": {},
     "output_type": "display_data"
    }
   ],
   "source": [
    "data = {'tumor':{'beta_values_balancedSites':\n",
    "        pd.read_table(os.path.join(TCGA_clinical_dir, 'cohort1.methyl.balancedSites.tsv'),\n",
    "                      index_col=0)\n",
    "       }}\n",
    "\n",
    "sample_list = {'Tum1':'TCGA-B6-A1KF-01A',\n",
    "               'Tum2':'TCGA-B6-A0RO-01A',\n",
    "               'Tum3':'TCGA-E2-A1B1-01A'\n",
    "              }\n",
    "\n",
    "# epi_util.plotTumorWise(data, CpG_list=balanced_CpGs_final_set, sample_list=[sample_list[tum] for tum in sample_list],\n",
    "epi_util.plotTumorWise(data, data_obj='beta_values_balancedSites', sample_list=[sample_list[tum] for tum in sample_list],\n",
    "                     suptitle='', xlabel='β', title_formats=[tum + ' ({})' for tum in sample_list],\n",
    "                     outfile=True, outdir=figure_outdir, outfile_name='example_tumors.pdf',\n",
    "                     choose_random=False, color=consts['palette_jco'][2],\n",
    "                     ylim=(0, 0.28), bins=12,\n",
    "                     figsize=figsize * [2.3, 0.8], text_fontsize=labelfontsize, ticksfontsize=ticksfontsize, opacity=opacity, sf=sf,\n",
    "                     tight_layout_pad=0.2\n",
    "             )"
   ]
  },
  {
   "cell_type": "code",
   "execution_count": 218,
   "id": "82aad369",
   "metadata": {},
   "outputs": [
    {
     "data": {
      "image/png": "[encoded data removed]",
      "text/plain": [
       "<Figure size 262.08x164.16 with 1 Axes>"
      ]
     },
     "metadata": {},
     "output_type": "display_data"
    }
   ],
   "source": [
    "fig, ax = plt.subplots(1, 1, figsize=figsize * [1.3, 0.95] * sf)\n",
    "fig.tight_layout(pad=1)\n",
    "\n",
    "plot_data = clinical['TCGA'].loc[clinical['TCGA']['in_analysis_dataset'], 'c_beta']\n",
    "sns.histplot(ax=ax, x=plot_data,\n",
    "             color=consts['palette_jco'][2], alpha=opacity)\n",
    "\n",
    "x_0 = clinical['TCGA'].loc[epi_util.sampleToPatientID(sample_list['Tum1']), 'c_beta']\n",
    "x_1 = clinical['TCGA'].loc[epi_util.sampleToPatientID(sample_list['Tum2']), 'c_beta']\n",
    "x_2 = clinical['TCGA'].loc[epi_util.sampleToPatientID(sample_list['Tum3']), 'c_beta']\n",
    "\n",
    "line_color = 'black'\n",
    "\n",
    "ax.axvline(x=x_0, lw=2.5 * sf, color=line_color)\n",
    "ax.axvline(x=x_1, lw=2.5 * sf, color=line_color)\n",
    "ax.axvline(x=x_2, lw=2.5 * sf, color=line_color)\n",
    "\n",
    "ax.set_xlabel('$c_β$', fontsize=labelfontsize * sf)\n",
    "ax.set_ylabel('Count', fontsize=labelfontsize * sf)\n",
    "ax.set_title(f\"Ductal TCGA (n = {(~plot_data.isna()).sum()})\", fontsize=labelfontsize * sf)\n",
    "ax.tick_params(axis='both', labelsize=ticksfontsize * sf, width=sf, length=8 * sf)\n",
    "\n",
    "xlim = ax.get_xlim()\n",
    "width = xlim[1] - xlim[0]\n",
    "ax.set_xlim(left = xlim[0] - width/20)\n",
    "\n",
    "ax.text(x_0*0.99, ax.get_ylim()[1]*7/8,\n",
    "        'Tum1', color=line_color,\n",
    "        ha=\"right\", fontfamily='sans-serif', fontsize=0.8 * labelfontsize * sf, alpha=opacity\n",
    "       )\n",
    "ax.text(x_1*0.99, ax.get_ylim()[1]*7/8,\n",
    "        'Tum2', color=line_color,\n",
    "        ha=\"right\", fontfamily='sans-serif', fontsize=0.8 * labelfontsize * sf, alpha=opacity\n",
    "       )\n",
    "ax.text(x_2*0.99, ax.get_ylim()[1]*7/8,\n",
    "        'Tum3', color=line_color,\n",
    "        ha=\"right\", fontfamily='sans-serif', fontsize=0.8 * labelfontsize * sf, alpha=opacity\n",
    "       )\n",
    "\n",
    "fig.savefig(os.path.join(figure_outdir, 'c_beta_distribution.pdf'), format='pdf', pad_inches=0.1)"
   ]
  },
  {
   "cell_type": "code",
   "execution_count": 219,
   "id": "25796eca",
   "metadata": {
    "scrolled": false
   },
   "outputs": [
    {
     "data": {
      "image/png": "[encoded data removed]",
      "text/plain": [
       "<Figure size 362.88x172.8 with 1 Axes>"
      ]
     },
     "metadata": {},
     "output_type": "display_data"
    }
   ],
   "source": [
    "ax = epi_util.saveBoxPlotNew(clinical['TCGA'], 'primary_diagnosis', restrict=False,\n",
    "                   var_y='c_beta',\n",
    "                   outdir=clin_path_outdir, title=True, use_groups=['Infiltrating duct carcinoma, NOS', 'Lobular carcinoma, NOS'],\n",
    "                   palette=consts['palette_jco'], signif_fontsize=signif_fontsize,\n",
    "                   figsize=figsize * [1.8, 1], labelfontsize=labelfontsize, ticksfontsize=ticksfontsize, sf=sf, linewidth=linewidth, fliersize=fliersize)"
   ]
  },
  {
   "cell_type": "code",
   "execution_count": 220,
   "id": "8ef8707b",
   "metadata": {
    "scrolled": false
   },
   "outputs": [
    {
     "data": {
      "text/plain": [
       "<Axes: title={'center': 'Lund'}, ylabel='$c_β$'>"
      ]
     },
     "execution_count": 220,
     "metadata": {},
     "output_type": "execute_result"
    },
    {
     "data": {
      "image/png": "[encoded data removed]",
      "text/plain": [
       "<Figure size 201.6x172.8 with 1 Axes>"
      ]
     },
     "metadata": {},
     "output_type": "display_data"
    }
   ],
   "source": [
    "epi_util.saveBoxPlotNew(clinical['ringner'], 'grade', restrict=True,\n",
    "                   var_y='c_beta',\n",
    "                   outdir=clin_path_outdir, title=True, use_groups=['Grade 1', 'Grade 2', 'Grade 3'],\n",
    "                   palette=consts['palette_jco'],\n",
    "                   figsize=figsize, labelfontsize=labelfontsize, ticksfontsize=ticksfontsize, sf=sf, linewidth=linewidth, fliersize=fliersize)"
   ]
  },
  {
   "cell_type": "code",
   "execution_count": 221,
   "id": "9b5113d4",
   "metadata": {},
   "outputs": [
    {
     "data": {
      "text/plain": [
       "<Axes: title={'center': 'TCGA'}, ylabel='$c_β$'>"
      ]
     },
     "execution_count": 221,
     "metadata": {},
     "output_type": "execute_result"
    },
    {
     "data": {
      "image/png": "[encoded data removed]",
      "text/plain": [
       "<Figure size 201.6x172.8 with 1 Axes>"
      ]
     },
     "metadata": {},
     "output_type": "display_data"
    }
   ],
   "source": [
    "epi_util.saveBoxPlotNew(clinical['TCGA'], 'Stage', restrict=True,\n",
    "                   var_y='c_beta',\n",
    "                   outdir=clin_path_outdir, title=True, use_groups = ['Stage I', 'Stage II', 'Stage III'],\n",
    "                   palette=consts['palette_jco'],\n",
    "                   figsize=figsize, labelfontsize=labelfontsize, ticksfontsize=ticksfontsize, sf=sf, linewidth=linewidth, fliersize=fliersize)"
   ]
  },
  {
   "cell_type": "code",
   "execution_count": 222,
   "id": "8cacac98",
   "metadata": {},
   "outputs": [
    {
     "data": {
      "text/plain": [
       "<Axes: title={'center': 'Lund'}, ylabel='$c_β$'>"
      ]
     },
     "execution_count": 222,
     "metadata": {},
     "output_type": "execute_result"
    },
    {
     "data": {
      "image/png": "[encoded data removed]",
      "text/plain": [
       "<Figure size 201.6x172.8 with 1 Axes>"
      ]
     },
     "metadata": {},
     "output_type": "display_data"
    }
   ],
   "source": [
    "epi_util.saveBoxPlotNew(clinical['ringner'], 'genefu.pam50.subtype', restrict=True,\n",
    "                   var_y='c_beta',\n",
    "                   outdir=clin_path_outdir, title=True, use_groups = ['LumA', 'LumB', 'Her2', 'Basal'],\n",
    "                   palette=consts['palette_jco'],\n",
    "                   figsize=figsize, labelfontsize=labelfontsize, ticksfontsize=ticksfontsize, sf=sf, linewidth=linewidth, fliersize=fliersize)"
   ]
  },
  {
   "cell_type": "code",
   "execution_count": 223,
   "id": "9576d85f",
   "metadata": {},
   "outputs": [
    {
     "data": {
      "text/plain": [
       "<Axes: title={'center': 'TCGA'}, ylabel='$c_β$'>"
      ]
     },
     "execution_count": 223,
     "metadata": {},
     "output_type": "execute_result"
    },
    {
     "data": {
      "image/png": "[encoded data removed]",
      "text/plain": [
       "<Figure size 241.92x172.8 with 1 Axes>"
      ]
     },
     "metadata": {},
     "output_type": "display_data"
    }
   ],
   "source": [
    "epi_util.saveBoxPlotNew(clinical['TCGA'], 'subtype.pam50', restrict=True,\n",
    "                   var_y='c_beta',\n",
    "                   outdir=clin_path_outdir, title=True, use_groups = ['LumA', 'LumB', 'Her2', 'Basal'],\n",
    "                   palette=consts['palette_jco'], plot_ymax_mult=0.2,\n",
    "                   figsize=figsize * [1.2, 1], labelfontsize=labelfontsize, ticksfontsize=ticksfontsize, sf=sf, linewidth=linewidth, fliersize=fliersize)"
   ]
  },
  {
   "cell_type": "code",
   "execution_count": 224,
   "id": "af5a8c4c",
   "metadata": {},
   "outputs": [
    {
     "data": {
      "image/png": "[encoded data removed]",
      "text/plain": [
       "<Figure size 181.44x155.52 with 1 Axes>"
      ]
     },
     "metadata": {},
     "output_type": "display_data"
    }
   ],
   "source": [
    "epi_util.saveCorrelationPlot(clinical['ringner'], var_y='size', restrict=True,\n",
    "                           var_x='c_beta',\n",
    "                           outdir=clin_path_outdir, label='Size (mm)',\n",
    "                           text_x=0.85, text_y=85,\n",
    "                           figsize=figsize * 0.9, labelfontsize=labelfontsize, ticksfontsize=ticksfontsize, sf=sf, s=1,\n",
    "                           color=consts['palette_jco'][0], line_kws={'linewidth':1 * sf}\n",
    "                          )"
   ]
  },
  {
   "cell_type": "code",
   "execution_count": 225,
   "id": "061d97fd",
   "metadata": {},
   "outputs": [
    {
     "data": {
      "text/plain": [
       "<Axes: title={'center': 'TCGA'}, ylabel='$c_β$'>"
      ]
     },
     "execution_count": 225,
     "metadata": {},
     "output_type": "execute_result"
    },
    {
     "data": {
      "image/png": "[encoded data removed]",
      "text/plain": [
       "<Figure size 241.92x155.52 with 1 Axes>"
      ]
     },
     "metadata": {},
     "output_type": "display_data"
    }
   ],
   "source": [
    "epi_util.saveBoxPlotNew(clinical['TCGA'], 'T Stage', restrict=True,\n",
    "                   var_y='c_beta',\n",
    "                   outdir=clin_path_outdir, title=True, use_groups = ['T1', 'T2', 'T3', 'T4'],\n",
    "                   palette=consts['palette_jco'],\n",
    "                   figsize=figsize * [1.2, 0.9], labelfontsize=labelfontsize, ticksfontsize=ticksfontsize, sf=sf, linewidth=linewidth, fliersize=fliersize)"
   ]
  },
  {
   "cell_type": "code",
   "execution_count": 226,
   "id": "c2b6e35e",
   "metadata": {},
   "outputs": [
    {
     "data": {
      "image/png": "[encoded data removed]",
      "text/plain": [
       "<Figure size 181.44x155.52 with 1 Axes>"
      ]
     },
     "metadata": {},
     "output_type": "display_data"
    }
   ],
   "source": [
    "epi_util.saveCorrelationPlot(clinical['ringner'], var_y='age', restrict=True,\n",
    "                           var_x='c_beta',\n",
    "                           outdir=clin_path_outdir, label='Patient age (years)',\n",
    "                           text_x=0.83, text_y=75,\n",
    "                           figsize=figsize * 0.9, labelfontsize=labelfontsize, ticksfontsize=ticksfontsize, sf=sf, s=1,\n",
    "                           color=consts['palette_jco'][0], line_kws={'linewidth':1 * sf}\n",
    "                          )"
   ]
  },
  {
   "cell_type": "code",
   "execution_count": 227,
   "id": "5bd985c8",
   "metadata": {
    "scrolled": false
   },
   "outputs": [
    {
     "data": {
      "image/png": "[encoded data removed]",
      "text/plain": [
       "<Figure size 181.44x155.52 with 1 Axes>"
      ]
     },
     "metadata": {},
     "output_type": "display_data"
    }
   ],
   "source": [
    "epi_util.saveCorrelationPlot(clinical['TCGA'], var_y='age', restrict=True,\n",
    "                           var_x='c_beta',\n",
    "                           outdir=clin_path_outdir, label='Patient age (years)',\n",
    "                           text_x=0.85, text_y=85,\n",
    "                           figsize=figsize * 0.9, labelfontsize=labelfontsize, ticksfontsize=ticksfontsize, sf=sf, s=1,\n",
    "                           color=consts['palette_jco'][0], line_kws={'linewidth':1 * sf}\n",
    "                          )"
   ]
  },
  {
   "cell_type": "code",
   "execution_count": 230,
   "id": "17374546",
   "metadata": {},
   "outputs": [
    {
     "data": {
      "image/png": "[encoded data removed]",
      "text/plain": [
       "<Figure size 161.28x138.24 with 1 Axes>"
      ]
     },
     "metadata": {},
     "output_type": "display_data"
    }
   ],
   "source": [
    "epi_util.saveCorrelationPlot(clinical['TCGA'], var_y='MKI67', restrict=True,\n",
    "                           var_x='c_beta',\n",
    "                           outdir=cell_chars_outdir,\n",
    "                           text_x=0.865, text_y=2.2, label='MKI67 expression',\n",
    "                           figsize=figsize * 0.8, labelfontsize=labelfontsize, ticksfontsize=ticksfontsize, sf=sf, s=1,\n",
    "                           color=consts['palette_jco'][0], line_kws={'linewidth':1 * sf}\n",
    "                          )"
   ]
  },
  {
   "cell_type": "code",
   "execution_count": 231,
   "id": "91ca10d2",
   "metadata": {},
   "outputs": [
    {
     "data": {
      "image/png": "[encoded data removed]",
      "text/plain": [
       "<Figure size 161.28x138.24 with 1 Axes>"
      ]
     },
     "metadata": {},
     "output_type": "display_data"
    }
   ],
   "source": [
    "epi_util.saveCorrelationPlot(clinical['TCGA'], var_y='MCM', restrict=True,\n",
    "                           var_x='c_beta',\n",
    "                           outdir=cell_chars_outdir,\n",
    "                           text_x=0.86, text_y=1.8, label='MCM expression',\n",
    "                           figsize=figsize * 0.8, labelfontsize=labelfontsize, ticksfontsize=ticksfontsize, sf=sf, s=1,\n",
    "                           color=consts['palette_jco'][0], line_kws={'linewidth':1 * sf}\n",
    "                          )"
   ]
  },
  {
   "cell_type": "code",
   "execution_count": 232,
   "id": "41ef0c1f",
   "metadata": {},
   "outputs": [
    {
     "data": {
      "image/png": "[encoded data removed]",
      "text/plain": [
       "<Figure size 161.28x138.24 with 1 Axes>"
      ]
     },
     "metadata": {},
     "output_type": "display_data"
    }
   ],
   "source": [
    "epi_util.saveCorrelationPlot(clinical['ringner'], var_y='Mitotic Checkpoint', restrict=True,\n",
    "                           var_x='c_beta',\n",
    "                           outdir=cell_chars_outdir,\n",
    "                           text_x=0.85, text_y=2.2,\n",
    "                           figsize=figsize * 0.8, labelfontsize=labelfontsize, ticksfontsize=ticksfontsize, sf=sf, s=1,\n",
    "                           color=consts['palette_jco'][0], line_kws={'linewidth':1 * sf}\n",
    "                          )\n"
   ]
  },
  {
   "cell_type": "code",
   "execution_count": 233,
   "id": "90ba00e6",
   "metadata": {},
   "outputs": [
    {
     "data": {
      "image/png": "[encoded data removed]",
      "text/plain": [
       "<Figure size 161.28x138.24 with 1 Axes>"
      ]
     },
     "metadata": {},
     "output_type": "display_data"
    }
   ],
   "source": [
    "epi_util.saveCorrelationPlot(clinical['ringner'], var_y='spfPercent', restrict=True,\n",
    "                           var_x='c_beta',\n",
    "                           label='S-phase fraction (%)',\n",
    "                           outdir=cell_chars_outdir,\n",
    "                           text_x=0.85, text_y=26,\n",
    "                           figsize=figsize * 0.8, labelfontsize=labelfontsize, ticksfontsize=ticksfontsize, sf=sf, s=1,\n",
    "                           color=consts['palette_jco'][0], line_kws={'linewidth':1 * sf}\n",
    "                          )"
   ]
  },
  {
   "cell_type": "code",
   "execution_count": 234,
   "id": "c80ccede",
   "metadata": {
    "scrolled": false
   },
   "outputs": [
    {
     "data": {
      "image/png": "[encoded data removed]",
      "text/plain": [
       "<Figure size 161.28x138.24 with 1 Axes>"
      ]
     },
     "metadata": {},
     "output_type": "display_data"
    }
   ],
   "source": [
    "epi_util.saveCorrelationPlot(clinical['TCGA'], var_y='FGA', restrict=True,\n",
    "                           var_x='c_beta',\n",
    "                           outdir=cell_chars_outdir, label='FGA',\n",
    "                           text_x=0.85, text_y=0.5,\n",
    "                           figsize=figsize * 0.8, labelfontsize=labelfontsize, ticksfontsize=ticksfontsize, sf=sf, s=1,\n",
    "                           color=consts['palette_jco'][0], line_kws={'linewidth':1 * sf}\n",
    "                          )"
   ]
  },
  {
   "cell_type": "code",
   "execution_count": 235,
   "id": "f0a8ebe5",
   "metadata": {},
   "outputs": [
    {
     "data": {
      "image/png": "[encoded data removed]",
      "text/plain": [
       "<Figure size 161.28x138.24 with 1 Axes>"
      ]
     },
     "metadata": {},
     "output_type": "display_data"
    }
   ],
   "source": [
    "epi_util.saveCorrelationPlot(clinical['ringner'], var_y='FGA', restrict=True,\n",
    "                           var_x='c_beta',\n",
    "                           outdir=cell_chars_outdir, label='FGA',\n",
    "                           text_x=0.85, text_y=0.7,\n",
    "                           figsize=figsize * 0.8, labelfontsize=labelfontsize, ticksfontsize=ticksfontsize, sf=sf, s=1,\n",
    "                           color=consts['palette_jco'][0], line_kws={'linewidth':1 * sf}\n",
    "                          )"
   ]
  },
  {
   "cell_type": "code",
   "execution_count": 236,
   "id": "d17dc39e",
   "metadata": {},
   "outputs": [
    {
     "name": "stdout",
     "output_type": "stream",
     "text": [
      "0\n",
      "5000\n",
      "10000\n",
      "15000\n",
      "20000\n",
      "25000\n",
      "30000\n",
      "35000\n",
      "40000\n",
      "45000\n",
      "50000\n",
      "55000\n"
     ]
    }
   ],
   "source": [
    "gene_list = markers_transformed_df.index.values # list of genes to search\n",
    "use_samples = clinical['TCGA'].index[clinical['TCGA']['in_analysis_dataset']] # list of samples to use - make sure these are only pure ductal samples\n",
    "\n",
    "c_beta_use_samples = clinical['TCGA'].loc[use_samples, 'c_beta']\n",
    "markers_transformed_df_use_samples = markers_transformed_df[use_samples]\n",
    "\n",
    "rvalue_list = []\n",
    "for i in range(len(gene_list)):\n",
    "    if i % 5000 == 0:\n",
    "        print(i)\n",
    "    \n",
    "    res = epi_util.pearsonCorrelation(c_beta_use_samples, markers_transformed_df_use_samples.loc[gene_list[i]])\n",
    "    rvalue_list.append(res.rvalue)\n",
    "\n",
    "rvalue_ser = pd.Series(index=gene_list, data=rvalue_list)"
   ]
  },
  {
   "cell_type": "code",
   "execution_count": 237,
   "id": "bfce6475",
   "metadata": {
    "scrolled": false
   },
   "outputs": [
    {
     "name": "stdout",
     "output_type": "stream",
     "text": [
      "19259 protein coding genes considered\n"
     ]
    },
    {
     "data": {
      "image/png": "[encoded data removed]",
      "text/plain": [
       "<Figure size 383.04x172.8 with 1 Axes>"
      ]
     },
     "metadata": {},
     "output_type": "display_data"
    }
   ],
   "source": [
    "genenames_proteincoding = pd.read_table(os.path.join(consts['official_indir'], 'misc', 'genenames.proteincoding.txt'),\n",
    "                                       low_memory=False, usecols=['symbol']).squeeze('columns').values\n",
    "\n",
    "print(f'{genenames_proteincoding.shape[0]} protein coding genes considered')\n",
    "\n",
    "fig, ax = plt.subplots(1, 1, figsize=figsize * [1.9, 1] * sf)\n",
    "fig.tight_layout(pad=1)\n",
    "\n",
    "plot_data = rvalue_ser[gene_name.isin(genenames_proteincoding)]\n",
    "sns.histplot(ax=ax, x=plot_data,\n",
    "             color=consts['palette_jco'][0])\n",
    "MKI67_corr = rvalue_ser.loc[gene_name.index[gene_name == 'MKI67']].values\n",
    "MCM2_corr = rvalue_ser.loc[gene_name.index[gene_name == 'MCM2']].values\n",
    "\n",
    "assert len(MKI67_corr) == 1\n",
    "assert len(MCM2_corr) == 1\n",
    "ax.axvline(x=MKI67_corr[0], color=consts['palette_jco'][1], lw=2.5 * sf)\n",
    "ax.axvline(x=MCM2_corr[0], color=consts['palette_jco'][2], lw=2.5 * sf)\n",
    "\n",
    "ax.text(MKI67_corr[0]*1.05, ax.get_ylim()[1]*3/4, 'MKI67',\n",
    "                        ha=\"right\", fontfamily='sans-serif', fontsize=labelfontsize * 0.8 * sf, color=consts['palette_jco'][1]\n",
    "                       )\n",
    "ax.text(MCM2_corr[0]*0.95, ax.get_ylim()[1]*3/4, 'MCM2',\n",
    "                        ha=\"left\", fontfamily='sans-serif', fontsize=labelfontsize * 0.8 * sf, color=consts['palette_jco'][2]\n",
    "                       )\n",
    "ax.set_ylabel('Count', fontsize=labelfontsize * sf)\n",
    "ax.set_xlabel(f'Pearson correlation between $c_β$ and gene expression (n = {len(plot_data):,} genes)', fontsize=labelfontsize * sf)\n",
    "ax.set_title(f'TCGA', fontsize=labelfontsize * sf)\n",
    "ax.tick_params(axis='both', labelsize=ticksfontsize * sf, width=sf, length=8 * sf)\n",
    "\n",
    "fig.savefig(os.path.join(cell_chars_outdir, 'all_gene_correlations.pdf'), format='pdf', pad_inches=0.1)"
   ]
  }
 ],
 "metadata": {
  "kernelspec": {
   "display_name": "Python 3 (ipykernel)",
   "language": "python",
   "name": "python3"
  },
  "language_info": {
   "codemirror_mode": {
    "name": "ipython",
    "version": 3
   },
   "file_extension": ".py",
   "mimetype": "text/x-python",
   "name": "python",
   "nbconvert_exporter": "python",
   "pygments_lexer": "ipython3",
   "version": "3.9.19"
  }
 },
 "nbformat": 4,
 "nbformat_minor": 5
}
