{
 "cells": [
  {
   "cell_type": "markdown",
   "id": "c43d953e-0fd5-4d22-80ff-4d31c2418828",
   "metadata": {},
   "source": [
    "# c_beta Analysis"
   ]
  },
  {
   "cell_type": "code",
   "execution_count": 1,
   "id": "74e7d698",
   "metadata": {},
   "outputs": [],
   "source": [
    "import pandas as pd\n",
    "import numpy as np\n",
    "import os\n",
    "import sys\n",
    "import seaborn as sns\n",
    "import matplotlib.pyplot as plt\n",
    "import statsmodels.api as sm\n",
    "import EpiClockInvasiveBRCA.src.util as epi_util\n",
    "from EpiClockInvasiveBRCA.src.consts import consts"
   ]
  },
  {
   "cell_type": "code",
   "execution_count": 2,
   "id": "b3c56bdc",
   "metadata": {},
   "outputs": [],
   "source": [
    "figure_outdir = 'figures'\n",
    "if not os.path.exists(figure_outdir):\n",
    "    os.mkdir(figure_outdir)"
   ]
  },
  {
   "cell_type": "markdown",
   "id": "20f3ec20",
   "metadata": {},
   "source": [
    "## Prep data"
   ]
  },
  {
   "cell_type": "code",
   "execution_count": 3,
   "id": "d0f09616",
   "metadata": {},
   "outputs": [],
   "source": [
    "TCGA_clinical_dir = os.path.join(consts['official_indir'], 'TCGA')\n",
    "TCGA_c_beta_dir = os.path.join(consts['repo_dir'], 'Select_fCpGs', 'outputs')\n",
    "Ringner_clinical_dir = os.path.join(consts['official_indir'], 'Ringner')\n",
    "Ringner_c_beta_dir = os.path.join(consts['repo_dir'], 'Process_Other_Data_Sources', 'outputs', 'cohort_T2')"
   ]
  },
  {
   "cell_type": "code",
   "execution_count": 4,
   "id": "f3937378",
   "metadata": {},
   "outputs": [],
   "source": [
    "clinical = {}"
   ]
  },
  {
   "cell_type": "code",
   "execution_count": 5,
   "id": "9af26a39",
   "metadata": {},
   "outputs": [],
   "source": [
    "# Import step for ringner data\n",
    "\n",
    "clinical['ringner'] = pd.read_table(os.path.join(Ringner_clinical_dir, 'cohort.T2.clinical.txt'), index_col=0, dtype={'grade':str})\n",
    "clinical['ringner']['c_beta'] = pd.read_table(os.path.join(Ringner_c_beta_dir, 'cohort.T2.c_beta.txt'), index_col=0).squeeze(\"columns\")"
   ]
  },
  {
   "cell_type": "code",
   "execution_count": 6,
   "id": "60684668",
   "metadata": {},
   "outputs": [],
   "source": [
    "# Initial import step for TCGA data\n",
    "\n",
    "clinical['TCGA'] = pd.read_table(os.path.join(TCGA_clinical_dir, 'cohort1.clinical.tsv'), index_col=0)\n",
    "clinical['TCGA'] = clinical['TCGA'].set_index('bcr_patient_barcode')\n",
    "c_beta_tcga = pd.read_table(os.path.join(TCGA_c_beta_dir, 'cohort.T1.c_beta.txt'), index_col=0, header=None).squeeze(\"columns\")\n",
    "c_beta_tcga.index = c_beta_tcga.index.to_series().apply(consts['sampleIDtoPatientID'])\n",
    "clinical['TCGA']['c_beta'] = c_beta_tcga\n",
    "\n",
    "clinical['TCGA']['T Stage'] = clinical['TCGA']['ajcc_pathologic_t'].dropna().apply(lambda x:x[:2])\n",
    "clinical['TCGA']['Stage'] = clinical['TCGA']['ajcc_pathologic_stage'].dropna().str.rstrip('ABC')\n",
    "clinical['TCGA']['age'] = clinical['TCGA']['age_at_diagnosis'] / 365"
   ]
  },
  {
   "cell_type": "markdown",
   "id": "a285c6b5",
   "metadata": {},
   "source": [
    "### IHC status"
   ]
  },
  {
   "cell_type": "code",
   "execution_count": 7,
   "id": "2abf5aef",
   "metadata": {},
   "outputs": [],
   "source": [
    "# Import and process table with hormone status \n",
    "\n",
    "marker_state_dict = {\n",
    "#                      'Equivocal':float('NaN'),\n",
    "                     'Equivocal':'Positive',\n",
    "                     'Indeterminate':float('NaN'),\n",
    "                     'Negative':'Negative', 'Positive':'Positive'}\n",
    "ihc_status = pd.read_table(os.path.join(TCGA_clinical_dir, 'nationwidechildrens.org_clinical_patient_brca.txt'),\n",
    "                           usecols=['bcr_patient_barcode', 'her2_status_by_ihc', 'er_status_by_ihc', 'pr_status_by_ihc'],\n",
    "                           index_col=0, na_values=['[Not Evaluated]', '[Not Available]']).iloc[2:]\n",
    "ihc_status = ihc_status.apply(lambda col:col.map(marker_state_dict), axis=0)\n",
    "assert not ihc_status.index.duplicated().any()\n",
    "assert ihc_status.index.isin(clinical['TCGA'].index).all()"
   ]
  },
  {
   "cell_type": "code",
   "execution_count": 8,
   "id": "34d3c1f4",
   "metadata": {},
   "outputs": [],
   "source": [
    "# IGNORE\n",
    "\n",
    "# print('All BRCA cases')\n",
    "# display(ihc_status.apply(lambda x:x.value_counts()).fillna(0))\n",
    "\n",
    "# analysis_submitterIDs = clinical['TCGA'].index[clinical['TCGA']['in_analysis_dataset']]\n",
    "# print('Pure ductal cases')\n",
    "# display(ihc_status.loc[analysis_submitterIDs].apply(lambda x:x.value_counts()).fillna(0))\n",
    "\n",
    "# # display(ihc_status.loc[ihc_status['her2_status_by_ihc']=='Equivocal'].groupby('er_status_by_ihc')['pr_status_by_ihc'].value_counts().unstack())"
   ]
  },
  {
   "cell_type": "code",
   "execution_count": 9,
   "id": "16d8f81d",
   "metadata": {},
   "outputs": [
    {
     "data": {
      "text/plain": [
       "8"
      ]
     },
     "execution_count": 9,
     "metadata": {},
     "output_type": "execute_result"
    }
   ],
   "source": [
    "# IGNORE\n",
    "\n",
    "(clinical['TCGA']['in_analysis_dataset'] & clinical['TCGA']['c_beta'].isna()).sum()"
   ]
  },
  {
   "cell_type": "code",
   "execution_count": 10,
   "id": "0bed0999",
   "metadata": {},
   "outputs": [],
   "source": [
    "# Process ihc status table\n",
    "# Merge with TCGA clinical table\n",
    "# Create a \"subtype\" column\n",
    "\n",
    "clinical['TCGA'] = clinical['TCGA'].merge(ihc_status, left_index=True, right_index=True, how='left')\n",
    "\n",
    "clinical['TCGA']['HR+'] = (clinical['TCGA']['er_status_by_ihc'] == 'Positive') | (clinical['TCGA']['pr_status_by_ihc'] == 'Positive')\n",
    "clinical['TCGA']['HR-'] = (clinical['TCGA']['er_status_by_ihc'] == 'Negative') & (clinical['TCGA']['pr_status_by_ihc'] == 'Negative')\n",
    "\n",
    "clinical['TCGA']['LumA_type'] = clinical['TCGA']['HR+'] & (clinical['TCGA']['her2_status_by_ihc'] == 'Negative')\n",
    "clinical['TCGA']['LumB_type'] = clinical['TCGA']['HR+'] & (clinical['TCGA']['her2_status_by_ihc'] == 'Positive')\n",
    "clinical['TCGA']['Her2_type'] = (clinical['TCGA']['her2_status_by_ihc'] == 'Positive') & clinical['TCGA']['HR-']\n",
    "clinical['TCGA']['Basal_type'] = clinical['TCGA']['HR-'] & (clinical['TCGA']['her2_status_by_ihc'] == 'Negative')\n",
    "\n",
    "\n",
    "subtype_list = ['LumA_type', 'LumB_type', 'Her2_type', 'Basal_type']\n",
    "\n",
    "for subtype in subtype_list:\n",
    "    clinical['TCGA'][subtype] = clinical['TCGA'][subtype].map({True:subtype.split('_type')[0], False:''})\n",
    "\n",
    "clinical['TCGA']['subtype'] = clinical['TCGA'][subtype_list].apply(lambda row:''.join(row), axis=1)\n",
    "clinical['TCGA'].loc[clinical['TCGA']['subtype'] == '', 'subtype'] = None\n",
    "clinical['TCGA'] = clinical['TCGA'].drop(subtype_list, axis=1)"
   ]
  },
  {
   "cell_type": "markdown",
   "id": "02cc262c",
   "metadata": {},
   "source": [
    "### RNA-seq"
   ]
  },
  {
   "cell_type": "code",
   "execution_count": 11,
   "id": "4c1448fd",
   "metadata": {},
   "outputs": [],
   "source": [
    "markers_TPM_df = pd.read_table(\n",
    "    os.path.join(TCGA_clinical_dir, 'cohort1.rnaseq_tpm.tsv'),\n",
    "    sep='\\t')\n",
    "markers_TPM_df = markers_TPM_df.set_index('gene_id')\n",
    "markers_TPM_df = markers_TPM_df.rename(columns=lambda x:'-'.join(x.split('-')[:3]))\n",
    "markers_TPM_df = markers_TPM_df.loc[(markers_TPM_df != 0).any(axis=1)]\n",
    "gene_name = markers_TPM_df.pop('gene_name')"
   ]
  },
  {
   "cell_type": "code",
   "execution_count": 12,
   "id": "3fce4b4c",
   "metadata": {},
   "outputs": [],
   "source": [
    "# mean_log_TPM_per_gene_OLD = pd.read_table('~/Desktop/mean_log_TPM_per_gene_OLD.txt', sep='\\t', index_col=0).squeeze('columns')\n",
    "# mean_log_TPM_per_gene_OLD = mean_log_TPM_per_gene_OLD.loc[need_genes]\n",
    "# mean_log_TPM_per_gene_OLD = gene_name.to_frame().merge(mean_log_TPM_per_gene_OLD.rename('mean_TPM'), left_on='gene_name', right_index=True)['mean_TPM']"
   ]
  },
  {
   "cell_type": "code",
   "execution_count": 13,
   "id": "32d946af",
   "metadata": {},
   "outputs": [],
   "source": [
    "# Log transform TPM and center the values for each gene across all tumors\n",
    "\n",
    "markers_log_transformed_df = np.log2(markers_TPM_df + 1)\n",
    "\n",
    "# Mean centered across all tumors for each gene\n",
    "markers_transformed_df = markers_log_transformed_df.apply(lambda col:col - markers_log_transformed_df.mean(axis=1), axis=0)\n",
    "assert (markers_transformed_df.mean(axis=1) < 1e-5).all()\n",
    "\n",
    "# Mean centered across all genes for each tumor\n",
    "# markers_transformed_df = markers_transformed_df.apply(lambda col:col - markers_transformed_df.mean(axis=0), axis=1)\n",
    "# markers_transformed_tumorCentered_df = markers_log_transformed_df - markers_log_transformed_df.mean(axis=0)\n",
    "# assert (markers_transformed_tumorCentered_df.mean(axis=0) < 1e-5).all()"
   ]
  },
  {
   "cell_type": "code",
   "execution_count": null,
   "id": "5afc503c",
   "metadata": {},
   "outputs": [],
   "source": [
    "gene_module_dict = {}\n",
    "with open(os.path.join(consts['official_indir'], 'misc', 'Fredlund.gene.modules.txt'), 'r') as f:\n",
    "    line_list = f.readlines()\n",
    "\n",
    "for line in line_list:\n",
    "    list_temp = line.rstrip().split('\\t')\n",
    "    gene_module_dict[list_temp[0]] = list_temp[1:]"
   ]
  },
  {
   "cell_type": "code",
   "execution_count": 14,
   "id": "b3b1e753",
   "metadata": {
    "scrolled": false
   },
   "outputs": [],
   "source": [
    "# Add columns for the average expression of each gene module\n",
    "\n",
    "for module in gene_module_dict.keys():\n",
    "    markers = gene_module_dict[module]\n",
    "    selected_TPM = markers_transformed_df.loc[gene_name.index[gene_name.isin(markers)]]\n",
    "    assert selected_TPM.shape[0] == len(markers)\n",
    "    avg_module_expression = selected_TPM.mean(axis=0)\n",
    "    avg_module_expression.name = module\n",
    "    clinical['TCGA'] = clinical['TCGA'].drop(module, axis=1, errors='ignore')\n",
    "    clinical['TCGA'] = clinical['TCGA'].merge(avg_module_expression, left_index=True, right_index=True, how='left')\n",
    "#     clinical['TCGA'][module] = avg_module_expression.loc[clinical['TCGA'].index]"
   ]
  },
  {
   "cell_type": "code",
   "execution_count": 15,
   "id": "1c605493",
   "metadata": {},
   "outputs": [],
   "source": [
    "# Include expression of certain genes in clinical table\n",
    "# Specifically for invasive breast cancer\n",
    "\n",
    "clinical['TCGA']['MCM2'] = markers_transformed_df.loc[gene_name.index[gene_name=='MCM2']].T\n",
    "clinical['TCGA']['MKI67'] = markers_transformed_df.loc[gene_name.index[gene_name=='MKI67']].T\n",
    "clinical['TCGA']['E2F1'] = markers_transformed_df.loc[gene_name.index[gene_name=='E2F1']].T\n",
    "clinical['TCGA']['PCNA'] = markers_transformed_df.loc[gene_name.index[gene_name=='PCNA']].T\n",
    "\n",
    "MCM_family = ['MCM2', 'MCM3', 'MCM4', 'MCM5', 'MCM6', 'MCM7']\n",
    "clinical['TCGA']['MCM'] = markers_transformed_df.loc[gene_name.index[gene_name.isin(MCM_family)]].mean(axis=0)"
   ]
  },
  {
   "cell_type": "markdown",
   "id": "25a12304",
   "metadata": {},
   "source": [
    "### Copy number analysis"
   ]
  },
  {
   "cell_type": "code",
   "execution_count": 16,
   "id": "eb40c39e",
   "metadata": {},
   "outputs": [],
   "source": [
    "### Import table and transform data\n",
    "\n",
    "CNV_df = pd.read_table(\n",
    "    os.path.join(TCGA_clinical_dir, 'cohort1.cnv.tsv'),\n",
    "    sep='\\t')\n",
    "CNV_df['CN'] = 2 * (2 ** CNV_df['Segment_Mean'])\n",
    "all_samples = CNV_df['Sample'].unique()"
   ]
  },
  {
   "cell_type": "code",
   "execution_count": 17,
   "id": "c6b81b51",
   "metadata": {},
   "outputs": [],
   "source": [
    "# IGNORE\n",
    "\n",
    "# Sanity check\n",
    "# Number of probes increases with the length of the segment\n",
    "# So each segment is a region of the chromosome ith roughly equal copy number\n",
    "\n",
    "# CNV_df['Length'] = CNV_df['End'] - CNV_df['Start']\n",
    "# sns.lineplot(data=CNV_df.sample(5000), x='Num_Probes', y='Length')"
   ]
  },
  {
   "cell_type": "code",
   "execution_count": 18,
   "id": "1732cdbb",
   "metadata": {},
   "outputs": [],
   "source": [
    "## Iterate through samples and calculate CN losses and gains\n",
    "\n",
    "# Set thresholds for CN losses and gains\n",
    "FGA_loss_threshold = 1.5\n",
    "FGA_gain_threshold = 2.5\n",
    "\n",
    "FGA_loss_list = []\n",
    "FGA_gain_list = []\n",
    "\n",
    "ploidy_list = []\n",
    "for samp in all_samples:\n",
    "# samp = all_samples[0]\n",
    "\n",
    "    sample_CNV_df = CNV_df.loc[CNV_df['Sample'] == samp]\n",
    "\n",
    "    total_num_probes = sample_CNV_df['Num_Probes'].sum()\n",
    "    FGA_loss = sample_CNV_df.loc[sample_CNV_df['CN'] < FGA_loss_threshold, 'Num_Probes'].sum() / total_num_probes\n",
    "    FGA_gain = sample_CNV_df.loc[sample_CNV_df['CN'] > FGA_gain_threshold, 'Num_Probes'].sum() / total_num_probes\n",
    "\n",
    "    FGA_loss_list.append(FGA_loss)\n",
    "    FGA_gain_list.append(FGA_gain)\n",
    "\n",
    "#     ploidy = (sample_CNV_df['CN'] * sample_CNV_df['Num_Probes']).sum() / total_num_probes\n",
    "#     ploidy_list.append(ploidy)\n",
    "FGA_output = pd.DataFrame(index=all_samples, data={'FGA_loss':FGA_loss_list, 'FGA_gain':FGA_gain_list})\n",
    "FGA_output['FGA'] = FGA_output['FGA_loss'] + FGA_output['FGA_gain']\n",
    "FGA_output.index = FGA_output.index.to_series().apply(lambda x:'-'.join(x.split('-')[:3]))\n",
    "\n",
    "\n",
    "# Add new columns to TCGA clinical table\n",
    "clinical['TCGA'] = clinical['TCGA'].drop(['FGA_loss', 'FGA_gain', 'FGA'], axis=1, errors='ignore')\n",
    "clinical['TCGA'] = clinical['TCGA'].merge(FGA_output, left_index=True, right_index=True, how='left')"
   ]
  },
  {
   "cell_type": "code",
   "execution_count": 19,
   "id": "ae117b0e",
   "metadata": {},
   "outputs": [],
   "source": [
    "## Ignore\n",
    "\n",
    "# sns.histplot(x=ploidy_list)\n",
    "# sns.histplot(CNV_df['CN'].sample(10000)).set(xlim=(0, 10))"
   ]
  },
  {
   "cell_type": "markdown",
   "id": "4796551a",
   "metadata": {},
   "source": [
    "### Save annotated clinical file for TCGA cohort"
   ]
  },
  {
   "cell_type": "code",
   "execution_count": 20,
   "id": "11ed67f4",
   "metadata": {
    "scrolled": true
   },
   "outputs": [],
   "source": [
    "# Keep extra columns (gene expression, FGA)\n",
    "\n",
    "clinical_annotated_filepath = os.path.join(TCGA_clinical_dir, 'cohort1.clinical.annotated.tsv')\n",
    "if os.path.exists(clinical_annotated_filepath):\n",
    "    existing_table = pd.read_table(clinical_annotated_filepath, index_col=0)\n",
    "    assert (existing_table.round(5).fillna(0) == clinical['TCGA'].round(5).fillna(0)).all(axis=None, skipna=True)\n",
    "else:\n",
    "    clinical['TCGA'].to_csv(clinical_annotated_filepath, sep='\\t')"
   ]
  },
  {
   "cell_type": "markdown",
   "id": "0c4d0d0a",
   "metadata": {},
   "source": [
    "## Make Figures"
   ]
  },
  {
   "cell_type": "code",
   "execution_count": 21,
   "id": "5536347f",
   "metadata": {},
   "outputs": [],
   "source": [
    "# scale factor\n",
    "sf = 0.4\n",
    "\n",
    "figsize = np.array([7, 6])\n",
    "labelfontsize = 25\n",
    "ticksfontsize = 18\n",
    "signif_fontsize = 14\n",
    "opacity = 0.8\n",
    "linewidth = 1\n",
    "fliersize = 1\n",
    "\n",
    "sns.set(rc={\"savefig.bbox\":'tight', 'axes.linewidth':sf}, font_scale=1, style='ticks')"
   ]
  },
  {
   "cell_type": "code",
   "execution_count": 22,
   "id": "1053c967",
   "metadata": {},
   "outputs": [],
   "source": [
    "# Must set dataframe names for use of saveBoxPlotNew and saveCorrelationPlot\n",
    "\n",
    "clinical['TCGA'].name = 'TCGA'\n",
    "clinical['ringner'].name = 'Lund'"
   ]
  },
  {
   "cell_type": "code",
   "execution_count": 23,
   "id": "28e54d12",
   "metadata": {
    "scrolled": true
   },
   "outputs": [
    {
     "data": {
      "image/png": "[encoded data removed]",
      "text/plain": [
       "<Figure size 463.68x138.24 with 3 Axes>"
      ]
     },
     "metadata": {
      "needs_background": "light"
     },
     "output_type": "display_data"
    }
   ],
   "source": [
    "data = {'tumor':{'beta_values_balancedSites':\n",
    "        pd.read_table(os.path.join(TCGA_clinical_dir, 'cohort1.methyl.balancedSites.tsv'),\n",
    "                      index_col=0)\n",
    "       }}\n",
    "\n",
    "sample_list = {'Tum1':'TCGA-B6-A1KF-01A',\n",
    "               'Tum2':'TCGA-B6-A0RO-01A',\n",
    "#                'Tum3':'TCGA-AC-A2FK-01A',\n",
    "               'Tum3':'TCGA-E2-A1B1-01A'\n",
    "              }\n",
    "\n",
    "chosen_tumor_colors = [consts['palette_jco'][i] for i in [0, 1, 3]]\n",
    "\n",
    "# epi_util.plotTumorWise(data, CpG_list=balanced_CpGs_final_set, sample_list=[sample_list[tum] for tum in sample_list],\n",
    "epi_util.plotTumorWise(data, data_obj='beta_values_balancedSites', sample_list=[sample_list[tum] for tum in sample_list],\n",
    "                     suptitle='', xlabel='β', title_formats=[tum + ' ({})' for tum in sample_list],\n",
    "                     outfile=True, outdir=figure_outdir, outfile_name='example_tumors.pdf',\n",
    "                     choose_random=False, color=chosen_tumor_colors,\n",
    "                     ylim=(0, 0.28), bins=12,\n",
    "                     figsize=figsize * [2.3, 0.8], text_fontsize=labelfontsize, ticksfontsize=ticksfontsize, opacity=opacity, sf=sf,\n",
    "                     tight_layout_pad=0.2\n",
    "             )"
   ]
  },
  {
   "cell_type": "code",
   "execution_count": 24,
   "id": "82aad369",
   "metadata": {},
   "outputs": [
    {
     "data": {
      "image/png": "[encoded data removed]",
      "text/plain": [
       "<Figure size 201.6x138.24 with 1 Axes>"
      ]
     },
     "metadata": {
      "needs_background": "light"
     },
     "output_type": "display_data"
    }
   ],
   "source": [
    "fig, ax = plt.subplots(1, 1, figsize=figsize * [1, 0.8] * sf)\n",
    "fig.tight_layout(pad=1)\n",
    "\n",
    "sns.histplot(ax=ax, x=clinical['TCGA'].loc[clinical['TCGA']['in_analysis_dataset'], 'c_beta'],\n",
    "             color=consts['palette_jco'][2], alpha=opacity)\n",
    "\n",
    "x_0 = clinical['TCGA'].loc[epi_util.sampleToPatientID(sample_list['Tum1']), 'c_beta']\n",
    "x_1 = clinical['TCGA'].loc[epi_util.sampleToPatientID(sample_list['Tum2']), 'c_beta']\n",
    "x_2 = clinical['TCGA'].loc[epi_util.sampleToPatientID(sample_list['Tum3']), 'c_beta']\n",
    "\n",
    "\n",
    "ax.axvline(x=x_0, lw=2.5 * sf, color=chosen_tumor_colors[0])\n",
    "ax.axvline(x=x_1, lw=2.5 * sf, color=chosen_tumor_colors[1])\n",
    "ax.axvline(x=x_2, lw=2.5 * sf, color=chosen_tumor_colors[2])\n",
    "\n",
    "ax.set_xlabel('$c_β$', fontsize=labelfontsize * sf)\n",
    "ax.set_ylabel('Count', fontsize=labelfontsize * sf)\n",
    "ax.set_title(f\"Ductal TCGA (n = {clinical['TCGA']['in_analysis_dataset'].sum()})\", fontsize=labelfontsize * sf)\n",
    "ax.tick_params(axis='both', labelsize=ticksfontsize * sf, width=sf, length=8 * sf)\n",
    "\n",
    "ax.text(x_0*0.99, ax.get_ylim()[1]*7/8,\n",
    "        'Tum1', color=chosen_tumor_colors[0],\n",
    "        ha=\"right\", fontfamily='sans-serif', fontsize=0.8 * labelfontsize * sf, alpha=opacity\n",
    "       )\n",
    "ax.text(x_1*0.99, ax.get_ylim()[1]*7/8,\n",
    "        'Tum2', color=chosen_tumor_colors[1],\n",
    "        ha=\"right\", fontfamily='sans-serif', fontsize=0.8 * labelfontsize * sf, alpha=opacity\n",
    "       )\n",
    "ax.text(x_2*0.99, ax.get_ylim()[1]*7/8,\n",
    "        'Tum3', color=chosen_tumor_colors[2],\n",
    "        ha=\"right\", fontfamily='sans-serif', fontsize=0.8 * labelfontsize * sf, alpha=opacity\n",
    "       )\n",
    "\n",
    "fig.savefig(os.path.join(figure_outdir, 'c_beta_distribution.pdf'), format='pdf', pad_inches=0.1)"
   ]
  },
  {
   "cell_type": "code",
   "execution_count": 25,
   "id": "25796eca",
   "metadata": {
    "scrolled": false
   },
   "outputs": [
    {
     "data": {
      "image/png": "[encoded data removed]",
      "text/plain": [
       "<Figure size 362.88x172.8 with 1 Axes>"
      ]
     },
     "metadata": {
      "needs_background": "light"
     },
     "output_type": "display_data"
    }
   ],
   "source": [
    "major_diagnoses = ['Infiltrating duct carcinoma, NOS', 'Lobular carcinoma, NOS']\n",
    "ax = epi_util.saveBoxPlotNew(clinical['TCGA'], 'primary_diagnosis', restrict=False,\n",
    "                   var_y='c_beta',\n",
    "                   outdir=figure_outdir, title=True, use_groups=major_diagnoses,\n",
    "                   palette=consts['palette_jco'], signif_fontsize=signif_fontsize,\n",
    "                   figsize=figsize * [1.8, 1],\n",
    "                   labelfontsize=labelfontsize, ticksfontsize=ticksfontsize, sf=sf, linewidth=linewidth, fliersize=fliersize)"
   ]
  },
  {
   "cell_type": "code",
   "execution_count": 26,
   "id": "8ef8707b",
   "metadata": {
    "scrolled": false
   },
   "outputs": [
    {
     "data": {
      "text/plain": [
       "<Axes: title={'center': 'Lund'}, ylabel='$c_β$'>"
      ]
     },
     "execution_count": 26,
     "metadata": {},
     "output_type": "execute_result"
    },
    {
     "data": {
      "image/png": "[encoded data removed]",
      "text/plain": [
       "<Figure size 201.6x172.8 with 1 Axes>"
      ]
     },
     "metadata": {
      "needs_background": "light"
     },
     "output_type": "display_data"
    }
   ],
   "source": [
    "epi_util.saveBoxPlotNew(clinical['ringner'], 'grade', restrict=True,\n",
    "                   var_y='c_beta',\n",
    "                   outdir=figure_outdir, title=True, use_groups=['Grade 1', 'Grade 2', 'Grade 3'],\n",
    "                   palette=consts['palette_jco'],\n",
    "                   figsize=figsize, labelfontsize=labelfontsize, ticksfontsize=ticksfontsize, sf=sf, linewidth=linewidth, fliersize=fliersize)"
   ]
  },
  {
   "cell_type": "code",
   "execution_count": 27,
   "id": "9b5113d4",
   "metadata": {},
   "outputs": [
    {
     "data": {
      "text/plain": [
       "<Axes: title={'center': 'TCGA'}, ylabel='$c_β$'>"
      ]
     },
     "execution_count": 27,
     "metadata": {},
     "output_type": "execute_result"
    },
    {
     "data": {
      "image/png": "[encoded data removed]",
      "text/plain": [
       "<Figure size 201.6x172.8 with 1 Axes>"
      ]
     },
     "metadata": {
      "needs_background": "light"
     },
     "output_type": "display_data"
    }
   ],
   "source": [
    "epi_util.saveBoxPlotNew(clinical['TCGA'], 'Stage', restrict=True,\n",
    "                   var_y='c_beta',\n",
    "                   outdir=figure_outdir, title=True, use_groups = ['Stage I', 'Stage II', 'Stage III'],\n",
    "                   palette=consts['palette_jco'],\n",
    "                   figsize=figsize, labelfontsize=labelfontsize, ticksfontsize=ticksfontsize, sf=sf, linewidth=linewidth, fliersize=fliersize)"
   ]
  },
  {
   "cell_type": "code",
   "execution_count": 28,
   "id": "d0d3fdc1",
   "metadata": {},
   "outputs": [
    {
     "data": {
      "text/plain": [
       "<Axes: title={'center': 'TCGA'}, ylabel='$c_β$'>"
      ]
     },
     "execution_count": 28,
     "metadata": {},
     "output_type": "execute_result"
    },
    {
     "data": {
      "image/png": "[encoded data removed]",
      "text/plain": [
       "<Figure size 201.6x172.8 with 1 Axes>"
      ]
     },
     "metadata": {
      "needs_background": "light"
     },
     "output_type": "display_data"
    }
   ],
   "source": [
    "epi_util.saveBoxPlotNew(clinical['TCGA'], 'subtype', restrict=True,\n",
    "                   var_y='c_beta',\n",
    "                   outdir=figure_outdir, title=True, use_groups = ['LumA', 'LumB', 'Her2', 'Basal'],\n",
    "                   palette=consts['palette_jco'],\n",
    "                   figsize=figsize, labelfontsize=labelfontsize, ticksfontsize=ticksfontsize, sf=sf, linewidth=linewidth, fliersize=fliersize)"
   ]
  },
  {
   "cell_type": "code",
   "execution_count": 29,
   "id": "43ee4090",
   "metadata": {},
   "outputs": [
    {
     "name": "stdout",
     "output_type": "stream",
     "text": [
      "(20,)\n",
      "(15,)\n",
      "0.7815672637497069\n",
      "0.745976646200115\n"
     ]
    }
   ],
   "source": [
    "## Ignore\n",
    "\n",
    "clinical_TCGA_old = consts['project_data_func_dict']['TCGA']['sample_annotations']()\n",
    "pureSamples_TCGA_old = consts['project_data_func_dict']['TCGA']['pureSamples']()\n",
    "old_analysis_sampleUUIDs = np.intersect1d(pureSamples_TCGA_old, clinical_TCGA_old.index[clinical_TCGA_old['primary_diagnosis'] == 'Infiltrating duct carcinoma, NOS'])\n",
    "\n",
    "all_caseuuid_caseid = pd.read_table(os.path.join('/Users/danielmonyak/Library/CloudStorage/Box-Box/PROJECT 06023: MolClocks/MolClock_Paper_1/Data/ALL', 'all_caseuuid_caseid.tsv'), index_col=0).squeeze('columns')\n",
    "all_caseuuid_caseid.index = all_caseuuid_caseid.index.str.upper()\n",
    "assert np.isin(clinical_TCGA_old.loc[old_analysis_sampleUUIDs, 'cases.0.case_id'], all_caseuuid_caseid.index).all()\n",
    "clinical_TCGA_old = clinical_TCGA_old.merge(all_caseuuid_caseid, left_on='cases.0.case_id', right_index=True)\n",
    "\n",
    "old_analysis_submitterIDs = clinical_TCGA_old.loc[old_analysis_sampleUUIDs, 'submitter_id']\n",
    "\n",
    "a = clinical['TCGA'].loc[clinical['TCGA']['in_analysis_dataset'] & (clinical['TCGA']['subtype'] == 'Her2'), 'c_beta']\n",
    "b = clinical['TCGA'].loc[clinical['TCGA'].index.isin(old_analysis_submitterIDs) & clinical['TCGA']['in_analysis_dataset'] & (clinical['TCGA']['subtype'] == 'Her2'), 'c_beta']\n",
    "\n",
    "# why is this nan?\n",
    "# clinical['TCGA'].loc['TCGA-E9-A22G', 'c_beta']\n",
    "\n",
    "print(a.dropna().shape)\n",
    "print(b.dropna().shape)\n",
    "print(a.median())\n",
    "print(b.median())"
   ]
  },
  {
   "cell_type": "code",
   "execution_count": 30,
   "id": "d4ebf270",
   "metadata": {},
   "outputs": [
    {
     "data": {
      "text/plain": [
       "<Axes: title={'center': 'Lund'}, ylabel='$c_β$'>"
      ]
     },
     "execution_count": 30,
     "metadata": {},
     "output_type": "execute_result"
    },
    {
     "data": {
      "image/png": "[encoded data removed]",
      "text/plain": [
       "<Figure size 201.6x172.8 with 1 Axes>"
      ]
     },
     "metadata": {
      "needs_background": "light"
     },
     "output_type": "display_data"
    }
   ],
   "source": [
    "epi_util.saveBoxPlotNew(clinical['ringner'], 'genefu.pam50.subtype', restrict=True,\n",
    "                   var_y='c_beta',\n",
    "                   outdir=figure_outdir, title=True, use_groups = ['LumA', 'LumB', 'Her2', 'Basal'],\n",
    "                   palette=consts['palette_jco'],\n",
    "                   figsize=figsize, labelfontsize=labelfontsize, ticksfontsize=ticksfontsize, sf=sf, linewidth=linewidth, fliersize=fliersize)"
   ]
  },
  {
   "cell_type": "code",
   "execution_count": 31,
   "id": "ff0f249d",
   "metadata": {},
   "outputs": [
    {
     "data": {
      "text/plain": [
       "<Axes: title={'center': 'TCGA'}, ylabel='$c_β$'>"
      ]
     },
     "execution_count": 31,
     "metadata": {},
     "output_type": "execute_result"
    },
    {
     "data": {
      "image/png": "[encoded data removed]",
      "text/plain": [
       "<Figure size 241.92x172.8 with 1 Axes>"
      ]
     },
     "metadata": {
      "needs_background": "light"
     },
     "output_type": "display_data"
    }
   ],
   "source": [
    "epi_util.saveBoxPlotNew(clinical['TCGA'], 'T Stage', restrict=True,\n",
    "                   var_y='c_beta',\n",
    "                   outdir=figure_outdir, title=True, use_groups = ['T1', 'T2', 'T3', 'T4'],\n",
    "                   palette=consts['palette_jco'],\n",
    "                   figsize=figsize * [1.2, 1], labelfontsize=labelfontsize, ticksfontsize=ticksfontsize, sf=sf, linewidth=linewidth, fliersize=fliersize)"
   ]
  },
  {
   "cell_type": "code",
   "execution_count": null,
   "id": "e8cec209",
   "metadata": {},
   "outputs": [],
   "source": [
    "## Ignore\n",
    "\n",
    "from statsmodels.miscmodels.ordinal_model import OrderedModel\n",
    "from pandas.api.types import CategoricalDtype\n",
    "\n",
    "T_stage_cats = ['T1', 'T2', 'T3', 'T4']\n",
    "\n",
    "model_data = clinical['TCGA'].loc[clinical['TCGA']['T Stage'].isin(T_stage_cats),\n",
    "                                  ['T Stage', 'c_beta']].dropna()\n",
    "model_data['T Stage'] = model_data['T Stage'].astype(\n",
    "    CategoricalDtype(categories=T_stage_cats, ordered=True)\n",
    ")\n",
    "\n",
    "mod_prob = OrderedModel(model_data['T Stage'],\n",
    "                        model_data['c_beta'],\n",
    "                        distr='probit')\n",
    "\n",
    "\n",
    "\n",
    "res_prob = mod_prob.fit(method='bfgs')\n",
    "res_prob.summary()"
   ]
  },
  {
   "cell_type": "code",
   "execution_count": null,
   "id": "bfa10b0a",
   "metadata": {},
   "outputs": [],
   "source": [
    "clinical['TCGA']['subtype_lumGrouped'] = clinical['TCGA']['subtype'].copy().map({'LumA':'Lum', 'LumB':'Lum', 'Her2':'Her2', 'Basal':'Basal'})\n",
    "\n",
    "epi_util.saveBoxPlotNew(clinical['TCGA'], 'subtype_lumGrouped', restrict=True,\n",
    "                   var_y='c_beta',\n",
    "                      use_groups = ['Lum', 'Her2', 'Basal'],\n",
    "                   figsize=(7, 6),\n",
    "                      label = 'Subtype (Luminal Grouped)',\n",
    "                   outdir=figure_outdir, title=True,\n",
    "                   palette=consts['palette_jco'])"
   ]
  },
  {
   "cell_type": "code",
   "execution_count": null,
   "id": "250b4b66",
   "metadata": {
    "scrolled": false
   },
   "outputs": [],
   "source": [
    "clinical['ringner']['subtype_lumGrouped'] = clinical['ringner']['genefu.pam50.subtype'].copy().map({'LumA':'Lum', 'LumB':'Lum', 'Her2':'Her2', 'Basal':'Basal'})\n",
    "\n",
    "epi_util.saveBoxPlotNew(clinical['ringner'], 'subtype_lumGrouped', restrict=True,\n",
    "                   var_y='c_beta',\n",
    "                      use_groups = ['Lum', 'Her2', 'Basal'],\n",
    "                   figsize=(7, 6),\n",
    "                      label = 'Subtype (Luminal Grouped)',\n",
    "                   outdir=figure_outdir, title=True,\n",
    "                   palette=consts['palette_jco'])"
   ]
  },
  {
   "cell_type": "code",
   "execution_count": 32,
   "id": "5bd985c8",
   "metadata": {
    "scrolled": false
   },
   "outputs": [
    {
     "data": {
      "image/png": "[encoded data removed]",
      "text/plain": [
       "<Figure size 161.28x138.24 with 1 Axes>"
      ]
     },
     "metadata": {
      "needs_background": "light"
     },
     "output_type": "display_data"
    }
   ],
   "source": [
    "epi_util.saveCorrelationPlot(clinical['TCGA'], var_y='age', restrict=True,\n",
    "                           var_x='c_beta',\n",
    "                           outdir=figure_outdir, label='Patient age (years)',\n",
    "                           text_x=0.85, text_y=85,\n",
    "                           figsize=figsize * 0.8, labelfontsize=labelfontsize, ticksfontsize=ticksfontsize, sf=sf, s=1,\n",
    "                           color=consts['palette_jco'][0], line_kws={'linewidth':1 * sf}\n",
    "                          )"
   ]
  },
  {
   "cell_type": "code",
   "execution_count": 33,
   "id": "2c1ff969",
   "metadata": {},
   "outputs": [
    {
     "data": {
      "image/png": "[encoded data removed]",
      "text/plain": [
       "<Figure size 161.28x138.24 with 1 Axes>"
      ]
     },
     "metadata": {
      "needs_background": "light"
     },
     "output_type": "display_data"
    }
   ],
   "source": [
    "epi_util.saveCorrelationPlot(clinical['ringner'], var_y='size', restrict=True,\n",
    "                           var_x='c_beta',\n",
    "                           outdir=figure_outdir, label='Size (mm)',\n",
    "                           text_x=0.85, text_y=85,\n",
    "                           figsize=figsize * 0.8, labelfontsize=labelfontsize, ticksfontsize=ticksfontsize, sf=sf, s=1,\n",
    "                           color=consts['palette_jco'][0], line_kws={'linewidth':1 * sf}\n",
    "                          )"
   ]
  },
  {
   "cell_type": "code",
   "execution_count": 34,
   "id": "bef4bd0b",
   "metadata": {},
   "outputs": [
    {
     "data": {
      "image/png": "[encoded data removed]",
      "text/plain": [
       "<Figure size 161.28x138.24 with 1 Axes>"
      ]
     },
     "metadata": {
      "needs_background": "light"
     },
     "output_type": "display_data"
    }
   ],
   "source": [
    "epi_util.saveCorrelationPlot(clinical['ringner'], var_y='age', restrict=True,\n",
    "                           var_x='c_beta',\n",
    "                           outdir=figure_outdir, label='Patient age (years)',\n",
    "                           text_x=0.83, text_y=75,\n",
    "                           figsize=figsize * 0.8, labelfontsize=labelfontsize, ticksfontsize=ticksfontsize, sf=sf, s=1,\n",
    "                           color=consts['palette_jco'][0], line_kws={'linewidth':1 * sf}\n",
    "                          )"
   ]
  },
  {
   "cell_type": "code",
   "execution_count": null,
   "id": "1726d301",
   "metadata": {},
   "outputs": [],
   "source": [
    "## Ignore\n",
    "\n",
    "##### NEW\n",
    "##### 3-25-24\n",
    "##### Investigating issue of difference in correlation values\n",
    "\n",
    "ncols = 4\n",
    "nrows = 2\n",
    "\n",
    "fig, axes = plt.subplots(nrows, ncols, figsize=(20, 2 + 5*nrows))\n",
    "fig.suptitle(f'TCGA - Gene Modules - Ductal and Pure Tumors', y=0.92, fontsize=20, fontweight='bold')\n",
    "fig.tight_layout(pad=5)\n",
    "\n",
    "plot_df = clinical['TCGA'].loc[clinical['TCGA']['in_analysis_dataset']]\n",
    "\n",
    "for i, module in enumerate(consts['gene_module_dict'].keys()):\n",
    "    row = int(i // ncols)\n",
    "    col = i % ncols\n",
    "    \n",
    "    ax = axes[row, col]\n",
    "    \n",
    "    ser1 = plot_df['c_beta']\n",
    "    ser2 = plot_df[module]\n",
    "    corr = epi_util.pearsonCorrelation(ser1, ser2)\n",
    "    sns.regplot(ax=ax, x=ser1, y=ser2)\n",
    "    ax.set_title(f'{module}\\nr = {corr.rvalue:.2f}, p = {corr.pvalue:.1e}')\n",
    "    ax.set_ylabel('log normalized expression')\n",
    "    ax.set_xlabel('c_beta')"
   ]
  },
  {
   "cell_type": "code",
   "execution_count": 35,
   "id": "c80ccede",
   "metadata": {
    "scrolled": false
   },
   "outputs": [
    {
     "data": {
      "image/png": "[encoded data removed]",
      "text/plain": [
       "<Figure size 161.28x138.24 with 1 Axes>"
      ]
     },
     "metadata": {
      "needs_background": "light"
     },
     "output_type": "display_data"
    }
   ],
   "source": [
    "epi_util.saveCorrelationPlot(clinical['TCGA'], var_y='FGA', restrict=True,\n",
    "                           var_x='c_beta',\n",
    "                           outdir=figure_outdir, label='FGA',\n",
    "                           text_x=0.85, text_y=0.5,\n",
    "                           figsize=figsize * 0.8, labelfontsize=labelfontsize, ticksfontsize=ticksfontsize, sf=sf, s=1,\n",
    "                           color=consts['palette_jco'][0], line_kws={'linewidth':1 * sf}\n",
    "                          )"
   ]
  },
  {
   "cell_type": "code",
   "execution_count": 36,
   "id": "f0a8ebe5",
   "metadata": {},
   "outputs": [
    {
     "data": {
      "image/png": "[encoded data removed]",
      "text/plain": [
       "<Figure size 161.28x138.24 with 1 Axes>"
      ]
     },
     "metadata": {
      "needs_background": "light"
     },
     "output_type": "display_data"
    }
   ],
   "source": [
    "epi_util.saveCorrelationPlot(clinical['ringner'], var_y='FGA', restrict=True,\n",
    "                           var_x='c_beta',\n",
    "                           outdir=figure_outdir, label='FGA',\n",
    "                           text_x=0.85, text_y=0.7,\n",
    "                           figsize=figsize * 0.8, labelfontsize=labelfontsize, ticksfontsize=ticksfontsize, sf=sf, s=1,\n",
    "                           color=consts['palette_jco'][0], line_kws={'linewidth':1 * sf}\n",
    "                          )"
   ]
  },
  {
   "cell_type": "code",
   "execution_count": 37,
   "id": "cdb026a2",
   "metadata": {},
   "outputs": [
    {
     "data": {
      "image/png": "[encoded data removed]",
      "text/plain": [
       "<Figure size 161.28x138.24 with 1 Axes>"
      ]
     },
     "metadata": {
      "needs_background": "light"
     },
     "output_type": "display_data"
    }
   ],
   "source": [
    "epi_util.saveCorrelationPlot(clinical['ringner'], var_y='Mitotic Checkpoint', restrict=True,\n",
    "                           var_x='c_beta',\n",
    "                           outdir=figure_outdir,\n",
    "                           text_x=0.85, text_y=2.2,\n",
    "                           figsize=figsize * 0.8, labelfontsize=labelfontsize, ticksfontsize=ticksfontsize, sf=sf, s=1,\n",
    "                           color=consts['palette_jco'][0], line_kws={'linewidth':1 * sf}\n",
    "                          )\n"
   ]
  },
  {
   "cell_type": "code",
   "execution_count": 38,
   "id": "e4e48282",
   "metadata": {},
   "outputs": [
    {
     "data": {
      "image/png": "[encoded data removed]",
      "text/plain": [
       "<Figure size 161.28x138.24 with 1 Axes>"
      ]
     },
     "metadata": {
      "needs_background": "light"
     },
     "output_type": "display_data"
    }
   ],
   "source": [
    "epi_util.saveCorrelationPlot(clinical['TCGA'], var_y='Mitotic Checkpoint', restrict=True,\n",
    "                           var_x='c_beta',\n",
    "                           outdir=figure_outdir,\n",
    "                           text_x=0.85, text_y=2.1,\n",
    "                           figsize=figsize * 0.8, labelfontsize=labelfontsize, ticksfontsize=ticksfontsize, sf=sf, s=1,\n",
    "                           color=consts['palette_jco'][0], line_kws={'linewidth':1 * sf}\n",
    "                          )"
   ]
  },
  {
   "cell_type": "code",
   "execution_count": 39,
   "id": "167a3cac",
   "metadata": {},
   "outputs": [
    {
     "data": {
      "image/png": "[encoded data removed]",
      "text/plain": [
       "<Figure size 161.28x138.24 with 1 Axes>"
      ]
     },
     "metadata": {
      "needs_background": "light"
     },
     "output_type": "display_data"
    }
   ],
   "source": [
    "epi_util.saveCorrelationPlot(clinical['ringner'], var_y='spfPercent', restrict=True,\n",
    "                           var_x='c_beta',\n",
    "                           label='spfPercent',\n",
    "                           outdir=figure_outdir,\n",
    "                           text_x=0.85, text_y=26,\n",
    "                           figsize=figsize * 0.8, labelfontsize=labelfontsize, ticksfontsize=ticksfontsize, sf=sf, s=1,\n",
    "                           color=consts['palette_jco'][0], line_kws={'linewidth':1 * sf}\n",
    "                          )"
   ]
  },
  {
   "cell_type": "code",
   "execution_count": 41,
   "id": "6558c0aa",
   "metadata": {},
   "outputs": [
    {
     "data": {
      "image/png": "[encoded data removed]",
      "text/plain": [
       "<Figure size 161.28x138.24 with 1 Axes>"
      ]
     },
     "metadata": {
      "needs_background": "light"
     },
     "output_type": "display_data"
    }
   ],
   "source": [
    "epi_util.saveCorrelationPlot(clinical['TCGA'], var_y='MCM', restrict=True,\n",
    "                           var_x='c_beta',\n",
    "                           outdir=figure_outdir,\n",
    "                           text_x=0.86, text_y=1.8, label='MCM Expression',\n",
    "                           figsize=figsize * 0.8, labelfontsize=labelfontsize, ticksfontsize=ticksfontsize, sf=sf, s=1,\n",
    "                           color=consts['palette_jco'][0], line_kws={'linewidth':1 * sf}\n",
    "                          )"
   ]
  },
  {
   "cell_type": "code",
   "execution_count": 42,
   "id": "b61a2ace",
   "metadata": {},
   "outputs": [
    {
     "data": {
      "image/png": "[encoded data removed]",
      "text/plain": [
       "<Figure size 161.28x138.24 with 1 Axes>"
      ]
     },
     "metadata": {
      "needs_background": "light"
     },
     "output_type": "display_data"
    }
   ],
   "source": [
    "epi_util.saveCorrelationPlot(clinical['TCGA'], var_y='MKI67', restrict=True,\n",
    "                           var_x='c_beta',\n",
    "                           outdir=figure_outdir,\n",
    "                           text_x=0.865, text_y=2.2, label='MKI67 Expression',\n",
    "                           figsize=figsize * 0.8, labelfontsize=labelfontsize, ticksfontsize=ticksfontsize, sf=sf, s=1,\n",
    "                           color=consts['palette_jco'][0], line_kws={'linewidth':1 * sf}\n",
    "                          )"
   ]
  },
  {
   "cell_type": "code",
   "execution_count": 43,
   "id": "d17dc39e",
   "metadata": {},
   "outputs": [
    {
     "name": "stdout",
     "output_type": "stream",
     "text": [
      "0\n",
      "5000\n",
      "10000\n",
      "15000\n",
      "20000\n",
      "25000\n",
      "30000\n",
      "35000\n",
      "40000\n",
      "45000\n",
      "50000\n",
      "55000\n",
      "60000\n"
     ]
    }
   ],
   "source": [
    "gene_list = markers_transformed_df.index.values # list of genes to search\n",
    "use_samples = clinical['TCGA'].index[clinical['TCGA']['in_analysis_dataset']] # list of samples to use - make sure these are only pure ductal samples\n",
    "\n",
    "c_beta_use_samples = clinical['TCGA'].loc[use_samples, 'c_beta']\n",
    "markers_transformed_df_use_samples = markers_transformed_df[use_samples]\n",
    "\n",
    "rvalue_list = []\n",
    "for i in range(len(gene_list)):\n",
    "    if i % 5000 == 0:\n",
    "        print(i)\n",
    "    #\n",
    "#     res = linregress(c_beta_use_samples, markers_vals_use_samples.loc[gene_list[i]])\n",
    "    \n",
    "    res = epi_util.pearsonCorrelation(c_beta_use_samples, markers_transformed_df_use_samples.loc[gene_list[i]])\n",
    "    rvalue_list.append(res.rvalue)\n",
    "\n",
    "rvalue_ser = pd.Series(index=gene_list, data=rvalue_list).sort_values()"
   ]
  },
  {
   "cell_type": "code",
   "execution_count": 44,
   "id": "32051957",
   "metadata": {},
   "outputs": [],
   "source": [
    "rvalue_ser = pd.Series(index=gene_list, data=rvalue_list)"
   ]
  },
  {
   "cell_type": "code",
   "execution_count": 45,
   "id": "e203e6d7",
   "metadata": {},
   "outputs": [],
   "source": [
    "genenames_proteincoding = pd.read_table(os.path.join(consts['official_indir'], 'misc', 'genenames.proteincoding.txt'),\n",
    "                                       low_memory=False, usecols=['symbol']).squeeze('columns').values"
   ]
  },
  {
   "cell_type": "code",
   "execution_count": 47,
   "id": "bfce6475",
   "metadata": {
    "scrolled": false
   },
   "outputs": [
    {
     "data": {
      "image/png": "[encoded data removed]",
      "text/plain": [
       "<Figure size 403.2x172.8 with 1 Axes>"
      ]
     },
     "metadata": {
      "needs_background": "light"
     },
     "output_type": "display_data"
    }
   ],
   "source": [
    "fig, ax = plt.subplots(1, 1, figsize=figsize * [2, 1] * sf)\n",
    "fig.tight_layout(pad=1)\n",
    "\n",
    "plot_data = rvalue_ser[gene_name.isin(genenames_proteincoding)]\n",
    "sns.histplot(ax=ax, x=plot_data,\n",
    "             color=consts['palette_jco'][0])\n",
    "MKI67_corr = rvalue_ser.loc[gene_name.index[gene_name == 'MKI67']].values\n",
    "MCM2_corr = rvalue_ser.loc[gene_name.index[gene_name == 'MCM2']].values\n",
    "\n",
    "assert len(MKI67_corr) == 1\n",
    "assert len(MCM2_corr) == 1\n",
    "ax.axvline(x=MKI67_corr[0], color=consts['palette_jco'][1], lw=2.5 * sf)\n",
    "ax.axvline(x=MCM2_corr[0], color=consts['palette_jco'][2], lw=2.5 * sf)\n",
    "\n",
    "ax.text(MKI67_corr[0]*1.05, ax.get_ylim()[1]*3/4, 'MKI67',\n",
    "                        ha=\"right\", fontfamily='sans-serif', fontsize=labelfontsize * 0.8 * sf, color=consts['palette_jco'][1]\n",
    "                       )\n",
    "ax.text(MCM2_corr[0]*0.95, ax.get_ylim()[1]*3/4, 'MCM2',\n",
    "                        ha=\"left\", fontfamily='sans-serif', fontsize=labelfontsize * 0.8 * sf, color=consts['palette_jco'][2]\n",
    "                       )\n",
    "ax.set_ylabel('Count', fontsize=labelfontsize * sf)\n",
    "ax.set_xlabel(f'Pearson correlation between $c_β$ and expression level of gene (n = {len(plot_data)})', fontsize=labelfontsize * sf)\n",
    "ax.set_title(f'TCGA', fontsize=labelfontsize * sf)\n",
    "ax.tick_params(axis='both', labelsize=ticksfontsize * sf, width=sf, length=8 * sf)\n",
    "\n",
    "fig.savefig(os.path.join(figure_outdir, 'all_gene_correlations.pdf'), format='pdf', pad_inches=0.1)"
   ]
  }
 ],
 "metadata": {
  "kernelspec": {
   "display_name": "Python 3 (ipykernel)",
   "language": "python",
   "name": "python3"
  },
  "language_info": {
   "codemirror_mode": {
    "name": "ipython",
    "version": 3
   },
   "file_extension": ".py",
   "mimetype": "text/x-python",
   "name": "python",
   "nbconvert_exporter": "python",
   "pygments_lexer": "ipython3",
   "version": "3.9.19"
  }
 },
 "nbformat": 4,
 "nbformat_minor": 5
}
