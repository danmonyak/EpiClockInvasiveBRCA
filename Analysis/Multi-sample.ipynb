{
 "cells": [
  {
   "cell_type": "code",
   "execution_count": 1,
   "id": "c2c798c4",
   "metadata": {},
   "outputs": [],
   "source": [
    "import pandas as pd\n",
    "import numpy as np\n",
    "import os\n",
    "import sys\n",
    "import seaborn as sns\n",
    "from matplotlib import colormaps\n",
    "import matplotlib.pyplot as plt\n",
    "import EpiClockInvasiveBRCA.src.util as epi_util\n",
    "from MolecularClocks.src.invasiveCpGs_consts import getConsts\n",
    "\n",
    "consts = getConsts()"
   ]
  },
  {
   "cell_type": "code",
   "execution_count": 2,
   "id": "662a0dce",
   "metadata": {},
   "outputs": [],
   "source": [
    "beta_values = {}\n",
    "sample_map = {}\n",
    "patients_bothSamplesPure = {}\n",
    "samples_from_purePairs = {}\n",
    "figure_outdir = os.path.join('figures', 'multi-sample')\n",
    "if not os.path.exists(figure_outdir):\n",
    "    os.mkdir(figure_outdir)"
   ]
  },
  {
   "cell_type": "code",
   "execution_count": 3,
   "id": "428d0543",
   "metadata": {},
   "outputs": [],
   "source": [
    "# Figure parameters\n",
    "\n",
    "# scale factor\n",
    "sf = 0.4\n",
    "\n",
    "square_figsize = np.array([5, 4])\n",
    "figsize = np.array([9, 7])\n",
    "labelfontsize = 25\n",
    "ticksfontsize = 18\n",
    "opacity = 0.8\n",
    "\n",
    "sns.set(rc={\"savefig.bbox\":'tight', 'axes.linewidth':sf}, font_scale=1, style='ticks')"
   ]
  },
  {
   "cell_type": "markdown",
   "id": "42a7bb9e",
   "metadata": {},
   "source": [
    "## Primary-metastasis samples"
   ]
  },
  {
   "cell_type": "code",
   "execution_count": 4,
   "id": "f9665115",
   "metadata": {},
   "outputs": [],
   "source": [
    "proj_dir = os.path.join(consts['official_indir'], 'Reyngold')\n",
    "\n",
    "sample_map['Reyngold'] = pd.read_table(os.path.join(proj_dir, 'sample_map.txt'), index_col=0)\n",
    "patients_bothSamplesPure['Reyngold'] = np.loadtxt(os.path.join(proj_dir, 'patients_bothSamplesPure.txt'), dtype=str)\n",
    "beta_values['Reyngold'] = pd.read_table(os.path.join(proj_dir, 'beta_values_balanced_CpGs_pureSamples.txt'), index_col=0)\n",
    "samples_from_purePairs['Reyngold'] = sample_map['Reyngold'].index[sample_map['Reyngold']['unique patient id'].isin(patients_bothSamplesPure['Reyngold'])].values"
   ]
  },
  {
   "cell_type": "code",
   "execution_count": 5,
   "id": "1bb55722",
   "metadata": {},
   "outputs": [],
   "source": [
    "correlation_df = pd.DataFrame(index=samples_from_purePairs['Reyngold'], columns=samples_from_purePairs['Reyngold'], data=float('nan'))\n",
    "n_GSMs = correlation_df.shape[0]\n",
    "\n",
    "for i in range(n_GSMs):\n",
    "    GSM_i = samples_from_purePairs['Reyngold'][i]\n",
    "    correlation_df.loc[GSM_i, GSM_i] = 1\n",
    "    for j in range(i+1, n_GSMs):\n",
    "        GSM_j = samples_from_purePairs['Reyngold'][j]\n",
    "        ser_i = beta_values['Reyngold'][GSM_i]\n",
    "        ser_j = beta_values['Reyngold'][GSM_j]\n",
    "        res, n_used = epi_util.pearsonCorrelation(ser_i, ser_j, get_n_used=True)\n",
    "        if n_used >= 10:\n",
    "            correlation_df.loc[GSM_i, GSM_j] = res.rvalue\n",
    "            correlation_df.loc[GSM_j, GSM_i] = res.rvalue"
   ]
  },
  {
   "cell_type": "code",
   "execution_count": 6,
   "id": "2aa86b62",
   "metadata": {},
   "outputs": [],
   "source": [
    "sample_map_copy = sample_map['Reyngold'][['unique patient id', 'sample type']].copy()\n",
    "sample_map_copy['sample type'] = sample_map_copy['sample type'].map({'primary tumor':'Tum', 'lymph node metastasis':'Met'})\n",
    "GSM_to_heatmap_label_mapper = sample_map_copy.loc[samples_from_purePairs['Reyngold']].apply(lambda x:': '.join(x), axis=1)\n",
    "correlation_df = correlation_df.rename(columns=GSM_to_heatmap_label_mapper).rename(index=GSM_to_heatmap_label_mapper)"
   ]
  },
  {
   "cell_type": "code",
   "execution_count": 7,
   "id": "1669474e",
   "metadata": {},
   "outputs": [
    {
     "data": {
      "image/png": "[encoded data removed]",
      "text/plain": [
       "<Figure size 345.6x276.48 with 2 Axes>"
      ]
     },
     "metadata": {
      "needs_background": "light"
     },
     "output_type": "display_data"
    }
   ],
   "source": [
    "fig, ax = plt.subplots(1, 1, figsize=square_figsize * 2.4 * sf)\n",
    "\n",
    "cmap = colormaps['RdBu'].reversed()\n",
    "cmap.set_bad('lightgray', 1.)\n",
    "sns.heatmap(ax=ax, data=correlation_df, cmap=cmap, cbar_kws={'label':'Pearson R'})\n",
    "cbar_ax = ax.figure.axes[-1]\n",
    "cbar_ax.yaxis.label.set_size(labelfontsize * sf)\n",
    "cbar_ax.tick_params(labelsize=ticksfontsize * sf, width=sf, length=8 * sf)\n",
    "\n",
    "cbar_ax.set_ylabel(cbar_ax.get_ylabel(), rotation=0)\n",
    "cbar_ax.yaxis.set_label_coords(0.4, 1.07)\n",
    "\n",
    "# ax.set_title('Cohort T4 Intrapatient Methylation Correlation of Primary Tumors and Metastases', fontsize=labelfontsize * sf)\n",
    "ax.set_xlabel('Patient:Site', fontsize=labelfontsize * sf)\n",
    "ax.xaxis.set_label_coords(0.5, -0.14)\n",
    "ax.tick_params(axis='both', labelsize=ticksfontsize * 0.6 * sf, width=sf, length=8 * sf)\n",
    "ticks = np.sort(np.concatenate([ax.get_xticks(), ax.get_xticks() + 1]))\n",
    "ax.set_xticks(ticks, correlation_df.index)\n",
    "ax.set_yticks(ticks, correlation_df.index)\n",
    "\n",
    "fig.savefig(os.path.join(figure_outdir, 'prim-met_heatmap.pdf'), format='pdf', pad_inches=0.1)"
   ]
  },
  {
   "cell_type": "code",
   "execution_count": 8,
   "id": "260c4f17",
   "metadata": {},
   "outputs": [],
   "source": [
    "c_beta = 1 - beta_values['Reyngold'].std(axis=0)\n",
    "c_beta_table_by_patient = sample_map['Reyngold'].reset_index().pivot(index='unique patient id', columns='sample type', values='index')\n",
    "c_beta_table_by_patient['lymph node metastasis'] = c_beta_table_by_patient['lymph node metastasis'].map(c_beta)\n",
    "c_beta_table_by_patient['primary tumor'] = c_beta_table_by_patient['primary tumor'].map(c_beta)"
   ]
  },
  {
   "cell_type": "code",
   "execution_count": 9,
   "id": "9f8c2977",
   "metadata": {},
   "outputs": [
    {
     "data": {
      "image/png": "[encoded data removed]",
      "text/plain": [
       "<Figure size 230.4x184.32 with 1 Axes>"
      ]
     },
     "metadata": {
      "needs_background": "light"
     },
     "output_type": "display_data"
    }
   ],
   "source": [
    "c_beta_table_by_patient = c_beta_table_by_patient.loc[patients_bothSamplesPure['Reyngold']]\n",
    "outfile_name = 'prim-met_age_comparison.pdf'\n",
    "\n",
    "\n",
    "fig, ax = plt.subplots(figsize=square_figsize * 1.6 * sf)\n",
    "\n",
    "pts_range = (c_beta_table_by_patient.min().min()*0.95, c_beta_table_by_patient.max().max()*1.05)\n",
    "pts_arr = np.linspace(pts_range[0], pts_range[1], 100)\n",
    "\n",
    "sns.scatterplot(ax=ax, data=c_beta_table_by_patient, x='primary tumor', y='lymph node metastasis', color='dimgray',\n",
    "               s=50 * sf**2)\n",
    "\n",
    "ax.set_xlim(pts_range[0], pts_range[1])\n",
    "ax.set_ylim(pts_range[0], pts_range[1])\n",
    "\n",
    "ax.fill_between(pts_range, pts_range, 1, alpha=0.3, color='blue', lw=0)\n",
    "ax.fill_between(pts_range, 0, pts_range, alpha=0.3, color='red', lw=0)\n",
    "\n",
    "ax.set_xlabel(ax.get_xlabel().capitalize() + ' $c_β$', fontsize=labelfontsize * sf)\n",
    "ax.set_ylabel(ax.get_ylabel().capitalize() + ' $c_β$', fontsize=labelfontsize * sf)\n",
    "ax.tick_params(axis='both', labelsize=ticksfontsize * sf, width=sf, length=8 * sf)\n",
    "\n",
    "ax.text(pts_range[0]*1.03, pts_range[1]*0.96, 'Metastasis older',\n",
    "        ha=\"left\", va=\"bottom\", fontfamily='sans-serif', color='darkblue',\n",
    "        fontsize=labelfontsize * 0.8 * sf)\n",
    "ax.text(pts_range[1]*0.96, pts_range[0]*1.03, 'Primary older',\n",
    "        ha=\"right\", va=\"bottom\", fontfamily='sans-serif', color='darkred',\n",
    "        fontsize=labelfontsize * 0.8 * sf)\n",
    "\n",
    "plt.savefig(os.path.join(figure_outdir, outfile_name), format='pdf', pad_inches=0.1)"
   ]
  },
  {
   "cell_type": "markdown",
   "id": "788e4314",
   "metadata": {},
   "source": [
    "## Bifocal tumor samples"
   ]
  },
  {
   "cell_type": "code",
   "execution_count": 10,
   "id": "eacdd814",
   "metadata": {},
   "outputs": [],
   "source": [
    "proj_dir = os.path.join(consts['official_indir'], 'Desmedt')\n",
    "\n",
    "sample_map['Desmedt'] = pd.read_table(os.path.join(proj_dir, 'sample_annotations_clean.txt'), index_col=0, dtype=str)\n",
    "patients_bothSamplesPure['Desmedt'] = np.loadtxt(os.path.join(proj_dir, 'patients_bothSamplesPure.txt'), dtype=str)\n",
    "beta_values['Desmedt'] = pd.read_table(os.path.join(proj_dir, 'beta_values_balanced_CpGs_pureSamples.txt'), index_col=0)\n",
    "samples_from_purePairs['Desmedt'] = sample_map['Desmedt'].index[sample_map['Desmedt']['patient'].isin(patients_bothSamplesPure['Desmedt'])].values"
   ]
  },
  {
   "cell_type": "code",
   "execution_count": 11,
   "id": "6acc54fc",
   "metadata": {},
   "outputs": [],
   "source": [
    "correlation_df = pd.DataFrame(index=samples_from_purePairs['Desmedt'], columns=samples_from_purePairs['Desmedt'], data=float('nan'))\n",
    "n_GSMs = correlation_df.shape[0]\n",
    "\n",
    "for i in range(n_GSMs):\n",
    "    GSM_i = samples_from_purePairs['Desmedt'][i]\n",
    "    correlation_df.loc[GSM_i, GSM_i] = 1\n",
    "    for j in range(i+1, n_GSMs):\n",
    "        GSM_j = samples_from_purePairs['Desmedt'][j]\n",
    "        ser_i = beta_values['Desmedt'][GSM_i]\n",
    "        ser_j = beta_values['Desmedt'][GSM_j]\n",
    "        res, n_used = epi_util.pearsonCorrelation(ser_i, ser_j, get_n_used=True)\n",
    "        if n_used >= 10:\n",
    "            correlation_df.loc[GSM_i, GSM_j] = res.rvalue\n",
    "            correlation_df.loc[GSM_j, GSM_i] = res.rvalue"
   ]
  },
  {
   "cell_type": "code",
   "execution_count": 12,
   "id": "4078a2c1",
   "metadata": {},
   "outputs": [],
   "source": [
    "GSM_to_heatmap_label_mapper = sample_map['Desmedt'].loc[samples_from_purePairs['Desmedt'], ['patient', 'foci']].apply(lambda x:':'.join(x), axis=1)\n",
    "correlation_df = correlation_df.rename(columns=GSM_to_heatmap_label_mapper).rename(index=GSM_to_heatmap_label_mapper)"
   ]
  },
  {
   "cell_type": "code",
   "execution_count": 13,
   "id": "3269b36a",
   "metadata": {},
   "outputs": [
    {
     "data": {
      "image/png": "[encoded data removed]",
      "text/plain": [
       "<Figure size 244.8x195.84 with 2 Axes>"
      ]
     },
     "metadata": {
      "needs_background": "light"
     },
     "output_type": "display_data"
    }
   ],
   "source": [
    "fig, ax = plt.subplots(1, 1, figsize=square_figsize * 1.7 * sf)\n",
    "\n",
    "cmap = colormaps['RdBu'].reversed()\n",
    "cmap.set_bad('lightgray', 1.)\n",
    "sns.heatmap(ax=ax, data=correlation_df, cmap=cmap, cbar_kws={'label':'Pearson R'})\n",
    "cbar_ax = ax.figure.axes[-1]\n",
    "cbar_ax.yaxis.label.set_size(labelfontsize * sf)\n",
    "cbar_ax.tick_params(labelsize=ticksfontsize * sf, width=sf, length=8 * sf)\n",
    "\n",
    "cbar_ax.set_ylabel(cbar_ax.get_ylabel(), rotation=0)\n",
    "cbar_ax.yaxis.set_label_coords(0.4, 1.09)\n",
    "\n",
    "# ax.set_title('Cohort T3 Intrapatient Methylation Correlation', fontsize=20)\n",
    "ax.set_xlabel('Patient:Focus', fontsize=labelfontsize * sf)\n",
    "ax.xaxis.set_label_coords(0.5, -0.14)\n",
    "\n",
    "ax.tick_params(axis='both', labelsize=ticksfontsize * 0.8 * sf, width=sf, length=8 * sf)\n",
    "ticks = np.sort(np.concatenate([ax.get_xticks(), ax.get_xticks() + 1]))\n",
    "ax.set_xticks(ticks, correlation_df.index)\n",
    "ax.set_yticks(ticks, correlation_df.index)\n",
    "\n",
    "fig.savefig(os.path.join(figure_outdir, 'bifocal_heatmap.pdf'), format='pdf', pad_inches=0.1)"
   ]
  },
  {
   "cell_type": "code",
   "execution_count": 14,
   "id": "a89934a3",
   "metadata": {},
   "outputs": [],
   "source": [
    "c_beta = 1 - beta_values['Desmedt'].std(axis=0)\n",
    "c_beta_table_by_patient = sample_map['Desmedt'].reset_index().pivot(index='patient', columns='foci', values='index')\n",
    "c_beta_table_by_patient['1'] = c_beta_table_by_patient['1'].map(c_beta)\n",
    "c_beta_table_by_patient['2'] = c_beta_table_by_patient['2'].map(c_beta)"
   ]
  },
  {
   "cell_type": "code",
   "execution_count": 15,
   "id": "d2d69694",
   "metadata": {},
   "outputs": [
    {
     "data": {
      "image/png": "[encoded data removed]",
      "text/plain": [
       "<Figure size 259.2x201.6 with 1 Axes>"
      ]
     },
     "metadata": {
      "needs_background": "light"
     },
     "output_type": "display_data"
    }
   ],
   "source": [
    "# change x and y lim to be square\n",
    "\n",
    "outfile_name = 'bifocal_age_comparison.pdf'\n",
    "\n",
    "fig, ax = plt.subplots(figsize=figsize * sf)\n",
    "\n",
    "pts_range = (c_beta_table_by_patient.min().min()*0.95, c_beta_table_by_patient.max().max()*1.05)\n",
    "pts_arr = np.linspace(pts_range[0], pts_range[1], 100)\n",
    "# pts_arr = np.linspace(0, 1, 100)\n",
    "\n",
    "sns.scatterplot(ax=ax, data=c_beta_table_by_patient, x='1', y='2', color='dimgray', s=50 * sf**2)\n",
    "\n",
    "ax.set_xlabel('Focus 1 $c_β$', fontsize=labelfontsize * sf)\n",
    "ax.set_ylabel('Focus 2 $c_β$', fontsize=labelfontsize * sf)\n",
    "ax.tick_params(axis='both', labelsize=ticksfontsize * sf, width=sf, length=8 * sf)\n",
    "\n",
    "ax.set_xlim(pts_range[0], pts_range[1])\n",
    "ax.set_ylim(pts_range[0], pts_range[1])\n",
    "\n",
    "ax.plot(pts_arr[4:-4], pts_arr[4:-4], color=\"grey\", linestyle='solid', linewidth=1.0 * sf)\n",
    "\n",
    "plt.savefig(os.path.join(figure_outdir, outfile_name), format='pdf')"
   ]
  }
 ],
 "metadata": {
  "kernelspec": {
   "display_name": "Python 3 (ipykernel)",
   "language": "python",
   "name": "python3"
  },
  "language_info": {
   "codemirror_mode": {
    "name": "ipython",
    "version": 3
   },
   "file_extension": ".py",
   "mimetype": "text/x-python",
   "name": "python",
   "nbconvert_exporter": "python",
   "pygments_lexer": "ipython3",
   "version": "3.9.19"
  }
 },
 "nbformat": 4,
 "nbformat_minor": 5
}
