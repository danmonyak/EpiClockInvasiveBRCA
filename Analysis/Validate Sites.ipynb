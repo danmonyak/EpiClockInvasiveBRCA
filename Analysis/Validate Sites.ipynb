{
 "cells": [
  {
   "cell_type": "code",
   "execution_count": 1,
   "id": "5662040d",
   "metadata": {},
   "outputs": [],
   "source": [
    "import pandas as pd\n",
    "import numpy as np\n",
    "import os\n",
    "import sys\n",
    "import seaborn as sns\n",
    "import matplotlib.pyplot as plt\n",
    "import matplotlib.patches as mpatches\n",
    "import MolecularClocks.src.methylation_util as m_util\n",
    "from MolecularClocks.src.invasiveCpGs_consts import getConsts\n",
    "\n",
    "consts = getConsts()"
   ]
  },
  {
   "cell_type": "code",
   "execution_count": 2,
   "id": "45e66faf",
   "metadata": {},
   "outputs": [],
   "source": [
    "proj_dir = os.path.join(consts['official_indir'], 'Ringner')\n",
    "beta_values = pd.read_table(os.path.join(proj_dir, 'GSE75067_betaValues.txt'), index_col=0)"
   ]
  },
  {
   "cell_type": "code",
   "execution_count": 3,
   "id": "c07fe5fb",
   "metadata": {},
   "outputs": [],
   "source": [
    "dataset = 'ringner'\n",
    "proj_dir = os.path.join(consts['indir'], dataset)\n",
    "image_outdir = 'figures'"
   ]
  },
  {
   "cell_type": "code",
   "execution_count": 4,
   "id": "3761f0e9",
   "metadata": {},
   "outputs": [],
   "source": [
    "LUMP_purity = m_util.getLUMP_values(beta_values)\n",
    "pureSamples = LUMP_purity.index[LUMP_purity > consts['lump_threshold'](dataset)].values\n",
    "beta_values_PURE = beta_values[pureSamples]\n",
    "\n",
    "CpG_list_outdir = os.path.join(consts['indir'], 'CpG_lists')\n",
    "balanced_CpGs = np.loadtxt(os.path.join(consts['repo_dir'], 'Select_fCpGs', 'outputs', 'balanced_CpGs.txt'), dtype=str)\n",
    "CpG_stdev_means = beta_values_PURE.std(axis=1)"
   ]
  },
  {
   "cell_type": "code",
   "execution_count": 9,
   "id": "7eee83b1",
   "metadata": {},
   "outputs": [
    {
     "ename": "NameError",
     "evalue": "name 'CpG_stdev_means' is not defined",
     "output_type": "error",
     "traceback": [
      "\u001b[0;31m---------------------------------------------------------------------------\u001b[0m",
      "\u001b[0;31mNameError\u001b[0m                                 Traceback (most recent call last)",
      "\u001b[0;32m/var/folders/m9/kv2y3r0s0p1_cl3s3py1wprh0000gn/T/ipykernel_45253/1815491221.py\u001b[0m in \u001b[0;36m<module>\u001b[0;34m\u001b[0m\n\u001b[1;32m      1\u001b[0m \u001b[0mfig\u001b[0m\u001b[0;34m,\u001b[0m \u001b[0max\u001b[0m \u001b[0;34m=\u001b[0m \u001b[0mplt\u001b[0m\u001b[0;34m.\u001b[0m\u001b[0msubplots\u001b[0m\u001b[0;34m(\u001b[0m\u001b[0;36m1\u001b[0m\u001b[0;34m,\u001b[0m \u001b[0;36m1\u001b[0m\u001b[0;34m,\u001b[0m \u001b[0mfigsize\u001b[0m\u001b[0;34m=\u001b[0m\u001b[0;34m(\u001b[0m\u001b[0;36m8\u001b[0m\u001b[0;34m,\u001b[0m \u001b[0;36m6\u001b[0m\u001b[0;34m)\u001b[0m\u001b[0;34m)\u001b[0m\u001b[0;34m\u001b[0m\u001b[0;34m\u001b[0m\u001b[0m\n\u001b[1;32m      2\u001b[0m \u001b[0;34m\u001b[0m\u001b[0m\n\u001b[0;32m----> 3\u001b[0;31m \u001b[0mplot_data\u001b[0m \u001b[0;34m=\u001b[0m \u001b[0mpd\u001b[0m\u001b[0;34m.\u001b[0m\u001b[0mDataFrame\u001b[0m\u001b[0;34m(\u001b[0m\u001b[0;34m{\u001b[0m\u001b[0;34m'CpG Stdev'\u001b[0m\u001b[0;34m:\u001b[0m\u001b[0mCpG_stdev_means\u001b[0m\u001b[0;34m,\u001b[0m \u001b[0;34m'Balanced Set'\u001b[0m\u001b[0;34m:\u001b[0m\u001b[0mCpG_stdev_means\u001b[0m\u001b[0;34m.\u001b[0m\u001b[0mindex\u001b[0m\u001b[0;34m.\u001b[0m\u001b[0misin\u001b[0m\u001b[0;34m(\u001b[0m\u001b[0mbalanced_CpGs\u001b[0m\u001b[0;34m)\u001b[0m\u001b[0;34m}\u001b[0m\u001b[0;34m)\u001b[0m\u001b[0;34m\u001b[0m\u001b[0;34m\u001b[0m\u001b[0m\n\u001b[0m\u001b[1;32m      4\u001b[0m \u001b[0;34m\u001b[0m\u001b[0m\n\u001b[1;32m      5\u001b[0m \u001b[0mplot_data\u001b[0m\u001b[0;34m[\u001b[0m\u001b[0;34m'Balanced Set'\u001b[0m\u001b[0;34m]\u001b[0m \u001b[0;34m=\u001b[0m \u001b[0mplot_data\u001b[0m\u001b[0;34m[\u001b[0m\u001b[0;34m'Balanced Set'\u001b[0m\u001b[0;34m]\u001b[0m\u001b[0;34m.\u001b[0m\u001b[0mmap\u001b[0m\u001b[0;34m(\u001b[0m\u001b[0;34m{\u001b[0m\u001b[0;32mTrue\u001b[0m\u001b[0;34m:\u001b[0m\u001b[0;34m'Balanced CpGs'\u001b[0m\u001b[0;34m,\u001b[0m \u001b[0;32mFalse\u001b[0m\u001b[0;34m:\u001b[0m\u001b[0;34m'Not in Balanced CpGs'\u001b[0m\u001b[0;34m}\u001b[0m\u001b[0;34m)\u001b[0m\u001b[0;34m\u001b[0m\u001b[0;34m\u001b[0m\u001b[0m\n",
      "\u001b[0;31mNameError\u001b[0m: name 'CpG_stdev_means' is not defined"
     ]
    },
    {
     "data": {
      "image/png": "[encoded data removed]",
      "text/plain": [
       "<Figure size 576x432 with 1 Axes>"
      ]
     },
     "metadata": {
      "needs_background": "light"
     },
     "output_type": "display_data"
    }
   ],
   "source": [
    "fig, ax = plt.subplots(1, 1, figsize=(8, 6))\n",
    "\n",
    "plot_data = pd.DataFrame({'CpG Stdev':CpG_stdev_means, 'Balanced Set':CpG_stdev_means.index.isin(balanced_CpGs)})\n",
    "\n",
    "plot_data['Balanced Set'] = plot_data['Balanced Set'].map({True:'Balanced CpGs', False:'Not in Balanced CpGs'})\n",
    "plot_data = plot_data.rename(columns={'Balanced Set':'Type'})\n",
    "color_dict = {'Balanced CpGs':'lightcoral', 'Not in Balanced CpGs':'cornflowerblue'}\n",
    "\n",
    "# for type_var in color_dict.keys():\n",
    "#     mean = plot_data.loc[plot_data['Type'] == type_var, 'CpG Stdev'].mean()\n",
    "#     ax.axvline(mean, color=color_dict[type_var])\n",
    "\n",
    "plot = sns.histplot(ax=ax, data=plot_data, x='CpG Stdev', hue='Type', stat='proportion', common_norm=False, bins=100, palette=color_dict)\n",
    "ax.set_xlabel('Standard Deviation of β in Ringner Samples')\n",
    "#ax.set_xlim(right=0.2)\n",
    "fig.savefig(os.path.join(consts['indir'], 'evidence', 'selection', 'Ringner-balanced_CpGs-validation.pdf'), format='pdf', pad_inches=0.1)"
   ]
  },
  {
   "cell_type": "code",
   "execution_count": 35,
   "id": "62360ce9",
   "metadata": {},
   "outputs": [],
   "source": [
    "# scale factor\n",
    "sf = 0.4\n",
    "\n",
    "figsize = np.array([9, 7])\n",
    "labelfontsize = 25\n",
    "ticksfontsize = 18\n",
    "opacity = 0.8\n",
    "\n",
    "sns.set(rc={\"savefig.bbox\":'tight', 'axes.linewidth':sf}, font_scale=1, style='ticks')"
   ]
  },
  {
   "cell_type": "code",
   "execution_count": 37,
   "id": "3e67d7c7",
   "metadata": {},
   "outputs": [
    {
     "data": {
      "image/png": "[encoded data removed]",
      "text/plain": [
       "<Figure size 259.2x201.6 with 1 Axes>"
      ]
     },
     "metadata": {},
     "output_type": "display_data"
    }
   ],
   "source": [
    "fig, ax = plt.subplots(1, 1, figsize=figsize * sf)\n",
    "\n",
    "plot_data = pd.DataFrame({'CpG Stdev Means':CpG_stdev_means, 'Balanced Set':CpG_stdev_means.index.isin(balanced_CpGs)})\n",
    "\n",
    "n_balanced = balanced_CpGs.shape[0]\n",
    "n_not_balanced = CpG_stdev_means.shape[0] - n_balanced\n",
    "\n",
    "label_balanced = 'In $\\mathcal{C}$' + f' (n = {n_balanced})'\n",
    "label_not_balanced = 'Not in $\\mathcal{C}$' + f' (n = {n_not_balanced})'\n",
    "plot_data['Balanced Set'] = plot_data['Balanced Set'].map({True:label_balanced, False:label_not_balanced})\n",
    "plot_data = plot_data.rename(columns={'Balanced Set':'Type'})\n",
    "\n",
    "color_dict = {label_balanced:consts['palette_jco'][0],\n",
    "              label_not_balanced:consts['palette_jco'][2]}\n",
    "# for type_var in color_dict.keys():\n",
    "#     mean = plot_data.loc[plot_data['Type'] == type_var, 'CpG Stdev Means'].mean()\n",
    "#     ax.axvline(mean, color=color_dict[type_var])\n",
    "\n",
    "plot = sns.histplot(ax=ax, data=plot_data, x='CpG Stdev Means', hue='Type', stat='proportion', common_norm=False, bins=100, palette=color_dict,\n",
    "                   legend=False, alpha=opacity)\n",
    "\n",
    "ax.set_xlabel('Standard Deviation of β', fontsize=labelfontsize * sf)\n",
    "ax.set_ylabel(ax.get_ylabel(), fontsize=labelfontsize * sf)\n",
    "# ax.set_title(f'Lund Cohort (n = {beta_values_PURE.shape[1]})', fontsize=labelfontsize * sf)\n",
    "ax.tick_params(axis='both', labelsize=ticksfontsize * sf, width=sf, length=8 * sf)\n",
    "\n",
    "patches = [mpatches.Patch(color=color_dict[group], label=group) for group in color_dict.keys()]\n",
    "plots_x, plots_y = ax.get_position().get_points()[1]\n",
    "fig.legend(handles=patches,\n",
    "           loc='upper right',\n",
    "           bbox_to_anchor=(plots_x, plots_y + .005),\n",
    "           fontsize=0.8*labelfontsize * sf\n",
    "          )\n",
    "\n",
    "# ax.set_xlim(right=0.2)\n",
    "fig.savefig(os.path.join(image_outdir, 'Figure_2_C.pdf'), format='pdf', pad_inches=0.1)"
   ]
  }
 ],
 "metadata": {
  "kernelspec": {
   "display_name": "Python 3 (ipykernel)",
   "language": "python",
   "name": "python3"
  },
  "language_info": {
   "codemirror_mode": {
    "name": "ipython",
    "version": 3
   },
   "file_extension": ".py",
   "mimetype": "text/x-python",
   "name": "python",
   "nbconvert_exporter": "python",
   "pygments_lexer": "ipython3",
   "version": "3.9.19"
  }
 },
 "nbformat": 4,
 "nbformat_minor": 5
}
