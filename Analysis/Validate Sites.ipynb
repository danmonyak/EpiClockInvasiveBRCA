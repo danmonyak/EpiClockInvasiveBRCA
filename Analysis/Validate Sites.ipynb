{
 "cells": [
  {
   "cell_type": "code",
   "execution_count": 1,
   "id": "5662040d",
   "metadata": {},
   "outputs": [],
   "source": [
    "import pandas as pd\n",
    "import numpy as np\n",
    "import os\n",
    "import sys\n",
    "import seaborn as sns\n",
    "import matplotlib.pyplot as plt\n",
    "import matplotlib.patches as mpatches\n",
    "import EpiClockInvasiveBRCA.src.util as epi_util\n",
    "from EpiClockInvasiveBRCA.src.consts import consts\n",
    "\n",
    "consts = getConsts()"
   ]
  },
  {
   "cell_type": "code",
   "execution_count": 9,
   "id": "ed79e509",
   "metadata": {},
   "outputs": [],
   "source": [
    "beta_values = {}\n",
    "clinical = {}\n",
    "balanced_CpGs = np.loadtxt(os.path.join(consts['repo_dir'], 'Select_fCpGs', 'outputs', 'balanced_CpGs.txt'), dtype=str)\n",
    "figure_outdir = 'figures'"
   ]
  },
  {
   "cell_type": "code",
   "execution_count": 12,
   "id": "289120a9",
   "metadata": {},
   "outputs": [],
   "source": [
    "# Figure parameters\n",
    "\n",
    "# scale factor\n",
    "sf = 0.4\n",
    "\n",
    "figsize = np.array([9, 7])\n",
    "labelfontsize = 25\n",
    "ticksfontsize = 18\n",
    "opacity = 0.8\n",
    "\n",
    "sns.set(rc={\"savefig.bbox\":'tight', 'axes.linewidth':sf}, font_scale=1, style='ticks')"
   ]
  },
  {
   "cell_type": "markdown",
   "id": "1268f033",
   "metadata": {},
   "source": [
    "## Lund"
   ]
  },
  {
   "cell_type": "code",
   "execution_count": 10,
   "id": "6a15bb49",
   "metadata": {},
   "outputs": [],
   "source": [
    "Lund_clinical_dir = os.path.join(consts['official_indir'], 'Ringner')\n",
    "\n",
    "beta_values['Lund'] = pd.read_table(os.path.join(Lund_clinical_dir, 'GSE75067_betaValues.txt'), index_col=0)\n",
    "clinical_Lund = pd.read_table(os.path.join(Lund_clinical_dir, 'cohort.T2.clinical.txt'), index_col=0, dtype={'grade':str})\n",
    "useSamples = clinical_Lund.index[clinical_Lund['in_CpG_dataset']]\n",
    "beta_values['Lund'] = beta_values['Lund'][useSamples]"
   ]
  },
  {
   "cell_type": "code",
   "execution_count": 13,
   "id": "3e67d7c7",
   "metadata": {},
   "outputs": [
    {
     "name": "stdout",
     "output_type": "stream",
     "text": [
      "n = 146\n"
     ]
    },
    {
     "data": {
      "image/png": "[encoded data removed]",
      "text/plain": [
       "<Figure size 259.2x201.6 with 1 Axes>"
      ]
     },
     "metadata": {},
     "output_type": "display_data"
    }
   ],
   "source": [
    "fig, ax = plt.subplots(1, 1, figsize=figsize * sf)\n",
    "\n",
    "CpG_stdev_means = beta_values['Lund'].std(axis=1)\n",
    "plot_data = pd.DataFrame({'CpG Stdev Means':CpG_stdev_means, 'Balanced Set':CpG_stdev_means.index.isin(balanced_CpGs)})\n",
    "\n",
    "n_balanced = balanced_CpGs.shape[0]\n",
    "n_not_balanced = CpG_stdev_means.shape[0] - n_balanced\n",
    "\n",
    "label_balanced = 'In $\\mathcal{C}$' + f' (n = {n_balanced})'\n",
    "label_not_balanced = 'Not in $\\mathcal{C}$' + f' (n = {n_not_balanced})'\n",
    "plot_data['Balanced Set'] = plot_data['Balanced Set'].map({True:label_balanced, False:label_not_balanced})\n",
    "plot_data = plot_data.rename(columns={'Balanced Set':'Type'})\n",
    "\n",
    "color_dict = {label_balanced:consts['palette_jco'][0],\n",
    "              label_not_balanced:consts['palette_jco'][2]}\n",
    "\n",
    "sns.histplot(ax=ax, data=plot_data, x='CpG Stdev Means', hue='Type', stat='proportion', common_norm=False, bins=100,\n",
    "             palette=color_dict, legend=False, alpha=opacity)\n",
    "\n",
    "ax.set_xlabel('Standard Deviation of β', fontsize=labelfontsize * sf)\n",
    "ax.set_ylabel(ax.get_ylabel(), fontsize=labelfontsize * sf)\n",
    "ax.tick_params(axis='both', labelsize=ticksfontsize * sf, width=sf, length=8 * sf)\n",
    "\n",
    "patches = [mpatches.Patch(color=color_dict[group], label=group) for group in color_dict.keys()]\n",
    "plots_x, plots_y = ax.get_position().get_points()[1]\n",
    "fig.legend(handles=patches,\n",
    "           loc='upper right',\n",
    "           bbox_to_anchor=(plots_x, plots_y + .005),\n",
    "           fontsize=0.8*labelfontsize * sf\n",
    "          )\n",
    "\n",
    "\n",
    "fig.savefig(os.path.join(figure_outdir, 'Lund_Validate.pdf'), format='pdf', pad_inches=0.1)\n",
    "\n",
    "print(f'n = {len(useSamples)}')"
   ]
  },
  {
   "cell_type": "markdown",
   "id": "1a2356da",
   "metadata": {},
   "source": [
    "## Luo"
   ]
  },
  {
   "cell_type": "code",
   "execution_count": 15,
   "id": "f6a6d2a3",
   "metadata": {},
   "outputs": [],
   "source": [
    "Luo_clinical_dir = os.path.join(consts['official_indir'], 'Luo')\n",
    "\n",
    "beta_values['Luo'] = pd.read_table(os.path.join(Luo_clinical_dir, 'beta_values.txt'), index_col=0)\n",
    "sample_map_Luo = pd.read_csv(os.path.join(Luo_clinical_dir, 'sample_map_cleaned.txt'), sep='\\t')"
   ]
  },
  {
   "cell_type": "code",
   "execution_count": 17,
   "id": "36f6d7dc",
   "metadata": {},
   "outputs": [],
   "source": [
    "using_patients = ['B4', 'B5', 'B6', 'B7', 'B8']\n",
    "using_GSMs = sample_map_Luo.loc[sample_map_Luo['Patient'].isin(using_patients), 'GSM'].to_list()\n",
    "patient_GSM_lists = sample_map_Luo.groupby('Patient')['GSM'].agg(list)\n",
    "\n",
    "CpG_stdev_list = []\n",
    "\n",
    "for patient in using_patients:\n",
    "    beta_values_patient = beta_values['Luo'][patient_GSM_lists.loc[patient]]\n",
    "    CpG_stdev_list.append(beta_values_patient.std(axis=1).rename(patient))\n",
    "    \n",
    "CpG_stdevs = pd.concat(CpG_stdev_list, axis=1)\n",
    "CpG_stdev_means = CpG_stdevs.mean(axis=1)"
   ]
  },
  {
   "cell_type": "code",
   "execution_count": 18,
   "id": "3ac461b1",
   "metadata": {},
   "outputs": [
    {
     "data": {
      "image/png": "[encoded data removed]",
      "text/plain": [
       "<Figure size 259.2x201.6 with 1 Axes>"
      ]
     },
     "metadata": {},
     "output_type": "display_data"
    }
   ],
   "source": [
    "fig, ax = plt.subplots(1, 1, figsize=figsize * sf)\n",
    "\n",
    "plot_data = pd.DataFrame({'CpG Stdev Means':CpG_stdev_means, 'Balanced Set':CpG_stdev_means.index.isin(balanced_CpGs)})\n",
    "\n",
    "n_balanced = balanced_CpGs.shape[0]\n",
    "n_not_balanced = CpG_stdev_means.shape[0] - n_balanced\n",
    "\n",
    "label_balanced = 'In $\\mathcal{C}$' + f' (n = {n_balanced})'\n",
    "label_not_balanced = 'Not in $\\mathcal{C}$' + f' (n = {n_not_balanced})'\n",
    "plot_data['Balanced Set'] = plot_data['Balanced Set'].map({True:label_balanced, False:label_not_balanced})\n",
    "plot_data = plot_data.rename(columns={'Balanced Set':'Type'})\n",
    "\n",
    "color_dict = {label_balanced:consts['palette_jco'][0],\n",
    "              label_not_balanced:consts['palette_jco'][2]}\n",
    "\n",
    "sns.histplot(ax=ax, data=plot_data, x='CpG Stdev Means', hue='Type', stat='proportion', common_norm=False, bins=100, palette=color_dict,\n",
    "                   legend=False, alpha=opacity)\n",
    "\n",
    "ax.set_xlabel('Mean Intraindividual Standard Deviation of β', fontsize=labelfontsize * sf)\n",
    "ax.set_ylabel(ax.get_ylabel(), fontsize=labelfontsize * sf)\n",
    "ax.tick_params(axis='both', labelsize=ticksfontsize * sf, width=sf, length=8 * sf)\n",
    "\n",
    "patches = [mpatches.Patch(color=color_dict[group], label=group) for group in color_dict.keys()]\n",
    "plots_x, plots_y = ax.get_position().get_points()[1]\n",
    "fig.legend(handles=patches,\n",
    "           loc='upper right',\n",
    "           bbox_to_anchor=(plots_x, plots_y + .005),\n",
    "           fontsize=0.8*labelfontsize * sf\n",
    "          )\n",
    "\n",
    "fig.savefig(os.path.join(figure_outdir, 'Luo_Validate.pdf'), format='pdf', pad_inches=0.1)"
   ]
  }
 ],
 "metadata": {
  "kernelspec": {
   "display_name": "Python 3 (ipykernel)",
   "language": "python",
   "name": "python3"
  },
  "language_info": {
   "codemirror_mode": {
    "name": "ipython",
    "version": 3
   },
   "file_extension": ".py",
   "mimetype": "text/x-python",
   "name": "python",
   "nbconvert_exporter": "python",
   "pygments_lexer": "ipython3",
   "version": "3.9.19"
  }
 },
 "nbformat": 4,
 "nbformat_minor": 5
}
