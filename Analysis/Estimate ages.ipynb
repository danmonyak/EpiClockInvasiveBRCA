{
 "cells": [
  {
   "cell_type": "code",
   "execution_count": 111,
   "id": "62750c64",
   "metadata": {},
   "outputs": [],
   "source": [
    "import pandas as pd\n",
    "import numpy as np\n",
    "import os\n",
    "import sys\n",
    "import seaborn as sns\n",
    "import matplotlib.pyplot as plt\n",
    "import matplotlib.patches as mpatches\n",
    "import matplotlib.colors\n",
    "import matplotlib.colorbar\n",
    "import EpiClockInvasiveBRCA.src.util as epi_util\n",
    "from EpiClockInvasiveBRCA.src.consts import consts\n",
    "from sklearn.linear_model import ElasticNet"
   ]
  },
  {
   "cell_type": "code",
   "execution_count": 113,
   "id": "749661c6",
   "metadata": {},
   "outputs": [],
   "source": [
    "figure_outdir = 'figures'\n",
    "if not os.path.exists(figure_outdir):\n",
    "    os.mkdir(figure_outdir)"
   ]
  },
  {
   "cell_type": "code",
   "execution_count": 114,
   "id": "42526516",
   "metadata": {},
   "outputs": [],
   "source": [
    "dataset_list = ['TCGA', 'Ringner']\n",
    "beta_values_FULL_balanced_CpGs = {}\n",
    "clinical = {}"
   ]
  },
  {
   "cell_type": "code",
   "execution_count": 115,
   "id": "046862de",
   "metadata": {},
   "outputs": [],
   "source": [
    "TCGA_clinical_dir = os.path.join(consts['official_indir'], 'TCGA')\n",
    "Ringner_clinical_dir = os.path.join(consts['official_indir'], 'Ringner')"
   ]
  },
  {
   "cell_type": "code",
   "execution_count": 116,
   "id": "35c11e80",
   "metadata": {},
   "outputs": [],
   "source": [
    "clinical['TCGA'] = pd.read_table(os.path.join(TCGA_clinical_dir, 'cohort1.clinical.annotated.tsv'), index_col=0)\n",
    "clinical['Ringner'] = pd.read_table(os.path.join(Ringner_clinical_dir, 'cohort.T2.clinical.txt'), index_col=0, dtype={'grade':str})\n",
    "clinical['Ringner']['spf'] = clinical['Ringner']['spfPercent'] / 100"
   ]
  },
  {
   "cell_type": "code",
   "execution_count": 118,
   "id": "6fba7fe0",
   "metadata": {},
   "outputs": [],
   "source": [
    "## IGNORE\n",
    "\n",
    "# beta_values_FULL_balanced_CpGs_NONANS = beta_values_FULL_balanced_CpGs.fillna(method='ffill', axis=1).fillna(method='bfill', axis=1)\n",
    "# beta_values_FULL_balanced_CpGs_NONANS.to_csv(os.path.join(proj_dir, 'beta_values_FULL_balanced_CpGs_NONANS.txt'), sep='\\t')"
   ]
  },
  {
   "cell_type": "code",
   "execution_count": 119,
   "id": "6fc7b2e0",
   "metadata": {},
   "outputs": [],
   "source": [
    "beta_peak_indir = '/Users/danielmonyak/Library/CloudStorage/Box-Box/PROJECT 06023: MolClocks/MolClock_Paper_1/1. Analytic Datasets/Beta Peak Decomposition'"
   ]
  },
  {
   "cell_type": "code",
   "execution_count": 120,
   "id": "3fddda8f",
   "metadata": {},
   "outputs": [],
   "source": [
    "## IGNORE\n",
    "# no_na_tumors = np.loadtxt(os.path.join(os.path.join(beta_peak_indir, 'Ringner',\n",
    "#                                        'readable_tables',\n",
    "#                                        'no_na_tumors.txt'), dtype=str)\n",
    "# ductal_samples = clinical['Ringner'].index[clinical['Ringner']['ductal']]\n",
    "# print(np.intersect1d(ductal_samples, no_na_tumors).shape)\n",
    "# print(no_na_tumors.shape)"
   ]
  },
  {
   "cell_type": "code",
   "execution_count": 121,
   "id": "7bb596d0",
   "metadata": {},
   "outputs": [],
   "source": [
    "# # init_hypometh_sites = \n",
    "# # init_hypermeth_sites = \n",
    "\n",
    "# # randomly selected sites - just to work out the rest of the code\n",
    "# init_hypometh_sites = pd.Series(dict(zip(clinical.index, [np.random.choice(beta_values_FULL_balanced_CpGs.index,\n",
    "#                                         size=np.random.randint(20, 40, 1)[0],\n",
    "#                                         replace=False\n",
    "#                                        ) for i in range(clinical.shape[0])])))\n",
    "# init_hypermeth_sites = pd.Series(dict(zip(clinical.index, [np.random.choice(beta_values_FULL_balanced_CpGs.index,\n",
    "#                                         size=np.random.randint(20, 40, 1)[0],\n",
    "#                                         replace=False\n",
    "#                                        ) for i in range(clinical.shape[0])])))"
   ]
  },
  {
   "cell_type": "code",
   "execution_count": 122,
   "id": "9d7ea8cf",
   "metadata": {},
   "outputs": [],
   "source": [
    "# clinical['beta_A'] = beta_values_FULL_balanced_CpGs.apply(lambda col:col[init_hypometh_sites[col.name]].mean(), 0)\n",
    "# clinical['beta_B'] = beta_values_FULL_balanced_CpGs.apply(lambda col:col[init_hypermeth_sites[col.name]].mean(), 0)"
   ]
  },
  {
   "cell_type": "code",
   "execution_count": 123,
   "id": "1190a46d",
   "metadata": {},
   "outputs": [
    {
     "name": "stdout",
     "output_type": "stream",
     "text": [
      "TCGA\n",
      "Ringner\n"
     ]
    }
   ],
   "source": [
    "for dataset in dataset_list:\n",
    "    print(dataset)\n",
    "    modes = pd.read_csv(os.path.join(beta_peak_indir,\n",
    "                                             dataset,\n",
    "                                           'readable_tables',\n",
    "                                           'modes.txt'), sep=' ')\n",
    "    \n",
    "#     display(alpha)\n",
    "#     display(delta)\n",
    "    \n",
    "    if dataset == 'TCGA':\n",
    "        modes = modes.rename(index=epi_util.sampleToPatientID)\n",
    "    \n",
    "    clinical[dataset]['beta_A'] = modes.apply(lambda x: np.sort(x)[0], axis=1)\n",
    "    clinical[dataset]['beta_B'] = modes.apply(lambda x: np.sort(x)[2], axis=1)\n",
    "\n",
    "    clinical[dataset]['mitotic_age_estA'] = -np.log(1 - 2*clinical[dataset]['beta_A']) / 2\n",
    "    clinical[dataset]['mitotic_age_estB'] = -np.log(2*clinical[dataset]['beta_B'] - 1) / 2\n",
    "    clinical[dataset]['mitotic_age'] = (clinical[dataset]['mitotic_age_estA'] + clinical[dataset]['mitotic_age_estB']) / 2\n",
    "#     clinical[dataset]['calendar_age_prod_flip_rate'] = clinical[dataset]['mitotic_age'] / clinical[dataset]['alpha']"
   ]
  },
  {
   "cell_type": "code",
   "execution_count": 161,
   "id": "18ab6564",
   "metadata": {},
   "outputs": [],
   "source": [
    "# scale factor\n",
    "sf = 0.4\n",
    "\n",
    "figsize = np.array([7, 6])\n",
    "labelfontsize = 25\n",
    "ticksfontsize = 18\n",
    "signif_fontsize = 14\n",
    "opacity = 0.8\n",
    "linewidth = 1\n",
    "fliersize = 1\n",
    "\n",
    "sns.set(rc={\"savefig.bbox\":'tight', 'axes.linewidth':sf}, font_scale=1, style='ticks')"
   ]
  },
  {
   "cell_type": "code",
   "execution_count": 125,
   "id": "c2991aab",
   "metadata": {
    "scrolled": false
   },
   "outputs": [
    {
     "name": "stdout",
     "output_type": "stream",
     "text": [
      "1    0.406814\n",
      "2    0.202405\n",
      "3    0.390782\n",
      "Name: TCGA-B6-A1KF, dtype: float64\n",
      "1    0.342\n",
      "2    0.254\n",
      "3    0.404\n",
      "Name: TCGA-B6-A0RO, dtype: float64\n",
      "1    0.146\n",
      "2    0.650\n",
      "3    0.204\n",
      "Name: TCGA-E2-A1B1, dtype: float64\n",
      "V1\n",
      "13.8320504525017\n",
      "22.0601425603912\n",
      "\n",
      "V2\n",
      "17.8913422091971\n",
      "17.397335980602\n",
      "\n",
      "V3\n",
      "26.7580102446084\n",
      "12.9977954459926\n",
      "\n"
     ]
    },
    {
     "data": {
      "image/png": "[encoded data removed]",
      "text/plain": [
       "<Figure size 463.68x138.24 with 3 Axes>"
      ]
     },
     "metadata": {},
     "output_type": "display_data"
    }
   ],
   "source": [
    "from scipy.stats import beta\n",
    "\n",
    "patient_list = {'Tum1':'TCGA-B6-A1KF',\n",
    "               'Tum2':'TCGA-B6-A0RO',\n",
    "               'Tum3':'TCGA-E2-A1B1'}\n",
    "\n",
    "fig, axes = plt.subplots(1, len(patient_list), figsize=np.array(figsize) * [2.3, 0.8] * sf)\n",
    "fig.tight_layout(pad=0.2)\n",
    "\n",
    "beta_values_balancedSites_TCGA = pd.read_table(os.path.join(TCGA_clinical_dir, 'cohort1.methyl.balancedSites.tsv'),\n",
    "                      index_col=0).rename(columns=epi_util.sampleToPatientID)\n",
    "alpha = pd.read_table(os.path.join(beta_peak_indir,\n",
    "                                   'TCGA',\n",
    "                                   'readable_tables',\n",
    "                                   'alpha.txt'), sep=' ').rename(index=epi_util.sampleToPatientID)\n",
    "delta = pd.read_table(os.path.join(beta_peak_indir,\n",
    "                                   'TCGA',\n",
    "                                   'readable_tables',\n",
    "                                   'delta.txt'), sep=' ').rename(index=epi_util.sampleToPatientID)\n",
    "tau = pd.read_table(os.path.join(beta_peak_indir,\n",
    "                                 'TCGA',\n",
    "                                 'readable_tables',\n",
    "                                 'tau.txt'), sep=' ').rename(index=lambda x:epi_util.sampleToPatientID(x.replace('.', '-')))\n",
    "\n",
    "chosen_tumor_colors = [consts['palette_jco'][i] for i in [0, 1, 3]]\n",
    "\n",
    "for i, patient in enumerate(patient_list):\n",
    "    col = i\n",
    "    \n",
    "    ax = axes[i]\n",
    "    \n",
    "    samp = patient_list[patient]\n",
    "    cur_color = chosen_tumor_colors[i]\n",
    "    title = f'{patient} ({samp})'\n",
    "    xlabel = 'β'\n",
    "    \n",
    "    sns.histplot(ax=ax, x=beta_values_balancedSites_TCGA[samp], stat='density',\n",
    "                color=cur_color, bins=12, alpha=opacity,\n",
    "                binrange=(0, 1))\n",
    "    \n",
    "    ax.set_title(title, fontsize=labelfontsize * sf)\n",
    "    ax.set_xlabel(xlabel, fontsize=labelfontsize * sf)\n",
    "    if col == 0:\n",
    "        ax.set_ylabel('Density', fontsize=labelfontsize * sf)\n",
    "    else:\n",
    "        ax.set_ylabel('')\n",
    "    ax.tick_params(axis='both', labelsize=ticksfontsize * sf, width=sf, length=8 * sf)\n",
    "\n",
    "    frac_list = tau.loc[samp]\n",
    "    \n",
    "    print(frac_list)\n",
    "\n",
    "#     y_sum = 0\n",
    "    y_max = float('-Inf')\n",
    "    \n",
    "    for j, model in enumerate(alpha.columns):\n",
    "        \n",
    "        a = alpha.loc[samp, model]\n",
    "        d = delta.loc[samp, model]\n",
    "        \n",
    "        if i == 2:\n",
    "            print(model)\n",
    "            print(a)\n",
    "            print(d)\n",
    "            print()\n",
    "\n",
    "        x = np.linspace(0, 0.99, 100)\n",
    "        y = beta.pdf(x, a, d) * frac_list[j]\n",
    "        ax.plot(x, y,\n",
    "                lw=3, alpha=0.9, color=consts['palette_jco'][2])\n",
    "        \n",
    "        y_max = max(y_max, max(y))\n",
    "        \n",
    "#         y_sum += y\n",
    "        \n",
    "#     ax.plot(x, y_sum, lw=2, alpha=0.4, color='black')\n",
    "\n",
    "for i in range(len(patient_list)):\n",
    "    ax = axes[i]\n",
    "    ax.set_ylim(0, y_max * 1.1)\n",
    "\n",
    "fig.savefig(os.path.join(figure_outdir, 'example_peak_decomp.pdf'), format='pdf', pad_inches=0.1)"
   ]
  },
  {
   "cell_type": "code",
   "execution_count": 166,
   "id": "02c21eff",
   "metadata": {},
   "outputs": [
    {
     "name": "stderr",
     "output_type": "stream",
     "text": [
      "/var/folders/m9/kv2y3r0s0p1_cl3s3py1wprh0000gn/T/ipykernel_85951/2567322947.py:7: UserWarning: The palette list has more values (10) than needed (2), which may not be intended.\n",
      "  sns.swarmplot(ax=ax, data=df_combined, y = 'Mitotic Age', x = 'Dataset', hue = 'Dataset', legend=False, palette=consts['palette_jco'],\n"
     ]
    },
    {
     "data": {
      "image/png": "[encoded data removed]",
      "text/plain": [
       "<Figure size 201.6x172.8 with 1 Axes>"
      ]
     },
     "metadata": {},
     "output_type": "display_data"
    }
   ],
   "source": [
    "fig, ax = plt.subplots(figsize=figsize * sf)\n",
    "\n",
    "df_ch1 = pd.DataFrame({'Mitotic Age':clinical['TCGA'].loc[clinical['TCGA']['in_analysis_dataset'], 'mitotic_age'].dropna(), 'Dataset':'TCGA'})\n",
    "df_ch2 = pd.DataFrame({'Mitotic Age':clinical['Ringner'].loc[clinical['Ringner']['in_analysis_dataset'], 'mitotic_age'].dropna(), 'Dataset':'Lund'})\n",
    "df_combined = pd.concat([df_ch1, df_ch2], axis=0)\n",
    "\n",
    "sns.swarmplot(ax=ax, data=df_combined, y = 'Mitotic Age', x = 'Dataset', hue = 'Dataset', legend=False, palette=consts['palette_jco'],\n",
    "             s=12 * sf**2)\n",
    "ax.set_xlabel('Cohort', fontsize=labelfontsize * sf)\n",
    "ax.set_ylabel('Average num. flips\\nper fCpG site', fontsize=labelfontsize * sf)\n",
    "ax.set_xticks(ax.get_xticks(),\n",
    "                  [group + f'\\n(n = {(df_combined[\"Dataset\"] == group).sum()})' for group in ['TCGA', 'Lund']])\n",
    "ax.tick_params(axis='x', labelsize=labelfontsize * sf, width=sf, length=8 * sf)\n",
    "ax.tick_params(axis='y', labelsize=ticksfontsize * sf, width=sf, length=8 * sf)\n",
    "\n",
    "# patches = [\n",
    "#     mpatches.Patch(color=consts['palette_jco'][0], label='Cohort T1'),\n",
    "#     mpatches.Patch(color=consts['palette_jco'][1], label='Cohort T2')\n",
    "# ]\n",
    "\n",
    "# plots_botLeft, plots_topRight = ax.get_position().get_points()\n",
    "# center_x = (plots_botLeft[0] + plots_topRight[0])/2\n",
    "# center_y = (plots_botLeft[1] + plots_topRight[1])*2/3\n",
    "\n",
    "# fig.legend(\n",
    "#     handles=patches,\n",
    "#     title='Dataset',\n",
    "#     loc='center', bbox_to_anchor=(center_x, center_y))\n",
    "\n",
    "fig.savefig(os.path.join(figure_outdir, 'mitotic_age.pdf'), format='pdf', pad_inches=0.1)"
   ]
  },
  {
   "cell_type": "code",
   "execution_count": 127,
   "id": "74654336",
   "metadata": {},
   "outputs": [],
   "source": [
    "predictors = ['Stroma', 'Lipid', 'IR', 'Mitotic Checkpoint', 'Mitotic Progression', 'Basal', 'Early Response', 'SR',\n",
    "# 'FGA_Gain', 'FGA_Loss',\n",
    "              'FGA',\n",
    "              'LUMP'\n",
    "             ]\n",
    "response = 'spf'\n",
    "\n",
    "train_data = clinical['Ringner'].loc[clinical['Ringner']['in_analysis_dataset'], predictors + [response]].dropna()\n",
    "train_X = train_data[predictors]\n",
    "train_y = train_data[response]\n",
    "\n",
    "TCGA_X = clinical['TCGA'].loc[clinical['TCGA']['in_analysis_dataset'], predictors].dropna()"
   ]
  },
  {
   "cell_type": "code",
   "execution_count": 128,
   "id": "6a52646d",
   "metadata": {},
   "outputs": [
    {
     "name": "stdout",
     "output_type": "stream",
     "text": [
      "10.539909705433798\n",
      "10.4842117313812\n",
      "{'alpha': 0.7444444444444444, 'l1_ratio': 0.01}\n"
     ]
    }
   ],
   "source": [
    "from sklearn.linear_model import ElasticNetCV, ElasticNet\n",
    "from sklearn.model_selection import GridSearchCV\n",
    "\n",
    "from sklearn.metrics import r2_score\n",
    "def myScoreFunc(model, X, y):\n",
    "    y_pred = model.predict(X)\n",
    "    r2 = r2_score(y, y_pred)\n",
    "#     return r2\n",
    "#     n_pos = np.sum(y_pred > 0)\n",
    "    pct_pos = np.mean(model.predict(TCGA_X) > 0)\n",
    "#     return r2 + pct_pos * 5\n",
    "    return r2 + 10 * np.all(model.predict(TCGA_X) > 0)\n",
    "\n",
    "# eNetCV = ElasticNetCV(alphas=np.linspace(0.01, 0.99, 10), l1_ratio=np.linspace(0.01, 0.99, 10))\n",
    "eNetCV = GridSearchCV(ElasticNet(), param_grid={'alpha':np.linspace(0.1, 3, 10), 'l1_ratio':np.linspace(0.01, 0.99, 10)},\n",
    "                     scoring=myScoreFunc)\n",
    "eNetCV.fit(train_X, train_y)\n",
    "\n",
    "print(eNetCV.score(train_X, train_y))\n",
    "print(eNetCV.best_score_)\n",
    "print(eNetCV.best_params_)\n",
    "# eNetCV.best_estimator_.coef_"
   ]
  },
  {
   "cell_type": "code",
   "execution_count": 129,
   "id": "1042701f",
   "metadata": {
    "scrolled": true
   },
   "outputs": [
    {
     "data": {
      "text/plain": [
       "<matplotlib.collections.PathCollection at 0x7fdaf534f850>"
      ]
     },
     "execution_count": 129,
     "metadata": {},
     "output_type": "execute_result"
    },
    {
     "data": {
      "image/png": "[encoded data removed]",
      "text/plain": [
       "<Figure size 432x288 with 1 Axes>"
      ]
     },
     "metadata": {},
     "output_type": "display_data"
    }
   ],
   "source": [
    "plt.scatter(eNetCV.predict(train_X), train_y)"
   ]
  },
  {
   "cell_type": "code",
   "execution_count": 130,
   "id": "759bb052",
   "metadata": {},
   "outputs": [
    {
     "name": "stdout",
     "output_type": "stream",
     "text": [
      "Ttest_indResult(statistic=1.3995017542183033, pvalue=0.16231665968159184)\n"
     ]
    },
    {
     "data": {
      "image/png": "[encoded data removed]",
      "text/plain": [
       "<Figure size 432x288 with 1 Axes>"
      ]
     },
     "metadata": {},
     "output_type": "display_data"
    }
   ],
   "source": [
    "TCGA_y_pred = eNetCV.predict(TCGA_X)\n",
    "\n",
    "sns.histplot(TCGA_y_pred)\n",
    "from scipy.stats import ttest_ind\n",
    "print(ttest_ind(train_y, TCGA_y_pred))"
   ]
  },
  {
   "cell_type": "code",
   "execution_count": 131,
   "id": "8584e361",
   "metadata": {},
   "outputs": [
    {
     "data": {
      "text/plain": [
       "<Axes: xlabel='spf', ylabel='Count'>"
      ]
     },
     "execution_count": 131,
     "metadata": {},
     "output_type": "execute_result"
    },
    {
     "data": {
      "image/png": "[encoded data removed]",
      "text/plain": [
       "<Figure size 432x288 with 1 Axes>"
      ]
     },
     "metadata": {},
     "output_type": "display_data"
    }
   ],
   "source": [
    "sns.histplot(train_y)"
   ]
  },
  {
   "cell_type": "code",
   "execution_count": 132,
   "id": "d4ec6c28",
   "metadata": {},
   "outputs": [],
   "source": [
    "clinical['TCGA'].loc[TCGA_X.index, 'spf'] = TCGA_y_pred"
   ]
  },
  {
   "cell_type": "code",
   "execution_count": 133,
   "id": "86cdd965",
   "metadata": {},
   "outputs": [],
   "source": [
    "s_phase_duration_hrs = np.mean([12.40, 11.70, 13.60, 12.95, 12.66])\n",
    "s_phase_duration = s_phase_duration_hrs / 24\n",
    "\n",
    "# Growth rate with 1 day as time unit\n",
    "for dataset in dataset_list:\n",
    "    clinical[dataset]['growth_rate'] = clinical[dataset]['spf'] / s_phase_duration\n",
    "    clinical[dataset]['calendar_age_prod_flip_rate'] = clinical[dataset]['mitotic_age'] / clinical[dataset]['growth_rate']"
   ]
  },
  {
   "cell_type": "code",
   "execution_count": 134,
   "id": "52599a44",
   "metadata": {},
   "outputs": [
    {
     "data": {
      "text/plain": [
       "<Axes: xlabel='growth_rate', ylabel='Count'>"
      ]
     },
     "execution_count": 134,
     "metadata": {},
     "output_type": "execute_result"
    },
    {
     "data": {
      "image/png": "[encoded data removed]",
      "text/plain": [
       "<Figure size 432x288 with 1 Axes>"
      ]
     },
     "metadata": {},
     "output_type": "display_data"
    }
   ],
   "source": [
    "sns.histplot(clinical['Ringner']['growth_rate'])"
   ]
  },
  {
   "cell_type": "code",
   "execution_count": 135,
   "id": "5354c722",
   "metadata": {},
   "outputs": [
    {
     "data": {
      "text/plain": [
       "6.990051525024734"
      ]
     },
     "execution_count": 135,
     "metadata": {},
     "output_type": "execute_result"
    }
   ],
   "source": [
    "np.mean(1 / clinical['TCGA']['growth_rate'])"
   ]
  },
  {
   "cell_type": "code",
   "execution_count": 136,
   "id": "1247835c",
   "metadata": {},
   "outputs": [
    {
     "data": {
      "text/plain": [
       "9.25633376436598"
      ]
     },
     "execution_count": 136,
     "metadata": {},
     "output_type": "execute_result"
    }
   ],
   "source": [
    "np.mean(1 / clinical['Ringner']['growth_rate'])"
   ]
  },
  {
   "cell_type": "code",
   "execution_count": 137,
   "id": "beda2a89",
   "metadata": {},
   "outputs": [
    {
     "name": "stdout",
     "output_type": "stream",
     "text": [
      "Cohort T1-predicted flip rate: 0.001736194678277288\n",
      "Cohort T2-predicted flip rate: 0.0020989876958079808\n"
     ]
    }
   ],
   "source": [
    "## Flip rate\n",
    "\n",
    "flip_rate_TCGA = clinical['TCGA'].loc['calendar_age_prod_flip_rate'].median() / (3 * 365)\n",
    "flip_rate_Ringner = clinical['Ringner'].loc['calendar_age_prod_flip_rate'].median() / (3 * 365)\n",
    "\n",
    "print(f'Cohort T1-predicted flip rate: {flip_rate_TCGA}')\n",
    "print(f'Cohort T2-predicted flip rate: {flip_rate_Ringner}')"
   ]
  },
  {
   "cell_type": "code",
   "execution_count": 178,
   "id": "cfca4e45",
   "metadata": {},
   "outputs": [
    {
     "data": {
      "text/plain": [
       "3.0"
      ]
     },
     "execution_count": 178,
     "metadata": {},
     "output_type": "execute_result"
    }
   ],
   "source": [
    "(clinical['TCGA']['calendar_age_prod_flip_rate'] / (clinical['TCGA']['calendar_age_prod_flip_rate'].median() / 3)).median()"
   ]
  },
  {
   "cell_type": "code",
   "execution_count": 186,
   "id": "a36f7111",
   "metadata": {},
   "outputs": [
    {
     "data": {
      "text/plain": [
       "408"
      ]
     },
     "execution_count": 186,
     "metadata": {},
     "output_type": "execute_result"
    }
   ],
   "source": [
    "n_samps_TCGA"
   ]
  },
  {
   "cell_type": "code",
   "execution_count": 187,
   "id": "0def1124",
   "metadata": {},
   "outputs": [
    {
     "data": {
      "text/plain": [
       "101"
      ]
     },
     "execution_count": 187,
     "metadata": {},
     "output_type": "execute_result"
    }
   ],
   "source": [
    "n_samps_Ringner"
   ]
  },
  {
   "cell_type": "code",
   "execution_count": 191,
   "id": "c34be2b8",
   "metadata": {},
   "outputs": [
    {
     "data": {
      "text/plain": [
       "387"
      ]
     },
     "execution_count": 191,
     "metadata": {},
     "output_type": "execute_result"
    }
   ],
   "source": [
    "(~clinical['TCGA']['calendar_age_prod_flip_rate'].isna() & clinical['TCGA']['in_analysis_dataset']).sum()"
   ]
  },
  {
   "cell_type": "code",
   "execution_count": 193,
   "id": "e0a0954c",
   "metadata": {},
   "outputs": [
    {
     "data": {
      "text/plain": [
       "92"
      ]
     },
     "execution_count": 193,
     "metadata": {},
     "output_type": "execute_result"
    }
   ],
   "source": [
    "(~clinical['Ringner']['calendar_age_prod_flip_rate'].isna() & clinical['Ringner']['in_analysis_dataset']).sum()"
   ]
  },
  {
   "cell_type": "code",
   "execution_count": 198,
   "id": "806be92f",
   "metadata": {},
   "outputs": [
    {
     "data": {
      "text/plain": [
       "0.0017578551969845704"
      ]
     },
     "execution_count": 198,
     "metadata": {},
     "output_type": "execute_result"
    }
   ],
   "source": [
    "combined_intermed_df = pd.concat([clinical['TCGA'][['in_analysis_dataset', 'calendar_age_prod_flip_rate']],\n",
    "clinical['Ringner'][['in_analysis_dataset', 'calendar_age_prod_flip_rate']]],\n",
    "          axis=0)\n",
    "flip_rate_est = combined_intermed_df.loc[combined_intermed_df['in_analysis_dataset'],\n",
    "                                         'calendar_age_prod_flip_rate'].median() / (3 * 365)\n",
    "flip_rate_est"
   ]
  },
  {
   "cell_type": "code",
   "execution_count": 138,
   "id": "1c4fdfff",
   "metadata": {},
   "outputs": [],
   "source": [
    "n_samps_TCGA = clinical['TCGA']['in_analysis_dataset'].sum()\n",
    "n_samps_Ringner = clinical['Ringner']['in_analysis_dataset'].sum()\n",
    "flip_rate_est = (flip_rate_TCGA * n_samps_TCGA + flip_rate_Ringner * n_samps_Ringner) / (n_samps_TCGA + n_samps_Ringner)"
   ]
  },
  {
   "cell_type": "code",
   "execution_count": 179,
   "id": "4eec39ff",
   "metadata": {},
   "outputs": [
    {
     "data": {
      "text/plain": [
       "0.0018081830766478186"
      ]
     },
     "execution_count": 179,
     "metadata": {},
     "output_type": "execute_result"
    }
   ],
   "source": [
    "flip_rate_est"
   ]
  },
  {
   "cell_type": "code",
   "execution_count": 185,
   "id": "96bd6efd",
   "metadata": {},
   "outputs": [
    {
     "data": {
      "text/plain": [
       "0.001780491552742159"
      ]
     },
     "execution_count": 185,
     "metadata": {},
     "output_type": "execute_result"
    }
   ],
   "source": [
    "pd.Series(np.concatenate([clinical['TCGA']['calendar_age_prod_flip_rate'],\n",
    "                clinical['Ringner']['calendar_age_prod_flip_rate']])).dropna().median() / (3 * 365)"
   ]
  },
  {
   "cell_type": "code",
   "execution_count": 169,
   "id": "0cbdc083",
   "metadata": {},
   "outputs": [
    {
     "data": {
      "text/plain": [
       "RanksumsResult(statistic=-4.572900852062657, pvalue=4.810177892417978e-06)"
      ]
     },
     "execution_count": 169,
     "metadata": {},
     "output_type": "execute_result"
    }
   ],
   "source": [
    "epi_util.wilcoxonRankSums(clinical['TCGA']['mitotic_age'], clinical['Ringner']['mitotic_age'])\n",
    "epi_util.wilcoxonRankSums(clinical['TCGA']['calendar_age_years'].dropna(), clinical['Ringner']['calendar_age_years'].dropna())"
   ]
  },
  {
   "cell_type": "code",
   "execution_count": 174,
   "id": "ccb41c30",
   "metadata": {},
   "outputs": [
    {
     "data": {
      "text/plain": [
       "2.880562318107761"
      ]
     },
     "execution_count": 174,
     "metadata": {},
     "output_type": "execute_result"
    }
   ],
   "source": [
    "clinical['TCGA']['calendar_age_years'].median()"
   ]
  },
  {
   "cell_type": "code",
   "execution_count": 175,
   "id": "2a89e3e5",
   "metadata": {},
   "outputs": [
    {
     "data": {
      "text/plain": [
       "3.4824809327924084"
      ]
     },
     "execution_count": 175,
     "metadata": {},
     "output_type": "execute_result"
    }
   ],
   "source": [
    "clinical['Ringner']['calendar_age_years'].median()"
   ]
  },
  {
   "cell_type": "code",
   "execution_count": 165,
   "id": "c60f1e25",
   "metadata": {},
   "outputs": [
    {
     "name": "stderr",
     "output_type": "stream",
     "text": [
      "/var/folders/m9/kv2y3r0s0p1_cl3s3py1wprh0000gn/T/ipykernel_85951/1373763478.py:32: UserWarning: The palette list has more values (10) than needed (2), which may not be intended.\n",
      "  sns.swarmplot(ax=ax, data=df_combined, y='calendar_age_years', x='cohort',\n"
     ]
    },
    {
     "data": {
      "image/png": "[encoded data removed]",
      "text/plain": [
       "<Figure size 302.4x172.8 with 1 Axes>"
      ]
     },
     "metadata": {},
     "output_type": "display_data"
    }
   ],
   "source": [
    "from mpl_toolkits.axes_grid1 import make_axes_locatable\n",
    "\n",
    "fig, ax = plt.subplots(figsize=figsize * [1.5, 1] * sf)\n",
    "\n",
    "clinical['TCGA']['calendar_age_years'] = clinical['TCGA']['calendar_age_prod_flip_rate'] / flip_rate_est / 365\n",
    "clinical['Ringner']['calendar_age_years'] = clinical['Ringner']['calendar_age_prod_flip_rate'] / flip_rate_est / 365\n",
    "\n",
    "\n",
    "df_ch1 = pd.DataFrame({'calendar_age_years':clinical['TCGA'].loc[clinical['TCGA']['in_analysis_dataset'], 'calendar_age_years'],\n",
    "                       'Size':clinical['TCGA'].loc[clinical['TCGA']['in_analysis_dataset'], 'T Stage'],\n",
    "                       'cohort':'TCGA'}).dropna()\n",
    "df_ch2 = pd.DataFrame({'calendar_age_years':clinical['Ringner'].loc[clinical['Ringner']['in_analysis_dataset'], 'calendar_age_years'],\n",
    "                       'Size':clinical['Ringner'].loc[clinical['Ringner']['in_analysis_dataset'], 'size'],\n",
    "                       'cohort':'Lund'}).dropna()\n",
    "df_combined = pd.concat([df_ch1, df_ch2], axis=0)\n",
    "# df_combined = df_ch2\n",
    "\n",
    "\n",
    "#####\n",
    "'''\n",
    "#Create a matplotlib colormap from the sns seagreen color palette\n",
    "cmap = sns.light_palette(\"seagreen\", reverse=False, as_cmap=True )\n",
    "# Normalize to the range of possible values from df[\"c\"]\n",
    "norm = matplotlib.colors.Normalize(vmin=df_combined[\"Size\"].min(), vmax=df_combined[\"Size\"].max())\n",
    "# create a color dictionary (value in c : color from colormap) \n",
    "colors = {}\n",
    "for cval in df_combined[\"Size\"]:\n",
    "    colors.update({cval : cmap(norm(cval))})\n",
    "    '''\n",
    "#####\n",
    "\n",
    "sns.swarmplot(ax=ax, data=df_combined, y='calendar_age_years', x='cohort',\n",
    "              hue='cohort', palette=consts['palette_jco'],\n",
    "              legend=False,\n",
    "             s=12 * sf**2)\n",
    "ax.set_xlabel('Cohort', fontsize=labelfontsize * sf)\n",
    "ax.set_ylabel('Calendar Age (years)', fontsize=labelfontsize * sf)\n",
    "ax.set_title(f'~{flip_rate_est:.3f} (de)methylation events/division', fontsize=labelfontsize * sf)\n",
    "ax.set_xticks(ax.get_xticks(),\n",
    "                  [group + f'\\n(n = {(df_combined[\"cohort\"] == group).sum()})'\n",
    "                   for group in ['TCGA', 'Lund']])\n",
    "ax.tick_params(axis='x', labelsize=labelfontsize * sf, width=sf, length=8 * sf)\n",
    "ax.tick_params(axis='y', labelsize=ticksfontsize * sf, width=sf, length=8 * sf)\n",
    "\n",
    "\n",
    "'''\n",
    "divider = make_axes_locatable(plt.gca())\n",
    "ax_cb = divider.new_horizontal(size=\"5%\", pad=0.05)\n",
    "fig.add_axes(ax_cb)\n",
    "cb1 = matplotlib.colorbar.ColorbarBase(ax_cb, cmap=cmap,\n",
    "                                norm=norm,\n",
    "                                orientation='vertical')\n",
    "cb1.set_label('Size (mm)')\n",
    "'''\n",
    "\n",
    "\n",
    "fig.savefig(os.path.join(figure_outdir, 'calendar_age.pdf'), format='pdf', pad_inches=0.1)"
   ]
  },
  {
   "cell_type": "code",
   "execution_count": 37,
   "id": "c91bab71",
   "metadata": {},
   "outputs": [
    {
     "data": {
      "text/plain": [
       "LinregressResult(slope=-0.9080016349075366, intercept=31.13922151480366, rvalue=-0.378471721658297, pvalue=0.0003267970813558546, stderr=0.24229415014042024, intercept_stderr=2.051592783696381)"
      ]
     },
     "execution_count": 37,
     "metadata": {},
     "output_type": "execute_result"
    }
   ],
   "source": [
    "epi_util.pearsonCorrelation(df_ch2['Calendar Age'], df_ch2['Size'])"
   ]
  },
  {
   "cell_type": "code",
   "execution_count": 233,
   "id": "83cc1cb9",
   "metadata": {},
   "outputs": [
    {
     "data": {
      "text/plain": [
       "Size\n",
       "T1    5.021818\n",
       "T2    3.804174\n",
       "T3    2.578735\n",
       "T4    3.347601\n",
       "TX    1.455012\n",
       "Name: Calendar Age, dtype: float64"
      ]
     },
     "execution_count": 233,
     "metadata": {},
     "output_type": "execute_result"
    }
   ],
   "source": [
    "df_ch1.groupby('Size')['Calendar Age'].mean()"
   ]
  },
  {
   "cell_type": "code",
   "execution_count": 220,
   "id": "6ecf170f",
   "metadata": {},
   "outputs": [
    {
     "data": {
      "text/plain": [
       "<Axes: xlabel='V2', ylabel='Count'>"
      ]
     },
     "execution_count": 220,
     "metadata": {},
     "output_type": "execute_result"
    },
    {
     "data": {
      "image/png": "[encoded data removed]",
      "text/plain": [
       "<Figure size 432x288 with 1 Axes>"
      ]
     },
     "metadata": {},
     "output_type": "display_data"
    }
   ],
   "source": [
    "modes = pd.read_csv(os.path.join(beta_peak_indir,\n",
    "                                             'TCGA',\n",
    "                                           'readable_tables',\n",
    "                                           'modes.txt'), sep=' ')\n",
    "sns.histplot(modes['V2'])"
   ]
  },
  {
   "cell_type": "code",
   "execution_count": 19,
   "id": "5fc5122c",
   "metadata": {},
   "outputs": [
    {
     "data": {
      "text/plain": [
       "<Axes: xlabel='V2', ylabel='Count'>"
      ]
     },
     "execution_count": 19,
     "metadata": {},
     "output_type": "execute_result"
    },
    {
     "data": {
      "image/png": "[encoded data removed]",
      "text/plain": [
       "<Figure size 432x288 with 1 Axes>"
      ]
     },
     "metadata": {
      "needs_background": "light"
     },
     "output_type": "display_data"
    }
   ],
   "source": [
    "modes = pd.read_csv(os.path.join(beta_peak_indir,\n",
    "                                             'Ringner',\n",
    "                                           'readable_tables',\n",
    "                                           'modes.txt'), sep=' ')\n",
    "sns.histplot(modes['V2'])"
   ]
  },
  {
   "cell_type": "code",
   "execution_count": 23,
   "id": "b2622afe",
   "metadata": {},
   "outputs": [],
   "source": [
    "clinical['Ringner']['middle_mode'] = modes['V2']"
   ]
  },
  {
   "cell_type": "code",
   "execution_count": 21,
   "id": "d1ba63fa",
   "metadata": {},
   "outputs": [
    {
     "data": {
      "text/html": [
       "<div>\n",
       "<style scoped>\n",
       "    .dataframe tbody tr th:only-of-type {\n",
       "        vertical-align: middle;\n",
       "    }\n",
       "\n",
       "    .dataframe tbody tr th {\n",
       "        vertical-align: top;\n",
       "    }\n",
       "\n",
       "    .dataframe thead th {\n",
       "        text-align: right;\n",
       "    }\n",
       "</style>\n",
       "<table border=\"1\" class=\"dataframe\">\n",
       "  <thead>\n",
       "    <tr style=\"text-align: right;\">\n",
       "      <th></th>\n",
       "      <th>V1</th>\n",
       "      <th>V2</th>\n",
       "      <th>V3</th>\n",
       "    </tr>\n",
       "  </thead>\n",
       "  <tbody>\n",
       "    <tr>\n",
       "      <th>GSM1941862</th>\n",
       "      <td>0.184802</td>\n",
       "      <td>0.450006</td>\n",
       "      <td>0.762204</td>\n",
       "    </tr>\n",
       "    <tr>\n",
       "      <th>GSM1941863</th>\n",
       "      <td>0.260572</td>\n",
       "      <td>0.457527</td>\n",
       "      <td>0.674866</td>\n",
       "    </tr>\n",
       "    <tr>\n",
       "      <th>GSM1941864</th>\n",
       "      <td>0.208212</td>\n",
       "      <td>0.497759</td>\n",
       "      <td>0.774748</td>\n",
       "    </tr>\n",
       "    <tr>\n",
       "      <th>GSM1941865</th>\n",
       "      <td>0.343519</td>\n",
       "      <td>0.558180</td>\n",
       "      <td>0.667033</td>\n",
       "    </tr>\n",
       "    <tr>\n",
       "      <th>GSM1941866</th>\n",
       "      <td>0.270288</td>\n",
       "      <td>0.559414</td>\n",
       "      <td>0.793674</td>\n",
       "    </tr>\n",
       "    <tr>\n",
       "      <th>...</th>\n",
       "      <td>...</td>\n",
       "      <td>...</td>\n",
       "      <td>...</td>\n",
       "    </tr>\n",
       "    <tr>\n",
       "      <th>GSM1942045</th>\n",
       "      <td>0.286699</td>\n",
       "      <td>0.559628</td>\n",
       "      <td>0.794940</td>\n",
       "    </tr>\n",
       "    <tr>\n",
       "      <th>GSM1942046</th>\n",
       "      <td>0.224667</td>\n",
       "      <td>0.391188</td>\n",
       "      <td>0.796051</td>\n",
       "    </tr>\n",
       "    <tr>\n",
       "      <th>GSM1942047</th>\n",
       "      <td>0.317243</td>\n",
       "      <td>0.577032</td>\n",
       "      <td>0.718690</td>\n",
       "    </tr>\n",
       "    <tr>\n",
       "      <th>GSM1942048</th>\n",
       "      <td>0.345114</td>\n",
       "      <td>0.492511</td>\n",
       "      <td>0.749177</td>\n",
       "    </tr>\n",
       "    <tr>\n",
       "      <th>GSM1942049</th>\n",
       "      <td>0.211128</td>\n",
       "      <td>0.431237</td>\n",
       "      <td>0.793801</td>\n",
       "    </tr>\n",
       "  </tbody>\n",
       "</table>\n",
       "<p>188 rows × 3 columns</p>\n",
       "</div>"
      ],
      "text/plain": [
       "                  V1        V2        V3\n",
       "GSM1941862  0.184802  0.450006  0.762204\n",
       "GSM1941863  0.260572  0.457527  0.674866\n",
       "GSM1941864  0.208212  0.497759  0.774748\n",
       "GSM1941865  0.343519  0.558180  0.667033\n",
       "GSM1941866  0.270288  0.559414  0.793674\n",
       "...              ...       ...       ...\n",
       "GSM1942045  0.286699  0.559628  0.794940\n",
       "GSM1942046  0.224667  0.391188  0.796051\n",
       "GSM1942047  0.317243  0.577032  0.718690\n",
       "GSM1942048  0.345114  0.492511  0.749177\n",
       "GSM1942049  0.211128  0.431237  0.793801\n",
       "\n",
       "[188 rows x 3 columns]"
      ]
     },
     "execution_count": 21,
     "metadata": {},
     "output_type": "execute_result"
    }
   ],
   "source": [
    "modes"
   ]
  },
  {
   "cell_type": "code",
   "execution_count": 28,
   "id": "1c9067ed",
   "metadata": {},
   "outputs": [
    {
     "data": {
      "text/plain": [
       "92"
      ]
     },
     "execution_count": 28,
     "metadata": {},
     "output_type": "execute_result"
    }
   ],
   "source": [
    "(clinical['Ringner']['in_analysis_dataset'] & ~clinical['Ringner']['spf'].isna()).sum()"
   ]
  },
  {
   "cell_type": "code",
   "execution_count": 27,
   "id": "7f4a3d67",
   "metadata": {},
   "outputs": [
    {
     "data": {
      "text/plain": [
       "80"
      ]
     },
     "execution_count": 27,
     "metadata": {},
     "output_type": "execute_result"
    }
   ],
   "source": [
    "(~clinical['Ringner']['spf'].isna() & clinical['Ringner']['in_analysis_dataset'] & (clinical['Ringner']['middle_mode'] < 0.6) & (clinical['Ringner']['middle_mode'] > 0.4)).sum()"
   ]
  }
 ],
 "metadata": {
  "kernelspec": {
   "display_name": "Python 3 (ipykernel)",
   "language": "python",
   "name": "python3"
  },
  "language_info": {
   "codemirror_mode": {
    "name": "ipython",
    "version": 3
   },
   "file_extension": ".py",
   "mimetype": "text/x-python",
   "name": "python",
   "nbconvert_exporter": "python",
   "pygments_lexer": "ipython3",
   "version": "3.9.19"
  }
 },
 "nbformat": 4,
 "nbformat_minor": 5
}
