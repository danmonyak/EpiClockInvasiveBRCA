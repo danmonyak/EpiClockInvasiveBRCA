{
 "cells": [
  {
   "cell_type": "code",
   "execution_count": 1,
   "id": "62750c64",
   "metadata": {},
   "outputs": [],
   "source": [
    "import pandas as pd\n",
    "import numpy as np\n",
    "import os\n",
    "import seaborn as sns\n",
    "import matplotlib.pyplot as plt\n",
    "import matplotlib.patches as mpatches\n",
    "from sklearn.linear_model import ElasticNetCV\n",
    "from sklearn.metrics import r2_score\n",
    "from scipy.stats import beta\n",
    "import EpiClockInvasiveBRCA.src.util as epi_util\n",
    "from EpiClockInvasiveBRCA.src.consts import consts"
   ]
  },
  {
   "cell_type": "code",
   "execution_count": 2,
   "id": "749661c6",
   "metadata": {},
   "outputs": [],
   "source": [
    "figure_outdir = 'figures'\n",
    "if not os.path.exists(figure_outdir):\n",
    "    os.mkdir(figure_outdir)\n",
    "    \n",
    "TCGA_clinical_dir = os.path.join(consts['official_indir'], 'TCGA')\n",
    "Ringner_clinical_dir = os.path.join(consts['official_indir'], 'Ringner')\n",
    "beta_peak_indir = os.path.join(consts['official_indir'], 'Beta Peak Decomposition')"
   ]
  },
  {
   "cell_type": "code",
   "execution_count": 3,
   "id": "35c11e80",
   "metadata": {},
   "outputs": [],
   "source": [
    "clinical = {}\n",
    "\n",
    "clinical['TCGA'] = pd.read_table(os.path.join(TCGA_clinical_dir, 'cohort1.clinical.annotated.tsv'), index_col=0)\n",
    "clinical['Ringner'] = pd.read_table(os.path.join(Ringner_clinical_dir, 'cohort.T2.clinical.txt'), index_col=0, dtype={'grade':str})\n",
    "clinical['Ringner']['spf'] = clinical['Ringner']['spfPercent'] / 100\n",
    "clinical['Ringner']['log_spf'] = np.log(clinical['Ringner']['spf'])"
   ]
  },
  {
   "cell_type": "code",
   "execution_count": 4,
   "id": "1190a46d",
   "metadata": {},
   "outputs": [
    {
     "name": "stdout",
     "output_type": "stream",
     "text": [
      "TCGA\n",
      "Ringner\n"
     ]
    }
   ],
   "source": [
    "for dataset in clinical:\n",
    "    print(dataset)\n",
    "    modes = pd.read_csv(os.path.join(beta_peak_indir, dataset, 'readable_tables','modes.txt'), sep=' ')\n",
    "    \n",
    "    if dataset == 'TCGA':\n",
    "        modes = modes.rename(index=epi_util.sampleToPatientID)\n",
    "    \n",
    "    clinical[dataset]['beta_A'] = modes.apply(lambda x: np.sort(x)[0], axis=1)\n",
    "    clinical[dataset]['beta_middle'] = modes.apply(lambda x: np.sort(x)[1], axis=1)\n",
    "    clinical[dataset]['beta_B'] = modes.apply(lambda x: np.sort(x)[2], axis=1)\n",
    "\n",
    "    clinical[dataset]['avg_n_flips_estA'] = -np.log(1 - 2 * clinical[dataset]['beta_A']) / 2\n",
    "    clinical[dataset]['avg_n_flips_estB'] = -np.log(2 * clinical[dataset]['beta_B'] - 1) / 2\n",
    "    clinical[dataset]['avg_n_flips'] = (clinical[dataset]['avg_n_flips_estA'] + clinical[dataset]['avg_n_flips_estB'])\n",
    "    \n",
    "    clinical[dataset] = clinical[dataset].loc[(clinical[dataset]['beta_middle'] >= 0.4) & (clinical[dataset]['beta_middle'] <= 0.6)]\n",
    "    \n",
    "clinical['TCGA'] = clinical['TCGA'].loc[clinical['TCGA']['subtype.pam50'] != 'Normal']\n",
    "clinical['Ringner'] = clinical['Ringner'].loc[clinical['Ringner']['genefu.pam50.subtype'] != 'Normal']"
   ]
  },
  {
   "cell_type": "code",
   "execution_count": 5,
   "id": "18ab6564",
   "metadata": {},
   "outputs": [],
   "source": [
    "# scale factor\n",
    "sf = 0.4\n",
    "\n",
    "figsize = np.array([7, 6])\n",
    "labelfontsize = 25\n",
    "ticksfontsize = 18\n",
    "signif_fontsize = 14\n",
    "opacity = 0.8\n",
    "linewidth = 1\n",
    "fliersize = 1\n",
    "\n",
    "sns.set(rc={\"savefig.bbox\":'tight', 'axes.linewidth':sf}, font_scale=1, style='ticks')"
   ]
  },
  {
   "cell_type": "code",
   "execution_count": 6,
   "id": "acfe29e0",
   "metadata": {},
   "outputs": [],
   "source": [
    "phi = pd.read_table(os.path.join(beta_peak_indir, 'TCGA', 'readable_tables', 'phi.txt'), sep=' ').rename(index=lambda x:epi_util.sampleToPatientID(x.replace('.', '-')))\n"
   ]
  },
  {
   "cell_type": "code",
   "execution_count": 7,
   "id": "c2991aab",
   "metadata": {
    "scrolled": false
   },
   "outputs": [
    {
     "data": {
      "image/png": "[encoded data removed]",
      "text/plain": [
       "<Figure size 463.68x138.24 with 3 Axes>"
      ]
     },
     "metadata": {
      "needs_background": "light"
     },
     "output_type": "display_data"
    }
   ],
   "source": [
    "patient_list = {'Tum1':'TCGA-B6-A1KF',\n",
    "               'Tum2':'TCGA-B6-A0RO',\n",
    "               'Tum3':'TCGA-E2-A1B1'}\n",
    "\n",
    "fig, axes = plt.subplots(1, len(patient_list), figsize=np.array(figsize) * [2.3, 0.8] * sf)\n",
    "fig.tight_layout(pad=0.2)\n",
    "\n",
    "beta_values_balancedSites_TCGA = pd.read_table(os.path.join(TCGA_clinical_dir, 'cohort1.methyl.balancedSites.tsv'),\n",
    "                      index_col=0).rename(columns=epi_util.sampleToPatientID)\n",
    "alpha = pd.read_table(os.path.join(beta_peak_indir, 'TCGA', 'readable_tables', 'alpha.txt'), sep=' ').rename(index=epi_util.sampleToPatientID)\n",
    "delta = pd.read_table(os.path.join(beta_peak_indir, 'TCGA', 'readable_tables', 'delta.txt'), sep=' ').rename(index=epi_util.sampleToPatientID)\n",
    "phi = pd.read_table(os.path.join(beta_peak_indir, 'TCGA', 'readable_tables', 'phi.txt'), sep=' ').rename(index=lambda x:epi_util.sampleToPatientID(x.replace('.', '-')))\n",
    "\n",
    "chosen_tumor_colors = [consts['palette_jco'][i] for i in [0, 1, 3]]\n",
    "\n",
    "for i, patient in enumerate(patient_list):\n",
    "    ax = axes[i]\n",
    "    \n",
    "    samp = patient_list[patient]\n",
    "    cur_color = chosen_tumor_colors[i]\n",
    "    \n",
    "    sns.histplot(ax=ax, x=beta_values_balancedSites_TCGA[samp], stat='density',\n",
    "#                 color=cur_color,\n",
    "                 color=consts['palette_jco'][2],\n",
    "                 bins=12, alpha=opacity,\n",
    "                binrange=(0, 1))\n",
    "    \n",
    "    ax.set_title(f'{patient} ({samp})', fontsize=labelfontsize * sf)\n",
    "    ax.set_xlabel('β', fontsize=labelfontsize * sf)\n",
    "    if i == 0:\n",
    "        ax.set_ylabel('Density', fontsize=labelfontsize * sf)\n",
    "    else:\n",
    "        ax.set_ylabel('')\n",
    "    ax.tick_params(axis='both', labelsize=ticksfontsize * sf, width=sf, length=8 * sf)\n",
    "\n",
    "    frac_list = phi.loc[samp]\n",
    "    \n",
    "    y_max = float('-Inf')\n",
    "    \n",
    "    for j, model in enumerate(alpha.columns):\n",
    "        \n",
    "        a = alpha.loc[samp, model]\n",
    "        d = delta.loc[samp, model]\n",
    "\n",
    "        x = np.linspace(0, 0.99, 100)\n",
    "        y = beta.pdf(x, a, d) * frac_list[j]\n",
    "        ax.plot(x, y, lw=3, alpha=0.9,\n",
    "                color=chosen_tumor_colors[j]\n",
    "               )\n",
    "        \n",
    "        y_max = max(y_max, ax.get_ylim()[1])\n",
    "\n",
    "for i in range(len(patient_list)):\n",
    "    ax = axes[i]\n",
    "    ax.set_ylim(0, y_max * 1.03)\n",
    "\n",
    "fig.savefig(os.path.join(figure_outdir, 'example_peak_decomp.pdf'), format='pdf', pad_inches=0.1)"
   ]
  },
  {
   "cell_type": "code",
   "execution_count": 8,
   "id": "74654336",
   "metadata": {},
   "outputs": [],
   "source": [
    "predictors = [\n",
    "    'Stroma', 'Lipid', 'IR', 'Mitotic Checkpoint', 'Mitotic Progression', 'Basal', 'Early Response', 'SR',\n",
    "    'FGA', 'LUMP'\n",
    "]\n",
    "\n",
    "response = 'log_spf'\n",
    "\n",
    "train_data = clinical['Ringner'].loc[clinical['Ringner']['in_analysis_dataset'], predictors + [response]].dropna()\n",
    "train_X = train_data[predictors]\n",
    "train_y = train_data[response]\n",
    "\n",
    "TCGA_X = clinical['TCGA'].loc[clinical['TCGA']['in_analysis_dataset'], predictors].dropna()"
   ]
  },
  {
   "cell_type": "code",
   "execution_count": 9,
   "id": "6a52646d",
   "metadata": {},
   "outputs": [
    {
     "name": "stdout",
     "output_type": "stream",
     "text": [
      "alpha = 0.01\n",
      "l1 ratio = 0.1\n",
      "R^2 = 0.71\n"
     ]
    }
   ],
   "source": [
    "eNetCV = ElasticNetCV(alphas=np.linspace(0.01, 0.99, 20), l1_ratio=[.1, .5, .7, .9, .95, .99, 1])\n",
    "eNetCV.fit(train_X, train_y)\n",
    "\n",
    "print(f'alpha = {eNetCV.alpha_}')\n",
    "print(f'l1 ratio = {eNetCV.l1_ratio_}')\n",
    "\n",
    "y_pred = eNetCV.predict(train_X)\n",
    "r2 = r2_score(train_y, y_pred)\n",
    "print(f'R^2 = {r2:.2f}')"
   ]
  },
  {
   "cell_type": "code",
   "execution_count": 10,
   "id": "86cdd965",
   "metadata": {},
   "outputs": [],
   "source": [
    "clinical['TCGA'].loc[TCGA_X.index, response] = eNetCV.predict(TCGA_X)\n",
    "clinical['TCGA']['spf'] = np.exp(clinical['TCGA']['log_spf'])\n",
    "\n",
    "s_phase_duration_hrs = np.mean([12.40, 11.70, 13.60, 12.95, 12.66])\n",
    "s_phase_duration = s_phase_duration_hrs / 24\n",
    "\n",
    "# Growth rate with 1 day as time unit\n",
    "for dataset in clinical:\n",
    "    clinical[dataset]['growth_rate'] = clinical[dataset]['spf'] / s_phase_duration\n",
    "    clinical[dataset]['calendar_age_prod_flip_rate'] = clinical[dataset]['avg_n_flips'] / clinical[dataset]['growth_rate']"
   ]
  },
  {
   "cell_type": "code",
   "execution_count": 11,
   "id": "2eaa1c41",
   "metadata": {},
   "outputs": [
    {
     "name": "stdout",
     "output_type": "stream",
     "text": [
      "10.369010978589543\n",
      "9.218451378295832\n"
     ]
    }
   ],
   "source": [
    "## Mean S-phase durations\n",
    "\n",
    "print(np.mean(1 / clinical['TCGA']['growth_rate']))\n",
    "print(np.mean(1 / clinical['Ringner']['growth_rate']))"
   ]
  },
  {
   "cell_type": "code",
   "execution_count": 12,
   "id": "9b6920df",
   "metadata": {},
   "outputs": [
    {
     "name": "stdout",
     "output_type": "stream",
     "text": [
      "0.1642052837603301\n",
      "0.1995496504832257\n"
     ]
    }
   ],
   "source": [
    "## Mean growth rates\n",
    "\n",
    "print(np.mean(clinical['TCGA']['growth_rate']))\n",
    "print(np.mean(clinical['Ringner']['growth_rate']))"
   ]
  },
  {
   "cell_type": "code",
   "execution_count": 13,
   "id": "beda2a89",
   "metadata": {},
   "outputs": [
    {
     "name": "stdout",
     "output_type": "stream",
     "text": [
      "TCGA-predicted flip rate: 0.0043\n",
      "Lund-predicted flip rate: 0.0039\n"
     ]
    }
   ],
   "source": [
    "## Flip rate\n",
    "\n",
    "flip_rate_TCGA = clinical['TCGA']['calendar_age_prod_flip_rate'].median() / (3 * 365)\n",
    "flip_rate_Ringner = clinical['Ringner']['calendar_age_prod_flip_rate'].median() / (3 * 365)\n",
    "\n",
    "print(f'TCGA-predicted flip rate: {flip_rate_TCGA:.4f}')\n",
    "print(f'Lund-predicted flip rate: {flip_rate_Ringner:.4f}')"
   ]
  },
  {
   "cell_type": "code",
   "execution_count": 14,
   "id": "806be92f",
   "metadata": {},
   "outputs": [
    {
     "data": {
      "text/plain": [
       "0.004353325968286623"
      ]
     },
     "execution_count": 14,
     "metadata": {},
     "output_type": "execute_result"
    }
   ],
   "source": [
    "# combined\n",
    "\n",
    "combined_intermed_df = pd.concat([clinical['TCGA'][['in_analysis_dataset', 'calendar_age_prod_flip_rate']],\n",
    "clinical['Ringner'][['in_analysis_dataset', 'calendar_age_prod_flip_rate']]],\n",
    "          axis=0)\n",
    "flip_rate_est = combined_intermed_df.loc[combined_intermed_df['in_analysis_dataset'],\n",
    "                                         'calendar_age_prod_flip_rate'].median() / (3 * 365)\n",
    "flip_rate_est"
   ]
  },
  {
   "cell_type": "code",
   "execution_count": 15,
   "id": "cd28876f",
   "metadata": {},
   "outputs": [],
   "source": [
    "for dataset in clinical:\n",
    "    clinical[dataset]['mitotic_age'] = clinical[dataset]['avg_n_flips'] / flip_rate_est\n",
    "    clinical[dataset]['calendar_age_years'] = clinical[dataset]['calendar_age_prod_flip_rate'] / flip_rate_est / 365"
   ]
  },
  {
   "cell_type": "code",
   "execution_count": 16,
   "id": "f23df1aa",
   "metadata": {},
   "outputs": [
    {
     "data": {
      "text/plain": [
       "<Axes: title={'center': 'TCGA'}, ylabel='Proliferation rate'>"
      ]
     },
     "execution_count": 16,
     "metadata": {},
     "output_type": "execute_result"
    },
    {
     "data": {
      "image/png": "[encoded data removed]",
      "text/plain": [
       "<Figure size 241.92x224.64 with 1 Axes>"
      ]
     },
     "metadata": {
      "needs_background": "light"
     },
     "output_type": "display_data"
    }
   ],
   "source": [
    "clinical['TCGA'].name = 'TCGA'\n",
    "epi_util.saveBoxPlotNew(clinical['TCGA'], 'subtype.pam50', restrict=True,\n",
    "                   var_y='growth_rate', ylabel='Proliferation rate',\n",
    "                   outdir='figures', title=True, use_groups = ['LumA', 'LumB', 'Her2', 'Basal'],\n",
    "                   palette=consts['palette_jco'], plot_ymax_mult=0.15, signif_bar_heights=0.1,\n",
    "                   figsize=figsize * [1.2, 1.3], labelfontsize=labelfontsize, ticksfontsize=ticksfontsize, sf=sf, linewidth=linewidth, fliersize=fliersize)"
   ]
  },
  {
   "cell_type": "code",
   "execution_count": 20,
   "id": "d9f3865c",
   "metadata": {},
   "outputs": [
    {
     "data": {
      "text/plain": [
       "<Axes: title={'center': 'Lund'}, ylabel='Proliferation rate'>"
      ]
     },
     "execution_count": 20,
     "metadata": {},
     "output_type": "execute_result"
    },
    {
     "data": {
      "image/png": "[encoded data removed]",
      "text/plain": [
       "<Figure size 241.92x224.64 with 1 Axes>"
      ]
     },
     "metadata": {
      "needs_background": "light"
     },
     "output_type": "display_data"
    }
   ],
   "source": [
    "clinical['Ringner'].name = 'Lund'\n",
    "epi_util.saveBoxPlotNew(clinical['Ringner'], 'genefu.pam50.subtype', restrict=True,\n",
    "                   var_y='growth_rate', ylabel='Proliferation rate',\n",
    "                   outdir='figures', title=True, use_groups = ['LumA', 'LumB', 'Her2', 'Basal'],\n",
    "                   palette=consts['palette_jco'], plot_ymax_mult=0.15, signif_bar_heights=0.05,\n",
    "                   figsize=figsize * [1.2, 1.3], labelfontsize=labelfontsize, ticksfontsize=ticksfontsize, sf=sf, linewidth=linewidth, fliersize=fliersize)"
   ]
  },
  {
   "cell_type": "code",
   "execution_count": 23,
   "id": "2539ebce",
   "metadata": {},
   "outputs": [
    {
     "data": {
      "image/png": "[encoded data removed]",
      "text/plain": [
       "<Figure size 241.92x172.8 with 1 Axes>"
      ]
     },
     "metadata": {
      "needs_background": "light"
     },
     "output_type": "display_data"
    }
   ],
   "source": [
    "fig, ax = plt.subplots(figsize=figsize * [1.2, 1] * sf)\n",
    "\n",
    "df_ch1 = pd.DataFrame({'mitotic_age':clinical['TCGA'].loc[clinical['TCGA']['in_analysis_dataset'], 'mitotic_age'],\n",
    "                       'Subtype':clinical['TCGA'].loc[clinical['TCGA']['in_analysis_dataset'], 'subtype.pam50'],\n",
    "                       'cohort':'TCGA'}).dropna()\n",
    "df_ch2 = pd.DataFrame({'mitotic_age':clinical['Ringner'].loc[clinical['Ringner']['in_analysis_dataset'], 'mitotic_age'],\n",
    "                       'Subtype':clinical['Ringner'].loc[clinical['Ringner']['in_analysis_dataset'], 'genefu.pam50.subtype'],\n",
    "                       'cohort':'Lund'}).dropna()\n",
    "df_combined = pd.concat([df_ch1, df_ch2], axis=0)\n",
    "\n",
    "color_list = consts['palette_jco'][:4]\n",
    "color_dict = dict(zip(['LumA', 'LumB', 'Her2', 'Basal'], color_list))\n",
    "\n",
    "sns.swarmplot(ax=ax, data=df_combined, x='cohort',\n",
    "              y='mitotic_age',\n",
    "              hue='Subtype',\n",
    "              palette=color_dict,\n",
    "              legend=False,\n",
    "             s=12 * sf**2)\n",
    "\n",
    "ax.set_title(f'~{flip_rate_est:.3f} (de)methylation events/division/allele', fontsize=labelfontsize * sf)\n",
    "ax.set_xlabel('Cohort', fontsize=labelfontsize * sf)\n",
    "ax.set_ylabel('Mitotic age (generations)', fontsize=labelfontsize * sf)\n",
    "\n",
    "ax.set_xticks(ax.get_xticks(),\n",
    "                  [group + f'\\n(n = {(df_combined[\"cohort\"] == group).sum()})'\n",
    "                   for group in ['TCGA', 'Lund']])\n",
    "ax.tick_params(axis='x', labelsize=labelfontsize * sf, width=sf, length=8 * sf)\n",
    "ax.tick_params(axis='y', labelsize=ticksfontsize * sf, width=sf, length=8 * sf)\n",
    "\n",
    "patches = [mpatches.Patch(color=color_dict[group], label=group) for group in color_dict.keys()]\n",
    "plots_x, plots_y = ax.get_position().get_points()[1]\n",
    "fig.legend(handles=patches,\n",
    "           loc='upper right',\n",
    "           bbox_to_anchor=(0.65, plots_y + .005),\n",
    "           fontsize=0.8*labelfontsize * sf\n",
    "          )\n",
    "\n",
    "fig.savefig(os.path.join(figure_outdir, 'mitotic_age.pdf'), format='pdf', pad_inches=0.1)"
   ]
  },
  {
   "cell_type": "code",
   "execution_count": 24,
   "id": "c60f1e25",
   "metadata": {},
   "outputs": [
    {
     "data": {
      "image/png": "[encoded data removed]",
      "text/plain": [
       "<Figure size 241.92x172.8 with 1 Axes>"
      ]
     },
     "metadata": {
      "needs_background": "light"
     },
     "output_type": "display_data"
    }
   ],
   "source": [
    "fig, ax = plt.subplots(figsize=figsize * [1.2, 1] * sf)\n",
    "\n",
    "df_ch1 = pd.DataFrame({'calendar_age_years':clinical['TCGA'].loc[clinical['TCGA']['in_analysis_dataset'], 'calendar_age_years'],\n",
    "                       'Subtype':clinical['TCGA'].loc[clinical['TCGA']['in_analysis_dataset'], 'subtype.pam50'],\n",
    "                       'cohort':'TCGA'}).dropna()\n",
    "df_ch2 = pd.DataFrame({'calendar_age_years':clinical['Ringner'].loc[clinical['Ringner']['in_analysis_dataset'], 'calendar_age_years'],\n",
    "                       'Subtype':clinical['Ringner'].loc[clinical['Ringner']['in_analysis_dataset'], 'genefu.pam50.subtype'],\n",
    "                       'cohort':'Lund'}).dropna()\n",
    "df_combined = pd.concat([df_ch1, df_ch2], axis=0)\n",
    "\n",
    "color_list = consts['palette_jco'][:4]\n",
    "color_dict = dict(zip(['LumA', 'LumB', 'Her2', 'Basal'], color_list))\n",
    "\n",
    "sns.swarmplot(ax=ax, data=df_combined, x='cohort',\n",
    "              y='calendar_age_years',\n",
    "              hue='Subtype',\n",
    "              palette=color_dict,\n",
    "              legend=False,\n",
    "             s=12 * sf**2)\n",
    "ax.set_xlabel('Cohort', fontsize=labelfontsize * sf)\n",
    "ax.set_ylabel('Calendar age (years)', fontsize=labelfontsize * sf)\n",
    "\n",
    "ax.set_xticks(ax.get_xticks(),\n",
    "                  [group + f'\\n(n = {(df_combined[\"cohort\"] == group).sum()})'\n",
    "                   for group in ['TCGA', 'Lund']])\n",
    "ax.tick_params(axis='x', labelsize=labelfontsize * sf, width=sf, length=8 * sf)\n",
    "ax.tick_params(axis='y', labelsize=ticksfontsize * sf, width=sf, length=8 * sf)\n",
    "\n",
    "patches = [mpatches.Patch(color=color_dict[group], label=group) for group in color_dict.keys()]\n",
    "plots_x, plots_y = ax.get_position().get_points()[1]\n",
    "fig.legend(handles=patches,\n",
    "           loc='upper right',\n",
    "           bbox_to_anchor=(0.65, plots_y + .005),\n",
    "           fontsize=0.8*labelfontsize * sf\n",
    "          )\n",
    "\n",
    "fig.savefig(os.path.join(figure_outdir, 'calendar_age.pdf'), format='pdf', pad_inches=0.1)"
   ]
  }
 ],
 "metadata": {
  "kernelspec": {
   "display_name": "Python 3 (ipykernel)",
   "language": "python",
   "name": "python3"
  },
  "language_info": {
   "codemirror_mode": {
    "name": "ipython",
    "version": 3
   },
   "file_extension": ".py",
   "mimetype": "text/x-python",
   "name": "python",
   "nbconvert_exporter": "python",
   "pygments_lexer": "ipython3",
   "version": "3.9.19"
  }
 },
 "nbformat": 4,
 "nbformat_minor": 5
}
