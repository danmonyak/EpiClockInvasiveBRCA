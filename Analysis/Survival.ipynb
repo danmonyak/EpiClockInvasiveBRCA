{
 "cells": [
  {
   "cell_type": "markdown",
   "id": "c43d953e-0fd5-4d22-80ff-4d31c2418828",
   "metadata": {},
   "source": [
    "# Survival Analysis"
   ]
  },
  {
   "cell_type": "code",
   "execution_count": 1,
   "id": "74e7d698",
   "metadata": {},
   "outputs": [],
   "source": [
    "import pandas as pd\n",
    "import numpy as np\n",
    "import os\n",
    "import sys\n",
    "import seaborn as sns\n",
    "import matplotlib.pyplot as plt\n",
    "from sklearn.model_selection import train_test_split\n",
    "import EpiClockInvasiveBRCA.src.util as epi_util\n",
    "from EpiClockInvasiveBRCA.src.consts import consts as epi_consts\n",
    "import survival"
   ]
  },
  {
   "cell_type": "code",
   "execution_count": 2,
   "id": "c673b69c",
   "metadata": {},
   "outputs": [],
   "source": [
    "TCGA_clinical_dir = os.path.join(epi_consts['official_indir'], 'TCGA')\n",
    "clinical = pd.read_table(os.path.join(TCGA_clinical_dir, 'cohort1.clinical.annotated.tsv'), index_col=0)"
   ]
  },
  {
   "cell_type": "code",
   "execution_count": 22,
   "id": "be356d67",
   "metadata": {},
   "outputs": [],
   "source": [
    "event_type = 'DSS'"
   ]
  },
  {
   "cell_type": "code",
   "execution_count": 23,
   "id": "1a6a5bed",
   "metadata": {},
   "outputs": [
    {
     "name": "stdout",
     "output_type": "stream",
     "text": [
      "392 samples available\n"
     ]
    }
   ],
   "source": [
    "survival_data = pd.read_table(os.path.join(TCGA_clinical_dir, 'survival_BRCA_survival.txt')).drop('sample', axis=1)\n",
    "survival_data.drop_duplicates(inplace=True)\n",
    "survival_data = survival_data.merge(clinical[['in_analysis_dataset', 'c_beta']], left_on='_PATIENT', right_index=True)\n",
    "survival_data = survival_data.loc[survival_data['in_analysis_dataset'], ['_PATIENT', event_type, f'{event_type}.time', 'c_beta']].dropna()\n",
    "print(f'{survival_data.shape[0]} samples available')"
   ]
  },
  {
   "cell_type": "code",
   "execution_count": 24,
   "id": "a71a8294",
   "metadata": {},
   "outputs": [
    {
     "data": {
      "image/png": "[encoded data removed]",
      "text/plain": [
       "<Figure size 576x360 with 1 Axes>"
      ]
     },
     "metadata": {
      "needs_background": "light"
     },
     "output_type": "display_data"
    }
   ],
   "source": [
    "survival_x = survival_data['c_beta'].values.reshape([-1, 1])\n",
    "survival_y = survival.DFtoStrucArray(survival_data, event_type, f'{event_type}.time')\n",
    "survival.plotKaplanSurvivalProbsOverTime(survival_y, event_type, f'{event_type}.time')"
   ]
  },
  {
   "cell_type": "code",
   "execution_count": 25,
   "id": "11542c70",
   "metadata": {},
   "outputs": [
    {
     "name": "stdout",
     "output_type": "stream",
     "text": [
      "Using DSS\n",
      "\n",
      "Splitting data and training model 100 times...\n",
      "Average ROC AUC on training data: 0.484\n",
      "Average ROC AUC on test data: 0.494\n"
     ]
    }
   ],
   "source": [
    "train_score_list = []\n",
    "test_score_list = []\n",
    "\n",
    "n_iters = 100\n",
    "n_iters_mean = n_iters\n",
    "print(f'Using {event_type}\\n')\n",
    "print(f'Splitting data and training model {n_iters} times...')\n",
    "for i in range(n_iters):\n",
    "    survival_x_train, survival_x_test, survival_y_train, survival_y_test = train_test_split(survival_x, survival_y,\n",
    "                                                                                            test_size=0.2)\n",
    "\n",
    "    #with warnings.catch_warnings():\n",
    "    #    warnings.simplefilter(\"ignore\")\n",
    "    estimator = survival.getTrainedEstimator(survival_x_train, survival_y_train)\n",
    "    train_score_list.append(estimator.score(survival_x_train, survival_y_train))\n",
    "    test_score_list.append(estimator.score(survival_x_test, survival_y_test))\n",
    "    \n",
    "print(f'Average ROC AUC on training data: {np.mean(train_score_list):.3f}')\n",
    "print(f'Average ROC AUC on test data: {np.mean(test_score_list):.3f}')"
   ]
  },
  {
   "cell_type": "code",
   "execution_count": null,
   "id": "be379173",
   "metadata": {},
   "outputs": [],
   "source": []
  },
  {
   "cell_type": "code",
   "execution_count": null,
   "id": "1360569d",
   "metadata": {},
   "outputs": [],
   "source": []
  }
 ],
 "metadata": {
  "kernelspec": {
   "display_name": "Python 3 (ipykernel)",
   "language": "python",
   "name": "python3"
  },
  "language_info": {
   "codemirror_mode": {
    "name": "ipython",
    "version": 3
   },
   "file_extension": ".py",
   "mimetype": "text/x-python",
   "name": "python",
   "nbconvert_exporter": "python",
   "pygments_lexer": "ipython3",
   "version": "3.9.19"
  }
 },
 "nbformat": 4,
 "nbformat_minor": 5
}
