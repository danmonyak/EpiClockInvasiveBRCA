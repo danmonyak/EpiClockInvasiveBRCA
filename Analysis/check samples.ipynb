{
 "cells": [
  {
   "cell_type": "code",
   "execution_count": 3,
   "id": "3249bb1a",
   "metadata": {},
   "outputs": [],
   "source": [
    "import pandas as pd\n",
    "import numpy as np\n",
    "import os\n",
    "import EpiClockInvasiveBRCA.src.util as epi_util\n",
    "from EpiClockInvasiveBRCA.src.consts import consts"
   ]
  },
  {
   "cell_type": "code",
   "execution_count": 11,
   "id": "b3d1552d",
   "metadata": {},
   "outputs": [],
   "source": [
    "getSample = lambda x:'-'.join(x.split('-')[:4])"
   ]
  },
  {
   "cell_type": "code",
   "execution_count": 4,
   "id": "d45ab7f9",
   "metadata": {},
   "outputs": [],
   "source": [
    "TCGA_clinical_dir = os.path.join(consts['official_indir'], 'TCGA')"
   ]
  },
  {
   "cell_type": "code",
   "execution_count": 23,
   "id": "13eed952",
   "metadata": {},
   "outputs": [],
   "source": [
    "with open(os.path.join(TCGA_clinical_dir, 'header_methyl.txt'), 'r') as f:\n",
    "    line = f.readline()\n",
    "    sample_list = line.rstrip('\\n').replace('\"', '').split('\\t')\n",
    "    methyl_samples = np.array([getSample(samp) for samp in sample_list])\n",
    "    \n",
    "with open(os.path.join(TCGA_clinical_dir, 'header_rna.txt'), 'r') as f:\n",
    "    line = f.readline()\n",
    "    sample_list = line.rstrip('\\n').replace('\"', '').split('\\t')\n",
    "    rna_samples = np.array([getSample(samp) for samp in sample_list])"
   ]
  },
  {
   "cell_type": "code",
   "execution_count": 5,
   "id": "1c92104d",
   "metadata": {},
   "outputs": [],
   "source": [
    "CNV_df = pd.read_table(\n",
    "    os.path.join(TCGA_clinical_dir, 'cohort1.cnv.tsv'),\n",
    "    sep='\\t')"
   ]
  },
  {
   "cell_type": "code",
   "execution_count": 33,
   "id": "0046f749",
   "metadata": {},
   "outputs": [],
   "source": [
    "CNV_samples = np.unique(CNV_df['Sample'].apply(getSample).values)"
   ]
  },
  {
   "cell_type": "code",
   "execution_count": 42,
   "id": "f6fbab98",
   "metadata": {},
   "outputs": [],
   "source": [
    "methyl_ser = pd.Series(data=methyl_samples, index=[epi_util.sampleToPatientID(samp) for samp in methyl_samples]).rename('methyl')\n",
    "rna_ser = pd.Series(data=rna_samples, index=[epi_util.sampleToPatientID(samp) for samp in rna_samples]).rename('rna')\n",
    "CNV_ser = pd.Series(data=CNV_samples, index=[epi_util.sampleToPatientID(samp) for samp in CNV_samples]).rename('CNV')"
   ]
  },
  {
   "cell_type": "code",
   "execution_count": 43,
   "id": "b5318ba6",
   "metadata": {},
   "outputs": [],
   "source": [
    "assert not methyl_ser.index.duplicated().any()\n",
    "assert not rna_ser.index.duplicated().any()\n",
    "assert not CNV_ser.index.duplicated().any()"
   ]
  },
  {
   "cell_type": "code",
   "execution_count": 58,
   "id": "40e79fbc",
   "metadata": {},
   "outputs": [
    {
     "name": "stdout",
     "output_type": "stream",
     "text": [
      "(408, 2)\n",
      "(407, 2)\n",
      "(407, 2)\n"
     ]
    }
   ],
   "source": [
    "combined = pd.concat([methyl_ser, rna_ser], axis=1).dropna()\n",
    "print(combined.shape)\n",
    "assert (combined['methyl'] == combined['rna']).all()\n",
    "\n",
    "combined = pd.concat([methyl_ser, CNV_ser], axis=1).dropna()\n",
    "print(combined.shape)\n",
    "assert (combined['methyl'] == combined['CNV']).all()\n",
    "\n",
    "combined = pd.concat([CNV_ser, rna_ser], axis=1).dropna()\n",
    "print(combined.shape)\n",
    "assert (combined['CNV'] == combined['rna']).all()"
   ]
  },
  {
   "cell_type": "code",
   "execution_count": 62,
   "id": "818d28eb",
   "metadata": {},
   "outputs": [],
   "source": [
    "methyl_ser.rename('sampleID').to_csv(os.path.join(TCGA_clinical_dir, 'patient_to_sample_IDs.txt'), sep='\\t')"
   ]
  }
 ],
 "metadata": {
  "kernelspec": {
   "display_name": "Python 3 (ipykernel)",
   "language": "python",
   "name": "python3"
  },
  "language_info": {
   "codemirror_mode": {
    "name": "ipython",
    "version": 3
   },
   "file_extension": ".py",
   "mimetype": "text/x-python",
   "name": "python",
   "nbconvert_exporter": "python",
   "pygments_lexer": "ipython3",
   "version": "3.9.19"
  }
 },
 "nbformat": 4,
 "nbformat_minor": 5
}
