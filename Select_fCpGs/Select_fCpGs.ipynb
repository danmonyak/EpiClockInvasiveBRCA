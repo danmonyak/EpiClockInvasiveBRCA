{
 "cells": [
  {
   "cell_type": "markdown",
   "id": "c43d953e-0fd5-4d22-80ff-4d31c2418828",
   "metadata": {},
   "source": [
    "# Select fCpGs"
   ]
  },
  {
   "cell_type": "code",
   "execution_count": 1,
   "id": "1e1c4b14",
   "metadata": {},
   "outputs": [],
   "source": [
    "import pandas as pd\n",
    "import numpy as np\n",
    "import os\n",
    "import sys\n",
    "import seaborn as sns\n",
    "import matplotlib.pyplot as plt\n",
    "import matplotlib.patches as mpatches\n",
    "from scipy.stats import linregress\n",
    "import MolecularClocks.src.methylation_util as m_util\n",
    "from MolecularClocks.src.invasiveCpGs_consts import getConsts\n",
    "import util as local_util\n",
    "\n",
    "consts = getConsts()"
   ]
  },
  {
   "cell_type": "code",
   "execution_count": 2,
   "id": "7f6af29b-c389-4ad7-bc99-cd50380be63f",
   "metadata": {},
   "outputs": [],
   "source": [
    "figure_outdir = 'figures'\n",
    "output_dir = 'outputs'\n",
    "if not os.path.exists(figure_outdir):\n",
    "    os.mkdir(figure_outdir)\n",
    "if not os.path.exists(output_dir):\n",
    "    os.mkdir(output_dir)"
   ]
  },
  {
   "cell_type": "code",
   "execution_count": 3,
   "id": "8a56961d",
   "metadata": {},
   "outputs": [
    {
     "name": "stdout",
     "output_type": "stream",
     "text": [
      "Selecting CpGs with 634 tumors\n"
     ]
    }
   ],
   "source": [
    "neutral_DNA_CpG_list = local_util.getNeutralDNACpGs()\n",
    "data = local_util.getDataDict()"
   ]
  },
  {
   "cell_type": "markdown",
   "id": "1d1844d3-1152-4b8f-a5a2-09c10377aa5a",
   "metadata": {},
   "source": [
    "## Generalizability/Sensitivity Tests"
   ]
  },
  {
   "cell_type": "code",
   "execution_count": 4,
   "id": "0c6fa8b3",
   "metadata": {},
   "outputs": [],
   "source": [
    "assert not data['tumor']['clinical'].loc[data['tumor']['beta_values'].columns.to_series().apply(lambda x:x[:-4]), 'reason_purity'].any()\n",
    "assert data['tumor']['clinical'].loc[data['tumor']['beta_values'].columns.to_series().apply(lambda x:x[:-4]), 'in_CpG_dataset'].all()"
   ]
  },
  {
   "cell_type": "code",
   "execution_count": 5,
   "id": "5194c20f-951d-4499-bd0c-c66e9054df2f",
   "metadata": {},
   "outputs": [
    {
     "name": "stdout",
     "output_type": "stream",
     "text": [
      "444 sites shared\n",
      "r = 0.998727038265223\n"
     ]
    }
   ],
   "source": [
    "# Test generalizability of the method\n",
    "\n",
    "balanced_CpGs_only_ductals = local_util.gen_CpG_set(data, neutral_DNA_CpG_list, only_ductals=True)\n",
    "balanced_CpGs_all_tumors = local_util.gen_CpG_set(data, neutral_DNA_CpG_list, only_ductals=False)\n",
    "\n",
    "c_beta_only_ductals = 1 - data['tumor']['beta_values'].loc[balanced_CpGs_only_ductals].std(axis=0)\n",
    "c_beta_all_tumors = 1 - data['tumor']['beta_values'].loc[balanced_CpGs_all_tumors].std(axis=0)\n",
    "\n",
    "print(f'{np.intersect1d(balanced_CpGs_only_ductals, balanced_CpGs_all_tumors).shape[0]} sites shared')\n",
    "print(f'r = {linregress(c_beta_only_ductals, c_beta_all_tumors).rvalue}')"
   ]
  },
  {
   "cell_type": "code",
   "execution_count": 6,
   "id": "84b862f7-cf03-4ace-83ed-64d2d9a9addb",
   "metadata": {},
   "outputs": [
    {
     "name": "stdout",
     "output_type": "stream",
     "text": [
      "267 original sites in rand split 1\n",
      "233 original sites in rand split 2\n",
      "r = 0.9900674884195126\n"
     ]
    }
   ],
   "source": [
    "# Test sensitivity of the sites\n",
    "# Pick 1000 most variable sites and divide them in half randomly\n",
    "# Calculate c_beta for each tumor using each set of sites\n",
    "# Calculate correlation between the two c_beta values for each tumor\n",
    "\n",
    "balanced_CpGs_all_tumors = local_util.gen_CpG_set(data, neutral_DNA_CpG_list, only_ductals=False)\n",
    "\n",
    "balanced_CpGs_all_tumors_1000 = local_util.gen_CpG_set(data, neutral_DNA_CpG_list, only_ductals=False, n_select=1000)\n",
    "np.random.shuffle(balanced_CpGs_all_tumors_1000)\n",
    "\n",
    "rand_split_1 = balanced_CpGs_all_tumors_1000[:500]\n",
    "rand_split_2 = balanced_CpGs_all_tumors_1000[500:]\n",
    "\n",
    "c_beta_all_tumors = 1 - data['tumor']['beta_values'].loc[balanced_CpGs_all_tumors].std(axis=0)\n",
    "c_beta_rand_split_1 = 1 - data['tumor']['beta_values'].loc[rand_split_1].std(axis=0)\n",
    "c_beta_rand_split_2 = 1 - data['tumor']['beta_values'].loc[rand_split_2].std(axis=0)\n",
    "\n",
    "print(f'{np.intersect1d(rand_split_1, balanced_CpGs_all_tumors).shape[0]} original sites in rand split 1')\n",
    "print(f'{np.intersect1d(rand_split_2, balanced_CpGs_all_tumors).shape[0]} original sites in rand split 2')\n",
    "\n",
    "print(f'r = {linregress(c_beta_rand_split_1, c_beta_rand_split_2).rvalue}')"
   ]
  },
  {
   "cell_type": "code",
   "execution_count": 10,
   "id": "5a2261bb",
   "metadata": {},
   "outputs": [
    {
     "name": "stdout",
     "output_type": "stream",
     "text": [
      "Saved file.\n"
     ]
    }
   ],
   "source": [
    "balanced_CpGs_1000_filepath = os.path.join(output_dir, 'balanced_CpGs_1000.txt')\n",
    "if os.path.exists(balanced_CpGs_1000_filepath):\n",
    "    existing_set = np.loadtxt(balanced_CpGs_1000_filepath, dtype=str)\n",
    "    assert np.all(balanced_CpGs_all_tumors_1000 == existing_set)\n",
    "    print('Current output matches existing file.')\n",
    "else:\n",
    "    np.savetxt(balanced_CpGs_1000_filepath, balanced_CpGs_all_tumors_1000, fmt='%s')\n",
    "    print('Saved file.')"
   ]
  },
  {
   "cell_type": "markdown",
   "id": "9e20a1a3-27e9-4fb8-951d-7a0a808795ae",
   "metadata": {},
   "source": [
    "## Select 500 CpGs"
   ]
  },
  {
   "cell_type": "code",
   "execution_count": 16,
   "id": "bf040d03-0252-46f5-bc99-38d430adc1f3",
   "metadata": {},
   "outputs": [],
   "source": [
    "balanced_CpGs_final_set = local_util.gen_CpG_set(data, neutral_DNA_CpG_list, only_ductals=False)\n",
    "\n",
    "balanced_CpGs_filepath = os.path.join(output_dir, 'balanced_CpGs.txt')\n",
    "if os.path.exists(balanced_CpGs_filepath):\n",
    "    existing_set = np.loadtxt(balanced_CpGs_filepath, dtype=str)\n",
    "    assert np.all(balanced_CpGs_final_set == existing_set)\n",
    "    print('Current output matches existing file.')\n",
    "else:\n",
    "    np.savetxt(balanced_CpGs_filepath, balanced_CpGs_final_set, fmt='%s')"
   ]
  },
  {
   "cell_type": "code",
   "execution_count": 17,
   "id": "de1733c0-77a3-481f-87a5-859610bfc060",
   "metadata": {},
   "outputs": [
    {
     "name": "stdout",
     "output_type": "stream",
     "text": [
      "8 tumors were filtered for having >5% missing values for the 500 selected sites.\n"
     ]
    }
   ],
   "source": [
    "final_sample_set = data['tumor']['beta_values'].columns[data['tumor']['beta_values'].loc[balanced_CpGs_final_set].isna().mean(axis=0) < 0.05]\n",
    "n_before = data['tumor']['beta_values'].shape[1]\n",
    "n_after = final_sample_set.shape[0]\n",
    "print(f'{n_before - n_after} tumors were filtered for having >5% missing values for the 500 selected sites.')"
   ]
  },
  {
   "cell_type": "code",
   "execution_count": 18,
   "id": "ed744325",
   "metadata": {},
   "outputs": [],
   "source": [
    "c_beta_final_samples = 1 - data['tumor']['beta_values'].loc[balanced_CpGs_final_set, final_sample_set].std(axis=0)\n",
    "\n",
    "c_beta_filepath = os.path.join(output_dir, 'cohort.T1.c_beta.txt')\n",
    "if os.path.exists(c_beta_filepath):\n",
    "    existing_c_beta = pd.read_table(c_beta_filepath, index_col=0, header=None).squeeze(\"columns\")\n",
    "    assert (c_beta_final_samples - existing_c_beta < 1e-6).all()\n",
    "    print('Current output matches existing file.')\n",
    "else:\n",
    "    c_beta_final_samples.to_csv(c_beta_filepath, sep='\\t', header=False)"
   ]
  },
  {
   "cell_type": "code",
   "execution_count": 19,
   "id": "e88be3cf",
   "metadata": {},
   "outputs": [],
   "source": [
    "data['tumor']['beta_values'].loc[balanced_CpGs_final_set].to_csv(\n",
    "    os.path.join(local_util.TCGA_datadir, 'cohort1.methyl.balancedSites.tsv'),\n",
    "    sep='\\t'\n",
    ")"
   ]
  },
  {
   "cell_type": "markdown",
   "id": "cd1ecc37-ce7b-47b9-abbf-1b5e1bcb692d",
   "metadata": {},
   "source": [
    "## Figures"
   ]
  },
  {
   "cell_type": "code",
   "execution_count": 21,
   "id": "fa0d52b2-2967-4ba3-aa87-fbd083673a12",
   "metadata": {},
   "outputs": [],
   "source": [
    "# Add beta_means, beta_stds, beta_nans to data dict\n",
    "local_util.addMeanStdsNans(data)"
   ]
  },
  {
   "cell_type": "markdown",
   "id": "801d447e-5fa7-41df-bb59-62d377d6e37b",
   "metadata": {},
   "source": [
    "### Visualization of Site Selection - Figures 1A and 1B"
   ]
  },
  {
   "cell_type": "code",
   "execution_count": 22,
   "id": "391e0bc7",
   "metadata": {},
   "outputs": [],
   "source": [
    "# scale factor\n",
    "sf = 0.4\n",
    "\n",
    "figsize = np.array([9, 7])\n",
    "labelfontsize = 25\n",
    "ticksfontsize = 18\n",
    "opacity = 0.8\n",
    "\n",
    "sns.set(rc={\"savefig.bbox\":'tight', 'axes.linewidth':sf}, font_scale=1, style='ticks')"
   ]
  },
  {
   "cell_type": "code",
   "execution_count": 23,
   "id": "38715101-46f2-4a4c-9346-5c776b0466f6",
   "metadata": {},
   "outputs": [
    {
     "data": {
      "image/png": "[encoded data removed]",
      "text/plain": [
       "<Figure size 259.2x201.6 with 1 Axes>"
      ]
     },
     "metadata": {
      "needs_background": "light"
     },
     "output_type": "display_data"
    }
   ],
   "source": [
    "fig, ax = plt.subplots(1, 1, figsize=figsize * sf)\n",
    "\n",
    "sns.scatterplot(ax=ax, x=data['tumor']['beta_means'].loc[neutral_DNA_CpG_list],\n",
    "                y=data['normal']['beta_means'].loc[neutral_DNA_CpG_list], s = 5 * sf**2,\n",
    "                color=consts['palette_jco'][2], alpha=opacity\n",
    "               )\n",
    "ax.set_xlabel('Average β in TCGA', fontsize=labelfontsize * sf)\n",
    "ax.set_ylabel('Average β in normals', fontsize=labelfontsize * sf)\n",
    "ax.set_title(f'Neutral CpGs (n = {len(neutral_DNA_CpG_list)})', fontsize=labelfontsize * sf)\n",
    "ax.tick_params(axis='both', labelsize=ticksfontsize * sf, width=sf, length=8 * sf)\n",
    "            \n",
    "lower = 0.4\n",
    "upper = 0.6\n",
    "\n",
    "ax.fill([lower, upper, upper, lower], [lower, lower, upper, upper],\n",
    "        color=consts['palette_jco'][3], alpha=0.5, lw=4 * sf)\n",
    "\n",
    "fig.savefig(os.path.join(figure_outdir, 'Figure_2_A.pdf'), format='pdf', pad_inches=0.1)"
   ]
  },
  {
   "cell_type": "code",
   "execution_count": 24,
   "id": "c1aa7972",
   "metadata": {},
   "outputs": [
    {
     "data": {
      "image/png": "[encoded data removed]",
      "text/plain": [
       "<Figure size 259.2x201.6 with 1 Axes>"
      ]
     },
     "metadata": {
      "needs_background": "light"
     },
     "output_type": "display_data"
    }
   ],
   "source": [
    "## new figure\n",
    "\n",
    "fig, ax = plt.subplots(1, 1, figsize=figsize * sf)\n",
    "\n",
    "balanced_means_CpGs = m_util.getCpG_list(data, local_util.BALANCED_CRITERIA, starting_CpG_list=neutral_DNA_CpG_list)\n",
    "balanced_CpGs_final_set\n",
    "sns.histplot(ax=ax, x=data['tumor']['beta_stds'].loc[balanced_means_CpGs[~np.isin(balanced_means_CpGs, balanced_CpGs_final_set)]],\n",
    "            color=consts['palette_jco'][3], alpha=opacity\n",
    "            )\n",
    "\n",
    "sns.histplot(ax=ax, x=data['tumor']['beta_stds'].loc[balanced_CpGs_final_set],\n",
    "            color=consts['palette_jco'][0], alpha=opacity\n",
    "            )\n",
    "\n",
    "ax.set_xlabel('Intertumor standard deviation of β in TCGA', fontsize=labelfontsize * sf)\n",
    "ax.set_ylabel(ax.get_ylabel(), fontsize=labelfontsize * sf)\n",
    "ax.set_title(f'Neutral and balanced CpGs (n = {len(balanced_means_CpGs)})', fontsize=labelfontsize * sf)\n",
    "ax.tick_params(axis='both', labelsize=ticksfontsize * sf, width=sf, length=8 * sf)\n",
    "\n",
    "fig.savefig(os.path.join(figure_outdir, 'Figure_2_B.pdf'), format='pdf', pad_inches=0.1)"
   ]
  },
  {
   "cell_type": "code",
   "execution_count": null,
   "id": "f580de1c-615f-4942-8ed5-63efb3141f5a",
   "metadata": {},
   "outputs": [],
   "source": [
    "## original figure\n",
    "\n",
    "fig, ax = plt.subplots(1, 1, figsize=(9, 7))\n",
    "\n",
    "balanced_means_CpGs = m_util.getCpG_list(data, local_util.BALANCED_CRITERIA, starting_CpG_list=neutral_DNA_CpG_list)\n",
    "\n",
    "sns.histplot(ax=ax, x=data['tumor']['beta_stds'].loc[balanced_means_CpGs],\n",
    "#             color=consts['palette_jco'][2],\n",
    "            color=consts['palette_jco'][3]\n",
    "            )\n",
    "ax.set_xlabel('Intertumor standard deviation of β in TCGA')\n",
    "ax.set_title(f'Neutral and balanced CpGs (n = {len(balanced_means_CpGs)})')\n",
    "\n",
    "color = consts['palette_jco'][0]\n",
    "\n",
    "cutoff = data['tumor']['beta_stds'].loc[balanced_means_CpGs].sort_values()[-500]\n",
    "ax.axvline(cutoff,\n",
    "          color=color\n",
    "          )\n",
    "\n",
    "xmax = ax.get_xlim()[1]\n",
    "ymax = ax.get_ylim()[1]\n",
    "\n",
    "ax.fill([cutoff, xmax, xmax, cutoff], [0, 0, ymax, ymax], alpha=0.5,\n",
    "#         color='green',\n",
    "        color=color,\n",
    "        lw=0)\n",
    "ax.set_xlim(0, xmax)\n",
    "ax.set_ylim(0, ymax)\n",
    "\n",
    "fig.savefig(os.path.join(figure_outdir, 'Figure_2_B.pdf'), format='pdf', pad_inches=0.1)"
   ]
  },
  {
   "cell_type": "markdown",
   "id": "d4ff50ec-b745-42e0-b60e-bd5731e2f3e2",
   "metadata": {},
   "source": [
    "### Display CpG Examples - Figure 2E"
   ]
  },
  {
   "cell_type": "code",
   "execution_count": 25,
   "id": "294ba91c-585c-4fd9-9062-be6da7acfd79",
   "metadata": {},
   "outputs": [
    {
     "data": {
      "image/png": "[encoded data removed]",
      "text/plain": [
       "<Figure size 596.16x201.6 with 2 Axes>"
      ]
     },
     "metadata": {
      "needs_background": "light"
     },
     "output_type": "display_data"
    }
   ],
   "source": [
    "fig, axes = plt.subplots(1, 2, figsize=figsize * sf * [2.3, 1])\n",
    "\n",
    "CpG_randSamp = np.random.choice(balanced_CpGs_final_set, 2, replace=False)\n",
    "color_dict = {'TCGA':consts['palette_jco'][0], 'Normals':consts['palette_jco'][3]}\n",
    "patches = [mpatches.Patch(color=color_dict[cohort], label=cohort) for cohort in color_dict.keys()]\n",
    "\n",
    "plots_x, plots_y = axes[0].get_position().get_points()[1]\n",
    "fig.legend(handles=patches,\n",
    "           loc='upper left',\n",
    "           bbox_to_anchor=(plots_x - .33, plots_y - 0.05),\n",
    "           fontsize=0.8*labelfontsize * sf\n",
    "          )\n",
    "\n",
    "CpGs_chosen = ['cg07582923', 'cg04197086']\n",
    "\n",
    "ymax_max = 0\n",
    "for i, CpG in enumerate(CpGs_chosen):\n",
    "    ax = axes[i]\n",
    "    \n",
    "    plot_data = pd.concat([\n",
    "        pd.DataFrame({'beta':data['tumor']['beta_values_SELECTION'].loc[CpG], 'Cohort':'TCGA'}),\n",
    "        pd.DataFrame({'beta':data['normal']['beta_values_SELECTION'].loc[CpG], 'Cohort':'Normals'})\n",
    "    ], axis=0)\n",
    "    sns.histplot(ax=ax, data=plot_data, x='beta', hue='Cohort',\n",
    "                 common_norm=False, stat='proportion', palette=color_dict, legend=False, alpha=opacity)\n",
    "    \n",
    "    ax.set_xlabel('β', fontsize=labelfontsize * sf)\n",
    "    ax.set_title(CpG, fontsize=labelfontsize * sf)\n",
    "    ax.tick_params(axis='both', labelsize=ticksfontsize * sf, width=sf, length=8 * sf)\n",
    "\n",
    "    ymax_max = max(ymax_max, ax.get_ylim()[1])\n",
    "\n",
    "axes[0].set_ylim(0, ymax_max)\n",
    "axes[1].set_ylim(0, ymax_max)\n",
    "\n",
    "axes[0].set_xlim(0, 1)\n",
    "axes[1].set_xlim(0, 1)\n",
    "\n",
    "axes[0].set_ylabel(axes[1].get_ylabel(), fontsize=labelfontsize * sf)\n",
    "axes[1].set_ylabel('')\n",
    "\n",
    "fig.savefig(os.path.join(figure_outdir, 'Figure_2_E.pdf'), format='pdf', pad_inches=0.1)"
   ]
  },
  {
   "cell_type": "markdown",
   "id": "db990364-32e3-4db9-9279-72808a84b9f1",
   "metadata": {},
   "source": [
    "## Plot a sample of CpGs"
   ]
  },
  {
   "cell_type": "code",
   "execution_count": 164,
   "id": "270bb26a-3bcc-4766-9655-e649108a6901",
   "metadata": {},
   "outputs": [
    {
     "ename": "NameError",
     "evalue": "name 'label' is not defined",
     "output_type": "error",
     "traceback": [
      "\u001b[0;31m---------------------------------------------------------------------------\u001b[0m",
      "\u001b[0;31mNameError\u001b[0m                                 Traceback (most recent call last)",
      "\u001b[0;32m/var/folders/m9/kv2y3r0s0p1_cl3s3py1wprh0000gn/T/ipykernel_47450/4038539510.py\u001b[0m in \u001b[0;36m<module>\u001b[0;34m\u001b[0m\n\u001b[1;32m      1\u001b[0m m_util.plotCpGDists(\n\u001b[0;32m----> 2\u001b[0;31m     \u001b[0mextra_title\u001b[0m \u001b[0;34m=\u001b[0m \u001b[0;34mf'{label}\\n'\u001b[0m\u001b[0;34m,\u001b[0m\u001b[0;34m\u001b[0m\u001b[0;34m\u001b[0m\u001b[0m\n\u001b[0m\u001b[1;32m      3\u001b[0m     \u001b[0mCpG_list\u001b[0m\u001b[0;34m=\u001b[0m\u001b[0mCpG_list\u001b[0m\u001b[0;34m,\u001b[0m\u001b[0;34m\u001b[0m\u001b[0;34m\u001b[0m\u001b[0m\n\u001b[1;32m      4\u001b[0m     \u001b[0moutfile\u001b[0m\u001b[0;34m=\u001b[0m\u001b[0;32mTrue\u001b[0m\u001b[0;34m,\u001b[0m\u001b[0;34m\u001b[0m\u001b[0;34m\u001b[0m\u001b[0m\n\u001b[1;32m      5\u001b[0m     \u001b[0moutfile_name\u001b[0m\u001b[0;34m=\u001b[0m\u001b[0moutfile_name\u001b[0m\u001b[0;34m,\u001b[0m\u001b[0;34m\u001b[0m\u001b[0;34m\u001b[0m\u001b[0m\n",
      "\u001b[0;31mNameError\u001b[0m: name 'label' is not defined"
     ]
    }
   ],
   "source": [
    "m_util.plotCpGDists(\n",
    "#     extra_title = f'{label}\\n',\n",
    "    CpG_list=CpG_list,\n",
    "    outfile=True,\n",
    "    outfile_name=outfile_name,\n",
    "    outdir=outdir,\n",
    "    dim=(6, 5)\n",
    ")"
   ]
  }
 ],
 "metadata": {
  "kernelspec": {
   "display_name": "Python 3 (ipykernel)",
   "language": "python",
   "name": "python3"
  },
  "language_info": {
   "codemirror_mode": {
    "name": "ipython",
    "version": 3
   },
   "file_extension": ".py",
   "mimetype": "text/x-python",
   "name": "python",
   "nbconvert_exporter": "python",
   "pygments_lexer": "ipython3",
   "version": "3.9.19"
  }
 },
 "nbformat": 4,
 "nbformat_minor": 5
}
