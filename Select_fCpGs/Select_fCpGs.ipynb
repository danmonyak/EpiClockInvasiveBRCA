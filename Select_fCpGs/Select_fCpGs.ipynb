{
 "cells": [
  {
   "cell_type": "markdown",
   "id": "c43d953e-0fd5-4d22-80ff-4d31c2418828",
   "metadata": {},
   "source": [
    "# Select fCpGs"
   ]
  },
  {
   "cell_type": "code",
   "execution_count": 1,
   "id": "1e1c4b14",
   "metadata": {},
   "outputs": [],
   "source": [
    "import pandas as pd\n",
    "import numpy as np\n",
    "import os\n",
    "import sys\n",
    "import seaborn as sns\n",
    "import matplotlib.pyplot as plt\n",
    "import matplotlib.patches as mpatches\n",
    "from scipy.stats import linregress, spearmanr, ttest_ind\n",
    "from math import ceil\n",
    "import MolecularClocks.src.methylation_util as m_util\n",
    "from MolecularClocks.src.merge_pdfs import merge_pdfs\n",
    "from MolecularClocks.src.invasiveCpGs_consts import getConsts\n",
    "# from expandAnnotations import expand\n",
    "import util as local_util\n",
    "\n",
    "consts = getConsts()\n",
    "\n",
    "sns.set(rc={\"savefig.bbox\":'tight'}, font_scale=1.2)"
   ]
  },
  {
   "cell_type": "code",
   "execution_count": null,
   "id": "b7b8a8fb",
   "metadata": {},
   "outputs": [],
   "source": [
    "neutral_DNA_CpG_list = local_util.getNeutralDNACpGs()\n",
    "data = local_util.getDataDict()"
   ]
  },
  {
   "cell_type": "code",
   "execution_count": null,
   "id": "7f6af29b-c389-4ad7-bc99-cd50380be63f",
   "metadata": {},
   "outputs": [],
   "source": [
    "figure_outdir = 'figures'\n",
    "if not os.path.exists(figure_outdir):\n",
    "    os.mkdir(figure_outdir)"
   ]
  },
  {
   "cell_type": "markdown",
   "id": "1d1844d3-1152-4b8f-a5a2-09c10377aa5a",
   "metadata": {
    "jp-MarkdownHeadingCollapsed": true
   },
   "source": [
    "## Generalizability/Sensitivity Tests"
   ]
  },
  {
   "cell_type": "code",
   "execution_count": 3,
   "id": "5194c20f-951d-4499-bd0c-c66e9054df2f",
   "metadata": {},
   "outputs": [
    {
     "name": "stdout",
     "output_type": "stream",
     "text": [
      "462 sites shared\n",
      "r = 0.9976461891254752\n"
     ]
    }
   ],
   "source": [
    "# Test generalizability of the method\n",
    "# Pick 1000 most variable sites and divide them in half randomly\n",
    "# Calculate c_beta for each tumor using each set of sites\n",
    "# Calculate correlation between the two c_beta values for each tumor\n",
    "\n",
    "balanced_CpGs_only_ductals = local_util.gen_CpG_set(data, neutral_DNA_CpG_list, only_ductals=True)\n",
    "balanced_CpGs_all_tumors = local_util.gen_CpG_set(data, neutral_DNA_CpG_list, only_ductals=False)\n",
    "\n",
    "c_beta_only_ductals = 1 - data['tumor']['beta_values_PURE'].loc[balanced_CpGs_only_ductals].std(axis=0)\n",
    "c_beta_all_tumors = 1 - data['tumor']['beta_values_PURE'].loc[balanced_CpGs_all_tumors].std(axis=0)\n",
    "\n",
    "print(f'{np.intersect1d(balanced_CpGs_only_ductals, balanced_CpGs_all_tumors).shape[0]} sites shared')\n",
    "print(f'r = {linregress(c_beta_only_ductals, c_beta_all_tumors).rvalue}')"
   ]
  },
  {
   "cell_type": "code",
   "execution_count": 3,
   "id": "84b862f7-cf03-4ace-83ed-64d2d9a9addb",
   "metadata": {},
   "outputs": [
    {
     "name": "stdout",
     "output_type": "stream",
     "text": [
      "256 original sites in rand split 1\n",
      "244 original sites in rand split 2\n",
      "r = 0.9685833485738136\n"
     ]
    }
   ],
   "source": [
    "# Test sensitivity of the sites\n",
    "# Pick 1000 most variable sites and divide them in half randomly\n",
    "# Calculate c_beta for each tumor using each set of sites\n",
    "# Calculate correlation between the two c_beta values for each tumor\n",
    "\n",
    "balanced_CpGs_all_tumors = local_util.gen_CpG_set(data, neutral_DNA_CpG_list, only_ductals=False)\n",
    "\n",
    "balanced_CpGs_all_tumors_1000 = local_util.gen_CpG_set(data, neutral_DNA_CpG_list, only_ductals=False, n_select=1000)\n",
    "np.random.shuffle(balanced_CpGs_all_tumors_1000)\n",
    "\n",
    "rand_split_1 = balanced_CpGs_all_tumors_1000[:500]\n",
    "rand_split_2 = balanced_CpGs_all_tumors_1000[500:]\n",
    "\n",
    "c_beta_all_tumors = 1 - data['tumor']['beta_values_PURE'].loc[balanced_CpGs_all_tumors].std(axis=0)\n",
    "c_beta_rand_split_1 = 1 - data['tumor']['beta_values_PURE'].loc[rand_split_1].std(axis=0)\n",
    "c_beta_rand_split_2 = 1 - data['tumor']['beta_values_PURE'].loc[rand_split_2].std(axis=0)\n",
    "\n",
    "print(f'{np.intersect1d(rand_split_1, balanced_CpGs_all_tumors).shape[0]} original sites in rand split 1')\n",
    "print(f'{np.intersect1d(rand_split_2, balanced_CpGs_all_tumors).shape[0]} original sites in rand split 2')\n",
    "\n",
    "print(f'r = {linregress(c_beta_rand_split_1, c_beta_rand_split_2).rvalue}')"
   ]
  },
  {
   "cell_type": "markdown",
   "id": "801d447e-5fa7-41df-bb59-62d377d6e37b",
   "metadata": {},
   "source": [
    "## Visualization of Site Selection"
   ]
  },
  {
   "cell_type": "code",
   "execution_count": 9,
   "id": "38715101-46f2-4a4c-9346-5c776b0466f6",
   "metadata": {},
   "outputs": [
    {
     "ename": "AttributeError",
     "evalue": "module 'util' has no attribute 'addMeanStdsNans'",
     "output_type": "error",
     "traceback": [
      "\u001b[0;31m---------------------------------------------------------------------------\u001b[0m",
      "\u001b[0;31mAttributeError\u001b[0m                            Traceback (most recent call last)",
      "Cell \u001b[0;32mIn[9], line 2\u001b[0m\n\u001b[1;32m      1\u001b[0m \u001b[38;5;66;03m# Add beta_means, beta_stds, beta_nans to data dict\u001b[39;00m\n\u001b[0;32m----> 2\u001b[0m local_util\u001b[38;5;241m.\u001b[39maddMeanStdsNans(data)\n\u001b[1;32m      4\u001b[0m fig, axes \u001b[38;5;241m=\u001b[39m plt\u001b[38;5;241m.\u001b[39msubplots(\u001b[38;5;241m1\u001b[39m, \u001b[38;5;241m2\u001b[39m, figsize\u001b[38;5;241m=\u001b[39m(\u001b[38;5;241m18\u001b[39m, \u001b[38;5;241m7\u001b[39m))\n\u001b[1;32m      5\u001b[0m fig\u001b[38;5;241m.\u001b[39mtight_layout(pad\u001b[38;5;241m=\u001b[39m\u001b[38;5;241m2\u001b[39m)\n",
      "\u001b[0;31mAttributeError\u001b[0m: module 'util' has no attribute 'addMeanStdsNans'"
     ]
    }
   ],
   "source": [
    "# Add beta_means, beta_stds, beta_nans to data dict\n",
    "local_util.addMeanStdsNans(data)\n",
    "\n",
    "fig, axes = plt.subplots(1, 2, figsize=(18, 7))\n",
    "fig.tight_layout(pad=2)\n",
    "\n",
    "sns.scatterplot(ax=axes[0], x=data['tumor']['beta_means'].loc[neutral_DNA_CpG_list],\n",
    "                y=data['normal']['beta_means'].loc[neutral_DNA_CpG_list], s=5)\n",
    "axes[0].set_xlabel('Average β in TCGA Tumor Samples')\n",
    "axes[0].set_ylabel('Average β in Johnson Normal Samples')\n",
    "axes[0].set_title(f'Non-regulatory and non-genic CpGs (n = {len(neutral_DNA_CpG_list)})')\n",
    "\n",
    "lower = 0.4\n",
    "upper = 0.6\n",
    "color = 'red'\n",
    "\n",
    "axes[0].axvline(lower, lower, upper, color=color)\n",
    "axes[0].axvline(upper, lower, upper, color=color)\n",
    "axes[0].axhline(lower, lower, upper, color=color)\n",
    "axes[0].axhline(upper, lower, upper, color=color)\n",
    "\n",
    "balanced_means_CpGs = m_util.getCpG_list(data, local_util.BALANCED_CRITERIA, starting_CpG_list=neutral_DNA_CpG_list)\n",
    "\n",
    "sns.histplot(ax=axes[1], x=data['tumor']['beta_stds'].loc[balanced_means_CpGs])\n",
    "axes[1].set_xlabel('Standard Deviation of β in TCGA Tumor Samples')\n",
    "axes[1].set_title(f'CpGs with $0.4 \\leq $average$\\leq 0.6$ in tumor and normal samples (n = {len(balanced_means_CpGs)})')\n",
    "\n",
    "cutoff = data['tumor']['beta_stds'].loc[balanced_means_CpGs].sort_values()[-500]\n",
    "axes[1].axvline(cutoff, color=color)\n",
    "\n",
    "fig.savefig(os.path.join(image_outdir, 'initial_selection.pdf'), format='pdf', pad_inches=0.1)"
   ]
  },
  {
   "cell_type": "markdown",
   "id": "9e20a1a3-27e9-4fb8-951d-7a0a808795ae",
   "metadata": {},
   "source": [
    "## Select 500 CpGs"
   ]
  },
  {
   "cell_type": "code",
   "execution_count": 4,
   "id": "bf040d03-0252-46f5-bc99-38d430adc1f3",
   "metadata": {},
   "outputs": [],
   "source": [
    "balanced_CpGs_final_set = local_util.gen_CpG_set(data, neutral_DNA_CpG_list, only_ductals=False)\n",
    "np.savetxt('balanced_CpGs_all_tumors.txt', balanced_CpGs_all_tumors, fmt='%s')"
   ]
  }
 ],
 "metadata": {
  "kernelspec": {
   "display_name": "Python 3 (ipykernel)",
   "language": "python",
   "name": "python3"
  },
  "language_info": {
   "codemirror_mode": {
    "name": "ipython",
    "version": 3
   },
   "file_extension": ".py",
   "mimetype": "text/x-python",
   "name": "python",
   "nbconvert_exporter": "python",
   "pygments_lexer": "ipython3",
   "version": "3.11.5"
  }
 },
 "nbformat": 4,
 "nbformat_minor": 5
}
