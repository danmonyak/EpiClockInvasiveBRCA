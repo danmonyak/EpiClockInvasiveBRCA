{
 "cells": [
  {
   "cell_type": "code",
   "execution_count": 3,
   "id": "511c1f4d",
   "metadata": {},
   "outputs": [],
   "source": [
    "import pandas as pd\n",
    "import numpy as np\n",
    "import os\n",
    "import seaborn as sns\n",
    "import matplotlib.pyplot as plt\n",
    "import EpiClockInvasiveBRCA.src.util as epi_util\n",
    "from EpiClockInvasiveBRCA.src.consts import consts as epi_consts\n",
    "\n",
    "proj_dir = os.path.join(consts['official_indir'], 'Aurora')\n",
    "\n",
    "# sample map"
   ]
  },
  {
   "cell_type": "code",
   "execution_count": 2,
   "id": "4a3c4f5d",
   "metadata": {},
   "outputs": [],
   "source": [
    "# Figure parameters\n",
    "\n",
    "# scale factor\n",
    "sf = 0.4\n",
    "\n",
    "square_figsize = np.array([5, 4])\n",
    "figsize = np.array([9, 7])\n",
    "labelfontsize = 25\n",
    "ticksfontsize = 18\n",
    "opacity = 0.8\n",
    "s = 30\n",
    "\n",
    "sns.set(rc={\"savefig.bbox\":'tight', 'axes.linewidth':sf}, font_scale=1, style='ticks')"
   ]
  },
  {
   "cell_type": "code",
   "execution_count": 4,
   "id": "1dd0da29",
   "metadata": {},
   "outputs": [],
   "source": [
    "beta_values = pd.read_table(os.path.join(proj_dir, 'GSE212370_20220828_MethylationEPIC_GEO_data_matrix146.tsv'), index_col=0)\n",
    "beta_values = beta_values.rename(columns=lambda x:'-'.join(x.split('-')[:6]))\n",
    "\n",
    "# Clock_CpGs = np.loadtxt(os.path.join(epi_consts['repo_dir'], 'Select_fCpGs', 'outputs', 'balanced_CpGs.txt'), dtype=str)"
   ]
  },
  {
   "cell_type": "code",
   "execution_count": 5,
   "id": "3cb8d3e5",
   "metadata": {},
   "outputs": [],
   "source": [
    "sample_map = pd.read_table(os.path.join(proj_dir, 'sample_map.txt'), index_col=0)"
   ]
  },
  {
   "cell_type": "code",
   "execution_count": 8,
   "id": "4538fff2",
   "metadata": {},
   "outputs": [],
   "source": [
    "most_random_sites_850k = np.intersect1d(beta_values.index, most_random_sites)"
   ]
  },
  {
   "cell_type": "code",
   "execution_count": 9,
   "id": "fd8ae709",
   "metadata": {},
   "outputs": [],
   "source": [
    "most_random_sites = np.loadtxt('/Users/danielmonyak/Desktop/most_random_sites.txt', dtype=str)\n",
    "beta_values_Clock = beta_values.loc[most_random_sites_850k]"
   ]
  },
  {
   "cell_type": "code",
   "execution_count": 11,
   "id": "3799ac7e",
   "metadata": {},
   "outputs": [],
   "source": [
    "patient_list = np.loadtxt(os.path.join(proj_dir, 'patients_bothSamplesPure.txt'), dtype=str)"
   ]
  },
  {
   "cell_type": "code",
   "execution_count": 14,
   "id": "a7f07323",
   "metadata": {},
   "outputs": [
    {
     "name": "stdout",
     "output_type": "stream",
     "text": [
      "The history saving thread hit an unexpected error (OperationalError('database is locked')).History will not be written to the database.\n"
     ]
    }
   ],
   "source": [
    "samps = sample_map.index[sample_map['Patient'].isin(patient_list) & (sample_map['Sample Type'] == 'Metastasis')].values"
   ]
  },
  {
   "cell_type": "code",
   "execution_count": null,
   "id": "523f3452",
   "metadata": {},
   "outputs": [],
   "source": []
  },
  {
   "cell_type": "code",
   "execution_count": null,
   "id": "4ced7af1",
   "metadata": {},
   "outputs": [],
   "source": []
  },
  {
   "cell_type": "code",
   "execution_count": 117,
   "id": "d90be226",
   "metadata": {},
   "outputs": [],
   "source": [
    "patient_map = pd.DataFrame({'Patient':patient_list, 'Primary':prim_list, 'Metastasis':met_list})"
   ]
  },
  {
   "cell_type": "code",
   "execution_count": 58,
   "id": "26a45c12",
   "metadata": {},
   "outputs": [],
   "source": [
    "c_beta = 1 - beta_values_Clock.std(axis=0)\n",
    "c_beta_table_by_patient = patient_map.copy()\n",
    "c_beta_table_by_patient['Primary'] = c_beta_table_by_patient['Primary'].map(c_beta)\n",
    "c_beta_table_by_patient['Metastasis'] = c_beta_table_by_patient['Metastasis'].map(c_beta)"
   ]
  },
  {
   "cell_type": "code",
   "execution_count": 95,
   "id": "27cb3598",
   "metadata": {},
   "outputs": [],
   "source": [
    "LUMP_table_by_patient = patient_map.copy()\n",
    "LUMP_table_by_patient['Primary'] = LUMP_table_by_patient['Primary'].map(sample_annotations['LUMP'])\n",
    "LUMP_table_by_patient['Metastasis'] = LUMP_table_by_patient['Metastasis'].map(sample_annotations['LUMP'])"
   ]
  },
  {
   "cell_type": "code",
   "execution_count": 77,
   "id": "e80e8840",
   "metadata": {},
   "outputs": [],
   "source": [
    "sample_type_counts = sample_annotations.loc[sample_annotations['pure']].groupby('Patient')['Sample Type'].value_counts().unstack().fillna(0)"
   ]
  },
  {
   "cell_type": "code",
   "execution_count": 92,
   "id": "eb553b9a",
   "metadata": {},
   "outputs": [
    {
     "data": {
      "text/html": [
       "<div>\n",
       "<style scoped>\n",
       "    .dataframe tbody tr th:only-of-type {\n",
       "        vertical-align: middle;\n",
       "    }\n",
       "\n",
       "    .dataframe tbody tr th {\n",
       "        vertical-align: top;\n",
       "    }\n",
       "\n",
       "    .dataframe thead th {\n",
       "        text-align: right;\n",
       "    }\n",
       "</style>\n",
       "<table border=\"1\" class=\"dataframe\">\n",
       "  <thead>\n",
       "    <tr style=\"text-align: right;\">\n",
       "      <th></th>\n",
       "      <th>Sample Type</th>\n",
       "      <th>c_beta</th>\n",
       "      <th>LUMP</th>\n",
       "    </tr>\n",
       "    <tr>\n",
       "      <th>BCR Portion barcode</th>\n",
       "      <th></th>\n",
       "      <th></th>\n",
       "      <th></th>\n",
       "    </tr>\n",
       "  </thead>\n",
       "  <tbody>\n",
       "    <tr>\n",
       "      <th>AUR-AER6-TTP1-A-1-0</th>\n",
       "      <td>Primary</td>\n",
       "      <td>0.800910</td>\n",
       "      <td>0.767980</td>\n",
       "    </tr>\n",
       "    <tr>\n",
       "      <th>AUR-AER6-TTM9-A-1-1</th>\n",
       "      <td>Metastasis</td>\n",
       "      <td>0.812855</td>\n",
       "      <td>0.735000</td>\n",
       "    </tr>\n",
       "    <tr>\n",
       "      <th>AUR-AER6-TTM7-A-1-1</th>\n",
       "      <td>Metastasis</td>\n",
       "      <td>0.850862</td>\n",
       "      <td>0.703186</td>\n",
       "    </tr>\n",
       "    <tr>\n",
       "      <th>AUR-AER6-TTM6-A-1-1</th>\n",
       "      <td>Metastasis</td>\n",
       "      <td>0.818028</td>\n",
       "      <td>0.862194</td>\n",
       "    </tr>\n",
       "    <tr>\n",
       "      <th>AUR-AER6-TTM5-A-1-1</th>\n",
       "      <td>Metastasis</td>\n",
       "      <td>0.815466</td>\n",
       "      <td>0.868112</td>\n",
       "    </tr>\n",
       "    <tr>\n",
       "      <th>AUR-AER6-TTM3-A-1-1</th>\n",
       "      <td>Metastasis</td>\n",
       "      <td>0.846284</td>\n",
       "      <td>0.606645</td>\n",
       "    </tr>\n",
       "    <tr>\n",
       "      <th>AUR-AER6-TTM2-A-1-1</th>\n",
       "      <td>Metastasis</td>\n",
       "      <td>0.788848</td>\n",
       "      <td>0.953845</td>\n",
       "    </tr>\n",
       "    <tr>\n",
       "      <th>AUR-AER6-TTM10-A-1-1</th>\n",
       "      <td>Metastasis</td>\n",
       "      <td>0.803145</td>\n",
       "      <td>0.791095</td>\n",
       "    </tr>\n",
       "    <tr>\n",
       "      <th>AUR-AER6-TTM1-A-1-1</th>\n",
       "      <td>Metastasis</td>\n",
       "      <td>0.852565</td>\n",
       "      <td>0.577972</td>\n",
       "    </tr>\n",
       "  </tbody>\n",
       "</table>\n",
       "</div>"
      ],
      "text/plain": [
       "                     Sample Type    c_beta      LUMP\n",
       "BCR Portion barcode                                 \n",
       "AUR-AER6-TTP1-A-1-0      Primary  0.800910  0.767980\n",
       "AUR-AER6-TTM9-A-1-1   Metastasis  0.812855  0.735000\n",
       "AUR-AER6-TTM7-A-1-1   Metastasis  0.850862  0.703186\n",
       "AUR-AER6-TTM6-A-1-1   Metastasis  0.818028  0.862194\n",
       "AUR-AER6-TTM5-A-1-1   Metastasis  0.815466  0.868112\n",
       "AUR-AER6-TTM3-A-1-1   Metastasis  0.846284  0.606645\n",
       "AUR-AER6-TTM2-A-1-1   Metastasis  0.788848  0.953845\n",
       "AUR-AER6-TTM10-A-1-1  Metastasis  0.803145  0.791095\n",
       "AUR-AER6-TTM1-A-1-1   Metastasis  0.852565  0.577972"
      ]
     },
     "execution_count": 92,
     "metadata": {},
     "output_type": "execute_result"
    }
   ],
   "source": [
    "sample_annotations.loc[sample_annotations['Patient'] == 'AER6', ['Sample Type', 'c_beta', 'LUMP']]\n",
    "# .groupby('Sample Type')['c_beta']"
   ]
  },
  {
   "cell_type": "code",
   "execution_count": 1,
   "id": "ad5e2f8c",
   "metadata": {},
   "outputs": [
    {
     "ename": "NameError",
     "evalue": "name 'sample_type_counts' is not defined",
     "output_type": "error",
     "traceback": [
      "\u001b[0;31m---------------------------------------------------------------------------\u001b[0m",
      "\u001b[0;31mNameError\u001b[0m                                 Traceback (most recent call last)",
      "\u001b[0;32m/var/folders/m9/kv2y3r0s0p1_cl3s3py1wprh0000gn/T/ipykernel_29918/1740957730.py\u001b[0m in \u001b[0;36m<module>\u001b[0;34m\u001b[0m\n\u001b[0;32m----> 1\u001b[0;31m \u001b[0msample_type_counts\u001b[0m\u001b[0;34m.\u001b[0m\u001b[0mshape\u001b[0m\u001b[0;34m\u001b[0m\u001b[0;34m\u001b[0m\u001b[0m\n\u001b[0m",
      "\u001b[0;31mNameError\u001b[0m: name 'sample_type_counts' is not defined"
     ]
    }
   ],
   "source": [
    "sample_type_counts.shape"
   ]
  },
  {
   "cell_type": "code",
   "execution_count": 64,
   "id": "e8c7d624",
   "metadata": {},
   "outputs": [
    {
     "data": {
      "text/plain": [
       "Text(0.9323691452886778, 0.6646111728626131, 'Primary older')"
      ]
     },
     "execution_count": 64,
     "metadata": {},
     "output_type": "execute_result"
    },
    {
     "data": {
      "image/png": "[encoded data removed]",
      "text/plain": [
       "<Figure size 432x345.6 with 1 Axes>"
      ]
     },
     "metadata": {},
     "output_type": "display_data"
    }
   ],
   "source": [
    "sf = 1\n",
    "\n",
    "fig, ax = plt.subplots(figsize=square_figsize * 1.2 * sf)\n",
    "\n",
    "pts_range = (c_beta_table_by_patient.min().min()*0.95, c_beta_table_by_patient.max().max()*1.05)\n",
    "\n",
    "pts_arr = np.linspace(pts_range[0], pts_range[1], 100)\n",
    "\n",
    "sns.scatterplot(ax=ax, data=c_beta_table_by_patient, x='Primary', y='Metastasis', color='dimgray',\n",
    "               s=s * sf)\n",
    "\n",
    "ax.set_xlim(pts_range[0], pts_range[1])\n",
    "ax.set_ylim(pts_range[0], pts_range[1])\n",
    "\n",
    "ax.fill_between(pts_range, pts_range, 1, alpha=0.3, color='blue', lw=0)\n",
    "ax.fill_between(pts_range, 0, pts_range, alpha=0.3, color='red', lw=0)\n",
    "\n",
    "ax.set_xlabel(ax.get_xlabel().capitalize() + ' $c_β$', fontsize=labelfontsize * sf)\n",
    "ax.set_ylabel(ax.get_ylabel().capitalize() + ' $c_β$', fontsize=labelfontsize * sf)\n",
    "ax.tick_params(axis='both', labelsize=ticksfontsize * sf, width=sf, length=8 * sf)\n",
    "\n",
    "ax.text(pts_range[0]*1.02, pts_range[1]*0.96, 'Metastasis older',\n",
    "        ha=\"left\", va=\"bottom\", fontfamily='sans-serif', color='darkblue',\n",
    "        fontsize=labelfontsize * 0.8 * sf)\n",
    "ax.text(pts_range[1]*0.98, pts_range[0]*1.03, 'Primary older',\n",
    "        ha=\"right\", va=\"bottom\", fontfamily='sans-serif', color='darkred',\n",
    "        fontsize=labelfontsize * 0.8 * sf)\n"
   ]
  },
  {
   "cell_type": "code",
   "execution_count": 96,
   "id": "30de5a26",
   "metadata": {},
   "outputs": [
    {
     "data": {
      "text/plain": [
       "Text(1.029, 0.653950652433336, 'Primary older')"
      ]
     },
     "execution_count": 96,
     "metadata": {},
     "output_type": "execute_result"
    },
    {
     "data": {
      "image/png": "[encoded data removed]",
      "text/plain": [
       "<Figure size 432x345.6 with 1 Axes>"
      ]
     },
     "metadata": {},
     "output_type": "display_data"
    }
   ],
   "source": [
    "sf = 1\n",
    "\n",
    "fig, ax = plt.subplots(figsize=square_figsize * 1.2 * sf)\n",
    "\n",
    "pts_range = (LUMP_table_by_patient.min().min()*0.95, LUMP_table_by_patient.max().max()*1.05)\n",
    "\n",
    "pts_arr = np.linspace(pts_range[0], pts_range[1], 100)\n",
    "\n",
    "sns.scatterplot(ax=ax, data=LUMP_table_by_patient, x='Primary', y='Metastasis', color='dimgray',\n",
    "               s=s * sf)\n",
    "\n",
    "ax.set_xlim(pts_range[0], pts_range[1])\n",
    "ax.set_ylim(pts_range[0], pts_range[1])\n",
    "\n",
    "ax.fill_between(pts_range, pts_range, 1, alpha=0.3, color='blue', lw=0)\n",
    "ax.fill_between(pts_range, 0, pts_range, alpha=0.3, color='red', lw=0)\n",
    "\n",
    "ax.set_xlabel(ax.get_xlabel().capitalize() + ' LUMP', fontsize=labelfontsize * sf)\n",
    "ax.set_ylabel(ax.get_ylabel().capitalize() + ' LUMP', fontsize=labelfontsize * sf)\n",
    "ax.tick_params(axis='both', labelsize=ticksfontsize * sf, width=sf, length=8 * sf)\n",
    "\n",
    "ax.text(pts_range[0]*1.02, pts_range[1]*0.96, 'Metastasis older',\n",
    "        ha=\"left\", va=\"bottom\", fontfamily='sans-serif', color='darkblue',\n",
    "        fontsize=labelfontsize * 0.8 * sf)\n",
    "ax.text(pts_range[1]*0.98, pts_range[0]*1.03, 'Primary older',\n",
    "        ha=\"right\", va=\"bottom\", fontfamily='sans-serif', color='darkred',\n",
    "        fontsize=labelfontsize * 0.8 * sf)\n"
   ]
  },
  {
   "cell_type": "code",
   "execution_count": 109,
   "id": "0589d4c1",
   "metadata": {},
   "outputs": [
    {
     "data": {
      "text/plain": [
       "LinregressResult(slope=0.22895545062434378, intercept=0.023474028148528624, rvalue=0.4900972451364736, pvalue=0.020586950291931427, stderr=0.09105519167736945, intercept_stderr=0.013004532078437788)"
      ]
     },
     "execution_count": 109,
     "metadata": {},
     "output_type": "execute_result"
    },
    {
     "data": {
      "image/png": "[encoded data removed]",
      "text/plain": [
       "<Figure size 432x288 with 1 Axes>"
      ]
     },
     "metadata": {},
     "output_type": "display_data"
    }
   ],
   "source": [
    "df = pd.concat([\n",
    "    (c_beta_table_by_patient['Primary'] - c_beta_table_by_patient['Metastasis']).rename('c_beta_difference'),\n",
    "    (LUMP_table_by_patient['Metastasis'] - LUMP_table_by_patient['Primary']).rename('LUMP_difference')\n",
    "], axis=1)\n",
    "sns.regplot(data=df, x='LUMP_difference', y='c_beta_difference')\n",
    "epi_util.pearsonCorrelation(df['LUMP_difference'], df['c_beta_difference'], )"
   ]
  },
  {
   "cell_type": "code",
   "execution_count": 67,
   "id": "d9d8e1eb",
   "metadata": {},
   "outputs": [],
   "source": [
    "sample_annotations['c_beta'] = c_beta"
   ]
  },
  {
   "cell_type": "code",
   "execution_count": 70,
   "id": "6f6de280",
   "metadata": {},
   "outputs": [
    {
     "data": {
      "text/plain": [
       "LinregressResult(slope=33.871203355169435, intercept=-22.26879544879271, rvalue=0.19072947063208295, pvalue=0.036918560388547336, stderr=16.04815953940742, intercept_stderr=12.481271354198565)"
      ]
     },
     "execution_count": 70,
     "metadata": {},
     "output_type": "execute_result"
    }
   ],
   "source": [
    "epi_util.getCorrelation(sample_annotations, 'Percent lymphocyte infiltration', 'c_beta')"
   ]
  },
  {
   "cell_type": "code",
   "execution_count": 72,
   "id": "12af9ca8",
   "metadata": {},
   "outputs": [
    {
     "data": {
      "text/plain": [
       "LinregressResult(slope=42.882364447268984, intercept=-5.335148841788879, rvalue=0.07296047280841392, pvalue=0.4284000013507483, stderr=53.962376495124786, intercept_stderr=41.96861716754523)"
      ]
     },
     "execution_count": 72,
     "metadata": {},
     "output_type": "execute_result"
    }
   ],
   "source": [
    "epi_util.getCorrelation(sample_annotations, 'Percent stromal cells', 'c_beta')"
   ]
  },
  {
   "cell_type": "code",
   "execution_count": 73,
   "id": "55e691ad",
   "metadata": {},
   "outputs": [
    {
     "data": {
      "text/plain": [
       "LinregressResult(slope=-1.619605057005795, intercept=2.0482129135792895, rvalue=-0.4576018563143397, pvalue=3.9067485669029126e-08, stderr=0.27707991455913594, intercept_stderr=0.21583241885586352)"
      ]
     },
     "execution_count": 73,
     "metadata": {},
     "output_type": "execute_result"
    }
   ],
   "source": [
    "epi_util.getCorrelation(sample_annotations, 'LUMP', 'c_beta')"
   ]
  },
  {
   "cell_type": "code",
   "execution_count": 74,
   "id": "7387a71d",
   "metadata": {},
   "outputs": [
    {
     "data": {
      "text/plain": [
       "LinregressResult(slope=-3.0467033929141523, intercept=2.526894557602268, rvalue=-0.3106043312150075, pvalue=0.0016599114475793933, stderr=0.9418455835240147, intercept_stderr=0.7353413778091267)"
      ]
     },
     "execution_count": 74,
     "metadata": {},
     "output_type": "execute_result"
    }
   ],
   "source": [
    "epi_util.getCorrelation(sample_annotations, 'Proliferation Score', 'c_beta')"
   ]
  },
  {
   "cell_type": "code",
   "execution_count": null,
   "id": "f36961cf",
   "metadata": {},
   "outputs": [],
   "source": []
  }
 ],
 "metadata": {
  "kernelspec": {
   "display_name": "Python 3 (ipykernel)",
   "language": "python",
   "name": "python3"
  },
  "language_info": {
   "codemirror_mode": {
    "name": "ipython",
    "version": 3
   },
   "file_extension": ".py",
   "mimetype": "text/x-python",
   "name": "python",
   "nbconvert_exporter": "python",
   "pygments_lexer": "ipython3",
   "version": "3.9.19"
  }
 },
 "nbformat": 4,
 "nbformat_minor": 5
}
