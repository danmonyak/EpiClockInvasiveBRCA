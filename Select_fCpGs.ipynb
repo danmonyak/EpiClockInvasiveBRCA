{
 "cells": [
  {
   "cell_type": "code",
   "execution_count": 1,
   "id": "1e1c4b14",
   "metadata": {},
   "outputs": [
    {
     "name": "stderr",
     "output_type": "stream",
     "text": [
      "/var/folders/7j/2z93zxs52qn4yjl8szt8gys80000hf/T/ipykernel_60121/1266859012.py:1: DeprecationWarning: \n",
      "Pyarrow will become a required dependency of pandas in the next major release of pandas (pandas 3.0),\n",
      "(to allow more performant data types, such as the Arrow string type, and better interoperability with other libraries)\n",
      "but was not found to be installed on your system.\n",
      "If this would cause problems for you,\n",
      "please provide us feedback at https://github.com/pandas-dev/pandas/issues/54466\n",
      "        \n",
      "  import pandas as pd\n"
     ]
    }
   ],
   "source": [
    "import pandas as pd\n",
    "import numpy as np\n",
    "import os\n",
    "import sys\n",
    "import seaborn as sns\n",
    "import matplotlib.pyplot as plt\n",
    "import matplotlib.patches as mpatches\n",
    "from scipy.stats import linregress, spearmanr, ttest_ind\n",
    "from math import ceil\n",
    "import MolecularClocks.src.methylation_util as m_util\n",
    "from MolecularClocks.src.merge_pdfs import merge_pdfs\n",
    "from MolecularClocks.src.util import combineFilters\n",
    "from MolecularClocks.src.invasiveCpGs_consts import getConsts\n",
    "# from expandAnnotations import expand\n",
    "\n",
    "consts = getConsts()\n",
    "\n",
    "sns.set(rc={\"savefig.bbox\":'tight'}, font_scale=1.2)"
   ]
  },
  {
   "cell_type": "code",
   "execution_count": 2,
   "id": "b7b8a8fb",
   "metadata": {},
   "outputs": [],
   "source": [
    "TCGA_datadir = os.path.join(consts['official_indir'], 'TCGA')"
   ]
  },
  {
   "cell_type": "code",
   "execution_count": 3,
   "id": "23df01f5",
   "metadata": {},
   "outputs": [],
   "source": [
    "TCGA_methyl = pd.read_table(os.path.join(TCGA_datadir, 'cohort1.methyl.tsv'), index_col=0)"
   ]
  },
  {
   "cell_type": "code",
   "execution_count": 4,
   "id": "1086a56b-607d-45c1-88db-a1348be1ccd8",
   "metadata": {},
   "outputs": [],
   "source": [
    "# purityEstimates = consts['purityEstimates']()\n",
    "purityEstimates = pd.read_csv(os.path.join(consts['official_indir'], 'TCGA', 'ncomms9971-s2.csv'), index_col=0)"
   ]
  },
  {
   "cell_type": "code",
   "execution_count": 7,
   "id": "85ca73c8-e46c-4786-903a-4dd224f3b595",
   "metadata": {},
   "outputs": [],
   "source": [
    "data = {'tumor':{}, 'normal':{}}"
   ]
  },
  {
   "cell_type": "code",
   "execution_count": 8,
   "id": "473492fc",
   "metadata": {},
   "outputs": [],
   "source": [
    "data['tumor']['beta_values'] = TCGA_methyl\n",
    "data['normal']['beta_values'] = consts['project_data_func_dict']['Johnson']['all']()\n",
    "\n",
    "# sample_annotations = pd.read_table(os.path.join(consts['indir'], 'ALL', 'clinical_cleaned_processed.txt'), index_col=0)\n",
    "# cleanAnnot."
   ]
  },
  {
   "cell_type": "code",
   "execution_count": 23,
   "id": "1ad56268-517b-4529-8084-0b7b44a33820",
   "metadata": {},
   "outputs": [],
   "source": [
    "patientIDfromSampleID = lambda x:'-'.join(x.split('-')[-1])"
   ]
  },
  {
   "cell_type": "code",
   "execution_count": 55,
   "id": "e5d5c987-f01f-4b38-8bc9-cfd3ae2eab01",
   "metadata": {},
   "outputs": [],
   "source": [
    "data['tumor']['purity_threshold'] = consts['CPE_threshold']\n",
    "data['normal']['purity_threshold'] = consts['lump_threshold']('Johnson')"
   ]
  },
  {
   "cell_type": "code",
   "execution_count": 46,
   "id": "204ff5e6-e309-45aa-a7e9-e3743c1cb2db",
   "metadata": {},
   "outputs": [],
   "source": [
    "shortenSampleIDs = lambda x:'-'.join(x.split('-')[:4])\n",
    "data['tumor']['beta_values'] = data['tumor']['beta_values'].rename(shortenSampleIDs, axis='columns')"
   ]
  },
  {
   "cell_type": "code",
   "execution_count": 47,
   "id": "9ec9f909-c3e1-42a3-93ab-b0e0320a3372",
   "metadata": {},
   "outputs": [],
   "source": [
    "data['tumor']['beta_values'] = data['tumor']['beta_values'].loc[:, ~data['tumor']['beta_values'].columns.duplicated()]\n",
    "data['tumor']['beta_values'] = data['tumor']['beta_values'].loc[:, data['tumor']['beta_values'].columns.isin(purityEstimates.index)]\n",
    "\n",
    "data['tumor']['purity'] = purityEstimates.loc[data['tumor']['beta_values'].columns, 'CPE']\n",
    "data['normal']['purity'] = m_util.getLUMP_values(data['normal']['beta_values'])"
   ]
  },
  {
   "cell_type": "code",
   "execution_count": 56,
   "id": "c836e2fb-f81d-4fcb-92ea-4c5a853e12be",
   "metadata": {},
   "outputs": [],
   "source": [
    "for sample in ['tumor', 'normal']:\n",
    "    data[sample]['pureSamples'] = data[sample]['purity'].index[data[sample]['purity'] > data[sample]['purity_threshold']].values\n",
    "    data[sample]['beta_values_PURE'] = data[sample]['beta_values'][data[sample]['pureSamples']]\n",
    "\n",
    "    data[sample]['beta_means'] = data[sample]['beta_values_PURE'].mean(axis=1)\n",
    "    data[sample]['beta_stds'] = data[sample]['beta_values_PURE'].std(axis=1)\n",
    "    data[sample]['beta_nans'] = data[sample]['beta_values_PURE'].isna().sum(axis=1)"
   ]
  },
  {
   "cell_type": "code",
   "execution_count": 66,
   "id": "3e693ee2-78b0-4712-b655-f5d0bf031d8e",
   "metadata": {},
   "outputs": [
    {
     "name": "stderr",
     "output_type": "stream",
     "text": [
      "/var/folders/7j/2z93zxs52qn4yjl8szt8gys80000hf/T/ipykernel_60121/420267308.py:1: DtypeWarning: Columns (5,7,8,14,15,20) have mixed types. Specify dtype option on import or set low_memory=False.\n",
      "  chip450_info = pd.read_table(os.path.join(consts['official_indir'], 'TCGA', 'chip450_annot_cleaned.txt'), index_col=0)\n",
      "/var/folders/7j/2z93zxs52qn4yjl8szt8gys80000hf/T/ipykernel_60121/420267308.py:2: DtypeWarning: Columns (5,6,7,8,42,44) have mixed types. Specify dtype option on import or set low_memory=False.\n",
      "  chip850_info = pd.read_table(os.path.join(consts['official_indir'], 'TCGA', 'chip850_annot_cleaned.txt'), index_col=0)\n"
     ]
    }
   ],
   "source": [
    "chip450_info = pd.read_table(os.path.join(consts['official_indir'], 'TCGA', 'chip450_annot_cleaned.txt'), index_col=0)\n",
    "chip850_info = pd.read_table(os.path.join(consts['official_indir'], 'TCGA', 'chip850_annot_cleaned.txt'), index_col=0)"
   ]
  },
  {
   "cell_type": "code",
   "execution_count": 67,
   "id": "deb7feee-05a4-412a-b3f8-f82a0d511334",
   "metadata": {},
   "outputs": [],
   "source": [
    "neutral_filters = [\n",
    "    (chip450_info['Regulatory_Feature_Group']=='None'),\n",
    "    ~chip450_info['HAS_geneName'],\n",
    "    chip850_info['Regulatory_Feature_Group'].isna(),\n",
    "    chip850_info['UCSC_RefGene_Name'].isna(),\n",
    "]\n",
    "\n",
    "neutral_DNA_CpG_list = chip450_info.index[combineFilters(neutral_filters)].values\n",
    "\n",
    "## Sanity checks - IMPORTANT - experienced weird errors before with selecting CpGs that did not fit the criteria...\n",
    "neutral_chip450_info = chip450_info.loc[neutral_DNA_CpG_list]\n",
    "neutral_chip850_info = chip850_info.loc[neutral_DNA_CpG_list]\n",
    "assert (neutral_chip450_info['Regulatory_Feature_Group']=='None').all()\n",
    "assert (~neutral_chip450_info['HAS_geneName']).all()\n",
    "assert neutral_chip850_info['Regulatory_Feature_Group'].isna().all()\n",
    "assert neutral_chip850_info['UCSC_RefGene_Name'].isna().all()"
   ]
  },
  {
   "cell_type": "code",
   "execution_count": null,
   "id": "01ded8d3-6709-489d-8822-472ead6aa990",
   "metadata": {},
   "outputs": [],
   "source": [
    "balanced_CpGs = m_util.getCpG_list(data, balanced_criteria, starting_CpG_list=neutral_DNA_CpG_list, n_select=500)"
   ]
  }
 ],
 "metadata": {
  "kernelspec": {
   "display_name": "Python 3 (ipykernel)",
   "language": "python",
   "name": "python3"
  },
  "language_info": {
   "codemirror_mode": {
    "name": "ipython",
    "version": 3
   },
   "file_extension": ".py",
   "mimetype": "text/x-python",
   "name": "python",
   "nbconvert_exporter": "python",
   "pygments_lexer": "ipython3",
   "version": "3.11.5"
  }
 },
 "nbformat": 4,
 "nbformat_minor": 5
}
