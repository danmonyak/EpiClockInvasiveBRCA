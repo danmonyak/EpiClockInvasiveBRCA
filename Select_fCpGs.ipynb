{
 "cells": [
  {
   "cell_type": "code",
   "execution_count": 8,
   "id": "1e1c4b14",
   "metadata": {},
   "outputs": [],
   "source": [
    "import pandas as pd\n",
    "import numpy as np\n",
    "import os\n",
    "import sys\n",
    "import seaborn as sns\n",
    "import matplotlib.pyplot as plt\n",
    "import matplotlib.patches as mpatches\n",
    "from scipy.stats import linregress, spearmanr, ttest_ind\n",
    "from math import ceil\n",
    "import MolecularClocks.src.methylation_util as m_util\n",
    "from MolecularClocks.src.merge_pdfs import merge_pdfs\n",
    "from MolecularClocks.src.util import combineFilters\n",
    "from MolecularClocks.src.invasiveCpGs_consts import getConsts\n",
    "# from expandAnnotations import expand\n",
    "\n",
    "consts = getConsts()\n",
    "\n",
    "sns.set(rc={\"savefig.bbox\":'tight'}, font_scale=1.2)"
   ]
  },
  {
   "cell_type": "code",
   "execution_count": 9,
   "id": "b7b8a8fb",
   "metadata": {},
   "outputs": [],
   "source": [
    "TCGA_datadir = os.path.join(consts['official_indir'], 'TCGA')"
   ]
  },
  {
   "cell_type": "code",
   "execution_count": null,
   "id": "23df01f5",
   "metadata": {},
   "outputs": [],
   "source": [
    "TCGA_methyl = pd.read_table(os.path.join(TCGA_datadir, 'cohort1.methyl.tsv'), index_col=0)"
   ]
  },
  {
   "cell_type": "code",
   "execution_count": null,
   "id": "473492fc",
   "metadata": {},
   "outputs": [],
   "source": [
    "\n",
    "\n",
    "sample_annotations = pd.read_table(os.path.join(consts['indir'], 'ALL', 'clinical_cleaned_processed.txt'), index_col=0)\n",
    "cleanAnnot."
   ]
  }
 ],
 "metadata": {
  "kernelspec": {
   "display_name": "Python 3 (ipykernel)",
   "language": "python",
   "name": "python3"
  },
  "language_info": {
   "codemirror_mode": {
    "name": "ipython",
    "version": 3
   },
   "file_extension": ".py",
   "mimetype": "text/x-python",
   "name": "python",
   "nbconvert_exporter": "python",
   "pygments_lexer": "ipython3",
   "version": "3.9.7"
  }
 },
 "nbformat": 4,
 "nbformat_minor": 5
}
