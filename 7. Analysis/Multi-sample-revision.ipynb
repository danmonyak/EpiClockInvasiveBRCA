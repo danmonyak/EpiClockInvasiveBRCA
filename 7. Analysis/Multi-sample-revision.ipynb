{
 "cells": [
  {
   "cell_type": "markdown",
   "id": "da2c8489",
   "metadata": {},
   "source": [
    "# Multi-sample\n",
    "\n",
    "Run all cells to:\n",
    "- Import data for the Reyngold, Aurora, and Desmedt paired-sample data cohorts\n",
    "- Calculate correlation between samples\n",
    "- Calculate $c_\\beta$ for samples\n",
    "- Create all plots relating to these cohorts"
   ]
  },
  {
   "cell_type": "code",
   "execution_count": 36,
   "id": "c2c798c4",
   "metadata": {},
   "outputs": [],
   "source": [
    "import pandas as pd\n",
    "import numpy as np\n",
    "import os\n",
    "import sys\n",
    "import seaborn as sns\n",
    "import matplotlib.patches as mpatches\n",
    "import matplotlib.lines as mlines\n",
    "from matplotlib import colormaps\n",
    "import matplotlib.pyplot as plt\n",
    "import EpiClockInvasiveBRCA.src.util as epi_util\n",
    "consts = epi_util.consts\n",
    "from math import sqrt"
   ]
  },
  {
   "cell_type": "code",
   "execution_count": 37,
   "id": "662a0dce",
   "metadata": {},
   "outputs": [],
   "source": [
    "## Data dictionaries\n",
    "## Hold certain types of data objects, accessible by cohort name\n",
    "\n",
    "beta_values = {}                    # Dataframe of Clock beta values (500 CpGs by n samples)\n",
    "sample_map = {}                     # Dataframe with samples as index and columns as features (patient ID, sample type, etc.)\n",
    "patients_bothSamplesPure = {}       # List of patients to use\n",
    "samples_from_purePairs = {}         # Paired samples to be used from patients in patients_bothSamplesPure \n",
    "correlation_df = {}                 # Dataframe (n x n) of R-values (correlation of samples' Clock beta values)\n",
    "\n",
    "## DELETE\n",
    "# LUMP_purity = {}                    # Series of LUMP purity values for each sample\n",
    "\n",
    "## Set up output directories for figures\n",
    "figure_outdir = os.path.join('figures_revision', 'multi-sample_revision')\n",
    "os.makedirs(figure_outdir, exist_ok=True)"
   ]
  },
  {
   "cell_type": "code",
   "execution_count": 38,
   "id": "428d0543",
   "metadata": {},
   "outputs": [],
   "source": [
    "## Configure graph\n",
    "sf = consts['sf']\n",
    "square_figsize = np.array([5, 4])\n",
    "figsize = np.array([9, 7])\n",
    "sns.set(rc={\"savefig.bbox\":'tight', 'axes.linewidth':sf}, font_scale=1, style='ticks')\n",
    "\n",
    "# Heatmap colormap\n",
    "cmap = colormaps['RdBu'].reversed()\n",
    "cmap.set_bad('lightgray', 1.)"
   ]
  },
  {
   "cell_type": "markdown",
   "id": "42a7bb9e",
   "metadata": {},
   "source": [
    "## Primary-metastasis samples"
   ]
  },
  {
   "cell_type": "markdown",
   "id": "948b8e78",
   "metadata": {},
   "source": [
    "### Import and process data"
   ]
  },
  {
   "cell_type": "code",
   "execution_count": 39,
   "id": "f9665115",
   "metadata": {},
   "outputs": [
    {
     "name": "stdout",
     "output_type": "stream",
     "text": [
      "Reyngold: 18 patients\n",
      "Aurora: 22 patients\n",
      "combined: 40 patients\n"
     ]
    }
   ],
   "source": [
    "proj_dir_reyn = os.path.join(consts['official_indir'], 'Reyngold')\n",
    "proj_dir_auro = os.path.join(consts['official_indir'], 'Aurora')\n",
    "\n",
    "##################\n",
    "#######  Reyngold\n",
    "##################\n",
    "\n",
    "sample_map['Reyngold'] = pd.read_table(os.path.join(proj_dir_reyn, 'sample_map.txt'), index_col=0)\n",
    "sample_map['Reyngold'] = sample_map['Reyngold'].rename(columns={'unique patient id':'Patient', 'sample type':'Sample Type'})\n",
    "sample_map['Reyngold']['Sample Type'] = sample_map['Reyngold']['Sample Type'].map({'primary tumor':'Primary', 'lymph node metastasis':'Metastasis'})\n",
    "patients_bothSamplesPure['Reyngold'] = np.loadtxt(os.path.join(proj_dir_reyn, 'patients_bothSamplesPure.txt'), dtype=str)\n",
    "beta_values['Reyngold'] = pd.read_table(os.path.join(proj_dir_reyn, 'beta_values_Clock_CpGs_revision_pureSamples.txt'), index_col=0)\n",
    "samples_from_purePairs['Reyngold'] = sample_map['Reyngold'].index[sample_map['Reyngold']['Patient'].isin(patients_bothSamplesPure['Reyngold'])].values\n",
    "\n",
    "## DELETE\n",
    "# LUMP_purity['Reyngold'] = pd.read_table(os.path.join(proj_dir_reyn, 'LUMP_purity.txt'), index_col=0).squeeze('columns')\n",
    "\n",
    "##################\n",
    "#######  Aurora\n",
    "##################\n",
    "\n",
    "sample_map['Aurora'] = pd.read_table(os.path.join(proj_dir_auro, 'sample_map.txt'), index_col=0)\n",
    "patients_bothSamplesPure['Aurora'] = np.loadtxt(os.path.join(proj_dir_auro, 'patients_bothSamplesPure.txt'), dtype=str)\n",
    "beta_values['Aurora'] = pd.read_table(os.path.join(proj_dir_auro, 'beta_values_Clock_CpGs_revision_pureSamples.txt'), index_col=0)\n",
    "samples_from_purePairs['Aurora'] = sample_map['Aurora'].index[sample_map['Aurora']['Patient'].isin(patients_bothSamplesPure['Aurora'])].values\n",
    "patient_multiple_mets_Aurora = pd.read_table(os.path.join(proj_dir_auro, 'patient_multiple_mets.txt'), index_col=0).squeeze('columns')\n",
    "for patient in patient_multiple_mets_Aurora.index:   # Convert to lists\n",
    "    patient_multiple_mets_Aurora.loc[patient] = patient_multiple_mets_Aurora.loc[patient].strip('[]').replace(\"'\", \"\").split(', ')\n",
    "    \n",
    "## DELETE\n",
    "# LUMP_purity['Aurora'] = pd.read_table(os.path.join(proj_dir_auro, 'LUMP_purity.txt'), index_col=0).squeeze('columns')\n",
    "\n",
    "##################\n",
    "#######  Combine the two cohorts\n",
    "##################\n",
    "\n",
    "sample_map['combined'] = pd.concat([sample_map['Reyngold'], sample_map['Aurora']], axis=0)\n",
    "patients_bothSamplesPure['combined'] = np.concatenate([patients_bothSamplesPure['Reyngold'], patients_bothSamplesPure['Aurora']])\n",
    "beta_values['combined'] = pd.concat([beta_values['Reyngold'], beta_values['Aurora']], axis=1)\n",
    "samples_from_purePairs['combined'] = np.concatenate([samples_from_purePairs['Reyngold'], samples_from_purePairs['Aurora']])\n",
    "\n",
    "## DELETE\n",
    "# LUMP_purity['combined'] = pd.concat([LUMP_purity['Reyngold'], LUMP_purity['Aurora']], axis=0)\n",
    "\n",
    "for cohort in sample_map:\n",
    "    print(f'{cohort}: {len(patients_bothSamplesPure[cohort])} patients')"
   ]
  },
  {
   "cell_type": "code",
   "execution_count": 40,
   "id": "40408cc6",
   "metadata": {},
   "outputs": [
    {
     "name": "stdout",
     "output_type": "stream",
     "text": [
      "0.846\n"
     ]
    }
   ],
   "source": [
    "fCpG_means = beta_values['combined'].mean(axis=1)\n",
    "print(((fCpG_means >= 0.4) & (fCpG_means <= 0.6)).mean())"
   ]
  },
  {
   "cell_type": "markdown",
   "id": "55914e92",
   "metadata": {},
   "source": [
    "### Calculate correlation"
   ]
  },
  {
   "cell_type": "code",
   "execution_count": 63,
   "id": "1bb55722",
   "metadata": {},
   "outputs": [],
   "source": [
    "def getCorrelationDF(samples_from_purePairs, beta_values, sample_map, sample_type_mapper={'Primary':'Tum', 'Metastasis':'Met'}):\n",
    "    \"\"\"\n",
    "    Return dataframe of Pearson correlation R-values between samples\n",
    "    Compare beta_values of each sample\n",
    "    Formats row and column names to be \"[Patient ID]: [Type]\"\n",
    "    \"\"\"\n",
    "    \n",
    "    correlation_df = pd.DataFrame(index=samples_from_purePairs, columns=samples_from_purePairs, data=float('nan'))\n",
    "    n_GSMs = correlation_df.shape[0]\n",
    "\n",
    "    for i in range(n_GSMs):\n",
    "        GSM_i = samples_from_purePairs[i]\n",
    "        correlation_df.loc[GSM_i, GSM_i] = 1\n",
    "        for j in range(i+1, n_GSMs):\n",
    "            GSM_j = samples_from_purePairs[j]\n",
    "            res = epi_util.pearsonCorrelation(beta_values[GSM_i], beta_values[GSM_j])\n",
    "            correlation_df.loc[GSM_i, GSM_j] = res.rvalue\n",
    "            correlation_df.loc[GSM_j, GSM_i] = res.rvalue\n",
    "    \n",
    "    # Create copy for the purposes of transforming the sample IDs to \"[Patient ID]: [Type]\"\n",
    "    sample_map_copy = sample_map[['Patient', 'Sample Type']].copy()\n",
    "    if sample_type_mapper is not None:\n",
    "        sample_map_copy['Sample Type'] = sample_map_copy['Sample Type'].map(sample_type_mapper)\n",
    "    GSM_to_heatmap_label_mapper = sample_map_copy.loc[samples_from_purePairs].apply(lambda x:': '.join(x), axis=1)\n",
    "    correlation_df = correlation_df.rename(columns=GSM_to_heatmap_label_mapper).rename(index=GSM_to_heatmap_label_mapper)\n",
    "\n",
    "    return correlation_df\n",
    "\n",
    "correlation_df['Reyngold'] = getCorrelationDF(samples_from_purePairs['Reyngold'], beta_values['Reyngold'], sample_map['Reyngold'])\n",
    "correlation_df['Aurora'] = getCorrelationDF(samples_from_purePairs['Aurora'], beta_values['Aurora'], sample_map['Aurora'])\n",
    "correlation_df['combined'] = getCorrelationDF(samples_from_purePairs['combined'], beta_values['combined'], sample_map['combined'])"
   ]
  },
  {
   "cell_type": "markdown",
   "id": "7b6509de",
   "metadata": {},
   "source": [
    "### Plot correlation"
   ]
  },
  {
   "cell_type": "code",
   "execution_count": 69,
   "id": "1669474e",
   "metadata": {},
   "outputs": [
    {
     "data": {
      "image/png": "[encoded data removed]",
      "text/plain": [
       "<Figure size 345.6x276.48 with 2 Axes>"
      ]
     },
     "metadata": {},
     "output_type": "display_data"
    }
   ],
   "source": [
    "##################\n",
    "cohort = 'Reyngold'\n",
    "##################\n",
    "\n",
    "# Create plot\n",
    "fig, ax = plt.subplots(figsize=square_figsize * 2.4 * sf)\n",
    "sns.heatmap(ax=ax, data=correlation_df[cohort], cmap=cmap, cbar_kws={'label':'Pearson R'})\n",
    "\n",
    "# Customize colorbar\n",
    "cbar_ax = ax.figure.axes[-1]\n",
    "cbar_ax.yaxis.label.set_size(consts['labelfontsize'] * sf)\n",
    "cbar_ax.tick_params(labelsize=consts['ticksfontsize'] * sf, width=sf, length=8 * sf)\n",
    "cbar_ax.set_ylabel(cbar_ax.get_ylabel(), rotation=0)\n",
    "cbar_ax.yaxis.set_label_coords(0.4, 1.07)\n",
    "\n",
    "# Customize figure\n",
    "ax.set_xlabel('Patient: site', fontsize=consts['labelfontsize'] * sf)\n",
    "ax.set_ylabel('Patient: site', fontsize=consts['labelfontsize'] * sf)\n",
    "ax.xaxis.set_label_coords(0.5, -0.14)\n",
    "ax.yaxis.set_label_coords(-0.14, 0.5)\n",
    "ax.tick_params(axis='both', labelsize=consts['ticksfontsize'] * 0.6 * sf, width=sf, length=8 * sf)\n",
    "\n",
    "# Need to fix ticks in this weird way\n",
    "#    to make sure that they are all written on the plot\n",
    "ticks = np.sort(np.concatenate([ax.get_xticks(), ax.get_xticks() + 1]))\n",
    "ax.set_xticks(ticks, correlation_df[cohort].index)\n",
    "ax.set_yticks(ticks, correlation_df[cohort].index)\n",
    "\n",
    "# Save figure\n",
    "fig.savefig(os.path.join(figure_outdir, f'{cohort}_prim-met_heatmap.pdf'), format='pdf', pad_inches=0.1)"
   ]
  },
  {
   "cell_type": "code",
   "execution_count": 70,
   "id": "e81424d5",
   "metadata": {},
   "outputs": [
    {
     "data": {
      "image/png": "[encoded data removed]",
      "text/plain": [
       "<Figure size 345.6x276.48 with 2 Axes>"
      ]
     },
     "metadata": {},
     "output_type": "display_data"
    }
   ],
   "source": [
    "##################\n",
    "cohort = 'Aurora'\n",
    "##################\n",
    "\n",
    "# Create plot\n",
    "fig, ax = plt.subplots(figsize=square_figsize * 2.4 * sf)\n",
    "sns.heatmap(ax=ax, data=correlation_df[cohort], cmap=cmap, cbar_kws={'label':'Pearson R'})\n",
    "\n",
    "# Customize colorbar\n",
    "cbar_ax = ax.figure.axes[-1]\n",
    "cbar_ax.yaxis.label.set_size(consts['labelfontsize'] * sf)\n",
    "cbar_ax.tick_params(labelsize=consts['ticksfontsize'] * sf, width=sf, length=8 * sf)\n",
    "cbar_ax.set_ylabel(cbar_ax.get_ylabel(), rotation=0)\n",
    "cbar_ax.yaxis.set_label_coords(0.4, 1.07)\n",
    "\n",
    "# Customize figure\n",
    "ax.set_xlabel('Patient: site', fontsize=consts['labelfontsize'] * sf)\n",
    "ax.set_ylabel('Patient: site', fontsize=consts['labelfontsize'] * sf)\n",
    "ax.xaxis.set_label_coords(0.5, -0.17)\n",
    "ax.yaxis.set_label_coords(-0.17, 0.5)\n",
    "ax.tick_params(axis='both', labelsize=consts['ticksfontsize'] * 0.6 * sf, width=sf, length=8 * sf)\n",
    "\n",
    "# Need to fix ticks in this weird way\n",
    "#    to make sure that they are all written on the plot\n",
    "ticks = np.sort(np.concatenate([ax.get_xticks(), ax.get_xticks() + 1, ax.get_xticks() + 2]))[:-1]\n",
    "ax.set_xticks(ticks, correlation_df[cohort].index)\n",
    "ax.set_yticks(ticks, correlation_df[cohort].index)\n",
    "\n",
    "# Save figure\n",
    "fig.savefig(os.path.join(figure_outdir, f'{cohort}_prim-met_heatmap.pdf'), format='pdf', pad_inches=0.1)"
   ]
  },
  {
   "cell_type": "markdown",
   "id": "84aa447a",
   "metadata": {},
   "source": [
    "### Correlation statistics"
   ]
  },
  {
   "cell_type": "code",
   "execution_count": 73,
   "id": "d1d84438",
   "metadata": {},
   "outputs": [
    {
     "name": "stdout",
     "output_type": "stream",
     "text": [
      "Reyngold\n",
      "\tMedian within-patient correlation: 0.85\n",
      "\tMedian between-patient correlation: 0.13\n",
      "\tWilcoxon rank sum test: P = 5e-13\n",
      "Aurora\n",
      "\tMedian within-patient correlation: 0.66\n",
      "\tMedian between-patient correlation: 0.13\n",
      "\tWilcoxon rank sum test: P = 2e-14\n"
     ]
    }
   ],
   "source": [
    "def statisticsCorrelationDF(correlation_df):\n",
    "    \"\"\"\n",
    "    Use correlation_df to calculate some statistics\n",
    "    Calculates lists of between-patient correlations and same-patient correlations (R-values)\n",
    "    Returns medians of both and the Wilcoxon rank-sums p-value comparing them\n",
    "    \"\"\"\n",
    "    same_patient_r = []\n",
    "    diff_patient_r = []\n",
    "\n",
    "    samples = correlation_df.index\n",
    "    n_samps = len(samples)\n",
    "    for i in range(n_samps - 1):\n",
    "        samp_i = samples[i]\n",
    "        patient_i = samp_i.split(':')[0]\n",
    "        for j in range(i + 1, n_samps):\n",
    "            samp_j = samples[j]\n",
    "            patient_j = samp_j.split(':')[0]\n",
    "            rvalue = correlation_df.loc[samp_i, samp_j]\n",
    "\n",
    "            if patient_i == patient_j:\n",
    "                same_patient_r.append(rvalue)\n",
    "            else:\n",
    "                diff_patient_r.append(rvalue)\n",
    "\n",
    "    pvalue = epi_util.ranksums(same_patient_r, diff_patient_r).pvalue\n",
    "    return np.median(same_patient_r), np.median(diff_patient_r), pvalue\n",
    "\n",
    "## Print statistics in both cohorts (and combined)\n",
    "\n",
    "med_same_patient_r, med_diff_patient_r, pvalue = statisticsCorrelationDF(correlation_df['Reyngold'])\n",
    "\n",
    "print('Reyngold')\n",
    "print(f'\\tMedian within-patient correlation: {med_same_patient_r:.2f}')\n",
    "print(f'\\tMedian between-patient correlation: {med_diff_patient_r:.2f}')\n",
    "print(f'\\tWilcoxon rank sum test: P = {pvalue:.0e}')\n",
    "\n",
    "med_same_patient_r, med_diff_patient_r, pvalue = statisticsCorrelationDF(correlation_df['Aurora'])\n",
    "\n",
    "print('Aurora')\n",
    "print(f'\\tMedian within-patient correlation: {med_same_patient_r:.2f}')\n",
    "print(f'\\tMedian between-patient correlation: {med_diff_patient_r:.2f}')\n",
    "print(f'\\tWilcoxon rank sum test: P = {pvalue:.0e}')\n",
    "\n",
    "\n",
    "# med_same_patient_r, med_diff_patient_r, pvalue = statisticsCorrelationDF(correlation_df['combined'])\n",
    "\n",
    "# print('Combined')\n",
    "# print(f'\\tMedian within-patient correlation: {med_same_patient_r:.2f}')\n",
    "# print(f'\\tMedian between-patient correlation: {med_diff_patient_r:.2f}')\n",
    "# print(f'\\tWilcoxon rank sum test: P = {pvalue:.0e}')"
   ]
  },
  {
   "cell_type": "markdown",
   "id": "319c4773",
   "metadata": {},
   "source": [
    "### Plot $c_\\beta$ of primary vs. metatastis"
   ]
  },
  {
   "cell_type": "code",
   "execution_count": 45,
   "id": "051e7c3a",
   "metadata": {},
   "outputs": [],
   "source": [
    "\n",
    "proj_dir = os.path.join(consts['official_indir'], 'Aurora')\n",
    "\n",
    "# Sample_annotations\n",
    "\n",
    "sample_annotations = pd.read_excel(os.path.join(proj_dir, '43018_2022_491_MOESM2_ESM', 'Supplementary_Table.2.xlsx'), sheet_name='2.AURORA study')\n",
    "sample_annotations.index = sample_annotations['BCR Portion barcode'].map(lambda x:'-'.join(x.split('.')))"
   ]
  },
  {
   "cell_type": "code",
   "execution_count": 46,
   "id": "d8ab188a",
   "metadata": {},
   "outputs": [
    {
     "data": {
      "text/plain": [
       "HLA-B HyperMe                                                                                 NaN\n",
       "HLA-C HyperMe                                                                                 NaN\n",
       "TAPBP HyperMe                                                                                 NaN\n",
       "B2M HyperMe                                                                                   NaN\n",
       "MHC altered                                                                                   NaN\n",
       "HLA-A altered                                                                                 NaN\n",
       "Tumor HLA-A intensity (Immunofluorescence quantification)                                     NaN\n",
       "Corr Basal                                                                               0.715726\n",
       "Corr Her2                                                                                -0.15611\n",
       "Corr LumA                                                                               -0.536038\n",
       "Corr LumB                                                                               -0.207779\n",
       "Corr Normal                                                                             -0.039232\n",
       "ROR S                                                                                   61.178256\n",
       "ROR-P (Subtype + Proliferation)                                                         56.159411\n",
       "Proliferation Score                                                                      0.289731\n",
       "Euc dist Clow                                                                           59.253251\n",
       "Euc dist Others                                                                         25.212762\n",
       "PAM50 Call                                                                                  Basal\n",
       "Groups PAM50 Gene expression analysis                                                       Basal\n",
       "Pairs-PAM50-Prim (Primary-Metastasisastatic pairs based on primary PAM50 subtype)    Paired_Basal\n",
       "TNBC_Subtype                                                                                  UNS\n",
       "StromalScore                                                                          1288.677802\n",
       "ImmuneScore                                                                           1220.124671\n",
       "ESTIMATEScore                                                                         2508.802473\n",
       "Percent tumor cells                                                                          75.0\n",
       "Percent tumor nuclei                                                                         75.0\n",
       "Percent normal cells                                                                          2.0\n",
       "Percent necrosis                                                                              3.0\n",
       "Percent stromal cells                                                                        20.0\n",
       "Percent lymphocyte infiltration                                                               4.0\n",
       "Tumor Cellularity-DNAseq based                                                           0.749989\n",
       "Name: AUR-AFEA-TTP1-A-1-0, dtype: object"
      ]
     },
     "execution_count": 46,
     "metadata": {},
     "output_type": "execute_result"
    }
   ],
   "source": [
    "sample_annotations.iloc[0, 50:]"
   ]
  },
  {
   "cell_type": "code",
   "execution_count": 47,
   "id": "dc61533e",
   "metadata": {},
   "outputs": [],
   "source": [
    "# cohort = 'Aurora'\n",
    "# c_beta = 1 - beta_values[cohort].std(axis=0)\n",
    "# c_beta_by_patient = sample_map[cohort].reset_index().pivot(index='Patient', columns='Sample Type', values='value')"
   ]
  },
  {
   "cell_type": "code",
   "execution_count": 48,
   "id": "260c4f17",
   "metadata": {},
   "outputs": [],
   "source": [
    "## Create dataframe of c_beta values for the sample pair for each patient\n",
    "cohort = 'combined'\n",
    "\n",
    "c_beta = 1 - beta_values[cohort].std(axis=0)\n",
    "c_beta_by_patient = sample_map[cohort].reset_index().pivot(index='Patient', columns='Sample Type', values='index')\n",
    "c_beta_by_patient['Metastasis'] = c_beta_by_patient['Metastasis'].map(c_beta)\n",
    "c_beta_by_patient['Primary'] = c_beta_by_patient['Primary'].map(c_beta)\n",
    "c_beta_by_patient = c_beta_by_patient.loc[patients_bothSamplesPure[cohort]]\n",
    "\n",
    "## DELETE\n",
    "# LUMP_purity_by_patient = sample_map[cohort].reset_index().pivot(index='Patient', columns='Sample Type', values='index').loc[patients_bothSamplesPure[cohort]]\n",
    "# LUMP_purity_by_patient['Primary'] = LUMP_purity_by_patient['Primary'].map(LUMP_purity[cohort])\n",
    "# LUMP_purity_by_patient['Metastasis'] = LUMP_purity_by_patient['Metastasis'].map(LUMP_purity[cohort])"
   ]
  },
  {
   "cell_type": "code",
   "execution_count": 49,
   "id": "29b8a73a",
   "metadata": {
    "scrolled": true
   },
   "outputs": [
    {
     "data": {
      "text/plain": [
       "LinregressResult(slope=-0.032514363423061174, intercept=0.8008010265605221, rvalue=-0.31781449960221275, pvalue=0.003036926662540308, stderr=0.01064733418692356, intercept_stderr=0.0048207309476966335)"
      ]
     },
     "execution_count": 49,
     "metadata": {},
     "output_type": "execute_result"
    }
   ],
   "source": [
    "sample_annotations['c_beta'] = c_beta\n",
    "epi_util.getCorrelation(sample_annotations, 'c_beta', 'Proliferation Score')"
   ]
  },
  {
   "cell_type": "code",
   "execution_count": 17,
   "id": "d436cd94",
   "metadata": {},
   "outputs": [],
   "source": [
    "\n",
    "sample_annotations = pd.read_excel(os.path.join(proj_dir, '43018_2022_491_MOESM2_ESM', 'Supplementary_Table.2.xlsx'), sheet_name='2.AURORA study')\n",
    "sample_annotations.index = sample_annotations['BCR Portion barcode'].map(lambda x:'-'.join(x.split('.')))\n"
   ]
  },
  {
   "cell_type": "code",
   "execution_count": 10,
   "id": "43939e49",
   "metadata": {
    "scrolled": true
   },
   "outputs": [
    {
     "data": {
      "text/plain": [
       "<Axes: ylabel='Count'>"
      ]
     },
     "execution_count": 10,
     "metadata": {},
     "output_type": "execute_result"
    },
    {
     "data": {
      "image/png": "[encoded data removed]",
      "text/plain": [
       "<Figure size 432x288 with 1 Axes>"
      ]
     },
     "metadata": {
      "needs_background": "light"
     },
     "output_type": "display_data"
    }
   ],
   "source": [
    "vals = []\n",
    "patient_multiple_mets_Aurora_c_beta = patient_multiple_mets_Aurora.map(lambda x:c_beta.loc[x])\n",
    "\n",
    "for patient in patient_multiple_mets_Aurora.index:\n",
    "    if patient in c_beta_by_patient['Primary']:\n",
    "        a = patient_multiple_mets_Aurora_c_beta.loc[patient].values - c_beta_by_patient.loc[patient, 'Primary']\n",
    "        vals.extend(a)\n",
    "\n",
    "sns.histplot(vals)"
   ]
  },
  {
   "cell_type": "code",
   "execution_count": 50,
   "id": "9f8c2977",
   "metadata": {},
   "outputs": [
    {
     "data": {
      "text/plain": [
       "Primary older       33\n",
       "Metastasis older     7\n",
       "dtype: int64"
      ]
     },
     "metadata": {},
     "output_type": "display_data"
    },
    {
     "data": {
      "image/png": "[encoded data removed]",
      "text/plain": [
       "<Figure size 172.8x138.24 with 1 Axes>"
      ]
     },
     "metadata": {},
     "output_type": "display_data"
    }
   ],
   "source": [
    "# Plot parameters\n",
    "marker_s = consts['s'] * 0.6\n",
    "lw = 1.5\n",
    "\n",
    "# Create plot axis\n",
    "fig, ax = plt.subplots(figsize=square_figsize * 1.2 * sf)\n",
    "\n",
    "# Plot tumors\n",
    "marker_dict = {'Reyngold':'+', 'Aurora':'x'}\n",
    "label_dict = {'Reyngold':'Lymph node', 'Aurora':'Aurora'}\n",
    "for crt in ['Reyngold', 'Aurora']:\n",
    "    plot_df = c_beta_by_patient.loc[patients_bothSamplesPure[crt]]\n",
    "    ax.scatter(plot_df['Primary'], plot_df['Metastasis'], s=marker_s * sf, marker=marker_dict[crt], color='dimgray', linewidths=lw * sf)\n",
    "\n",
    "# Color fill\n",
    "pts_range = (c_beta_by_patient.min().min()*0.98, c_beta_by_patient.max().max()*1.02)\n",
    "ax.fill_between(pts_range, pts_range, 1, alpha=0.3, color='blue', lw=0)\n",
    "ax.fill_between(pts_range, 0, pts_range, alpha=0.3, color='red', lw=0)\n",
    "\n",
    "# Create legend\n",
    "patches = [mlines.Line2D([], [], color='dimgray', marker=marker_dict[crt], linestyle='None',\n",
    "                         markersize=sqrt(marker_s) * 1.5 * sf, markeredgewidth=lw * 0.75 * sf, linewidth=lw * 100 * sf, label=label_dict[crt])\n",
    "           for crt in marker_dict.keys()]\n",
    "fig.legend(\n",
    "    handles=patches, loc='lower left', bbox_to_anchor=(0.9, 0.1),\n",
    "    fontsize=consts['ticksfontsize'] * 0.8 * sf, title_fontsize=consts['ticksfontsize'] * sf, frameon=True, title='Cohort',\n",
    "    facecolor='#e6eaf0', handlelength=0.5\n",
    ")\n",
    "\n",
    "# Customize figure\n",
    "ax.set_xlabel('Primary tumor $c_β$', fontsize=consts['labelfontsize'] * sf)\n",
    "ax.set_ylabel('Metastasis $c_β$', fontsize=consts['labelfontsize'] * sf)\n",
    "ax.tick_params(axis='both', labelsize=consts['ticksfontsize'] * sf, width=sf, length=8 * sf)\n",
    "ax.set_xlim(pts_range[0], pts_range[1])\n",
    "ax.set_ylim(pts_range[0], pts_range[1])\n",
    "\n",
    "# Custom text on plot\n",
    "ax.text(pts_range[0]*1.01, pts_range[1]*0.99, 'Metastasis older',\n",
    "        ha=\"left\", va=\"top\", fontfamily='sans-serif', color='darkblue',\n",
    "        fontsize=consts['ticksfontsize'] * sf)\n",
    "ax.text(pts_range[1]*0.995, pts_range[0]*1.01, 'Primary older',\n",
    "        ha=\"right\", va=\"bottom\", fontfamily='sans-serif', color='darkred',\n",
    "        fontsize=consts['ticksfontsize'] * sf)\n",
    "\n",
    "# Label 3 patients\n",
    "for patient in ['AF', 'AX', 'AI']:\n",
    "    xpos = c_beta_by_patient.loc[patient, 'Primary']\n",
    "    ypos = c_beta_by_patient.loc[patient, 'Metastasis']\n",
    "    ax.text(xpos-0.006, ypos, patient,\n",
    "            ha=\"right\", va=\"center\", fontfamily='sans-serif', color='black',\n",
    "            fontsize=consts['labelfontsize'] * 0.8 * sf)\n",
    "\n",
    "# Save figure\n",
    "fig.savefig(os.path.join(figure_outdir, f'{cohort}_prim-met_age_comparison.pdf'), format='pdf', pad_inches=0.1)\n",
    "\n",
    "# Display number of tumors where primary older than metastasis, or vice versa\n",
    "age_differential = (c_beta_by_patient['Primary'] > c_beta_by_patient['Metastasis']).value_counts()\n",
    "age_differential.index = age_differential.index.map({True:'Primary older', False:'Metastasis older'})\n",
    "display(age_differential)"
   ]
  },
  {
   "cell_type": "code",
   "execution_count": 99,
   "id": "8aec4bcc",
   "metadata": {},
   "outputs": [
    {
     "data": {
      "text/plain": [
       "<Axes: ylabel='Count'>"
      ]
     },
     "execution_count": 99,
     "metadata": {},
     "output_type": "execute_result"
    },
    {
     "data": {
      "image/png": "[encoded data removed]",
      "text/plain": [
       "<Figure size 432x288 with 1 Axes>"
      ]
     },
     "metadata": {
      "needs_background": "light"
     },
     "output_type": "display_data"
    }
   ],
   "source": [
    "a = c_beta_by_patient.loc[c_beta_by_patient['Primary'] < c_beta_by_patient['Metastasis']]\n",
    "sns.histplot(a['Metastasis'] - a['Primary'])"
   ]
  },
  {
   "cell_type": "markdown",
   "id": "8c6c8c3e",
   "metadata": {},
   "source": [
    "### Plot correlation vs. age difference"
   ]
  },
  {
   "cell_type": "code",
   "execution_count": 51,
   "id": "51eaae6d",
   "metadata": {},
   "outputs": [
    {
     "data": {
      "image/png": "[encoded data removed]",
      "text/plain": [
       "<Figure size 244.8x195.84 with 1 Axes>"
      ]
     },
     "metadata": {},
     "output_type": "display_data"
    }
   ],
   "source": [
    "# Store R-values of each patient (prim vs met)\n",
    "rvalue_list = [correlation_df[cohort].loc[f'{patient}: Tum', f'{patient}: Met'] for patient in patients_bothSamplesPure[cohort]]\n",
    "rvalue_ser = pd.Series(index=patients_bothSamplesPure[cohort], data=rvalue_list).rename('R')\n",
    "\n",
    "# Store difference in c_beta values (prim vs met)\n",
    "c_beta_diff = (c_beta_by_patient['Primary'] - c_beta_by_patient['Metastasis']).rename('c_beta_diff')\n",
    "\n",
    "# Format plot data\n",
    "plot_data = pd.concat([rvalue_ser, c_beta_diff], axis=1)\n",
    "\n",
    "# Create plot\n",
    "fig, ax = plt.subplots(figsize=square_figsize * 1.7 * sf)\n",
    "sns.regplot(ax=ax, data=plot_data, x='c_beta_diff', y='R', color=consts['palette_jco'][0], scatter_kws={'s':consts['s'] * 0.5 * sf})\n",
    "\n",
    "# Customize figure\n",
    "ax.set_xlabel('Age difference ($c_β^P - c_β^M$)', fontsize=consts['labelfontsize'] * sf)\n",
    "ax.set_ylabel('Correlation of primary\\nand metastasis (R)', fontsize=consts['labelfontsize'] * sf)\n",
    "ax.tick_params(axis='both', labelsize=consts['ticksfontsize'] * sf, width=sf, length=8 * sf)\n",
    "\n",
    "# Calculate R value to display on graph\n",
    "R = epi_util.pearsonCorrelation(plot_data['c_beta_diff'], plot_data['R']).rvalue\n",
    "ax.text(0.1, 0.95, f'R = {R:.2f}',\n",
    "        ha=\"center\", va=\"bottom\", fontfamily='sans-serif',\n",
    "        fontsize=0.8 * consts['labelfontsize'] * sf)\n",
    "\n",
    "# Save figure\n",
    "fig.savefig(os.path.join(figure_outdir, f'{cohort}_prim-met_corr_vs_age_diff.pdf'), format='pdf', pad_inches=0.1)"
   ]
  },
  {
   "cell_type": "markdown",
   "id": "dc8f6234",
   "metadata": {},
   "source": [
    "### Plot beta value distributions of three example patients from Reyngold cohort"
   ]
  },
  {
   "cell_type": "code",
   "execution_count": 53,
   "id": "c7580fa0",
   "metadata": {
    "scrolled": true
   },
   "outputs": [
    {
     "data": {
      "image/png": "[encoded data removed]",
      "text/plain": [
       "<Figure size 518.4x161.28 with 3 Axes>"
      ]
     },
     "metadata": {},
     "output_type": "display_data"
    }
   ],
   "source": [
    "patient_list = ['AF', 'AI', 'AX']\n",
    "ncols = len(patient_list)\n",
    "nrows = 1\n",
    "\n",
    "# Create plot\n",
    "fig, axes = plt.subplots(nrows, ncols, figsize=figsize * [2, 0.8] * sf)\n",
    "fig.tight_layout(pad=0.7)\n",
    "\n",
    "# Colors to use\n",
    "color_dict = {'primary':consts['palette_jco'][3], 'metastasis':consts['palette_jco'][0]}\n",
    "\n",
    "for i, patient in enumerate(patient_list):\n",
    "    \n",
    "    # Sample IDs of the patient\n",
    "    samp_prim = sample_map['Reyngold'].index[(sample_map['Reyngold']['Patient'] == patient) & (sample_map['Reyngold']['Sample Type'] == 'Primary')].values[0]\n",
    "    samp_met = sample_map['Reyngold'].index[(sample_map['Reyngold']['Patient'] == patient) & (sample_map['Reyngold']['Sample Type'] == 'Metastasis')].values[0]\n",
    "    \n",
    "    # Create beta values dataframe with two columns\n",
    "    df_prim = beta_values['Reyngold'][samp_prim].rename('beta').to_frame()\n",
    "    df_met = beta_values['Reyngold'][samp_met].rename('beta').to_frame()\n",
    "    df_prim['Sample Type'] = 'primary'\n",
    "    df_met['Sample Type'] = 'metastasis'\n",
    "    df = pd.concat([df_prim, df_met], axis=0, ignore_index=True)\n",
    "    \n",
    "    col = i % ncols\n",
    "    ax = axes[col]\n",
    "    sns.histplot(ax=ax, data=df, x='beta', hue='Sample Type', common_norm=False, legend=False, stat='proportion',\n",
    "                 palette=color_dict, alpha=consts['opacity'])\n",
    "    \n",
    "    # Only write y-axis label on left plot\n",
    "    if i == 0:\n",
    "        ax.set_ylabel(ax.get_ylabel(), fontsize=consts['labelfontsize'] * sf)\n",
    "    else:\n",
    "        ax.set_ylabel('')\n",
    "    \n",
    "    \n",
    "    # Create legend\n",
    "    patches = [mpatches.Patch(color=color_dict['primary'], label=f'Primary ($c_β$ = {c_beta_by_patient.loc[patient, \"Primary\"]:.2f})',\n",
    "                              alpha=consts['opacity'], linewidth=0),\n",
    "               mpatches.Patch(color=color_dict['metastasis'], label=f'Metastasis ($c_β$ = {c_beta_by_patient.loc[patient, \"Metastasis\"]:.2f})',\n",
    "                              alpha=consts['opacity'], linewidth=0)]\n",
    "    plots_x, plots_y = ax.get_position().get_points()[1]\n",
    "    ax.legend(handles=patches,\n",
    "       loc='center',\n",
    "       bbox_to_anchor=(0.4, 0.85),\n",
    "       fontsize=consts['ticksfontsize'] * sf,\n",
    "       frameon=True\n",
    "      )\n",
    "    \n",
    "    # Customize figure and plot R value in title of each plot\n",
    "    rvalue = epi_util.pearsonCorrelation(df_prim['beta'], df_met['beta']).rvalue\n",
    "    ax.set_xlabel('β', fontsize=consts['labelfontsize'] * sf)\n",
    "    ax.set_title(f'Patient {patient}, R = {rvalue:.2f}', fontsize=consts['labelfontsize'] * sf)\n",
    "    ax.tick_params(axis='both', labelsize=consts['ticksfontsize'] * sf, width=sf, length=8 * sf)\n",
    "    ax.set_ylim(0, 0.245)\n",
    "\n",
    "# Save figure\n",
    "fig.savefig(os.path.join(figure_outdir, 'prim-met-hists.pdf'), format='pdf', pad_inches=0.1)"
   ]
  },
  {
   "cell_type": "markdown",
   "id": "788e4314",
   "metadata": {},
   "source": [
    "## Bifocal tumor samples"
   ]
  },
  {
   "cell_type": "markdown",
   "id": "cd74b617",
   "metadata": {},
   "source": [
    "### Import and process data"
   ]
  },
  {
   "cell_type": "code",
   "execution_count": 54,
   "id": "eacdd814",
   "metadata": {},
   "outputs": [],
   "source": [
    "proj_dir = os.path.join(consts['official_indir'], 'Desmedt')\n",
    "\n",
    "##################\n",
    "#######  Desmedt\n",
    "##################\n",
    "\n",
    "sample_map['Desmedt'] = pd.read_table(os.path.join(proj_dir, 'sample_annotations_clean.txt'), index_col=0, dtype=str)\n",
    "patients_bothSamplesPure['Desmedt'] = np.loadtxt(os.path.join(proj_dir, 'patients_bothSamplesPure.txt'), dtype=str)\n",
    "beta_values['Desmedt'] = pd.read_table(os.path.join(proj_dir, 'beta_values_Clock_CpGs_revision_pureSamples.txt'), index_col=0)\n",
    "samples_from_purePairs['Desmedt'] = sample_map['Desmedt'].index[sample_map['Desmedt']['patient'].isin(patients_bothSamplesPure['Desmedt'])].values"
   ]
  },
  {
   "cell_type": "code",
   "execution_count": 55,
   "id": "02d33117",
   "metadata": {},
   "outputs": [],
   "source": [
    "### DELETE\n",
    "\n",
    "# sample_map['Desmedt']['c_beta'] = c_beta\n",
    "# sample_map['Desmedt']['ki67'] = sample_map['Desmedt']['ki67'].astype(int)\n",
    "# sns.regplot(data=sample_map['Desmedt'], x='c_beta', y='ki67')\n",
    "# epi_util.getCorrelation(sample_map['Desmedt'], 'c_beta', 'ki67')"
   ]
  },
  {
   "cell_type": "code",
   "execution_count": 56,
   "id": "6acc54fc",
   "metadata": {},
   "outputs": [],
   "source": [
    "# correlation_df = pd.DataFrame(index=samples_from_purePairs['Desmedt'], columns=samples_from_purePairs['Desmedt'], data=float('nan'))\n",
    "# n_GSMs = correlation_df.shape[0]\n",
    "\n",
    "# for i in range(n_GSMs):\n",
    "#     GSM_i = samples_from_purePairs['Desmedt'][i]\n",
    "#     correlation_df.loc[GSM_i, GSM_i] = 1\n",
    "#     for j in range(i+1, n_GSMs):\n",
    "#         GSM_j = samples_from_purePairs['Desmedt'][j]\n",
    "#         ser_i = beta_values['Desmedt'][GSM_i]\n",
    "#         ser_j = beta_values['Desmedt'][GSM_j]\n",
    "#         res, n_used = epi_util.pearsonCorrelation(ser_i, ser_j, get_n_used=True)\n",
    "#         if n_used >= 10:\n",
    "#             correlation_df.loc[GSM_i, GSM_j] = res.rvalue\n",
    "#             correlation_df.loc[GSM_j, GSM_i] = res.rvalue\n",
    "\n",
    "# GSM_to_heatmap_label_mapper = sample_map['Desmedt'].loc[samples_from_purePairs['Desmedt'], ['patient', 'foci']].apply(lambda x:':'.join(x), axis=1)\n",
    "# correlation_df = correlation_df.rename(columns=GSM_to_heatmap_label_mapper).rename(index=GSM_to_heatmap_label_mapper)"
   ]
  },
  {
   "cell_type": "markdown",
   "id": "23ccd9e5",
   "metadata": {},
   "source": [
    "### Calculate correlation"
   ]
  },
  {
   "cell_type": "code",
   "execution_count": 57,
   "id": "b21be6a9",
   "metadata": {},
   "outputs": [],
   "source": [
    "sample_map['Desmedt']['Patient'] = sample_map['Desmedt']['patient']\n",
    "sample_map['Desmedt']['Sample Type'] = sample_map['Desmedt']['foci']"
   ]
  },
  {
   "cell_type": "code",
   "execution_count": 67,
   "id": "4078a2c1",
   "metadata": {},
   "outputs": [],
   "source": [
    "correlation_df['Desmedt'] = getCorrelationDF(samples_from_purePairs['Desmedt'], beta_values['Desmedt'], sample_map['Desmedt'], sample_type_mapper=None)"
   ]
  },
  {
   "cell_type": "markdown",
   "id": "b66419e5",
   "metadata": {},
   "source": [
    "### Plot correlation"
   ]
  },
  {
   "cell_type": "code",
   "execution_count": 71,
   "id": "3269b36a",
   "metadata": {},
   "outputs": [
    {
     "data": {
      "image/png": "[encoded data removed]",
      "text/plain": [
       "<Figure size 187.2x149.76 with 2 Axes>"
      ]
     },
     "metadata": {},
     "output_type": "display_data"
    }
   ],
   "source": [
    "# Create plot\n",
    "fig, ax = plt.subplots(figsize=square_figsize * 1.3 * sf)\n",
    "sns.heatmap(ax=ax, data=correlation_df['Desmedt'], cmap=cmap, cbar_kws={'label':'Pearson R'})\n",
    "\n",
    "# Customize colorbar\n",
    "cbar_ax = ax.figure.axes[-1]\n",
    "cbar_ax.yaxis.label.set_size(consts['labelfontsize'] * sf)\n",
    "cbar_ax.tick_params(labelsize=consts['ticksfontsize'] * sf, width=sf, length=8 * sf)\n",
    "cbar_ax.set_ylabel(cbar_ax.get_ylabel(), rotation=0)\n",
    "cbar_ax.yaxis.set_label_coords(0.4, 1.11)\n",
    "\n",
    "# Customize figure\n",
    "ax.set_xlabel('Patient: focus', fontsize=consts['labelfontsize'] * sf)\n",
    "ax.set_ylabel('Patient: focus', fontsize=consts['labelfontsize'] * sf)\n",
    "ax.xaxis.set_label_coords(0.5, -0.17)\n",
    "ax.yaxis.set_label_coords(-0.16, 0.5)\n",
    "\n",
    "# Need to fix ticks in this weird way\n",
    "#    to make sure that they are all written on the plot\n",
    "ax.tick_params(axis='both', labelsize=consts['ticksfontsize'] * 0.8 * sf, width=sf, length=8 * sf)\n",
    "ticks = np.sort(np.concatenate([ax.get_xticks(), ax.get_xticks() + 1]))\n",
    "ax.set_xticks(ticks, correlation_df['Desmedt'].index)\n",
    "ax.set_yticks(ticks, correlation_df['Desmedt'].index)\n",
    "\n",
    "# Save figure\n",
    "fig.savefig(os.path.join(figure_outdir, 'bifocal_heatmap.pdf'), format='pdf', pad_inches=0.1)"
   ]
  },
  {
   "cell_type": "code",
   "execution_count": 72,
   "id": "2871d6e1",
   "metadata": {},
   "outputs": [
    {
     "name": "stdout",
     "output_type": "stream",
     "text": [
      "\tMedian within-patient correlation: 0.70\n",
      "\tMedian between-patient correlation: 0.11\n",
      "\tWilcoxon rank sum test: P = 3e-06\n"
     ]
    }
   ],
   "source": [
    "# DELETE\n",
    "\n",
    "# ## Significant difference between between-patient correlations and same-patient correlations\n",
    "\n",
    "# same_patient_r = []\n",
    "# diff_patient_r = []\n",
    "\n",
    "# samples = correlation_df['Desmedt'].index\n",
    "# n_samps = len(samples)\n",
    "# for i in range(n_samps - 1):\n",
    "#     samp_i = samples[i]\n",
    "#     patient_i = samp_i.split(':')[0]\n",
    "#     for j in range(i + 1, n_samps):\n",
    "#         samp_j = samples[j]\n",
    "#         patient_j = samp_j.split(':')[0]\n",
    "#         rvalue = correlation_df['Desmedt'].loc[samp_i, samp_j]\n",
    "        \n",
    "#         if patient_i == patient_j:\n",
    "#             same_patient_r.append(rvalue)\n",
    "#         else:\n",
    "#             diff_patient_r.append(rvalue)\n",
    "\n",
    "# pvalue = epi_util.ranksums(same_patient_r, diff_patient_r).pvalue\n",
    "\n",
    "# print(f'Median within-patient correlation: {np.median(same_patient_r):.2f}')\n",
    "# print(f'Median between-patient correlation: {np.median(diff_patient_r):.2f}')\n",
    "# print(f'Wilcoxon rank sum test: P = {pvalue:.0e}')\n",
    "\n",
    "## Print statistics in both cohorts (and combined)\n",
    "\n",
    "med_same_patient_r, med_diff_patient_r, pvalue = statisticsCorrelationDF(correlation_df['Desmedt'])\n",
    "\n",
    "print(f'\\tMedian within-patient correlation: {med_same_patient_r:.2f}')\n",
    "print(f'\\tMedian between-patient correlation: {med_diff_patient_r:.2f}')\n",
    "print(f'\\tWilcoxon rank sum test: P = {pvalue:.0e}')"
   ]
  },
  {
   "cell_type": "markdown",
   "id": "d2c049b9",
   "metadata": {},
   "source": [
    "### Plot $c_\\beta$ of primary vs. metatastis"
   ]
  },
  {
   "cell_type": "code",
   "execution_count": 7,
   "id": "a89934a3",
   "metadata": {},
   "outputs": [],
   "source": [
    "## Create dataframe of c_beta values for the sample pair for each patient\n",
    "\n",
    "c_beta = 1 - beta_values['Desmedt'].std(axis=0)\n",
    "c_beta_by_patient = sample_map['Desmedt'].reset_index().pivot(index='patient', columns='foci', values='index').loc[patients_bothSamplesPure['Desmedt']]\n",
    "c_beta_by_patient['1'] = c_beta_by_patient['1'].map(c_beta)\n",
    "c_beta_by_patient['2'] = c_beta_by_patient['2'].map(c_beta)"
   ]
  },
  {
   "cell_type": "code",
   "execution_count": 29,
   "id": "d2d69694",
   "metadata": {},
   "outputs": [
    {
     "data": {
      "image/png": "[encoded data removed]",
      "text/plain": [
       "<Figure size 230.4x184.32 with 1 Axes>"
      ]
     },
     "metadata": {
      "needs_background": "light"
     },
     "output_type": "display_data"
    }
   ],
   "source": [
    "# Create plot axis\n",
    "fig, ax = plt.subplots(figsize=square_figsize * 1.6 * sf)\n",
    "\n",
    "# Range of x-axis and y-axis\n",
    "pts_range = (0.7, 0.95)\n",
    "\n",
    "# Array of values to plot for the identity line\n",
    "pts_arr = np.linspace(pts_range[0], pts_range[1], 100)\n",
    "ax.plot(pts_arr[4:-4], pts_arr[4:-4], color=\"grey\", linestyle='solid', linewidth=1.0 * sf)\n",
    "\n",
    "# Plot tumors\n",
    "sns.scatterplot(ax=ax, data=c_beta_by_patient, x='1', y='2', color='dimgray', s=consts['s'] * sf)\n",
    "\n",
    "# Customize figure\n",
    "ax.set_xlabel('Focus 1: $c_β$', fontsize=consts['labelfontsize'] * sf)\n",
    "ax.set_ylabel('Focus 2: $c_β$', fontsize=consts['labelfontsize'] * sf)\n",
    "ax.tick_params(axis='both', labelsize=consts['ticksfontsize'] * sf, width=sf, length=8 * sf)\n",
    "ax.set_xlim(pts_range[0], pts_range[1])\n",
    "ax.set_ylim(pts_range[0], pts_range[1])\n",
    "\n",
    "# Y-coord offset for patient labels\n",
    "offset_y = {'L':0.005}\n",
    "\n",
    "# Label points with patient IDs\n",
    "for patient in c_beta_by_patient.index:\n",
    "    xpos = c_beta_by_patient.loc[patient, '1']\n",
    "    ypos = c_beta_by_patient.loc[patient, '2']\n",
    "    if patient in offset_y:\n",
    "        ypos += offset_y[patient]\n",
    "    ax.text(xpos-0.003, ypos, patient,\n",
    "            ha=\"right\", va=\"center\", fontfamily='sans-serif', color='black',\n",
    "            fontsize=consts['labelfontsize'] * 0.8 * sf)\n",
    "\n",
    "# Save figure\n",
    "plt.savefig(os.path.join(figure_outdir, 'bifocal_age_comparison.pdf'), format='pdf')"
   ]
  }
 ],
 "metadata": {
  "kernelspec": {
   "display_name": "Python 3 (ipykernel)",
   "language": "python",
   "name": "python3"
  },
  "language_info": {
   "codemirror_mode": {
    "name": "ipython",
    "version": 3
   },
   "file_extension": ".py",
   "mimetype": "text/x-python",
   "name": "python",
   "nbconvert_exporter": "python",
   "pygments_lexer": "ipython3",
   "version": "3.9.19"
  }
 },
 "nbformat": 4,
 "nbformat_minor": 5
}
