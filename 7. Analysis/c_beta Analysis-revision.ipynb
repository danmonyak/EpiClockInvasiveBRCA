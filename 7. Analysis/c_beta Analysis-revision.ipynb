{
 "cells": [
  {
   "cell_type": "markdown",
   "id": "c43d953e-0fd5-4d22-80ff-4d31c2418828",
   "metadata": {},
   "source": [
    "# $c_β$ Analysis\n",
    "\n",
    "Run all cells to:\n",
    "- Import clinical tables for TCGA and Lund cohorts\n",
    "- Import and process TCGA gene expression data\n",
    "- Import and process TCGA copy number data\n",
    "- Add these data to TCGA clinical table, and save\n",
    "- Generate figures, most relating to covariate analysis"
   ]
  },
  {
   "cell_type": "code",
   "execution_count": 1,
   "id": "74e7d698",
   "metadata": {},
   "outputs": [],
   "source": [
    "import pandas as pd\n",
    "import numpy as np\n",
    "import os\n",
    "import sys\n",
    "import seaborn as sns\n",
    "import matplotlib.pyplot as plt\n",
    "import EpiClockInvasiveBRCA.src.util as epi_util\n",
    "consts = epi_util.consts"
   ]
  },
  {
   "cell_type": "code",
   "execution_count": 2,
   "id": "b3c56bdc",
   "metadata": {},
   "outputs": [],
   "source": [
    "## Set up output directories for figures\n",
    "\n",
    "figure_outdir = 'figures_revision'\n",
    "clin_path_outdir = os.path.join(figure_outdir, 'clin_path')\n",
    "cell_chars_outdir = os.path.join(figure_outdir, 'cell_chars')\n",
    "supp_path_outdir = os.path.join(figure_outdir, 'supplementary')\n",
    "\n",
    "os.makedirs(clin_path_outdir, exist_ok=True)\n",
    "os.makedirs(cell_chars_outdir, exist_ok=True)\n",
    "os.makedirs(supp_path_outdir, exist_ok=True)"
   ]
  },
  {
   "cell_type": "markdown",
   "id": "20f3ec20",
   "metadata": {},
   "source": [
    "## Prepare data"
   ]
  },
  {
   "cell_type": "code",
   "execution_count": 3,
   "id": "d0f09616",
   "metadata": {},
   "outputs": [],
   "source": [
    "## Input data directories\n",
    "\n",
    "TCGA_c_beta_dir = os.path.join(consts['repo_dir'], '3. Select fCpGs', 'outputs_revision')\n",
    "Lund_clinical_dir = os.path.join(consts['official_indir'], 'Lund')\n",
    "Lund_c_beta_dir = os.path.join(consts['repo_dir'], '4. Process Supplementary Data', 'outputs_revision', 'Lund')"
   ]
  },
  {
   "cell_type": "markdown",
   "id": "706ec1a9",
   "metadata": {},
   "source": [
    "### Clinical tables"
   ]
  },
  {
   "cell_type": "code",
   "execution_count": 4,
   "id": "60684668",
   "metadata": {},
   "outputs": [],
   "source": [
    "## Import clinical data for both cohorts into data dictionary\n",
    "## Import c_beta values into dataframes\n",
    "\n",
    "clinical = {}\n",
    "\n",
    "## Lund\n",
    "\n",
    "clinical['Lund'] = pd.read_table(os.path.join(Lund_clinical_dir, 'Lund.clinical.revision.txt'), index_col=0, dtype={'grade':str})\n",
    "clinical['Lund']['c_beta'] = pd.read_table(os.path.join(Lund_c_beta_dir, 'Lund.c_beta.txt'), index_col=0).squeeze(\"columns\")\n",
    "\n",
    "## TCGA\n",
    "\n",
    "clinical['TCGA'] = pd.read_table(os.path.join(consts['TCGA_datadir'], 'TCGA.clinical.tsv'), index_col=0)\n",
    "clinical['TCGA'] = clinical['TCGA'].set_index('bcr_patient_barcode')\n",
    "c_beta_tcga = pd.read_table(os.path.join(TCGA_c_beta_dir, 'TCGA.c_beta.txt'), index_col=0, header=None).squeeze(\"columns\")\n",
    "\n",
    "# Change from sample IDs to patient IDs\n",
    "c_beta_tcga.index = c_beta_tcga.index.map(epi_util.sampleToPatientID)\n",
    "\n",
    "# Add c_beta as a column\n",
    "clinical['TCGA']['c_beta'] = c_beta_tcga\n",
    "\n",
    "# Eliminate sub-categories of T Stage and Stage\n",
    "clinical['TCGA']['T Stage'] = clinical['TCGA']['ajcc_pathologic_t'].dropna().apply(lambda x:x[:2])\n",
    "clinical['TCGA']['Stage'] = clinical['TCGA']['ajcc_pathologic_stage'].dropna().str.rstrip('ABC')\n",
    "\n",
    "# Convert age from days to years\n",
    "clinical['TCGA']['age'] = clinical['TCGA']['age_at_diagnosis'] / 365\n",
    "\n",
    "# Add sample IDs to TCGA clinical table\n",
    "patient_to_sample_IDs = pd.read_table(os.path.join(consts['TCGA_datadir'], 'patient_to_sample_IDs.txt'), index_col=0).squeeze('columns')\n",
    "clinical['TCGA'] = clinical['TCGA'].merge(patient_to_sample_IDs, left_index=True, right_index=True, how='left')"
   ]
  },
  {
   "cell_type": "markdown",
   "id": "a285c6b5",
   "metadata": {},
   "source": [
    "### Import subtyping results"
   ]
  },
  {
   "cell_type": "code",
   "execution_count": 5,
   "id": "e0b48890",
   "metadata": {},
   "outputs": [],
   "source": [
    "## Import pam50 subtype predictions from log2 norm TPM\n",
    "## Merge subtype column with TCGA clinical table\n",
    "\n",
    "TCGA_genefu_pam50_subtypes_log2_norm = pd.read_table(os.path.join(consts['repo_dir'], '5. Subtyping', 'TCGA.genefu.pam50.subtypes_log2.norm.txt'))\n",
    "TCGA_genefu_pam50_subtypes_log2_norm.index = TCGA_genefu_pam50_subtypes_log2_norm['libName'].apply(lambda x:epi_util.sampleToPatientID(x.replace('.', '-')))\n",
    "TCGA_genefu_pam50_subtypes_log2_norm = TCGA_genefu_pam50_subtypes_log2_norm.drop('libName', axis=1)\n",
    "clinical['TCGA'] = clinical['TCGA'].merge(TCGA_genefu_pam50_subtypes_log2_norm['subtype.pam50'], left_index=True, right_index=True, how='left')"
   ]
  },
  {
   "cell_type": "markdown",
   "id": "3994951f",
   "metadata": {},
   "source": [
    "### Import IHC subtyping results"
   ]
  },
  {
   "cell_type": "code",
   "execution_count": 6,
   "id": "abdf94e0",
   "metadata": {},
   "outputs": [],
   "source": [
    "marker_state_dict = {\n",
    "    'Equivocal':float('NaN'),\n",
    "    'Indeterminate':float('NaN'),\n",
    "    'Negative':'Negative', 'Positive':'Positive'}\n",
    "for col in ['breast_carcinoma_estrogen_receptor_status', 'breast_carcinoma_progesterone_receptor_status',\n",
    "           'lab_proc_her2_neu_immunohistochemistry_receptor_status']:\n",
    "    clinical['TCGA'][col] = clinical['TCGA'][col].map(marker_state_dict)\n",
    "\n",
    "clinical['TCGA']['HR+'] = (clinical['TCGA']['breast_carcinoma_estrogen_receptor_status'] == 'Positive') | (clinical['TCGA']['breast_carcinoma_progesterone_receptor_status'] == 'Positive')\n",
    "clinical['TCGA']['HR-'] = (clinical['TCGA']['breast_carcinoma_estrogen_receptor_status'] == 'Negative') & (clinical['TCGA']['breast_carcinoma_progesterone_receptor_status'] == 'Negative')\n",
    "\n",
    "clinical['TCGA']['LumA_type'] = clinical['TCGA']['HR+'] & (clinical['TCGA']['lab_proc_her2_neu_immunohistochemistry_receptor_status'] == 'Negative')\n",
    "clinical['TCGA']['LumB_type'] = clinical['TCGA']['HR+'] & (clinical['TCGA']['lab_proc_her2_neu_immunohistochemistry_receptor_status'] == 'Positive')\n",
    "clinical['TCGA']['Her2_type'] = (clinical['TCGA']['lab_proc_her2_neu_immunohistochemistry_receptor_status'] == 'Positive') & clinical['TCGA']['HR-']\n",
    "clinical['TCGA']['Triple-Negative_type'] = clinical['TCGA']['HR-'] & (clinical['TCGA']['lab_proc_her2_neu_immunohistochemistry_receptor_status'] == 'Negative')\n",
    "\n",
    "subtype_list = ['LumA_type', 'LumB_type', 'Her2_type', 'Triple-Negative_type']\n",
    "\n",
    "for subtype in subtype_list:\n",
    "    clinical['TCGA'][subtype] = clinical['TCGA'][subtype].map({True:subtype.split('_type')[0], False:''})\n",
    "\n",
    "clinical['TCGA']['subtype.ihc'] = clinical['TCGA'][subtype_list].apply(lambda row:''.join(row), axis=1)\n",
    "clinical['TCGA'].loc[clinical['TCGA']['subtype.ihc'] == '', 'subtype.ihc'] = None\n",
    "\n",
    "clinical['TCGA'].drop(subtype_list, axis=1, inplace=True)"
   ]
  },
  {
   "cell_type": "markdown",
   "id": "20458883",
   "metadata": {},
   "source": [
    "### Import mutation status data"
   ]
  },
  {
   "cell_type": "code",
   "execution_count": 7,
   "id": "a3b24775",
   "metadata": {},
   "outputs": [],
   "source": [
    "mutations_TCGA = pd.read_table(os.path.join(consts['official_indir'], 'TCGA', 'TCGA.mutation.tsv'), low_memory=False)\n",
    "mutations_TCGA['sampleID'] = mutations_TCGA['Tumor_Sample_Barcode'].map(epi_util.getSampleID)"
   ]
  },
  {
   "cell_type": "code",
   "execution_count": 8,
   "id": "32868e9d",
   "metadata": {},
   "outputs": [
    {
     "name": "stdout",
     "output_type": "stream",
     "text": [
      "25\n"
     ]
    },
    {
     "data": {
      "text/html": [
       "<div>\n",
       "<style scoped>\n",
       "    .dataframe tbody tr th:only-of-type {\n",
       "        vertical-align: middle;\n",
       "    }\n",
       "\n",
       "    .dataframe tbody tr th {\n",
       "        vertical-align: top;\n",
       "    }\n",
       "\n",
       "    .dataframe thead th {\n",
       "        text-align: right;\n",
       "    }\n",
       "</style>\n",
       "<table border=\"1\" class=\"dataframe\">\n",
       "  <thead>\n",
       "    <tr style=\"text-align: right;\">\n",
       "      <th></th>\n",
       "      <th>Hugo_Symbol</th>\n",
       "      <th>Entrez_Gene_Id</th>\n",
       "      <th>Center</th>\n",
       "      <th>NCBI_Build</th>\n",
       "      <th>Chromosome</th>\n",
       "      <th>Start_Position</th>\n",
       "      <th>End_Position</th>\n",
       "      <th>Strand</th>\n",
       "      <th>Variant_Classification</th>\n",
       "      <th>Variant_Type</th>\n",
       "      <th>...</th>\n",
       "      <th>case_id</th>\n",
       "      <th>GDC_FILTER</th>\n",
       "      <th>COSMIC</th>\n",
       "      <th>hotspot</th>\n",
       "      <th>RNA_Support</th>\n",
       "      <th>RNA_depth</th>\n",
       "      <th>RNA_ref_count</th>\n",
       "      <th>RNA_alt_count</th>\n",
       "      <th>callers</th>\n",
       "      <th>sampleID</th>\n",
       "    </tr>\n",
       "  </thead>\n",
       "  <tbody>\n",
       "    <tr>\n",
       "      <th>2268</th>\n",
       "      <td>BRCA1</td>\n",
       "      <td>672</td>\n",
       "      <td>WUGSC</td>\n",
       "      <td>GRCh38</td>\n",
       "      <td>chr17</td>\n",
       "      <td>43076523</td>\n",
       "      <td>43076523</td>\n",
       "      <td>+</td>\n",
       "      <td>Silent</td>\n",
       "      <td>SNP</td>\n",
       "      <td>...</td>\n",
       "      <td>d13fb44b-291b-4ea4-920c-142daa8d1989</td>\n",
       "      <td>NaN</td>\n",
       "      <td>NaN</td>\n",
       "      <td>N</td>\n",
       "      <td>Unknown</td>\n",
       "      <td>NaN</td>\n",
       "      <td>NaN</td>\n",
       "      <td>NaN</td>\n",
       "      <td>muse;mutect2;varscan2</td>\n",
       "      <td>TCGA-AC-A5EH-01A</td>\n",
       "    </tr>\n",
       "  </tbody>\n",
       "</table>\n",
       "<p>1 rows × 141 columns</p>\n",
       "</div>"
      ],
      "text/plain": [
       "     Hugo_Symbol  Entrez_Gene_Id Center NCBI_Build Chromosome  Start_Position  \\\n",
       "2268       BRCA1             672  WUGSC     GRCh38      chr17        43076523   \n",
       "\n",
       "      End_Position Strand Variant_Classification Variant_Type  ...  \\\n",
       "2268      43076523      +                 Silent          SNP  ...   \n",
       "\n",
       "                                   case_id GDC_FILTER COSMIC hotspot  \\\n",
       "2268  d13fb44b-291b-4ea4-920c-142daa8d1989        NaN    NaN       N   \n",
       "\n",
       "      RNA_Support RNA_depth RNA_ref_count  RNA_alt_count  \\\n",
       "2268      Unknown       NaN           NaN            NaN   \n",
       "\n",
       "                    callers          sampleID  \n",
       "2268  muse;mutect2;varscan2  TCGA-AC-A5EH-01A  \n",
       "\n",
       "[1 rows x 141 columns]"
      ]
     },
     "metadata": {},
     "output_type": "display_data"
    },
    {
     "name": "stdout",
     "output_type": "stream",
     "text": [
      "Removed 1 mutations\n"
     ]
    },
    {
     "data": {
      "text/plain": [
       "Missense_Mutation    11\n",
       "Frame_Shift_Del       6\n",
       "Nonsense_Mutation     5\n",
       "In_Frame_Del          1\n",
       "Splice_Site           1\n",
       "Name: Variant_Classification, dtype: int64"
      ]
     },
     "metadata": {},
     "output_type": "display_data"
    }
   ],
   "source": [
    "ensmbl_IDs = {'BRCA1':'ENSG00000012048', 'BRCA2':'ENSG00000139618'}\n",
    "\n",
    "# Restrict to BRCA1/2 rows\n",
    "BRCA_mutations = mutations_TCGA.loc[mutations_TCGA['Gene'].isin([ensmbl_IDs['BRCA1'], ensmbl_IDs['BRCA2']])]\n",
    "assert (BRCA_mutations['Mutation_Status'] == 'Somatic').all()\n",
    "before = BRCA_mutations.shape[0]\n",
    "print(BRCA_mutations.shape[0])\n",
    "\n",
    "# Don't use silent mutations\n",
    "display(BRCA_mutations.loc[BRCA_mutations['Variant_Classification'] == 'Silent'])\n",
    "BRCA_mutations = BRCA_mutations.loc[BRCA_mutations['Variant_Classification'] != 'Silent']\n",
    "\n",
    "after = BRCA_mutations.shape[0]\n",
    "print(f'Removed {before - after} mutations')\n",
    "\n",
    "display(BRCA_mutations['Variant_Classification'].value_counts())\n",
    "\n",
    "# Add info to clinical table\n",
    "clinical['TCGA']['BRCA1/2'] = clinical['TCGA']['sampleID'].isin(BRCA_mutations['sampleID']).map({True:'Mutation', False:'No mutation'})"
   ]
  },
  {
   "cell_type": "code",
   "execution_count": 9,
   "id": "ff32b54e",
   "metadata": {},
   "outputs": [
    {
     "name": "stdout",
     "output_type": "stream",
     "text": [
      "Analysis dataset: N = 408\n"
     ]
    }
   ],
   "source": [
    "used_samples_mask = clinical['TCGA']['in_analysis_dataset'] & ~clinical['TCGA']['c_beta'].isna()\n",
    "print(f'Analysis dataset: N = {used_samples_mask.sum()}')"
   ]
  },
  {
   "cell_type": "code",
   "execution_count": 10,
   "id": "acf1f62a",
   "metadata": {},
   "outputs": [
    {
     "data": {
      "text/plain": [
       "No mutation    385\n",
       "Mutation        23\n",
       "Name: BRCA1/2, dtype: int64"
      ]
     },
     "execution_count": 10,
     "metadata": {},
     "output_type": "execute_result"
    }
   ],
   "source": [
    "clinical['TCGA']['BRCA1/2'].loc[used_samples_mask].value_counts()"
   ]
  },
  {
   "cell_type": "markdown",
   "id": "02cc262c",
   "metadata": {},
   "source": [
    "### RNA-seq"
   ]
  },
  {
   "cell_type": "code",
   "execution_count": 11,
   "id": "4c1448fd",
   "metadata": {},
   "outputs": [],
   "source": [
    "## Import RNA-seq TPM data\n",
    "\n",
    "# Process TPM data table\n",
    "markers_TPM_df = pd.read_table(\n",
    "    os.path.join(consts['TCGA_datadir'], 'TCGA.rnaseq_tpm.tsv'),\n",
    "    sep='\\t')\n",
    "markers_TPM_df = markers_TPM_df.set_index('gene_id')\n",
    "markers_TPM_df = markers_TPM_df.rename(columns=epi_util.sampleToPatientID)\n",
    "\n",
    "# Save gene_name series\n",
    "# Can use it to map gene IDs to gene names\n",
    "gene_name = markers_TPM_df.pop('gene_name')\n",
    "\n",
    "# Only consider markers that are nonzero for at least one tumor\n",
    "nonzero_values = (markers_TPM_df != 0).any(axis=1)\n",
    "markers_TPM_df = markers_TPM_df.loc[nonzero_values]\n",
    "gene_name = gene_name.loc[nonzero_values]"
   ]
  },
  {
   "cell_type": "code",
   "execution_count": 12,
   "id": "32d946af",
   "metadata": {},
   "outputs": [],
   "source": [
    "## NORMALIZATION STEP\n",
    "## 1. Log transform TPM\n",
    "## 2. Mean-center the values for each gene across all tumors\n",
    "\n",
    "markers_log_transformed_df = np.log2(markers_TPM_df + 1)\n",
    "markers_transformed_df = markers_log_transformed_df.apply(lambda col:col - markers_log_transformed_df.mean(axis=1), axis=0)\n",
    "assert (markers_transformed_df.mean(axis=1) < 1e-5).all() # Sanity check"
   ]
  },
  {
   "cell_type": "code",
   "execution_count": 13,
   "id": "5afc503c",
   "metadata": {},
   "outputs": [
    {
     "name": "stdout",
     "output_type": "stream",
     "text": [
      "1 genes not found from the IR module\n"
     ]
    }
   ],
   "source": [
    "## Gene modules\n",
    "\n",
    "# Import list of genes for each gene module from Fredlund et al.\n",
    "\n",
    "gene_module_dict = {}\n",
    "with open(os.path.join(consts['repo_dir'], 'data', 'Fredlund.gene.modules.txt'), 'r') as f:\n",
    "    line_list = f.readlines()\n",
    "\n",
    "for line in line_list:\n",
    "    list_temp = line.rstrip().split('\\t')\n",
    "    gene_module_dict[list_temp[0]] = list_temp[1:]\n",
    "    \n",
    "# Add columns for the average expression of each gene module to clinical['TCGA']\n",
    "\n",
    "for module in gene_module_dict.keys():\n",
    "    markers = gene_module_dict[module]\n",
    "    genes_used = gene_name.index[gene_name.isin(markers)]\n",
    "    \n",
    "    # Note if any genes are not present\n",
    "    if genes_used.shape[0] != len(markers):\n",
    "        print(f'{len(markers) - genes_used.shape[0]} genes not found from the {module} module')\n",
    "    \n",
    "    #\n",
    "    selected_TPM = markers_transformed_df.loc[genes_used]\n",
    "    avg_module_expression = selected_TPM.mean(axis=0)\n",
    "    avg_module_expression.name = module\n",
    "    clinical['TCGA'] = clinical['TCGA'].drop(module, axis=1, errors='ignore')\n",
    "    clinical['TCGA'] = clinical['TCGA'].merge(avg_module_expression, left_index=True, right_index=True, how='left')"
   ]
  },
  {
   "cell_type": "code",
   "execution_count": 14,
   "id": "1c605493",
   "metadata": {},
   "outputs": [],
   "source": [
    "## Include expression of certain genes in clinical table\n",
    "## Genes specifically relevant for breast cancer\n",
    "\n",
    "clinical['TCGA']['MKI67'] = markers_transformed_df.loc[gene_name.index[gene_name=='MKI67']].T\n",
    "clinical['TCGA']['MCM2'] = markers_transformed_df.loc[gene_name.index[gene_name=='MCM2']].T\n",
    "\n",
    "# DELETE\n",
    "# MCM_family = ['MCM2', 'MCM3', 'MCM4', 'MCM5', 'MCM6', 'MCM7']\n",
    "# clinical['TCGA']['MCM'] = markers_transformed_df.loc[gene_name.index[gene_name.isin(MCM_family)]].mean(axis=0)"
   ]
  },
  {
   "cell_type": "markdown",
   "id": "25a12304",
   "metadata": {},
   "source": [
    "### Copy number analysis"
   ]
  },
  {
   "cell_type": "code",
   "execution_count": 15,
   "id": "eb40c39e",
   "metadata": {},
   "outputs": [],
   "source": [
    "## Import CNV table and transform data\n",
    "\n",
    "CNV_df = pd.read_table(\n",
    "    os.path.join(consts['TCGA_datadir'], 'TCGA.cnv.tsv'),\n",
    "    sep='\\t')\n",
    "\n",
    "# Undo log transformation\n",
    "CNV_df['CN'] = 2 * (2 ** CNV_df['Segment_Mean'])\n",
    "all_samples = CNV_df['Sample'].unique()"
   ]
  },
  {
   "cell_type": "code",
   "execution_count": 16,
   "id": "1732cdbb",
   "metadata": {},
   "outputs": [],
   "source": [
    "## Iterate through samples and calculate CN losses and gains\n",
    "\n",
    "# Thresholds for CN losses and gains\n",
    "FGA_loss_threshold = 1.5\n",
    "FGA_gain_threshold = 2.5\n",
    "\n",
    "# Store FGA loss/gain for each sample\n",
    "FGA_loss_list = []\n",
    "FGA_gain_list = []\n",
    "for samp in all_samples:\n",
    "\n",
    "    # Select only rows corresponding to this sample\n",
    "    sample_CNV_df = CNV_df.loc[CNV_df['Sample'] == samp]\n",
    "    \n",
    "    total_num_probes = sample_CNV_df['Num_Probes'].sum()\n",
    "    \n",
    "    # Sum of number of probes in regions that are beyond the loss and gain thresholds\n",
    "    FGA_loss = sample_CNV_df.loc[sample_CNV_df['CN'] < FGA_loss_threshold, 'Num_Probes'].sum() / total_num_probes\n",
    "    FGA_gain = sample_CNV_df.loc[sample_CNV_df['CN'] > FGA_gain_threshold, 'Num_Probes'].sum() / total_num_probes\n",
    "\n",
    "    FGA_loss_list.append(FGA_loss)\n",
    "    FGA_gain_list.append(FGA_gain)\n",
    "\n",
    "# Create dataframe for calculated values\n",
    "FGA_output = pd.DataFrame(index=all_samples, data={'FGA_loss':FGA_loss_list, 'FGA_gain':FGA_gain_list})\n",
    "FGA_output['FGA'] = FGA_output['FGA_loss'] + FGA_output['FGA_gain']\n",
    "FGA_output.index = FGA_output.index.to_series().apply(epi_util.sampleToPatientID)\n",
    "\n",
    "# Add new columns to TCGA clinical table\n",
    "clinical['TCGA'] = clinical['TCGA'].drop(['FGA_loss', 'FGA_gain', 'FGA'], axis=1, errors='ignore')\n",
    "clinical['TCGA'] = clinical['TCGA'].merge(FGA_output, left_index=True, right_index=True, how='left')"
   ]
  },
  {
   "cell_type": "markdown",
   "id": "4796551a",
   "metadata": {},
   "source": [
    "### Save annotated clinical file for TCGA cohort"
   ]
  },
  {
   "cell_type": "code",
   "execution_count": 17,
   "id": "11ed67f4",
   "metadata": {
    "scrolled": true
   },
   "outputs": [
    {
     "name": "stdout",
     "output_type": "stream",
     "text": [
      "Current output matches existing file.\n"
     ]
    }
   ],
   "source": [
    "## Save modified TCGA clinical table\n",
    "\n",
    "# Outfile path\n",
    "clinical_annotated_filepath = os.path.join(consts['TCGA_datadir'], 'TCGA.clinical.annotated_revision.tsv')\n",
    "\n",
    "# Save, don't overwrite existing file\n",
    "if os.path.exists(clinical_annotated_filepath):\n",
    "    existing_table = pd.read_table(clinical_annotated_filepath, index_col=0)\n",
    "    assert (existing_table.round(5).fillna(0) == clinical['TCGA'].round(5).fillna(0)).all(axis=None, skipna=True)\n",
    "    print('Current output matches existing file.')\n",
    "else:\n",
    "    clinical['TCGA'].to_csv(clinical_annotated_filepath, sep='\\t')"
   ]
  },
  {
   "cell_type": "markdown",
   "id": "0c4d0d0a",
   "metadata": {},
   "source": [
    "## Make Figures"
   ]
  },
  {
   "cell_type": "code",
   "execution_count": 18,
   "id": "5536347f",
   "metadata": {},
   "outputs": [],
   "source": [
    "## Configure graph\n",
    "sf = consts['sf']\n",
    "figsize = np.array([7, 6])\n",
    "sns.set(rc={\"savefig.bbox\":'tight', 'axes.linewidth':sf}, font_scale=1, style='ticks')"
   ]
  },
  {
   "cell_type": "code",
   "execution_count": 19,
   "id": "1053c967",
   "metadata": {},
   "outputs": [],
   "source": [
    "## Must set dataframe names for use of saveBoxPlotNew and saveCorrelationPlot\n",
    "\n",
    "clinical['TCGA'].name = 'TCGA'\n",
    "clinical['Lund'].name = 'Lund'"
   ]
  },
  {
   "cell_type": "markdown",
   "id": "7a8a566c",
   "metadata": {},
   "source": [
    "### 3 example tumors"
   ]
  },
  {
   "cell_type": "code",
   "execution_count": 20,
   "id": "28e54d12",
   "metadata": {
    "scrolled": true
   },
   "outputs": [
    {
     "data": {
      "image/png": "[encoded data removed]",
      "text/plain": [
       "<Figure size 463.68x138.24 with 3 Axes>"
      ]
     },
     "metadata": {
      "needs_background": "light"
     },
     "output_type": "display_data"
    }
   ],
   "source": [
    "## Plot beta value distriubtions for 3 example tumors\n",
    "\n",
    "beta_values_Clock = pd.read_table(os.path.join(consts['TCGA_datadir'], 'TCGA.methyl.Clock_revision.tsv'), index_col=0)\n",
    "\n",
    "sample_list = {\n",
    "    'Tum1':'TCGA-BH-A1FJ-01A',\n",
    "    'Tum2':'TCGA-A2-A0T5-01A',\n",
    "    'Tum3':'TCGA-EW-A1PF-01A'\n",
    "}\n",
    "\n",
    "epi_util.plotTumorWise(beta_values=beta_values_Clock, sample_list=[sample_list[tum] for tum in sample_list],\n",
    "                     suptitle='', xlabel='β', title_formats=[tum + ' ({})' for tum in sample_list],\n",
    "                     outfile=True, outdir=figure_outdir, outfile_name='example_tumors.pdf',\n",
    "                     choose_random=False, color=consts['palette_jco'][2], bins=20,\n",
    "                     figsize=figsize * [2.3, 0.8], text_fontsize=consts['labelfontsize'], ticksfontsize=consts['ticksfontsize'], opacity=consts['opacity'], sf=sf,\n",
    "                     tight_layout_pad=0.2\n",
    "             )"
   ]
  },
  {
   "cell_type": "code",
   "execution_count": 21,
   "id": "82aad369",
   "metadata": {},
   "outputs": [
    {
     "data": {
      "image/png": "[encoded data removed]",
      "text/plain": [
       "<Figure size 262.08x164.16 with 1 Axes>"
      ]
     },
     "metadata": {
      "needs_background": "light"
     },
     "output_type": "display_data"
    }
   ],
   "source": [
    "## Plot distribution of c_beta values across all tumors in TCGA set\n",
    "\n",
    "# Values to plot\n",
    "plot_data = clinical['TCGA'].loc[clinical['TCGA']['in_analysis_dataset'], 'c_beta']\n",
    "\n",
    "# Create plot\n",
    "fig, ax = plt.subplots(1, 1, figsize=figsize * [1.3, 0.95] * sf)\n",
    "sns.histplot(ax=ax, x=plot_data,\n",
    "             color=consts['palette_jco'][2], alpha=consts['opacity'])\n",
    "\n",
    "# Mark (with vertical lines) the c_beta values of three\n",
    "#   example tumors from plot in the previous cell\n",
    "line_color = 'black'\n",
    "tumor_heights = [0.8, 0.8, 0.8]\n",
    "\n",
    "x_0 = clinical['TCGA'].loc[epi_util.sampleToPatientID(sample_list['Tum1']), 'c_beta']\n",
    "x_1 = clinical['TCGA'].loc[epi_util.sampleToPatientID(sample_list['Tum2']), 'c_beta']\n",
    "x_2 = clinical['TCGA'].loc[epi_util.sampleToPatientID(sample_list['Tum3']), 'c_beta']\n",
    "\n",
    "ax.axvline(x=x_0, ymax=tumor_heights[0], lw=2.5 * sf, color=line_color)\n",
    "ax.axvline(x=x_1, ymax=tumor_heights[1], lw=2.5 * sf, color=line_color)\n",
    "ax.axvline(x=x_2, ymax=tumor_heights[2], lw=2.5 * sf, color=line_color)\n",
    "\n",
    "# Customize figure\n",
    "ax.set_xlabel('$c_β$', fontsize=consts['labelfontsize'] * sf)\n",
    "ax.set_ylabel('Count', fontsize=consts['labelfontsize'] * sf)\n",
    "ax.tick_params(axis='both', labelsize=consts['ticksfontsize'] * sf, width=sf, length=8 * sf)\n",
    "ax.set_ylim(top=75)\n",
    "\n",
    "# Widen plot a little\n",
    "xlim = ax.get_xlim()\n",
    "width = xlim[1] - xlim[0]\n",
    "ax.set_xlim(left = xlim[0] - width/20)\n",
    "\n",
    "# Annotate the vertical lines with text for all 3 tumors\n",
    "y_height = ax.get_ylim()[1]\n",
    "\n",
    "ax.text(x_0, (tumor_heights[0]+0.05)*y_height,\n",
    "        'Tum1', color=line_color,\n",
    "        ha=\"center\", fontfamily='sans-serif', fontsize=0.8 * consts['labelfontsize'] * sf, alpha=consts['opacity']\n",
    "       )\n",
    "ax.text(x_1-0.005, (tumor_heights[1]+0.05)*y_height,\n",
    "        'Tum2', color=line_color,\n",
    "        ha=\"center\", fontfamily='sans-serif', fontsize=0.8 * consts['labelfontsize'] * sf, alpha=consts['opacity']\n",
    "       )\n",
    "ax.text(x_2, (tumor_heights[2]+0.05)*y_height,\n",
    "        'Tum3', color=line_color,\n",
    "        ha=\"center\", fontfamily='sans-serif', fontsize=0.8 * consts['labelfontsize'] * sf, alpha=consts['opacity']\n",
    "       )\n",
    "\n",
    "# Save figure\n",
    "fig.savefig(os.path.join(figure_outdir, 'c_beta_distribution.pdf'), format='pdf', pad_inches=0.1)"
   ]
  },
  {
   "cell_type": "markdown",
   "id": "164b70a3",
   "metadata": {},
   "source": [
    "### Calculate statistics"
   ]
  },
  {
   "cell_type": "code",
   "execution_count": 22,
   "id": "c4c47467",
   "metadata": {},
   "outputs": [
    {
     "name": "stdout",
     "output_type": "stream",
     "text": [
      "Median c_beta of ductal TCGA tumors: 0.81\n",
      "Median c_beta of lobular TCGA tumors: 0.85\n",
      "Wilcoxon rank sum test: P=8e-15\n"
     ]
    }
   ],
   "source": [
    "# c_beta value in ductal vs lobular tumors\n",
    "ductal_c_betas = clinical['TCGA'].loc[clinical['TCGA']['primary_diagnosis'] == 'Infiltrating duct carcinoma, NOS', 'c_beta'].dropna()\n",
    "lobular_c_betas = clinical['TCGA'].loc[clinical['TCGA']['primary_diagnosis'] == 'Lobular carcinoma, NOS', 'c_beta'].dropna()\n",
    "pvalue = epi_util.wilcoxonRankSums(ductal_c_betas, lobular_c_betas).pvalue\n",
    "\n",
    "print(f'Median c_beta of ductal TCGA tumors: {np.median(ductal_c_betas):.2f}')\n",
    "print(f'Median c_beta of lobular TCGA tumors: {np.median(lobular_c_betas):.2f}')\n",
    "print(f'Wilcoxon rank sum test: P={pvalue:.0e}')"
   ]
  },
  {
   "cell_type": "code",
   "execution_count": 23,
   "id": "c29d1894",
   "metadata": {},
   "outputs": [
    {
     "name": "stdout",
     "output_type": "stream",
     "text": [
      "Median c_beta of ductal Luminal A TCGA tumors: 0.824\n",
      "Median c_beta of lobular TCGA tumors: 0.846\n",
      "Wilcoxon rank sum test: P=3e-04\n"
     ]
    }
   ],
   "source": [
    "# c_beta value in ductal luminal A vs lobular tumors\n",
    "ductal_lumA_c_betas = clinical['TCGA'].loc[(clinical['TCGA']['primary_diagnosis'] == 'Infiltrating duct carcinoma, NOS') & (clinical['TCGA']['subtype.pam50'] == 'LumA'), 'c_beta'].dropna()\n",
    "lobular_c_betas = clinical['TCGA'].loc[clinical['TCGA']['primary_diagnosis'] == 'Lobular carcinoma, NOS', 'c_beta'].dropna()\n",
    "pvalue = epi_util.wilcoxonRankSums(ductal_lumA_c_betas, lobular_c_betas).pvalue\n",
    "\n",
    "print(f'Median c_beta of ductal Luminal A TCGA tumors: {np.median(ductal_lumA_c_betas):.3f}')\n",
    "print(f'Median c_beta of lobular TCGA tumors: {np.median(lobular_c_betas):.3f}')\n",
    "print(f'Wilcoxon rank sum test: P={pvalue:.0e}')"
   ]
  },
  {
   "cell_type": "code",
   "execution_count": 24,
   "id": "f3c46b24",
   "metadata": {},
   "outputs": [
    {
     "name": "stdout",
     "output_type": "stream",
     "text": [
      "Median CPE of ductal TCGA tumors: 0.786\n",
      "Median CPE of lobular TCGA tumors: 0.747\n",
      "Wilcoxon rank sum test: P=1e-03\n"
     ]
    }
   ],
   "source": [
    "# CPE value in ductal vs lobular tumors\n",
    "ductal_CPE = clinical['TCGA'].loc[clinical['TCGA']['primary_diagnosis'] == 'Infiltrating duct carcinoma, NOS', 'CPE'].dropna()\n",
    "lobular_CPE = clinical['TCGA'].loc[clinical['TCGA']['primary_diagnosis'] == 'Lobular carcinoma, NOS', 'CPE'].dropna()\n",
    "pvalue = epi_util.wilcoxonRankSums(ductal_CPE, lobular_CPE).pvalue\n",
    "\n",
    "print(f'Median CPE of ductal TCGA tumors: {np.median(ductal_CPE):.3f}')\n",
    "print(f'Median CPE of lobular TCGA tumors: {np.median(lobular_CPE):.3f}')\n",
    "print(f'Wilcoxon rank sum test: P={pvalue:.0e}')"
   ]
  },
  {
   "cell_type": "code",
   "execution_count": 25,
   "id": "350e11a8",
   "metadata": {},
   "outputs": [
    {
     "data": {
      "text/plain": [
       "98"
      ]
     },
     "execution_count": 25,
     "metadata": {},
     "output_type": "execute_result"
    }
   ],
   "source": [
    "clinical['Lund']['in_analysis_dataset'].sum()"
   ]
  },
  {
   "cell_type": "code",
   "execution_count": 26,
   "id": "56c87953",
   "metadata": {},
   "outputs": [
    {
     "name": "stdout",
     "output_type": "stream",
     "text": [
      "TCGA, age: R=-0.18, P=4e-04\n",
      "Lund, age: R=-0.10, P=0.35\n",
      "Lund, size: R=-0.22, P=0.03\n",
      "TCGA, MKI67: R=-0.17, P=4e-04\n",
      "TCGA, MCM2: R=-0.18, P=3e-04\n",
      "TCGA, Mitotic Checkpoint: R=-0.23, P=4e-06\n",
      "Lund, Mitotic Checkpoint: R=-0.42, P=2e-05\n",
      "Lund, spfPercent: R=-0.41, P=7e-05\n",
      "TCGA, FGA: R=-0.58, P=4e-38\n",
      "Lund, FGA: R=-0.48, P=9e-07\n",
      "TCGA, CPE: R=-0.70, P=1e-61\n",
      "Lund, LUMP: R=-0.42, P=2e-05\n"
     ]
    }
   ],
   "source": [
    "def printCorr(dataset, var_x, var_y='c_beta'):\n",
    "    \"\"\"\n",
    "    Function used to print the Pearson correlation R and p-value between c_beta and some other variable\n",
    "    Specifying the cohort\n",
    "    \"\"\"\n",
    "    ductal_samples = clinical[dataset].index[clinical[dataset]['in_analysis_dataset']].values\n",
    "    res = epi_util.getCorrelation(clinical[dataset], var_x=var_x, var_y=var_y, use_samples=ductal_samples)\n",
    "    pvalue_formatted = f'{res.pvalue:.0e}' if res.pvalue < 0.01 else f'{res.pvalue:.2f}'\n",
    "    print(f'{dataset}, {var_x}: R={res.rvalue:.2f}, P={pvalue_formatted}')\n",
    "\n",
    "## Get correlation results for several variables\n",
    "printCorr('TCGA', 'age')\n",
    "printCorr('Lund', 'age')\n",
    "printCorr('Lund', 'size')\n",
    "printCorr('TCGA', 'MKI67')\n",
    "printCorr('TCGA', 'MCM2')\n",
    "printCorr('TCGA', 'Mitotic Checkpoint')\n",
    "printCorr('Lund', 'Mitotic Checkpoint')\n",
    "printCorr('Lund', 'spfPercent')\n",
    "printCorr('TCGA', 'FGA')\n",
    "printCorr('Lund', 'FGA')\n",
    "printCorr('TCGA', 'CPE')\n",
    "printCorr('Lund', 'LUMP')"
   ]
  },
  {
   "cell_type": "code",
   "execution_count": 45,
   "id": "9b6a6c6b",
   "metadata": {},
   "outputs": [
    {
     "data": {
      "text/plain": [
       "146"
      ]
     },
     "execution_count": 45,
     "metadata": {},
     "output_type": "execute_result"
    }
   ],
   "source": [
    "clinical['Lund']['in_CpG_dataset'].sum()"
   ]
  },
  {
   "cell_type": "code",
   "execution_count": 44,
   "id": "0a2e7a4b",
   "metadata": {},
   "outputs": [
    {
     "data": {
      "text/plain": [
       "(98,)"
      ]
     },
     "execution_count": 44,
     "metadata": {},
     "output_type": "execute_result"
    }
   ],
   "source": [
    "clinical['Lund']['c_beta']"
   ]
  },
  {
   "cell_type": "markdown",
   "id": "5fda7e20",
   "metadata": {},
   "source": [
    "### Main text box and scatter plots"
   ]
  },
  {
   "cell_type": "code",
   "execution_count": 237,
   "id": "8ef8707b",
   "metadata": {
    "scrolled": false
   },
   "outputs": [
    {
     "data": {
      "image/png": "[encoded data removed]",
      "text/plain": [
       "<Figure size 201.6x172.8 with 1 Axes>"
      ]
     },
     "metadata": {},
     "output_type": "display_data"
    },
    {
     "data": {
      "image/png": "[encoded data removed]",
      "text/plain": [
       "<Figure size 201.6x172.8 with 1 Axes>"
      ]
     },
     "metadata": {},
     "output_type": "display_data"
    },
    {
     "data": {
      "image/png": "[encoded data removed]",
      "text/plain": [
       "<Figure size 201.6x172.8 with 1 Axes>"
      ]
     },
     "metadata": {},
     "output_type": "display_data"
    },
    {
     "data": {
      "image/png": "[encoded data removed]",
      "text/plain": [
       "<Figure size 221.76x172.8 with 1 Axes>"
      ]
     },
     "metadata": {},
     "output_type": "display_data"
    },
    {
     "data": {
      "image/png": "[encoded data removed]",
      "text/plain": [
       "<Figure size 241.92x172.8 with 1 Axes>"
      ]
     },
     "metadata": {},
     "output_type": "display_data"
    },
    {
     "data": {
      "image/png": "[encoded data removed]",
      "text/plain": [
       "<Figure size 181.44x155.52 with 1 Axes>"
      ]
     },
     "metadata": {},
     "output_type": "display_data"
    },
    {
     "data": {
      "image/png": "[encoded data removed]",
      "text/plain": [
       "<Figure size 221.76x172.8 with 1 Axes>"
      ]
     },
     "metadata": {},
     "output_type": "display_data"
    },
    {
     "data": {
      "image/png": "[encoded data removed]",
      "text/plain": [
       "<Figure size 181.44x155.52 with 1 Axes>"
      ]
     },
     "metadata": {},
     "output_type": "display_data"
    },
    {
     "data": {
      "image/png": "[encoded data removed]",
      "text/plain": [
       "<Figure size 181.44x155.52 with 1 Axes>"
      ]
     },
     "metadata": {},
     "output_type": "display_data"
    }
   ],
   "source": [
    "## Figure 4\n",
    "## Create and save plots\n",
    "\n",
    "# Box plots -- showing c_beta in TCGA/Lund cohort stratifying by some variable\n",
    "# Scatter plots -- showing c_beta in TCGA/Lund cohort vs some variable\n",
    "\n",
    "epi_util.saveBoxPlotNew(clinical['Lund'], 'grade', restrict=True,\n",
    "                   var_y='c_beta',\n",
    "                   outdir=clin_path_outdir, title=True, use_groups=['Grade 1', 'Grade 2', 'Grade 3'],\n",
    "                   palette=consts['palette_jco'], plot_ymax_mult=0.29,\n",
    "                   figsize=figsize, labelfontsize=consts['labelfontsize'], ticksfontsize=consts['ticksfontsize'], sf=sf, linewidth=consts['linewidth'], fliersize=consts['fliersize'])\n",
    "\n",
    "epi_util.saveBoxPlotNew(clinical['TCGA'], 'Stage', restrict=True,\n",
    "                   var_y='c_beta',\n",
    "                   outdir=clin_path_outdir, title=True, use_groups = ['Stage I', 'Stage II', 'Stage III'],\n",
    "                   palette=consts['palette_jco'],\n",
    "                   figsize=figsize, labelfontsize=consts['labelfontsize'], ticksfontsize=consts['ticksfontsize'], sf=sf, linewidth=consts['linewidth'], fliersize=consts['fliersize'])\n",
    "\n",
    "epi_util.saveBoxPlotNew(clinical['Lund'], 'genefu.pam50.subtype', restrict=True,\n",
    "                   var_y='c_beta',\n",
    "                   outdir=clin_path_outdir, title=True, use_groups = ['LumA', 'LumB', 'Her2', 'Basal'],\n",
    "                   palette=consts['palette_jco'],\n",
    "                   figsize=figsize, labelfontsize=consts['labelfontsize'], ticksfontsize=consts['ticksfontsize'], sf=sf, linewidth=consts['linewidth'], fliersize=consts['fliersize'])\n",
    "\n",
    "epi_util.saveBoxPlotNew(clinical['TCGA'], 'subtype.pam50', restrict=True,\n",
    "                   var_y='c_beta',\n",
    "                   outdir=clin_path_outdir, title=True, use_groups = ['LumA', 'LumB', 'Her2', 'Basal'],\n",
    "                   palette=consts['palette_jco'], plot_ymax_mult=0.2,\n",
    "                   figsize=figsize * [1.1, 1], labelfontsize=consts['labelfontsize'], ticksfontsize=consts['ticksfontsize'], sf=sf, linewidth=consts['linewidth'], fliersize=consts['fliersize'])\n",
    "\n",
    "epi_util.saveBoxPlotNew(clinical['TCGA'], 'subtype.ihc', restrict=True,\n",
    "                   var_y='c_beta',\n",
    "                   outdir=clin_path_outdir, title=True, use_groups = ['LumA', 'LumB', 'Her2', 'Triple-Negative'],\n",
    "                   palette=consts['palette_jco'],\n",
    "                   figsize=figsize * [1.2, 1], labelfontsize=consts['labelfontsize'], ticksfontsize=consts['ticksfontsize'], sf=sf, linewidth=consts['linewidth'], fliersize=consts['fliersize'])\n",
    "\n",
    "epi_util.saveCorrelationPlot(clinical['Lund'], var_y='size', restrict=True,\n",
    "                           var_x='c_beta',\n",
    "                           outdir=clin_path_outdir, ylabel='Size (mm)',\n",
    "                           text_x=0.85, text_y=85,\n",
    "                           figsize=figsize * 0.9, labelfontsize=consts['labelfontsize'], ticksfontsize=consts['ticksfontsize'], sf=sf, s=1,\n",
    "                           color=consts['palette_jco'][0], line_kws={'linewidth':1 * sf}\n",
    "                          )\n",
    "\n",
    "epi_util.saveBoxPlotNew(clinical['TCGA'], 'T Stage', restrict=True,\n",
    "                   var_y='c_beta',\n",
    "                   outdir=clin_path_outdir, title=True, use_groups = ['T1', 'T2', 'T3', 'T4'],\n",
    "                   palette=consts['palette_jco'],\n",
    "                   figsize=figsize * [1.1, 1], labelfontsize=consts['labelfontsize'], ticksfontsize=consts['ticksfontsize'], sf=sf, linewidth=consts['linewidth'], fliersize=consts['fliersize'])\n",
    "\n",
    "epi_util.saveCorrelationPlot(clinical['TCGA'], var_y='FGA', restrict=True,\n",
    "                           var_x='c_beta',\n",
    "                           outdir=cell_chars_outdir, ylabel='FGA',\n",
    "                           text_x=0.85, text_y=0.5,\n",
    "                           figsize=figsize * 0.9, labelfontsize=consts['labelfontsize'], ticksfontsize=consts['ticksfontsize'], sf=sf, s=1,\n",
    "                           color=consts['palette_jco'][0], line_kws={'linewidth':1 * sf}\n",
    "                          )\n",
    "\n",
    "epi_util.saveCorrelationPlot(clinical['Lund'], var_y='FGA', restrict=True,\n",
    "                           var_x='c_beta',\n",
    "                           outdir=cell_chars_outdir, ylabel='FGA',\n",
    "                           text_x=0.85, text_y=0.7,\n",
    "                           figsize=figsize * 0.9, labelfontsize=consts['labelfontsize'], ticksfontsize=consts['ticksfontsize'], sf=sf, s=1,\n",
    "                           color=consts['palette_jco'][0], line_kws={'linewidth':1 * sf}\n",
    "                          )"
   ]
  },
  {
   "cell_type": "markdown",
   "id": "ac96d80f",
   "metadata": {},
   "source": [
    "#### BRCA1/2 Mutation"
   ]
  },
  {
   "cell_type": "code",
   "execution_count": 238,
   "id": "63ac2b3b",
   "metadata": {},
   "outputs": [
    {
     "data": {
      "text/html": [
       "<div>\n",
       "<style scoped>\n",
       "    .dataframe tbody tr th:only-of-type {\n",
       "        vertical-align: middle;\n",
       "    }\n",
       "\n",
       "    .dataframe tbody tr th {\n",
       "        vertical-align: top;\n",
       "    }\n",
       "\n",
       "    .dataframe thead th {\n",
       "        text-align: right;\n",
       "    }\n",
       "</style>\n",
       "<table border=\"1\" class=\"dataframe\">\n",
       "  <thead>\n",
       "    <tr style=\"text-align: right;\">\n",
       "      <th></th>\n",
       "      <th>No mutation</th>\n",
       "      <th>Mutation</th>\n",
       "    </tr>\n",
       "  </thead>\n",
       "  <tbody>\n",
       "    <tr>\n",
       "      <th>No mutation</th>\n",
       "      <td>NaN</td>\n",
       "      <td>0.29484</td>\n",
       "    </tr>\n",
       "    <tr>\n",
       "      <th>Mutation</th>\n",
       "      <td>NaN</td>\n",
       "      <td>NaN</td>\n",
       "    </tr>\n",
       "  </tbody>\n",
       "</table>\n",
       "</div>"
      ],
      "text/plain": [
       "             No mutation  Mutation\n",
       "No mutation          NaN   0.29484\n",
       "Mutation             NaN       NaN"
      ]
     },
     "metadata": {},
     "output_type": "display_data"
    },
    {
     "data": {
      "text/plain": [
       "BRCA1/2\n",
       "Mutation       0.812109\n",
       "No mutation    0.806735\n",
       "Name: c_beta, dtype: float64"
      ]
     },
     "execution_count": 238,
     "metadata": {},
     "output_type": "execute_result"
    }
   ],
   "source": [
    "display(epi_util.getWilcoxonPvalueTable(clinical['TCGA'].loc[clinical['TCGA']['in_analysis_dataset']], 'BRCA1/2', 'c_beta'))\n",
    "\n",
    "clinical['TCGA'].loc[clinical['TCGA']['in_analysis_dataset']].groupby('BRCA1/2')['c_beta'].median()"
   ]
  },
  {
   "cell_type": "code",
   "execution_count": 239,
   "id": "2ea3b7a2",
   "metadata": {},
   "outputs": [
    {
     "data": {
      "image/png": "[encoded data removed]",
      "text/plain": [
       "<Figure size 161.28x138.24 with 1 Axes>"
      ]
     },
     "metadata": {},
     "output_type": "display_data"
    },
    {
     "data": {
      "image/png": "[encoded data removed]",
      "text/plain": [
       "<Figure size 161.28x138.24 with 1 Axes>"
      ]
     },
     "metadata": {},
     "output_type": "display_data"
    },
    {
     "data": {
      "image/png": "[encoded data removed]",
      "text/plain": [
       "<Figure size 161.28x138.24 with 1 Axes>"
      ]
     },
     "metadata": {},
     "output_type": "display_data"
    }
   ],
   "source": [
    "## Figure 5 scatterplots -- showing c_beta in TCGA/Lund cohort vs some variable\n",
    "## Create and save plots\n",
    "\n",
    "epi_util.saveCorrelationPlot(clinical['Lund'], var_y='Mitotic Checkpoint', restrict=True,\n",
    "                           var_x='c_beta',\n",
    "                           outdir=cell_chars_outdir,\n",
    "                           text_x=0.85, text_y=2.2,\n",
    "                           figsize=figsize * 0.8, labelfontsize=consts['labelfontsize'], ticksfontsize=consts['ticksfontsize'], sf=sf, s=1,\n",
    "                           color=consts['palette_jco'][0], line_kws={'linewidth':1 * sf}\n",
    "                          )\n",
    "\n",
    "epi_util.saveCorrelationPlot(clinical['TCGA'], var_y='Mitotic Checkpoint', restrict=True,\n",
    "                           var_x='c_beta',\n",
    "                           outdir=cell_chars_outdir,\n",
    "                           text_x=0.85, text_y=2.1,\n",
    "                           figsize=figsize * 0.8, labelfontsize=consts['labelfontsize'], ticksfontsize=consts['ticksfontsize'], sf=sf, s=1,\n",
    "                           color=consts['palette_jco'][0], line_kws={'linewidth':1 * sf}\n",
    "                          )\n",
    "\n",
    "epi_util.saveCorrelationPlot(clinical['Lund'], var_y='spfPercent', restrict=True,\n",
    "                           var_x='c_beta',\n",
    "                           ylabel='S-phase fraction (%)',\n",
    "                           outdir=cell_chars_outdir,\n",
    "                           text_x=0.85, text_y=26,\n",
    "                           figsize=figsize * 0.8, labelfontsize=consts['labelfontsize'], ticksfontsize=consts['ticksfontsize'], sf=sf, s=1,\n",
    "                           color=consts['palette_jco'][0], line_kws={'linewidth':1 * sf}\n",
    "                          )"
   ]
  },
  {
   "cell_type": "markdown",
   "id": "aaa36fa7",
   "metadata": {},
   "source": [
    "### Correlation of all genes"
   ]
  },
  {
   "cell_type": "code",
   "execution_count": 240,
   "id": "d17dc39e",
   "metadata": {},
   "outputs": [
    {
     "name": "stdout",
     "output_type": "stream",
     "text": [
      "0\n",
      "5000\n",
      "10000\n",
      "15000\n",
      "20000\n",
      "25000\n",
      "30000\n",
      "35000\n",
      "40000\n",
      "45000\n",
      "50000\n",
      "55000\n"
     ]
    }
   ],
   "source": [
    "# List of genes to search\n",
    "gene_list = markers_transformed_df.index.values \n",
    "\n",
    "# List of samples to use\n",
    "use_samples = clinical['TCGA'].index[clinical['TCGA']['in_analysis_dataset']] \n",
    "\n",
    "c_beta_use_samples = clinical['TCGA'].loc[use_samples, 'c_beta']\n",
    "markers_transformed_df_use_samples = markers_transformed_df[use_samples]\n",
    "\n",
    "# Calculate Pearson R between the expression of each gene and c_beta\n",
    "rvalue_list = []\n",
    "for i in range(len(gene_list)):\n",
    "    if i % 5000 == 0:\n",
    "        print(i)\n",
    "    \n",
    "    res = epi_util.pearsonCorrelation(c_beta_use_samples, markers_transformed_df_use_samples.loc[gene_list[i]])\n",
    "    rvalue_list.append(res.rvalue)\n",
    "\n",
    "# Save r-values in a Series\n",
    "rvalue_ser = pd.Series(index=gene_list, data=rvalue_list)"
   ]
  },
  {
   "cell_type": "code",
   "execution_count": 245,
   "id": "0a751df9",
   "metadata": {
    "scrolled": true
   },
   "outputs": [
    {
     "name": "stdout",
     "output_type": "stream",
     "text": [
      "19259 protein coding genes considered\n"
     ]
    },
    {
     "data": {
      "image/png": "[encoded data removed]",
      "text/plain": [
       "<Figure size 403.2x172.8 with 1 Axes>"
      ]
     },
     "metadata": {},
     "output_type": "display_data"
    }
   ],
   "source": [
    "## Plot distribution of r-values\n",
    "## Mark location of several genes of interest with vertical lines\n",
    "\n",
    "# List of protein-coding genes\n",
    "genenames_proteincoding = pd.read_table(os.path.join(consts['repo_dir'], 'data', 'genenames.proteincoding.txt'),\n",
    "                                       low_memory=False, usecols=['symbol']).squeeze('columns').values\n",
    "print(f'{genenames_proteincoding.shape[0]} protein coding genes considered')\n",
    "\n",
    "# Only plot r-values of known protein-coding genes\n",
    "plot_data = rvalue_ser[gene_name.isin(genenames_proteincoding)]\n",
    "\n",
    "# Create plot\n",
    "fig, ax = plt.subplots(1, 1, figsize=figsize * [2, 1] * sf)\n",
    "sns.histplot(ax=ax, x=plot_data,\n",
    "             color=consts['palette_jco'][0])\n",
    "\n",
    "\n",
    "# Manually set height of lines and horizontal offset of text from the lines (if necessary)\n",
    "gene_heights = {\n",
    "    'MKI67': 0.75,\n",
    "    'MCM2': 0.5,\n",
    "    'CD3E': 0.3,\n",
    "    'CD4': 0.2,\n",
    "    'CD8A': 0.4,\n",
    "    'CD8B': 0.65,\n",
    "    'FOXP3': 0.55,\n",
    "    'PTPRC': 0.65\n",
    "}\n",
    "horiz_offset = {\n",
    "    'MCM2':-0.04,\n",
    "    'CD8A':0.01,\n",
    "    'CD4':0.02,\n",
    "    'FOXP3':0.02\n",
    "}\n",
    "\n",
    "# Plot vertical lines\n",
    "y_height = ax.get_ylim()[1]\n",
    "for gene in gene_heights:\n",
    "    corr = rvalue_ser.loc[gene_name.index[gene_name == gene]].values\n",
    "    assert len(corr) == 1     # Sanity check\n",
    "    \n",
    "    # \n",
    "    x_pos = corr[0]\n",
    "    if gene in horiz_offset:\n",
    "        x_pos += horiz_offset[gene]\n",
    "    ax.axvline(x=corr[0], ymin=0, ymax=gene_heights[gene], color='black', lw=2.5 * sf)\n",
    "    ax.text(x_pos, (gene_heights[gene] + 0.02)*y_height, gene,\n",
    "            ha=\"center\", fontfamily='sans-serif',\n",
    "            fontsize=consts['labelfontsize'] * 0.8 * sf, color='black')\n",
    "\n",
    "# Customize figure\n",
    "ax.set_ylabel('Count', fontsize=consts['labelfontsize'] * sf)\n",
    "ax.set_xlabel(f'Pearson correlation between $c_β$ and gene expression (n = {len(plot_data):,} genes)', fontsize=consts['labelfontsize'] * sf)\n",
    "ax.set_title(f'TCGA', fontsize=consts['labelfontsize'] * sf)\n",
    "ax.tick_params(axis='both', labelsize=consts['ticksfontsize'] * sf, width=sf, length=8 * sf)\n",
    "\n",
    "# Save figure\n",
    "fig.savefig(os.path.join(cell_chars_outdir, 'all_gene_correlations.pdf'), format='pdf', pad_inches=0.1)"
   ]
  },
  {
   "cell_type": "code",
   "execution_count": 27,
   "id": "642ec608",
   "metadata": {},
   "outputs": [
    {
     "name": "stdout",
     "output_type": "stream",
     "text": [
      "TCGA, CD3D: R=0.54, P=7e-33\n",
      "TCGA, CD3E: R=0.56, P=1e-34\n",
      "TCGA, CD3G: R=0.51, P=8e-29\n",
      "TCGA, CD4: R=0.50, P=1e-26\n",
      "TCGA, CD68: R=0.09, P=6e-02\n",
      "TCGA, CD8A: R=0.42, P=8e-19\n",
      "TCGA, CD8B: R=0.34, P=3e-12\n",
      "TCGA, FOXP3: R=0.38, P=1e-15\n",
      "TCGA, MS4A1: R=0.45, P=3e-21\n",
      "TCGA, NCAM1: R=0.13, P=1e-02\n",
      "TCGA, PTPRC: R=0.48, P=8e-25\n"
     ]
    }
   ],
   "source": [
    "## Get correlation results for several genes\n",
    "immune_markers = ['CD3D', 'CD3E', 'CD3G', 'CD4', 'CD68', 'CD8A', 'CD8B', 'FOXP3', 'MS4A1', 'NCAM1', 'PTPRC']\n",
    "for im in immune_markers:\n",
    "    clinical['TCGA'][im] = markers_transformed_df.loc[gene_name.index[gene_name==im]].T\n",
    "    printCorr('TCGA', im)"
   ]
  },
  {
   "cell_type": "markdown",
   "id": "0d884135",
   "metadata": {},
   "source": [
    "### $c_β^a$ analysis (adjusted for purity)"
   ]
  },
  {
   "cell_type": "code",
   "execution_count": 17,
   "id": "0b69ab0b",
   "metadata": {},
   "outputs": [],
   "source": [
    "# Import purity adjusted c_beta values\n",
    "c_beta_adj1_tcga = pd.read_table(os.path.join(consts['TCGA_datadir'], 'c_beta_adj1_revision.tsv')).squeeze('columns')\n",
    "c_beta_adj1_tcga.index = c_beta_adj1_tcga.index.map(epi_util.sampleToPatientID)\n",
    "clinical['TCGA']['c_beta_adj1'] = c_beta_adj1_tcga\n",
    "\n",
    "# Have to reset the name of the dataframe\n",
    "clinical['TCGA'].name = 'TCGA'"
   ]
  },
  {
   "cell_type": "code",
   "execution_count": 21,
   "id": "44e8fcd5",
   "metadata": {
    "scrolled": false
   },
   "outputs": [
    {
     "data": {
      "image/png": "[encoded data removed]",
      "text/plain": [
       "<Figure size 201.6x172.8 with 1 Axes>"
      ]
     },
     "metadata": {
      "needs_background": "light"
     },
     "output_type": "display_data"
    },
    {
     "data": {
      "image/png": "[encoded data removed]",
      "text/plain": [
       "<Figure size 221.76x172.8 with 1 Axes>"
      ]
     },
     "metadata": {
      "needs_background": "light"
     },
     "output_type": "display_data"
    },
    {
     "data": {
      "image/png": "[encoded data removed]",
      "text/plain": [
       "<Figure size 221.76x172.8 with 1 Axes>"
      ]
     },
     "metadata": {
      "needs_background": "light"
     },
     "output_type": "display_data"
    },
    {
     "data": {
      "image/png": "[encoded data removed]",
      "text/plain": [
       "<Figure size 181.44x155.52 with 1 Axes>"
      ]
     },
     "metadata": {
      "needs_background": "light"
     },
     "output_type": "display_data"
    },
    {
     "data": {
      "image/png": "[encoded data removed]",
      "text/plain": [
       "<Figure size 181.44x155.52 with 1 Axes>"
      ]
     },
     "metadata": {
      "needs_background": "light"
     },
     "output_type": "display_data"
    }
   ],
   "source": [
    "## Supplementary figure\n",
    "## Create and save plots\n",
    "\n",
    "# Box plots -- showing c_beta^a in TCGA cohort stratifying by some variable\n",
    "# Scatter plots -- showing c_beta^a in TCGA cohort vs some variable\n",
    "\n",
    "epi_util.saveBoxPlotNew(clinical['TCGA'], 'Stage', restrict=True,\n",
    "                   var_y='c_beta_adj1',\n",
    "                   outdir=supp_path_outdir, title=True, use_groups = ['Stage I', 'Stage II', 'Stage III'],\n",
    "                   palette=consts['palette_jco'],\n",
    "                   figsize=figsize, labelfontsize=consts['labelfontsize'], ticksfontsize=consts['ticksfontsize'], sf=sf, linewidth=consts['linewidth'], fliersize=consts['fliersize'])\n",
    "\n",
    "epi_util.saveBoxPlotNew(clinical['TCGA'], 'subtype.pam50', restrict=True,\n",
    "                   var_y='c_beta_adj1',\n",
    "                   outdir=supp_path_outdir, title=True, use_groups = ['LumA', 'LumB', 'Her2', 'Basal'],\n",
    "                   palette=consts['palette_jco'], plot_ymax_mult=0.2,\n",
    "                   figsize=figsize * [1.1, 1], labelfontsize=consts['labelfontsize'], ticksfontsize=consts['ticksfontsize'], sf=sf, linewidth=consts['linewidth'], fliersize=consts['fliersize'])\n",
    "\n",
    "epi_util.saveBoxPlotNew(clinical['TCGA'], 'T Stage', restrict=True,\n",
    "                   var_y='c_beta_adj1',\n",
    "                   outdir=supp_path_outdir, title=True, use_groups = ['T1', 'T2', 'T3', 'T4'],\n",
    "                   palette=consts['palette_jco'],\n",
    "                   figsize=figsize * [1.1, 1], labelfontsize=consts['labelfontsize'], ticksfontsize=consts['ticksfontsize'], sf=sf, linewidth=consts['linewidth'], fliersize=consts['fliersize'])\n",
    "\n",
    "\n",
    "epi_util.saveCorrelationPlot(clinical['TCGA'], var_y='FGA', restrict=True,\n",
    "                           var_x='c_beta_adj1',\n",
    "                           outdir=supp_path_outdir, ylabel='FGA',\n",
    "                           text_x=0.8, text_y=0.5,\n",
    "                           figsize=figsize * 0.9, labelfontsize=consts['labelfontsize'], ticksfontsize=consts['ticksfontsize'], sf=sf, s=1,\n",
    "                           color=consts['palette_jco'][0], line_kws={'linewidth':1 * sf}\n",
    "                          )\n",
    "\n",
    "epi_util.saveCorrelationPlot(clinical['TCGA'], var_y='Mitotic Checkpoint', restrict=True,\n",
    "                           var_x='c_beta_adj1',\n",
    "                           outdir=supp_path_outdir,\n",
    "                           text_x=0.8, text_y=2.1,\n",
    "                           figsize=figsize * 0.9, labelfontsize=consts['labelfontsize'], ticksfontsize=consts['ticksfontsize'], sf=sf, s=1,\n",
    "                           color=consts['palette_jco'][0], line_kws={'linewidth':1 * sf}\n",
    "                          )"
   ]
  },
  {
   "cell_type": "code",
   "execution_count": 23,
   "id": "98558b65",
   "metadata": {},
   "outputs": [
    {
     "name": "stdout",
     "output_type": "stream",
     "text": [
      "TCGA, age: R=-0.18, P=3e-04\n",
      "TCGA, MKI67: R=-0.18, P=2e-04\n",
      "TCGA, MCM2: R=-0.16, P=1e-03\n",
      "TCGA, Mitotic Checkpoint: R=-0.22, P=9e-06\n",
      "TCGA, FGA: R=-0.50, P=1e-26\n",
      "TCGA, CPE: R=-0.25, P=3e-07\n"
     ]
    }
   ],
   "source": [
    "## Get correlation results for several variables\n",
    "printCorr('TCGA', 'age', 'c_beta_adj1')\n",
    "printCorr('TCGA', 'MKI67', 'c_beta_adj1')\n",
    "printCorr('TCGA', 'MCM2', 'c_beta_adj1')\n",
    "printCorr('TCGA', 'Mitotic Checkpoint', 'c_beta_adj1')\n",
    "printCorr('TCGA', 'FGA', 'c_beta_adj1')\n",
    "printCorr('TCGA', 'CPE', 'c_beta_adj1')"
   ]
  },
  {
   "cell_type": "code",
   "execution_count": 32,
   "id": "e69f3504",
   "metadata": {},
   "outputs": [
    {
     "name": "stdout",
     "output_type": "stream",
     "text": [
      "TCGA, CD3D: R=0.34, P=3e-12\n",
      "TCGA, CD3E: R=0.36, P=1e-13\n",
      "TCGA, CD3G: R=0.33, P=1e-11\n",
      "TCGA, CD4: R=0.25, P=2e-07\n",
      "TCGA, CD68: R=-0.01, P=9e-01\n",
      "TCGA, CD8A: R=0.29, P=4e-09\n",
      "TCGA, CD8B: R=0.22, P=7e-06\n",
      "TCGA, FOXP3: R=0.19, P=1e-04\n",
      "TCGA, MS4A1: R=0.36, P=4e-14\n",
      "TCGA, NCAM1: R=0.05, P=3e-01\n",
      "TCGA, PTPRC: R=0.28, P=1e-08\n"
     ]
    }
   ],
   "source": [
    "for im in immune_markers:\n",
    "    clinical['TCGA'][im] = markers_transformed_df.loc[gene_name.index[gene_name==im]].T\n",
    "    printCorr('TCGA', im, 'c_beta_adj1')"
   ]
  },
  {
   "cell_type": "code",
   "execution_count": 34,
   "id": "84698389",
   "metadata": {},
   "outputs": [],
   "source": [
    "x = np.array(\"0 1 2 3 4 5 6 7 8 9 10 12 13 14 16 17 18 19 20 21 22 23 25 29 35 37 47 55\".split(' ')).astype(int)\n",
    "y = np.array(\"62  33  17  13  12  5  5  2  5  3  2  4  1  6  1  4  1  2  1  1  1  1  1  1  1  1  1  1\".split('  ')).astype(int)"
   ]
  },
  {
   "cell_type": "code",
   "execution_count": 38,
   "id": "bfe3c2f3",
   "metadata": {},
   "outputs": [
    {
     "data": {
      "text/plain": [
       "909"
      ]
     },
     "execution_count": 38,
     "metadata": {},
     "output_type": "execute_result"
    }
   ],
   "source": [
    "sum(x * y)"
   ]
  },
  {
   "cell_type": "code",
   "execution_count": null,
   "id": "726b4c6c",
   "metadata": {},
   "outputs": [],
   "source": []
  }
 ],
 "metadata": {
  "kernelspec": {
   "display_name": "Python 3 (ipykernel)",
   "language": "python",
   "name": "python3"
  },
  "language_info": {
   "codemirror_mode": {
    "name": "ipython",
    "version": 3
   },
   "file_extension": ".py",
   "mimetype": "text/x-python",
   "name": "python",
   "nbconvert_exporter": "python",
   "pygments_lexer": "ipython3",
   "version": "3.9.19"
  }
 },
 "nbformat": 4,
 "nbformat_minor": 5
}
