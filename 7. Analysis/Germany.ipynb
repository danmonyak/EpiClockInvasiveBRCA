{
 "cells": [
  {
   "cell_type": "code",
   "execution_count": 1,
   "id": "cf8289eb",
   "metadata": {},
   "outputs": [],
   "source": [
    "import pandas as pd\n",
    "import numpy as np\n",
    "import os\n",
    "import EpiClockInvasiveBRCA.src.util as epi_util\n",
    "consts = epi_util.consts\n",
    "import seaborn as sns\n",
    "import matplotlib.pyplot as plt\n",
    "import warnings\n",
    "warnings.filterwarnings(\"ignore\", \"use_inf_as_na\")\n",
    "\n",
    "proj_dir = os.path.join(consts['official_indir'], 'Germany')"
   ]
  },
  {
   "cell_type": "code",
   "execution_count": 2,
   "id": "5583beb1",
   "metadata": {},
   "outputs": [],
   "source": [
    "figure_outdir = 'figures_revision'\n",
    "Germany_figure_outdir = os.path.join(figure_outdir, 'Germany')\n",
    "\n",
    "os.makedirs(Germany_figure_outdir, exist_ok=True)"
   ]
  },
  {
   "cell_type": "code",
   "execution_count": 3,
   "id": "3819cfa6",
   "metadata": {},
   "outputs": [],
   "source": [
    "sample_annotations = pd.read_table(os.path.join(proj_dir, 'sample_annotations_clean.txt'), index_col=0)"
   ]
  },
  {
   "cell_type": "code",
   "execution_count": 19,
   "id": "debd2510",
   "metadata": {},
   "outputs": [
    {
     "data": {
      "text/plain": [
       "breast cancer      305\n",
       "normal              50\n",
       "normal-adjacent     42\n",
       "normal-brca1         7\n",
       "cancer-brca1         3\n",
       "Name: status, dtype: int64"
      ]
     },
     "metadata": {},
     "output_type": "display_data"
    },
    {
     "name": "stdout",
     "output_type": "stream",
     "text": [
      "Total cancers: N = 253\n"
     ]
    }
   ],
   "source": [
    "\n",
    "display(sample_annotations['status'].value_counts())\n",
    "\n",
    "# display(sample_annotations.loc[sample_annotations['in_analysis_dataset'], ['er', 'pr', 'her2', 'ki67']].apply(lambda x:x.value_counts()))\n",
    "\n",
    "print(f'Total cancers: N = {sample_annotations[\"in_analysis_dataset\"].sum()}')"
   ]
  },
  {
   "cell_type": "code",
   "execution_count": 20,
   "id": "be748b12",
   "metadata": {},
   "outputs": [],
   "source": [
    "beta_values_Clock_CpGs_revision_pureSamples = pd.read_table(os.path.join(proj_dir, 'beta_values_Clock_CpGs_revision_pureSamples.txt'), index_col=0)\n",
    "assert (beta_values_Clock_CpGs_revision_pureSamples.isna().mean(axis=0) < 0.05).all()"
   ]
  },
  {
   "cell_type": "markdown",
   "id": "3994951f",
   "metadata": {},
   "source": [
    "### Perform IHC subtyping"
   ]
  },
  {
   "cell_type": "code",
   "execution_count": 6,
   "id": "fb30aea7",
   "metadata": {},
   "outputs": [],
   "source": [
    "marker_state_dict = {0:'Negative', 1:'Positive'}\n",
    "for col in ['er', 'pr', 'her2']:\n",
    "    sample_annotations[col] = sample_annotations[col].map(marker_state_dict)\n",
    "\n",
    "sample_annotations['HR+'] = (sample_annotations['er'] == 'Positive') | (sample_annotations['pr'] == 'Positive')\n",
    "sample_annotations['HR-'] = (sample_annotations['er'] == 'Negative') & (sample_annotations['pr'] == 'Negative')\n",
    "\n",
    "sample_annotations['LumA_type'] = sample_annotations['HR+'] & (sample_annotations['her2'] == 'Negative')\n",
    "sample_annotations['LumB_type'] = sample_annotations['HR+'] & (sample_annotations['her2'] == 'Positive')\n",
    "sample_annotations['Her2_type'] = (sample_annotations['her2'] == 'Positive') & sample_annotations['HR-']\n",
    "sample_annotations['Triple-Negative_type'] = sample_annotations['HR-'] & (sample_annotations['her2'] == 'Negative')\n",
    "\n",
    "subtype_list = ['LumA_type', 'LumB_type', 'Her2_type', 'Triple-Negative_type']\n",
    "\n",
    "for subtype in subtype_list:\n",
    "    sample_annotations[subtype] = sample_annotations[subtype].map({True:subtype.split('_type')[0], False:''})\n",
    "\n",
    "sample_annotations['subtype.ihc'] = sample_annotations[subtype_list].apply(lambda row:''.join(row), axis=1)\n",
    "sample_annotations.loc[sample_annotations['subtype.ihc'] == '', 'subtype.ihc'] = None"
   ]
  },
  {
   "cell_type": "markdown",
   "id": "f3b8a4d3",
   "metadata": {},
   "source": [
    "### NA Values"
   ]
  },
  {
   "cell_type": "code",
   "execution_count": 19,
   "id": "fca007a5",
   "metadata": {},
   "outputs": [
    {
     "data": {
      "text/plain": [
       "er       2\n",
       "pr       6\n",
       "HR+      0\n",
       "her2    34\n",
       "dtype: int64"
      ]
     },
     "execution_count": 19,
     "metadata": {},
     "output_type": "execute_result"
    }
   ],
   "source": [
    "sample_annotations.loc[sample_annotations['in_analysis_dataset'], ['er', 'pr', 'HR+', 'her2']].isna().sum(axis=0)"
   ]
  },
  {
   "cell_type": "code",
   "execution_count": 20,
   "id": "1b3be4fd",
   "metadata": {},
   "outputs": [
    {
     "data": {
      "text/plain": [
       "2"
      ]
     },
     "execution_count": 20,
     "metadata": {},
     "output_type": "execute_result"
    }
   ],
   "source": [
    "(sample_annotations['in_analysis_dataset'] & sample_annotations['er'].isna() & sample_annotations['pr'].isna()).sum()"
   ]
  },
  {
   "cell_type": "code",
   "execution_count": 21,
   "id": "f3556e8d",
   "metadata": {},
   "outputs": [
    {
     "data": {
      "text/plain": [
       "3"
      ]
     },
     "execution_count": 21,
     "metadata": {},
     "output_type": "execute_result"
    }
   ],
   "source": [
    "(sample_annotations['in_analysis_dataset'] & ~sample_annotations['HR+'] & ~sample_annotations['HR-']).sum()"
   ]
  },
  {
   "cell_type": "markdown",
   "id": "0c4d0d0a",
   "metadata": {},
   "source": [
    "## Make Figures"
   ]
  },
  {
   "cell_type": "code",
   "execution_count": 7,
   "id": "5536347f",
   "metadata": {},
   "outputs": [],
   "source": [
    "## Configure graph\n",
    "sf = consts['sf']\n",
    "figsize = np.array([7, 6])\n",
    "sns.set(rc={\"savefig.bbox\":'tight', 'axes.linewidth':sf}, font_scale=1, style='ticks')\n",
    "sf = 0.4"
   ]
  },
  {
   "cell_type": "code",
   "execution_count": 8,
   "id": "bb446997",
   "metadata": {},
   "outputs": [],
   "source": [
    "sample_annotations.name = 'Germany'"
   ]
  },
  {
   "cell_type": "code",
   "execution_count": 9,
   "id": "e74365d2",
   "metadata": {},
   "outputs": [],
   "source": [
    "sample_annotations['Ki-67'] = sample_annotations['ki67'].map({0:'Ki-67 Negative', 1:'Ki-67 Positive'})"
   ]
  },
  {
   "cell_type": "code",
   "execution_count": 50,
   "id": "7bd8fbc8",
   "metadata": {},
   "outputs": [
    {
     "name": "stdout",
     "output_type": "stream",
     "text": [
      "Wilcoxon p-value\n"
     ]
    },
    {
     "name": "stderr",
     "output_type": "stream",
     "text": [
      "/Users/danielmonyak/opt/anaconda3/lib/python3.9/site-packages/scipy/stats/_stats_py.py:8180: RuntimeWarning: invalid value encountered in scalar divide\n",
      "  z = (s - expected) / np.sqrt(n1*n2*(n1+n2+1)/12.0)\n"
     ]
    },
    {
     "data": {
      "text/html": [
       "<div>\n",
       "<style scoped>\n",
       "    .dataframe tbody tr th:only-of-type {\n",
       "        vertical-align: middle;\n",
       "    }\n",
       "\n",
       "    .dataframe tbody tr th {\n",
       "        vertical-align: top;\n",
       "    }\n",
       "\n",
       "    .dataframe thead th {\n",
       "        text-align: right;\n",
       "    }\n",
       "</style>\n",
       "<table border=\"1\" class=\"dataframe\">\n",
       "  <thead>\n",
       "    <tr style=\"text-align: right;\">\n",
       "      <th></th>\n",
       "      <th>Ki-67 Negative</th>\n",
       "    </tr>\n",
       "  </thead>\n",
       "  <tbody>\n",
       "    <tr>\n",
       "      <th>Ki-67 Positive</th>\n",
       "      <td>0.018625</td>\n",
       "    </tr>\n",
       "  </tbody>\n",
       "</table>\n",
       "</div>"
      ],
      "text/plain": [
       "                Ki-67 Negative\n",
       "Ki-67 Positive        0.018625"
      ]
     },
     "execution_count": 50,
     "metadata": {},
     "output_type": "execute_result"
    },
    {
     "data": {
      "image/png": "[encoded data removed]",
      "text/plain": [
       "<Figure size 201.6x172.8 with 1 Axes>"
      ]
     },
     "metadata": {},
     "output_type": "display_data"
    }
   ],
   "source": [
    "epi_util.saveBoxPlotNew(sample_annotations, 'Ki-67', restrict=True,\n",
    "                        var_y='c_beta',\n",
    "                        outdir=Germany_figure_outdir, title=True,\n",
    "                        palette=consts['palette_jco'], plot_ymax_mult=0.33,\n",
    "                        figsize=figsize * [1, 1], labelfontsize=consts['labelfontsize'], ticksfontsize=consts['ticksfontsize'], sf=sf, linewidth=consts['linewidth'], fliersize=consts['fliersize'])\n",
    "\n",
    "print('Wilcoxon p-value')\n",
    "epi_util.getWilcoxonPvalueTable(sample_annotations.loc[sample_annotations['in_analysis_dataset']],\n",
    "                                'Ki-67', 'c_beta').dropna(how='all', axis=0).dropna(how='all', axis=1).fillna('')\n"
   ]
  },
  {
   "cell_type": "code",
   "execution_count": 12,
   "id": "ba9a1ef6",
   "metadata": {},
   "outputs": [
    {
     "name": "stdout",
     "output_type": "stream",
     "text": [
      "Medians:\n"
     ]
    },
    {
     "data": {
      "text/plain": [
       "subtype.ihc\n",
       "Her2               0.873534\n",
       "LumA               0.847870\n",
       "LumB               0.850387\n",
       "Triple-Negative    0.832924\n",
       "Name: c_beta, dtype: float64"
      ]
     },
     "metadata": {},
     "output_type": "display_data"
    },
    {
     "name": "stdout",
     "output_type": "stream",
     "text": [
      "Wilcoxon p-values:\n"
     ]
    },
    {
     "data": {
      "text/html": [
       "<div>\n",
       "<style scoped>\n",
       "    .dataframe tbody tr th:only-of-type {\n",
       "        vertical-align: middle;\n",
       "    }\n",
       "\n",
       "    .dataframe tbody tr th {\n",
       "        vertical-align: top;\n",
       "    }\n",
       "\n",
       "    .dataframe thead th {\n",
       "        text-align: right;\n",
       "    }\n",
       "</style>\n",
       "<table border=\"1\" class=\"dataframe\">\n",
       "  <thead>\n",
       "    <tr style=\"text-align: right;\">\n",
       "      <th></th>\n",
       "      <th>LumB</th>\n",
       "      <th>Her2</th>\n",
       "      <th>Triple-Negative</th>\n",
       "    </tr>\n",
       "  </thead>\n",
       "  <tbody>\n",
       "    <tr>\n",
       "      <th>LumA</th>\n",
       "      <td>0.5215</td>\n",
       "      <td>0.025776</td>\n",
       "      <td>0.076515</td>\n",
       "    </tr>\n",
       "    <tr>\n",
       "      <th>LumB</th>\n",
       "      <td></td>\n",
       "      <td>0.019598</td>\n",
       "      <td>0.051773</td>\n",
       "    </tr>\n",
       "    <tr>\n",
       "      <th>Her2</th>\n",
       "      <td></td>\n",
       "      <td></td>\n",
       "      <td>0.006910</td>\n",
       "    </tr>\n",
       "  </tbody>\n",
       "</table>\n",
       "</div>"
      ],
      "text/plain": [
       "        LumB      Her2  Triple-Negative\n",
       "LumA  0.5215  0.025776         0.076515\n",
       "LumB          0.019598         0.051773\n",
       "Her2                           0.006910"
      ]
     },
     "metadata": {},
     "output_type": "display_data"
    },
    {
     "data": {
      "image/png": "[encoded data removed]",
      "text/plain": [
       "<Figure size 241.92x172.8 with 1 Axes>"
      ]
     },
     "metadata": {
      "needs_background": "light"
     },
     "output_type": "display_data"
    }
   ],
   "source": [
    "epi_util.saveBoxPlotNew(sample_annotations, var_y='c_beta', restrict=True,\n",
    "                        var_cat='subtype.ihc', xlabel='',\n",
    "                        outdir=Germany_figure_outdir, title=True,\n",
    "                        use_groups = ['LumA', 'LumB', 'Her2', 'Triple-Negative'],\n",
    "                        palette=consts['palette_jco'],\n",
    "                        figsize=figsize * [1.2, 1], labelfontsize=consts['labelfontsize'], ticksfontsize=consts['ticksfontsize'], sf=sf, linewidth=consts['linewidth'], fliersize=consts['fliersize'],\n",
    "                        plot_ymax_mult=0.28\n",
    "                       )\n",
    "\n",
    "print('Medians:')\n",
    "display(sample_annotations.loc[sample_annotations['in_analysis_dataset']].groupby('subtype.ihc')['c_beta'].median())\n",
    "\n",
    "print('Wilcoxon p-values:')\n",
    "display(epi_util.getWilcoxonPvalueTable(sample_annotations.loc[sample_annotations['in_analysis_dataset']],\n",
    "                                'subtype.ihc', 'c_beta', use_groups=['LumA', 'LumB', 'Her2', 'Triple-Negative']).dropna(how='all', axis=0).dropna(how='all', axis=1).fillna(''))"
   ]
  },
  {
   "cell_type": "code",
   "execution_count": 45,
   "id": "8fe144f4",
   "metadata": {},
   "outputs": [
    {
     "data": {
      "text/plain": [
       "<Axes: ylabel='LUMP Purity'>"
      ]
     },
     "execution_count": 45,
     "metadata": {},
     "output_type": "execute_result"
    },
    {
     "data": {
      "image/png": "[encoded data removed]",
      "text/plain": [
       "<Figure size 604.8x432 with 1 Axes>"
      ]
     },
     "metadata": {},
     "output_type": "display_data"
    }
   ],
   "source": [
    "epi_util.saveBoxPlotNew(sample_annotations, var_y='LUMP', restrict=True,\n",
    "                        var_cat='subtype.ihc', xlabel='',\n",
    "                        outfile=False, title=False, ylabel='LUMP Purity',\n",
    "                        use_groups = ['LumA', 'LumB', 'Her2', 'Triple-Negative'],\n",
    "                        palette=consts['palette_jco'],\n",
    "                        figsize=figsize * [1.2, 1], labelfontsize=consts['labelfontsize'], ticksfontsize=consts['ticksfontsize'], sf=1, linewidth=consts['linewidth'], fliersize=consts['fliersize'],\n",
    "                        plot_ymax_mult=0.28\n",
    "                       )"
   ]
  },
  {
   "cell_type": "code",
   "execution_count": 46,
   "id": "7026d86a",
   "metadata": {},
   "outputs": [
    {
     "data": {
      "text/plain": [
       "<Axes: xlabel='HR+', ylabel='$c_β$'>"
      ]
     },
     "execution_count": 46,
     "metadata": {},
     "output_type": "execute_result"
    },
    {
     "data": {
      "image/png": "[encoded data removed]",
      "text/plain": [
       "<Figure size 504x432 with 1 Axes>"
      ]
     },
     "metadata": {},
     "output_type": "display_data"
    }
   ],
   "source": [
    "epi_util.saveBoxPlotNew(sample_annotations, var_y='c_beta', restrict=True,\n",
    "                        var_cat='HR+', xlabel='HR+',\n",
    "                        outfile=False, title=False, ylabel='HR Status',\n",
    "                        palette=consts['palette_jco'],\n",
    "                        figsize=figsize, labelfontsize=consts['labelfontsize'], ticksfontsize=consts['ticksfontsize'], sf=1, linewidth=consts['linewidth'], fliersize=consts['fliersize'],\n",
    "                        plot_ymax_mult=0.28\n",
    "                       )"
   ]
  },
  {
   "cell_type": "code",
   "execution_count": 47,
   "id": "fb66c7ad",
   "metadata": {},
   "outputs": [
    {
     "data": {
      "text/plain": [
       "<Axes: xlabel='Her2 Positive', ylabel='$c_β$'>"
      ]
     },
     "execution_count": 47,
     "metadata": {},
     "output_type": "execute_result"
    },
    {
     "data": {
      "image/png": "[encoded data removed]",
      "text/plain": [
       "<Figure size 504x432 with 1 Axes>"
      ]
     },
     "metadata": {},
     "output_type": "display_data"
    }
   ],
   "source": [
    "epi_util.saveBoxPlotNew(sample_annotations, var_y='c_beta', restrict=True,\n",
    "                        var_cat='her2', xlabel='Her2 Positive',\n",
    "                        outfile=False, title=False,\n",
    "                        palette=consts['palette_jco'],\n",
    "                        figsize=figsize, labelfontsize=consts['labelfontsize'], ticksfontsize=consts['ticksfontsize'], sf=1, linewidth=consts['linewidth'], fliersize=consts['fliersize'],\n",
    "                        plot_ymax_mult=0.28\n",
    "                       )"
   ]
  }
 ],
 "metadata": {
  "kernelspec": {
   "display_name": "Python 3 (ipykernel)",
   "language": "python",
   "name": "python3"
  },
  "language_info": {
   "codemirror_mode": {
    "name": "ipython",
    "version": 3
   },
   "file_extension": ".py",
   "mimetype": "text/x-python",
   "name": "python",
   "nbconvert_exporter": "python",
   "pygments_lexer": "ipython3",
   "version": "3.9.19"
  }
 },
 "nbformat": 4,
 "nbformat_minor": 5
}
