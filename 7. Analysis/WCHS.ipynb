{
 "cells": [
  {
   "cell_type": "code",
   "execution_count": 1,
   "id": "cf8289eb",
   "metadata": {},
   "outputs": [],
   "source": [
    "import pandas as pd\n",
    "import numpy as np\n",
    "import os\n",
    "import EpiClockInvasiveBRCA.src.util as epi_util\n",
    "consts = epi_util.consts\n",
    "import seaborn as sns\n",
    "import matplotlib.pyplot as plt\n",
    "import warnings\n",
    "warnings.filterwarnings(\"ignore\", \"use_inf_as_na\")\n",
    "\n",
    "proj_dir = os.path.join(consts['official_indir'], 'WCHS')"
   ]
  },
  {
   "cell_type": "code",
   "execution_count": 2,
   "id": "5583beb1",
   "metadata": {},
   "outputs": [],
   "source": [
    "figure_outdir = 'figures_revision_filterNAsitesThenTumors'\n",
    "# figure_outdir = 'figures_revision_filterNA'\n",
    "# figure_outdir = 'figures_revision_DONTfilterNA'\n",
    "proj_figure_outdir = os.path.join(figure_outdir, 'WCHS')\n",
    "\n",
    "os.makedirs(proj_figure_outdir, exist_ok=True)"
   ]
  },
  {
   "cell_type": "code",
   "execution_count": 3,
   "id": "3819cfa6",
   "metadata": {},
   "outputs": [],
   "source": [
    "sample_annotations = pd.read_csv(os.path.join(proj_dir, 'wchs_450k_pheno_data.csv'), index_col=0)\n",
    "sample_annotations = sample_annotations.rename(index=lambda x:x[1:]) # eliminate X prefix of sample names\n",
    "sample_annotations['LUMP'] = pd.read_table(os.path.join(proj_dir, 'LUMP_purity.txt'), index_col=0).squeeze('columns')\n",
    "sample_annotations['tumor_stage'] = 'Stage ' + sample_annotations['tumor_stage'].apply(lambda x:None if np.isnan(x) else str(int(x)))"
   ]
  },
  {
   "cell_type": "code",
   "execution_count": 4,
   "id": "03e8420e",
   "metadata": {},
   "outputs": [
    {
     "name": "stdout",
     "output_type": "stream",
     "text": [
      "51 CpGs removed for having >25% missing values\n",
      "114 tumors were filtered for having >=5% missing values for the 449 selected sites.\n",
      "445 tumors left\n"
     ]
    }
   ],
   "source": [
    "beta_values_Clock_CpGs_revision_pureSamples = pd.read_table(os.path.join(proj_dir, 'beta_values_Clock_CpGs_revision_pureSamples.txt'), index_col=0)\n",
    "\n",
    "## Filter sites that have missing values in more than 25% of tumors\n",
    "mask = beta_values_Clock_CpGs_revision_pureSamples.isna().mean(axis=1) > 0.25\n",
    "print(f'{np.sum(mask)} CpGs removed for having >25% missing values')\n",
    "Clock_CpGs_good = mask.index[~mask].values\n",
    "beta_values_Clock_CpGs_revision_pureSamples = beta_values_Clock_CpGs_revision_pureSamples.loc[Clock_CpGs_good]\n",
    "##\n",
    "\n",
    "final_sample_set = beta_values_Clock_CpGs_revision_pureSamples.columns[beta_values_Clock_CpGs_revision_pureSamples.isna().mean(axis=0) < 0.05]\n",
    "\n",
    "\n",
    "# Count difference in # tumors\n",
    "n_before = beta_values_Clock_CpGs_revision_pureSamples.shape[1]\n",
    "n_after = final_sample_set.shape[0]\n",
    "\n",
    "print(f'{n_before - n_after} tumors were filtered for having >=5% missing values for the {len(Clock_CpGs_good)} selected sites.')\n",
    "print(f'{n_after} tumors left')"
   ]
  },
  {
   "cell_type": "code",
   "execution_count": 5,
   "id": "4e3aaa09",
   "metadata": {},
   "outputs": [
    {
     "data": {
      "text/plain": [
       "Index(['9704031056_R02C02', '9704031090_R05C02', '9704031092_R06C02',\n",
       "       '9704031117_R05C02', '9721366141_R02C01', '9721367074_R01C01',\n",
       "       '9769100014_R04C02', '9769100069_R01C01'],\n",
       "      dtype='object')"
      ]
     },
     "execution_count": 5,
     "metadata": {},
     "output_type": "execute_result"
    },
    {
     "data": {
      "image/png": "[encoded data removed]",
      "text/plain": [
       "<Figure size 432x288 with 1 Axes>"
      ]
     },
     "metadata": {
      "needs_background": "light"
     },
     "output_type": "display_data"
    }
   ],
   "source": [
    "sns.histplot(beta_values_Clock_CpGs_revision_pureSamples.isna().mean(axis=0))\n",
    "beta_values_Clock_CpGs_revision_pureSamples.columns[beta_values_Clock_CpGs_revision_pureSamples.isna().mean(axis=0) > 0.3]"
   ]
  },
  {
   "cell_type": "code",
   "execution_count": 45,
   "id": "f3f86163",
   "metadata": {},
   "outputs": [
    {
     "name": "stdout",
     "output_type": "stream",
     "text": [
      "Analysis cohort: n=445\n"
     ]
    }
   ],
   "source": [
    "sample_annotations['c_beta'] = 1 - beta_values_Clock_CpGs_revision_pureSamples.std(axis=0)\n",
    "\n",
    "# Do not filter by NA\n",
    "# sample_annotations['in_analysis_dataset'] = sample_annotations.index.isin(beta_values_Clock_CpGs_revision_pureSamples.columns) & (sample_annotations['tumor_stage'] != 'Stage 0')\n",
    "\n",
    "# Filter by NA\n",
    "sample_annotations['in_analysis_dataset'] = sample_annotations.index.isin(final_sample_set) & (sample_annotations['tumor_stage'] != 'Stage 0')\n",
    "print(f'Analysis cohort: n={sample_annotations[\"in_analysis_dataset\"].sum()}')"
   ]
  },
  {
   "cell_type": "markdown",
   "id": "88cbecbe",
   "metadata": {},
   "source": [
    "## EDA"
   ]
  },
  {
   "cell_type": "code",
   "execution_count": 7,
   "id": "ef06c118",
   "metadata": {},
   "outputs": [
    {
     "data": {
      "text/plain": [
       "ER                     [positive, negative]\n",
       "pr                [positive, negative, nan]\n",
       "her2    [negative, positive, nan, equivoca]\n",
       "dtype: object"
      ]
     },
     "execution_count": 7,
     "metadata": {},
     "output_type": "execute_result"
    }
   ],
   "source": [
    "sample_annotations[['ER', 'pr', 'her2']].apply(lambda x:x.unique(), axis=0)"
   ]
  },
  {
   "cell_type": "code",
   "execution_count": 8,
   "id": "20f351d2",
   "metadata": {},
   "outputs": [
    {
     "data": {
      "text/plain": [
       "LinregressResult(slope=-1.2426756404297492, intercept=1.849242129996727, rvalue=-0.5149797546813429, pvalue=3.485985862535169e-39, stderr=0.08764424003838982, intercept_stderr=0.07342116128687297)"
      ]
     },
     "execution_count": 8,
     "metadata": {},
     "output_type": "execute_result"
    }
   ],
   "source": [
    "epi_util.getCorrelation(sample_annotations, 'LUMP', 'c_beta')"
   ]
  },
  {
   "cell_type": "markdown",
   "id": "3994951f",
   "metadata": {},
   "source": [
    "### Perform IHC subtyping"
   ]
  },
  {
   "cell_type": "code",
   "execution_count": 9,
   "id": "fb30aea7",
   "metadata": {},
   "outputs": [],
   "source": [
    "marker_state_dict = {\n",
    "    'equivoca':float('NaN'),\n",
    "    'negative':'negative', 'positive':'positive'}\n",
    "\n",
    "for col in ['ER', 'pr', 'her2']:\n",
    "    sample_annotations[col] = sample_annotations[col].map(marker_state_dict)\n",
    "\n",
    "sample_annotations['HR+'] = (sample_annotations['ER'] == 'positive') | (sample_annotations['pr'] == 'positive')\n",
    "sample_annotations['HR-'] = (sample_annotations['ER'] == 'negative') & (sample_annotations['pr'] == 'negative')\n",
    "\n",
    "sample_annotations['LumA_type'] = sample_annotations['HR+'] & (sample_annotations['her2'] == 'negative')\n",
    "sample_annotations['LumB_type'] = sample_annotations['HR+'] & (sample_annotations['her2'] == 'positive')\n",
    "sample_annotations['Her2_type'] = (sample_annotations['her2'] == 'positive') & sample_annotations['HR-']\n",
    "sample_annotations['Triple-Negative_type'] = sample_annotations['HR-'] & (sample_annotations['her2'] == 'negative')\n",
    "\n",
    "subtype_list = ['LumA_type', 'LumB_type', 'Her2_type', 'Triple-Negative_type']\n",
    "\n",
    "for subtype in subtype_list:\n",
    "    sample_annotations[subtype] = sample_annotations[subtype].map({True:subtype.split('_type')[0], False:''})\n",
    "\n",
    "sample_annotations['subtype.ihc'] = sample_annotations[subtype_list].apply(lambda row:''.join(row), axis=1)\n",
    "sample_annotations.loc[sample_annotations['subtype.ihc'] == '', 'subtype.ihc'] = None"
   ]
  },
  {
   "cell_type": "markdown",
   "id": "f3b8a4d3",
   "metadata": {},
   "source": [
    "### NA Values"
   ]
  },
  {
   "cell_type": "code",
   "execution_count": 10,
   "id": "fca007a5",
   "metadata": {},
   "outputs": [
    {
     "data": {
      "text/plain": [
       "ER       0\n",
       "pr      10\n",
       "her2    23\n",
       "dtype: int64"
      ]
     },
     "execution_count": 10,
     "metadata": {},
     "output_type": "execute_result"
    }
   ],
   "source": [
    "sample_annotations.loc[sample_annotations['in_analysis_dataset'], ['ER', 'pr', 'her2']].isna().sum(axis=0)"
   ]
  },
  {
   "cell_type": "markdown",
   "id": "0c4d0d0a",
   "metadata": {},
   "source": [
    "## Make Figures"
   ]
  },
  {
   "cell_type": "code",
   "execution_count": 11,
   "id": "5536347f",
   "metadata": {},
   "outputs": [],
   "source": [
    "## Configure graph\n",
    "sf = consts['sf']\n",
    "figsize = np.array([7, 6])\n",
    "sns.set(rc={\"savefig.bbox\":'tight', 'axes.linewidth':sf}, font_scale=1, style='ticks')\n",
    "sf = 0.4"
   ]
  },
  {
   "cell_type": "code",
   "execution_count": 12,
   "id": "bb446997",
   "metadata": {},
   "outputs": [],
   "source": [
    "sample_annotations.name = 'WCHS'"
   ]
  },
  {
   "cell_type": "code",
   "execution_count": 39,
   "id": "022fa09c",
   "metadata": {},
   "outputs": [
    {
     "data": {
      "text/plain": [
       "135"
      ]
     },
     "execution_count": 39,
     "metadata": {},
     "output_type": "execute_result"
    }
   ],
   "source": [
    "sample_annotations['c_beta'].isna().sum()"
   ]
  },
  {
   "cell_type": "code",
   "execution_count": 44,
   "id": "e5385355",
   "metadata": {},
   "outputs": [
    {
     "data": {
      "text/plain": [
       "24"
      ]
     },
     "execution_count": 44,
     "metadata": {},
     "output_type": "execute_result"
    }
   ],
   "source": [
    "sample_annotations.loc[sample_annotations['in_analysis_dataset'], 'subtype.ihc'].isna().sum()"
   ]
  },
  {
   "cell_type": "code",
   "execution_count": 41,
   "id": "b1d711d5",
   "metadata": {},
   "outputs": [
    {
     "data": {
      "text/plain": [
       "445"
      ]
     },
     "execution_count": 41,
     "metadata": {},
     "output_type": "execute_result"
    }
   ],
   "source": [
    "(sample_annotations['in_analysis_dataset'] & ~sample_annotations['c_beta'].isna()).sum()"
   ]
  },
  {
   "cell_type": "code",
   "execution_count": 35,
   "id": "ba9a1ef6",
   "metadata": {},
   "outputs": [
    {
     "name": "stdout",
     "output_type": "stream",
     "text": [
      "Medians:\n"
     ]
    },
    {
     "data": {
      "text/plain": [
       "subtype.ihc\n",
       "Her2               0.851530\n",
       "LumA               0.848524\n",
       "LumB               0.860991\n",
       "Triple-Negative    0.824993\n",
       "Name: c_beta, dtype: float64"
      ]
     },
     "metadata": {},
     "output_type": "display_data"
    },
    {
     "name": "stdout",
     "output_type": "stream",
     "text": [
      "Wilcoxon p-values:\n"
     ]
    },
    {
     "data": {
      "text/html": [
       "<div>\n",
       "<style scoped>\n",
       "    .dataframe tbody tr th:only-of-type {\n",
       "        vertical-align: middle;\n",
       "    }\n",
       "\n",
       "    .dataframe tbody tr th {\n",
       "        vertical-align: top;\n",
       "    }\n",
       "\n",
       "    .dataframe thead th {\n",
       "        text-align: right;\n",
       "    }\n",
       "</style>\n",
       "<table border=\"1\" class=\"dataframe\">\n",
       "  <thead>\n",
       "    <tr style=\"text-align: right;\">\n",
       "      <th></th>\n",
       "      <th>LumB</th>\n",
       "      <th>Her2</th>\n",
       "      <th>Triple-Negative</th>\n",
       "    </tr>\n",
       "  </thead>\n",
       "  <tbody>\n",
       "    <tr>\n",
       "      <th>LumA</th>\n",
       "      <td>0.095</td>\n",
       "      <td>0.544919</td>\n",
       "      <td>0.000138</td>\n",
       "    </tr>\n",
       "    <tr>\n",
       "      <th>LumB</th>\n",
       "      <td></td>\n",
       "      <td>0.719408</td>\n",
       "      <td>0.000011</td>\n",
       "    </tr>\n",
       "    <tr>\n",
       "      <th>Her2</th>\n",
       "      <td></td>\n",
       "      <td></td>\n",
       "      <td>0.016849</td>\n",
       "    </tr>\n",
       "  </tbody>\n",
       "</table>\n",
       "</div>"
      ],
      "text/plain": [
       "       LumB      Her2  Triple-Negative\n",
       "LumA  0.095  0.544919         0.000138\n",
       "LumB         0.719408         0.000011\n",
       "Her2                          0.016849"
      ]
     },
     "metadata": {},
     "output_type": "display_data"
    },
    {
     "data": {
      "image/png": "[encoded data removed]",
      "text/plain": [
       "<Figure size 282.24x172.8 with 1 Axes>"
      ]
     },
     "metadata": {},
     "output_type": "display_data"
    }
   ],
   "source": [
    "epi_util.saveBoxPlotNew(sample_annotations, var_y='c_beta', restrict=True,\n",
    "                        var_cat='subtype.ihc', xlabel='',\n",
    "                        outdir=proj_figure_outdir, title=True,\n",
    "                        use_groups = ['LumA', 'LumB', 'Her2', 'Triple-Negative'],\n",
    "                        palette=consts['palette_jco'],\n",
    "                        figsize=figsize * [1.4, 1], labelfontsize=consts['labelfontsize'], ticksfontsize=consts['ticksfontsize'], sf=sf, linewidth=consts['linewidth'], fliersize=consts['fliersize'],\n",
    "                        plot_ymax_mult=0.23\n",
    "                       )\n",
    "\n",
    "print('Medians:')\n",
    "display(sample_annotations.loc[sample_annotations['in_analysis_dataset']].groupby('subtype.ihc')['c_beta'].median())\n",
    "\n",
    "print('Wilcoxon p-values:')\n",
    "display(epi_util.getWilcoxonPvalueTable(sample_annotations.loc[sample_annotations['in_analysis_dataset']],\n",
    "                                'subtype.ihc', 'c_beta', use_groups=['LumA', 'LumB', 'Her2', 'Triple-Negative']).dropna(how='all', axis=0).dropna(how='all', axis=1).fillna(''))"
   ]
  },
  {
   "cell_type": "code",
   "execution_count": 32,
   "id": "8fe144f4",
   "metadata": {},
   "outputs": [
    {
     "data": {
      "text/plain": [
       "<Axes: title={'center': 'WCHS'}, ylabel='LUMP Purity'>"
      ]
     },
     "execution_count": 32,
     "metadata": {},
     "output_type": "execute_result"
    },
    {
     "data": {
      "image/png": "[encoded data removed]",
      "text/plain": [
       "<Figure size 241.92x172.8 with 1 Axes>"
      ]
     },
     "metadata": {},
     "output_type": "display_data"
    }
   ],
   "source": [
    "epi_util.saveBoxPlotNew(sample_annotations, var_y='LUMP', restrict=True,\n",
    "                        var_cat='subtype.ihc', xlabel='',\n",
    "                        outdir=proj_figure_outdir, title=True, ylabel='LUMP Purity',\n",
    "                        use_groups = ['LumA', 'LumB', 'Her2', 'Triple-Negative'],\n",
    "                        palette=consts['palette_jco'],\n",
    "                        figsize=figsize * [1.2, 1], labelfontsize=consts['labelfontsize'], ticksfontsize=consts['ticksfontsize'], sf=sf, linewidth=consts['linewidth'], fliersize=consts['fliersize'],\n",
    "                        plot_ymax_mult=0.28\n",
    "                       )"
   ]
  },
  {
   "cell_type": "code",
   "execution_count": 21,
   "id": "7026d86a",
   "metadata": {},
   "outputs": [
    {
     "data": {
      "text/plain": [
       "<Axes: title={'center': 'WCHS'}, ylabel='$c_β$'>"
      ]
     },
     "execution_count": 21,
     "metadata": {},
     "output_type": "execute_result"
    },
    {
     "data": {
      "image/png": "[encoded data removed]",
      "text/plain": [
       "<Figure size 201.6x172.8 with 1 Axes>"
      ]
     },
     "metadata": {},
     "output_type": "display_data"
    }
   ],
   "source": [
    "epi_util.saveBoxPlotNew(sample_annotations, var_y='c_beta', restrict=True,\n",
    "                        var_cat='race', xlabel='Race',\n",
    "                        outdir=proj_figure_outdir, title=True,\n",
    "                        palette=consts['palette_jco'],\n",
    "                        figsize=figsize, labelfontsize=consts['labelfontsize'], ticksfontsize=consts['ticksfontsize'], sf=sf, linewidth=consts['linewidth'], fliersize=consts['fliersize'],\n",
    "                        plot_ymax_mult=0.28\n",
    "                       )"
   ]
  },
  {
   "cell_type": "code",
   "execution_count": 30,
   "id": "2fbe023e",
   "metadata": {},
   "outputs": [
    {
     "name": "stderr",
     "output_type": "stream",
     "text": [
      "/Users/danielmonyak/miniforge3/lib/python3.9/site-packages/scipy/stats/_stats_py.py:8180: RuntimeWarning: invalid value encountered in scalar divide\n",
      "  z = (s - expected) / np.sqrt(n1*n2*(n1+n2+1)/12.0)\n"
     ]
    },
    {
     "data": {
      "text/plain": [
       "<Axes: title={'center': 'WCHS'}, ylabel='$c_β$'>"
      ]
     },
     "execution_count": 30,
     "metadata": {},
     "output_type": "execute_result"
    },
    {
     "data": {
      "image/png": "[encoded data removed]",
      "text/plain": [
       "<Figure size 241.92x172.8 with 1 Axes>"
      ]
     },
     "metadata": {},
     "output_type": "display_data"
    }
   ],
   "source": [
    "epi_util.saveBoxPlotNew(sample_annotations, var_y='c_beta', restrict=True,\n",
    "                        var_cat='tumor_stage',\n",
    "                        xlabel='',\n",
    "                        outdir=proj_figure_outdir,\n",
    "                        title=True,\n",
    "                        palette=consts['palette_jco'],\n",
    "                        figsize=figsize * [1.2, 1], labelfontsize=consts['labelfontsize'], ticksfontsize=consts['ticksfontsize'], sf=sf, linewidth=consts['linewidth'], fliersize=consts['fliersize'],\n",
    "                        plot_ymax_mult=0.28\n",
    "                       )"
   ]
  },
  {
   "cell_type": "code",
   "execution_count": 23,
   "id": "fb66c7ad",
   "metadata": {},
   "outputs": [
    {
     "data": {
      "text/plain": [
       "<Axes: title={'center': 'WCHS'}, ylabel='$c_β$'>"
      ]
     },
     "execution_count": 23,
     "metadata": {},
     "output_type": "execute_result"
    },
    {
     "data": {
      "image/png": "[encoded data removed]",
      "text/plain": [
       "<Figure size 201.6x172.8 with 1 Axes>"
      ]
     },
     "metadata": {},
     "output_type": "display_data"
    }
   ],
   "source": [
    "epi_util.saveBoxPlotNew(sample_annotations, var_y='c_beta', restrict=True,\n",
    "                        var_cat='her2', xlabel='Her2 Positive',\n",
    "                        outdir=proj_figure_outdir,\n",
    "                        title=True,\n",
    "                        palette=consts['palette_jco'],\n",
    "                        figsize=figsize, labelfontsize=consts['labelfontsize'], ticksfontsize=consts['ticksfontsize'], sf=sf, linewidth=consts['linewidth'], fliersize=consts['fliersize'],\n",
    "                        plot_ymax_mult=0.28\n",
    "                       )"
   ]
  },
  {
   "cell_type": "code",
   "execution_count": 49,
   "id": "20cd13ea",
   "metadata": {},
   "outputs": [
    {
     "name": "stdout",
     "output_type": "stream",
     "text": [
      "c_beta: R=-0.03, P=0.55\n"
     ]
    }
   ],
   "source": [
    "var_x = 'c_beta'\n",
    "var_y = 'age'\n",
    "\n",
    "use_samples = sample_annotations.index[sample_annotations['in_analysis_dataset']].values\n",
    "res = epi_util.getCorrelation(sample_annotations, var_x=var_x, var_y=var_y, use_samples=use_samples)\n",
    "pvalue_formatted = f'{res.pvalue:.0e}' if res.pvalue < 0.01 else f'{res.pvalue:.2f}'\n",
    "print(f'{var_x}: R={res.rvalue:.2f}, P={pvalue_formatted}')"
   ]
  },
  {
   "cell_type": "code",
   "execution_count": 24,
   "id": "5dfa5cdc",
   "metadata": {
    "scrolled": true
   },
   "outputs": [
    {
     "data": {
      "image/png": "[encoded data removed]",
      "text/plain": [
       "<Figure size 181.44x155.52 with 1 Axes>"
      ]
     },
     "metadata": {},
     "output_type": "display_data"
    }
   ],
   "source": [
    "epi_util.saveCorrelationPlot(sample_annotations, var_y='age', restrict=True,\n",
    "                             var_x='c_beta',\n",
    "                             outdir=proj_figure_outdir,\n",
    "                             ylabel='Age',\n",
    "                             text_x=0.85, text_y=60,\n",
    "                             figsize=figsize * 0.9, labelfontsize=consts['labelfontsize'], ticksfontsize=consts['ticksfontsize'], sf=sf, s=1 * sf,\n",
    "                             color=consts['palette_jco'][0], line_kws={'linewidth':1}\n",
    "                            )"
   ]
  },
  {
   "cell_type": "code",
   "execution_count": 25,
   "id": "2922397b",
   "metadata": {},
   "outputs": [],
   "source": [
    "from MolecularClocks.src.merge_pdfs import merge_pdfs\n",
    "merge_pdfs(\n",
    "    [os.path.join(proj_figure_outdir, filename) for filename in os.listdir(proj_figure_outdir) if filename.endswith('.pdf')],\n",
    "    os.path.join(proj_figure_outdir, f'merged_{figure_outdir}.pdf')\n",
    ")"
   ]
  }
 ],
 "metadata": {
  "kernelspec": {
   "display_name": "Python 3 (ipykernel)",
   "language": "python",
   "name": "python3"
  },
  "language_info": {
   "codemirror_mode": {
    "name": "ipython",
    "version": 3
   },
   "file_extension": ".py",
   "mimetype": "text/x-python",
   "name": "python",
   "nbconvert_exporter": "python",
   "pygments_lexer": "ipython3",
   "version": "3.9.19"
  }
 },
 "nbformat": 4,
 "nbformat_minor": 5
}
