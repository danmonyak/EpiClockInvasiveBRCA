{
 "cells": [
  {
   "cell_type": "markdown",
   "id": "84c5082b",
   "metadata": {},
   "source": [
    "# Estimate ages\n",
    "\n",
    "Run all cells to:\n",
    "- Import clinical tables for TCGA and Lund cohorts\n",
    "- Import and process TCGA and Lund beta decomposition data\n",
    "- Plot the beta decomposition of 3 example tumors\n",
    "- Predict S-phase fraction in TCGA tumors\n",
    "- Estimate proliferation rate, flip rate, mitotic/calendar ages"
   ]
  },
  {
   "cell_type": "code",
   "execution_count": 41,
   "id": "62750c64",
   "metadata": {},
   "outputs": [],
   "source": [
    "import pandas as pd\n",
    "import numpy as np\n",
    "import os\n",
    "import seaborn as sns\n",
    "import matplotlib.pyplot as plt\n",
    "import matplotlib.patches as mpatches\n",
    "from sklearn.linear_model import ElasticNetCV\n",
    "from sklearn.metrics import r2_score\n",
    "from scipy.stats import beta\n",
    "import EpiClockInvasiveBRCA.src.util as epi_util\n",
    "consts = epi_util.consts"
   ]
  },
  {
   "cell_type": "code",
   "execution_count": 42,
   "id": "749661c6",
   "metadata": {},
   "outputs": [],
   "source": [
    "## Set up output directory for figures\n",
    "figure_outdir = os.path.join('figures_revision', 'age_estimation')\n",
    "os.makedirs(figure_outdir, exist_ok=True)"
   ]
  },
  {
   "cell_type": "markdown",
   "id": "79afe993",
   "metadata": {},
   "source": [
    "## Prepare data"
   ]
  },
  {
   "cell_type": "code",
   "execution_count": 43,
   "id": "6d5cd4ff",
   "metadata": {},
   "outputs": [],
   "source": [
    "## Input data directories\n",
    "\n",
    "Lund_clinical_dir = os.path.join(consts['official_indir'], 'Lund')\n",
    "Lund_c_beta_dir = os.path.join(consts['repo_dir'], '4. Process Supplementary Data', 'outputs_revision', 'Lund')\n",
    "beta_peak_indir = os.path.join(consts['official_indir'], 'Beta Peak Decomposition')\n",
    "\n",
    "## List of PAM50 subtypes considered\n",
    "subtype_list = ['LumA', 'LumB', 'Her2', 'Basal']"
   ]
  },
  {
   "cell_type": "code",
   "execution_count": 44,
   "id": "35c11e80",
   "metadata": {},
   "outputs": [],
   "source": [
    "## Import clinical tables for TCGA and Lund cohorts\n",
    "\n",
    "# Use annotated TCGA clinical table\n",
    "# Import c_beta values into Lund table\n",
    "\n",
    "clinical = {}\n",
    "\n",
    "clinical['TCGA'] = pd.read_table(os.path.join(consts['TCGA_datadir'], 'TCGA.clinical.annotated_revision.tsv'), index_col=0)\n",
    "clinical['Lund'] = pd.read_table(os.path.join(Lund_clinical_dir, 'Lund.clinical.txt'), index_col=0, dtype={'grade':str})\n",
    "clinical['Lund']['c_beta'] = pd.read_table(os.path.join(Lund_c_beta_dir, 'Lund.c_beta.txt'), index_col=0).squeeze(\"columns\")\n",
    "\n",
    "# Create new columns for convenience later\n",
    "clinical['Lund']['spf'] = clinical['Lund']['spfPercent'] / 100\n",
    "clinical['Lund']['log_spf'] = np.log(clinical['Lund']['spf'])\n",
    "\n",
    "# Copy column but rename to \"subtype\" for consistency\n",
    "clinical['TCGA']['subtype'] = clinical['TCGA']['subtype.pam50']\n",
    "clinical['Lund']['subtype'] = clinical['Lund']['genefu.pam50.subtype']"
   ]
  },
  {
   "cell_type": "markdown",
   "id": "525c0b0c",
   "metadata": {},
   "source": [
    "### Import TCGA LUMP data"
   ]
  },
  {
   "cell_type": "code",
   "execution_count": 45,
   "id": "4d82ee42",
   "metadata": {},
   "outputs": [],
   "source": [
    "TCGA_LUMP_values = pd.read_table(os.path.join(consts['TCGA_datadir'], 'TCGA.LUMP_values.tsv'), index_col=0).squeeze('columns')\n",
    "clinical['TCGA'] = clinical['TCGA'].merge(TCGA_LUMP_values, left_on='Sample.ID', right_index=True, how='left')"
   ]
  },
  {
   "cell_type": "markdown",
   "id": "4794b9ad",
   "metadata": {},
   "source": [
    "### Beta decomposition data"
   ]
  },
  {
   "cell_type": "code",
   "execution_count": 46,
   "id": "1190a46d",
   "metadata": {},
   "outputs": [
    {
     "name": "stdout",
     "output_type": "stream",
     "text": [
      "\n",
      "TCGA\n",
      "3 normal-subtype tumors were removed\n",
      "35 tumors removed for off-center middle peaks\n",
      "0 tumors removed for left or right peaks on the wrong side of 0.5\n",
      "\n",
      "Lund\n",
      "7 normal-subtype tumors were removed\n",
      "8 tumors removed for off-center middle peaks\n",
      "0 tumors removed for left or right peaks on the wrong side of 0.5\n"
     ]
    }
   ],
   "source": [
    "# For both datasets\n",
    "for dataset in clinical:\n",
    "    print(f'\\n{dataset}')\n",
    "    \n",
    "    # Exclude \"Normal\" subtype tumors\n",
    "    clinical[dataset] = clinical[dataset].loc[clinical[dataset]['in_analysis_dataset'] & ~clinical[dataset]['c_beta'].isna()]\n",
    "    \n",
    "    before = clinical[dataset].shape[0]\n",
    "    clinical[dataset] = clinical[dataset].loc[clinical[dataset]['subtype'] != 'Normal']\n",
    "    after = clinical[dataset].shape[0]\n",
    "    print(f'{before - after} normal-subtype tumors were removed')\n",
    "\n",
    "    \n",
    "    # Import modes of the three beta distributions\n",
    "    modes = pd.read_csv(os.path.join(beta_peak_indir, dataset, 'modes.txt'), sep=' ')\n",
    "    \n",
    "    # Need to format the TCGA sample names\n",
    "    if dataset == 'TCGA':\n",
    "        modes = modes.rename(index=epi_util.sampleToPatientID)\n",
    "    \n",
    "    # Modes of three peaks -- Left = A, Middle, Right = B\n",
    "    clinical[dataset]['beta_A'] = modes.apply(lambda x: np.sort(x)[0], axis=1)\n",
    "    clinical[dataset]['beta_middle'] = modes.apply(lambda x: np.sort(x)[1], axis=1)\n",
    "    clinical[dataset]['beta_B'] = modes.apply(lambda x: np.sort(x)[2], axis=1)\n",
    "\n",
    "    # Exclude tumors with middle peaks outside of [0.4, 0.6]\n",
    "    before = clinical[dataset].shape[0]\n",
    "    clinical[dataset] = clinical[dataset].loc[(clinical[dataset]['beta_middle'] >= 0.4) & (clinical[dataset]['beta_middle'] <= 0.6)]\n",
    "    after = clinical[dataset].shape[0]\n",
    "    print(f'{before - after} tumors removed for off-center middle peaks')\n",
    "    \n",
    "    # Exclude tumors with left or right peaks on the wrong side of 0.5\n",
    "    before = clinical[dataset].shape[0]\n",
    "    clinical[dataset] = clinical[dataset].loc[(clinical[dataset]['beta_A'] < 0.5) & (clinical[dataset]['beta_B'] > 0.5)]\n",
    "    after = clinical[dataset].shape[0]\n",
    "    print(f'{before - after} tumors removed for left or right peaks on the wrong side of 0.5')\n",
    "    \n",
    "    # Estimates using left and right peaks\n",
    "    clinical[dataset]['avg_n_flips_estA'] = -np.log(1 - 2 * clinical[dataset]['beta_A']) / 2\n",
    "    clinical[dataset]['avg_n_flips_estB'] = -np.log(2 * clinical[dataset]['beta_B'] - 1) / 2\n",
    "    \n",
    "    # Use the average of the two estimates\n",
    "    clinical[dataset]['avg_n_flips'] = (clinical[dataset]['avg_n_flips_estA'] + clinical[dataset]['avg_n_flips_estB']) / 2"
   ]
  },
  {
   "cell_type": "markdown",
   "id": "9202052d",
   "metadata": {},
   "source": [
    "## 3 example tumors w/ beta dists."
   ]
  },
  {
   "cell_type": "code",
   "execution_count": 47,
   "id": "18ab6564",
   "metadata": {},
   "outputs": [],
   "source": [
    "## Configure graph\n",
    "sf = consts['sf']\n",
    "figsize = np.array([7, 6])\n",
    "sns.set(rc={\"savefig.bbox\":'tight', 'axes.linewidth':sf}, font_scale=1, style='ticks')"
   ]
  },
  {
   "cell_type": "code",
   "execution_count": 48,
   "id": "c2991aab",
   "metadata": {
    "scrolled": false
   },
   "outputs": [
    {
     "name": "stderr",
     "output_type": "stream",
     "text": [
      "/Users/danielmonyak/opt/anaconda3/lib/python3.9/site-packages/seaborn/_oldcore.py:1119: FutureWarning: use_inf_as_na option is deprecated and will be removed in a future version. Convert inf values to NaN before operating instead.\n",
      "  with pd.option_context('mode.use_inf_as_na', True):\n",
      "/var/folders/m9/kv2y3r0s0p1_cl3s3py1wprh0000gn/T/ipykernel_58710/2439602551.py:60: FutureWarning: Series.__getitem__ treating keys as positions is deprecated. In a future version, integer keys will always be treated as labels (consistent with DataFrame behavior). To access a value by position, use `ser.iloc[pos]`\n",
      "  y = beta.pdf(x, a, d) * weight_list[j]\n",
      "/Users/danielmonyak/opt/anaconda3/lib/python3.9/site-packages/seaborn/_oldcore.py:1119: FutureWarning: use_inf_as_na option is deprecated and will be removed in a future version. Convert inf values to NaN before operating instead.\n",
      "  with pd.option_context('mode.use_inf_as_na', True):\n",
      "/var/folders/m9/kv2y3r0s0p1_cl3s3py1wprh0000gn/T/ipykernel_58710/2439602551.py:60: FutureWarning: Series.__getitem__ treating keys as positions is deprecated. In a future version, integer keys will always be treated as labels (consistent with DataFrame behavior). To access a value by position, use `ser.iloc[pos]`\n",
      "  y = beta.pdf(x, a, d) * weight_list[j]\n",
      "/Users/danielmonyak/opt/anaconda3/lib/python3.9/site-packages/seaborn/_oldcore.py:1119: FutureWarning: use_inf_as_na option is deprecated and will be removed in a future version. Convert inf values to NaN before operating instead.\n",
      "  with pd.option_context('mode.use_inf_as_na', True):\n",
      "/var/folders/m9/kv2y3r0s0p1_cl3s3py1wprh0000gn/T/ipykernel_58710/2439602551.py:60: FutureWarning: Series.__getitem__ treating keys as positions is deprecated. In a future version, integer keys will always be treated as labels (consistent with DataFrame behavior). To access a value by position, use `ser.iloc[pos]`\n",
      "  y = beta.pdf(x, a, d) * weight_list[j]\n"
     ]
    },
    {
     "data": {
      "image/png": "[encoded data removed]",
      "text/plain": [
       "<Figure size 463.68x138.24 with 3 Axes>"
      ]
     },
     "metadata": {},
     "output_type": "display_data"
    }
   ],
   "source": [
    "# Need to match tumors in \"3 example tumors\" section of \"c_beta Analysis\" notebook\n",
    "sample_list = {\n",
    "    'Tum1':'TCGA-BH-A1FJ-01A',\n",
    "    'Tum2':'TCGA-A2-A0T5-01A',\n",
    "    'Tum3':'TCGA-EW-A1PF-01A'\n",
    "}\n",
    "\n",
    "# Create plot axes\n",
    "fig, axes = plt.subplots(1, len(sample_list), figsize=np.array(figsize) * [2.3, 0.8] * sf)\n",
    "fig.tight_layout(pad=0.2)\n",
    "\n",
    "# Import Clock beta values for TCGA\n",
    "beta_values_Clock_TCGA = pd.read_table(os.path.join(consts['TCGA_datadir'], 'TCGA.methyl.Clock_revision.tsv'),\n",
    "                      index_col=0).rename(columns=epi_util.getSampleID)\n",
    "\n",
    "# Import beta decomposition raw outputs\n",
    "# i.e. beta distributions' parameters and weights\n",
    "alpha = pd.read_table(os.path.join(beta_peak_indir, 'TCGA', 'alpha.txt'), sep=' ').rename(index=epi_util.sampleToPatientID)\n",
    "delta = pd.read_table(os.path.join(beta_peak_indir, 'TCGA', 'delta.txt'), sep=' ').rename(index=epi_util.sampleToPatientID)\n",
    "phi = pd.read_table(os.path.join(beta_peak_indir, 'TCGA', 'phi.txt'), sep=' ').rename(index=lambda x:epi_util.sampleToPatientID(x.replace('.', '-')))\n",
    "\n",
    "# Color of each distribution in order (left -> right)\n",
    "chosen_tumor_colors = [consts['palette_jco'][i] for i in [0, 1, 3]]\n",
    "\n",
    "for i, tum_id in enumerate(sample_list):\n",
    "    ax = axes[i]\n",
    "    samp = sample_list[tum_id]\n",
    "    patient = epi_util.sampleToPatientID(samp)\n",
    "    \n",
    "    # Plot distribution\n",
    "    sns.histplot(ax=ax, x=beta_values_Clock_TCGA[samp], stat='density',\n",
    "                 color=consts['palette_jco'][2],\n",
    "                 bins=20, alpha=consts['opacity'],\n",
    "                binrange=(0, 1))\n",
    "    \n",
    "    # Customize plot\n",
    "    ax.set_title(f'{tum_id} ({samp})', fontsize=consts['labelfontsize'] * sf)\n",
    "    ax.set_xlabel('β', fontsize=consts['labelfontsize'] * sf)\n",
    "    if i == 0: # Only have y-axis label on left-most plot\n",
    "        ax.set_ylabel('Density', fontsize=consts['labelfontsize'] * sf)\n",
    "    else:\n",
    "        ax.set_ylabel('')\n",
    "    ax.tick_params(axis='both', labelsize=consts['ticksfontsize'] * sf, width=sf, length=8 * sf)\n",
    "\n",
    "    # Weight of each of three distributions\n",
    "    weight_list = phi.loc[patient]\n",
    "    \n",
    "    # Holds the max y-axis limit max\n",
    "    y_max = float('-Inf')\n",
    "    \n",
    "    # Plot each distribution\n",
    "    for j, model in enumerate(alpha.columns):\n",
    "        \n",
    "        # Beta dist. parameters\n",
    "        a = alpha.loc[patient, model]\n",
    "        d = delta.loc[patient, model]\n",
    "\n",
    "        # X and Y coords for corve\n",
    "        x = np.linspace(0, 0.99, 100)\n",
    "        y = beta.pdf(x, a, d) * weight_list[j]\n",
    "        \n",
    "        # Plot curve\n",
    "        ax.plot(x, y, lw=3, alpha=0.9,\n",
    "                color=chosen_tumor_colors[j]\n",
    "               )\n",
    "        \n",
    "        # Update max\n",
    "        y_max = max(y_max, ax.get_ylim()[1])\n",
    "\n",
    "# Align y-axis limits\n",
    "for i in range(len(sample_list)):\n",
    "    ax = axes[i]\n",
    "    ax.set_ylim(0, y_max * 1.03)\n",
    "\n",
    "# Save figure\n",
    "fig.savefig(os.path.join(figure_outdir, 'example_peak_decomp.pdf'), format='pdf', pad_inches=0.1)"
   ]
  },
  {
   "cell_type": "markdown",
   "id": "38de38b9",
   "metadata": {},
   "source": [
    "## Predictive model for $log(\\text{spf})$"
   ]
  },
  {
   "cell_type": "code",
   "execution_count": 49,
   "id": "74654336",
   "metadata": {},
   "outputs": [],
   "source": [
    "## Set training data (Lund)\n",
    "\n",
    "predictors = [\n",
    "    'Stroma', 'Lipid', 'IR', 'Mitotic Checkpoint',\n",
    "    'Mitotic Progression', 'Basal', 'Early Response', 'SR',\n",
    "    'FGA', 'LUMP'\n",
    "]\n",
    "\n",
    "response = 'log_spf'\n",
    "\n",
    "train_data = clinical['Lund'].loc[clinical['Lund']['in_analysis_dataset'], predictors + [response]].dropna()\n",
    "train_X = train_data[predictors]\n",
    "train_y = train_data[response]\n",
    "\n",
    "## Data we need to predict\n",
    "\n",
    "TCGA_X = clinical['TCGA'].loc[clinical['TCGA']['in_analysis_dataset'], predictors].dropna()"
   ]
  },
  {
   "cell_type": "markdown",
   "id": "83e09575",
   "metadata": {},
   "source": [
    "### Fit ElasticNet model"
   ]
  },
  {
   "cell_type": "code",
   "execution_count": 50,
   "id": "6a52646d",
   "metadata": {},
   "outputs": [
    {
     "name": "stdout",
     "output_type": "stream",
     "text": [
      "alpha = 0.01\n",
      "l1 ratio = 0.1\n",
      "R^2 = 0.68\n"
     ]
    }
   ],
   "source": [
    "# Grid-search (estimated by cross-validation)\n",
    "\n",
    "eNetCV = ElasticNetCV(alphas=np.linspace(0.01, 0.99, 20), l1_ratio=[.1, .5, .7, .9, .95, .99, 1])\n",
    "eNetCV.fit(train_X, train_y)\n",
    "\n",
    "print(f'alpha = {eNetCV.alpha_}')\n",
    "print(f'l1 ratio = {eNetCV.l1_ratio_}')\n",
    "\n",
    "y_pred = eNetCV.predict(train_X)\n",
    "r2 = r2_score(train_y, y_pred)\n",
    "print(f'R^2 = {r2:.2f}')"
   ]
  },
  {
   "cell_type": "markdown",
   "id": "a4f2fc43",
   "metadata": {},
   "source": [
    "### Predict spf in TCGA"
   ]
  },
  {
   "cell_type": "code",
   "execution_count": 51,
   "id": "beda2a89",
   "metadata": {},
   "outputs": [],
   "source": [
    "# Predict and un-transform log(spf) in TCGA\n",
    "clinical['TCGA'].loc[TCGA_X.index, response] = eNetCV.predict(TCGA_X)\n",
    "clinical['TCGA']['spf'] = np.exp(clinical['TCGA']['log_spf'])\n",
    "\n",
    "# Estimate of S-phase in cancer cells\n",
    "s_phase_duration_hrs = np.mean([12.40, 11.70, 13.60, 12.95, 12.66])\n",
    "s_phase_duration = s_phase_duration_hrs / 24\n",
    "\n",
    "# Proliferation rate with 1 day as time unit\n",
    "# calendar_age_prod_flip_rate is an intermediate value\n",
    "for dataset in clinical:\n",
    "    clinical[dataset]['prolif_rate'] = clinical[dataset]['spf'] / s_phase_duration\n",
    "    clinical[dataset]['calendar_age_prod_flip_rate'] = clinical[dataset]['avg_n_flips'] / clinical[dataset]['prolif_rate']\n",
    "\n",
    "## DELETE\n",
    "# Flip rate\n",
    "\n",
    "# flip_rate_TCGA = clinical['TCGA']['calendar_age_prod_flip_rate'].median() / (3 * 365)\n",
    "# flip_rate_Lund = clinical['Lund']['calendar_age_prod_flip_rate'].median() / (3 * 365)\n",
    "\n",
    "# print(f'TCGA-predicted flip rate: {flip_rate_TCGA:.4f}')\n",
    "# print(f'Lund-predicted flip rate: {flip_rate_Lund:.4f}')"
   ]
  },
  {
   "cell_type": "markdown",
   "id": "86a97c14",
   "metadata": {},
   "source": [
    "## Estimation"
   ]
  },
  {
   "cell_type": "markdown",
   "id": "65142010",
   "metadata": {},
   "source": [
    "### Estimate flip rate"
   ]
  },
  {
   "cell_type": "code",
   "execution_count": 52,
   "id": "ab9b58d8",
   "metadata": {},
   "outputs": [
    {
     "name": "stdout",
     "output_type": "stream",
     "text": [
      "Predicted flip rate: 0.002\n"
     ]
    }
   ],
   "source": [
    "## Flip rate\n",
    "## Combine the cohorts to estimate\n",
    "\n",
    "combined_intermed_df = pd.concat(\n",
    "    [\n",
    "        clinical['TCGA'][['in_analysis_dataset', 'calendar_age_prod_flip_rate', 'prolif_rate']],\n",
    "        clinical['Lund'][['in_analysis_dataset', 'calendar_age_prod_flip_rate', 'prolif_rate']]\n",
    "    ],\n",
    "    axis=0)\n",
    "flip_rate_est = combined_intermed_df.loc[combined_intermed_df['in_analysis_dataset'],\n",
    "                                         'calendar_age_prod_flip_rate'].median() / (3 * 365)\n",
    "print(f'Predicted flip rate: {flip_rate_est:.3f}')"
   ]
  },
  {
   "cell_type": "markdown",
   "id": "02dcce41",
   "metadata": {},
   "source": [
    "### Estimate proliferation rate"
   ]
  },
  {
   "cell_type": "code",
   "execution_count": 53,
   "id": "a9164566",
   "metadata": {},
   "outputs": [
    {
     "name": "stdout",
     "output_type": "stream",
     "text": [
      "Estimated proliferation rate: 0.17\n"
     ]
    }
   ],
   "source": [
    "prolif_rate_est = np.mean(combined_intermed_df['prolif_rate'])\n",
    "\n",
    "print(f'Estimated proliferation rate: {prolif_rate_est:.2f}')"
   ]
  },
  {
   "cell_type": "markdown",
   "id": "548ec6be",
   "metadata": {},
   "source": [
    "### Estimate calendar ages of tumors"
   ]
  },
  {
   "cell_type": "code",
   "execution_count": 54,
   "id": "cd28876f",
   "metadata": {},
   "outputs": [],
   "source": [
    "## Calculate mitotic and calendar ages\n",
    "\n",
    "for dataset in clinical:\n",
    "    clinical[dataset]['mitotic_age'] = clinical[dataset]['avg_n_flips'] / flip_rate_est\n",
    "    clinical[dataset]['calendar_age_years'] = clinical[dataset]['calendar_age_prod_flip_rate'] / flip_rate_est / 365"
   ]
  },
  {
   "cell_type": "code",
   "execution_count": 55,
   "id": "503a812e",
   "metadata": {
    "scrolled": true
   },
   "outputs": [
    {
     "data": {
      "text/plain": [
       "count    445.000000\n",
       "mean       4.271278\n",
       "std        3.950637\n",
       "min        0.278743\n",
       "25%        1.646833\n",
       "50%        3.000000\n",
       "75%        5.457745\n",
       "max       29.930965\n",
       "Name: calendar_age_years, dtype: float64"
      ]
     },
     "metadata": {},
     "output_type": "display_data"
    }
   ],
   "source": [
    "## Output statistics on calendar age distribution\n",
    "\n",
    "combined_calendar = pd.concat(\n",
    "    [\n",
    "        clinical['TCGA'][['in_analysis_dataset', 'calendar_age_years']],\n",
    "        clinical['Lund'][['in_analysis_dataset', 'calendar_age_years']]\n",
    "    ],\n",
    "    axis=0)\n",
    "display(combined_calendar.loc[combined_calendar['in_analysis_dataset'], 'calendar_age_years'].describe())"
   ]
  },
  {
   "cell_type": "markdown",
   "id": "64c548e5",
   "metadata": {},
   "source": [
    "## Create plots"
   ]
  },
  {
   "cell_type": "code",
   "execution_count": 56,
   "id": "f23df1aa",
   "metadata": {},
   "outputs": [
    {
     "name": "stdout",
     "output_type": "stream",
     "text": [
      "Wilcoxon rank-sums p-values:\n"
     ]
    },
    {
     "data": {
      "text/html": [
       "<div>\n",
       "<style scoped>\n",
       "    .dataframe tbody tr th:only-of-type {\n",
       "        vertical-align: middle;\n",
       "    }\n",
       "\n",
       "    .dataframe tbody tr th {\n",
       "        vertical-align: top;\n",
       "    }\n",
       "\n",
       "    .dataframe thead th {\n",
       "        text-align: right;\n",
       "    }\n",
       "</style>\n",
       "<table border=\"1\" class=\"dataframe\">\n",
       "  <thead>\n",
       "    <tr style=\"text-align: right;\">\n",
       "      <th></th>\n",
       "      <th>LumA</th>\n",
       "      <th>LumB</th>\n",
       "      <th>Her2</th>\n",
       "      <th>Basal</th>\n",
       "    </tr>\n",
       "  </thead>\n",
       "  <tbody>\n",
       "    <tr>\n",
       "      <th>LumA</th>\n",
       "      <td>NaN</td>\n",
       "      <td>4.003001e-28</td>\n",
       "      <td>7.589087e-15</td>\n",
       "      <td>1.245462e-29</td>\n",
       "    </tr>\n",
       "    <tr>\n",
       "      <th>LumB</th>\n",
       "      <td>NaN</td>\n",
       "      <td>NaN</td>\n",
       "      <td>7.044043e-02</td>\n",
       "      <td>1.919782e-20</td>\n",
       "    </tr>\n",
       "    <tr>\n",
       "      <th>Her2</th>\n",
       "      <td>NaN</td>\n",
       "      <td>NaN</td>\n",
       "      <td>NaN</td>\n",
       "      <td>1.416128e-09</td>\n",
       "    </tr>\n",
       "    <tr>\n",
       "      <th>Basal</th>\n",
       "      <td>NaN</td>\n",
       "      <td>NaN</td>\n",
       "      <td>NaN</td>\n",
       "      <td>NaN</td>\n",
       "    </tr>\n",
       "  </tbody>\n",
       "</table>\n",
       "</div>"
      ],
      "text/plain": [
       "       LumA          LumB          Her2         Basal\n",
       "LumA    NaN  4.003001e-28  7.589087e-15  1.245462e-29\n",
       "LumB    NaN           NaN  7.044043e-02  1.919782e-20\n",
       "Her2    NaN           NaN           NaN  1.416128e-09\n",
       "Basal   NaN           NaN           NaN           NaN"
      ]
     },
     "metadata": {},
     "output_type": "display_data"
    },
    {
     "data": {
      "image/png": "[encoded data removed]",
      "text/plain": [
       "<Figure size 221.76x172.8 with 1 Axes>"
      ]
     },
     "metadata": {},
     "output_type": "display_data"
    }
   ],
   "source": [
    "## Plot proliferation rate by subtype in TCGA\n",
    "## Output Wilcoxon rank-sum p-values instead of using significance bars\n",
    "\n",
    "clinical['TCGA'].name = 'TCGA'\n",
    "epi_util.saveBoxPlotNew(clinical['TCGA'], 'subtype.pam50', restrict=True,\n",
    "                   var_y='prolif_rate', ylabel='Proliferation rate',\n",
    "                   outdir=figure_outdir, title=True, use_groups=subtype_list,\n",
    "                   palette=consts['palette_jco'], signif_bar_heights=None,\n",
    "                   figsize=figsize * [1.1, 1], labelfontsize=consts['labelfontsize'], ticksfontsize=consts['ticksfontsize'], sf=sf, linewidth=consts['linewidth'], fliersize=consts['fliersize'])\n",
    "\n",
    "pvalue_tbl = epi_util.getWilcoxonPvalueTable(clinical['TCGA'], 'subtype.pam50', 'prolif_rate', use_groups=subtype_list)\n",
    "print('Wilcoxon rank-sums p-values:')\n",
    "display(pvalue_tbl)"
   ]
  },
  {
   "cell_type": "code",
   "execution_count": 57,
   "id": "d9f3865c",
   "metadata": {},
   "outputs": [
    {
     "name": "stdout",
     "output_type": "stream",
     "text": [
      "Wilcoxon rank-sums p-values:\n"
     ]
    },
    {
     "data": {
      "text/html": [
       "<div>\n",
       "<style scoped>\n",
       "    .dataframe tbody tr th:only-of-type {\n",
       "        vertical-align: middle;\n",
       "    }\n",
       "\n",
       "    .dataframe tbody tr th {\n",
       "        vertical-align: top;\n",
       "    }\n",
       "\n",
       "    .dataframe thead th {\n",
       "        text-align: right;\n",
       "    }\n",
       "</style>\n",
       "<table border=\"1\" class=\"dataframe\">\n",
       "  <thead>\n",
       "    <tr style=\"text-align: right;\">\n",
       "      <th></th>\n",
       "      <th>LumA</th>\n",
       "      <th>LumB</th>\n",
       "      <th>Her2</th>\n",
       "      <th>Basal</th>\n",
       "    </tr>\n",
       "  </thead>\n",
       "  <tbody>\n",
       "    <tr>\n",
       "      <th>LumA</th>\n",
       "      <td>NaN</td>\n",
       "      <td>0.000757</td>\n",
       "      <td>0.000002</td>\n",
       "      <td>0.000003</td>\n",
       "    </tr>\n",
       "    <tr>\n",
       "      <th>LumB</th>\n",
       "      <td>NaN</td>\n",
       "      <td>NaN</td>\n",
       "      <td>0.028248</td>\n",
       "      <td>0.008006</td>\n",
       "    </tr>\n",
       "    <tr>\n",
       "      <th>Her2</th>\n",
       "      <td>NaN</td>\n",
       "      <td>NaN</td>\n",
       "      <td>NaN</td>\n",
       "      <td>0.480236</td>\n",
       "    </tr>\n",
       "    <tr>\n",
       "      <th>Basal</th>\n",
       "      <td>NaN</td>\n",
       "      <td>NaN</td>\n",
       "      <td>NaN</td>\n",
       "      <td>NaN</td>\n",
       "    </tr>\n",
       "  </tbody>\n",
       "</table>\n",
       "</div>"
      ],
      "text/plain": [
       "       LumA      LumB      Her2     Basal\n",
       "LumA    NaN  0.000757  0.000002  0.000003\n",
       "LumB    NaN       NaN  0.028248  0.008006\n",
       "Her2    NaN       NaN       NaN  0.480236\n",
       "Basal   NaN       NaN       NaN       NaN"
      ]
     },
     "metadata": {},
     "output_type": "display_data"
    },
    {
     "data": {
      "image/png": "[encoded data removed]",
      "text/plain": [
       "<Figure size 201.6x172.8 with 1 Axes>"
      ]
     },
     "metadata": {},
     "output_type": "display_data"
    }
   ],
   "source": [
    "## Plot proliferation rate by subtype in Lund\n",
    "## Output Wilcoxon rank-sum p-values instead of using significance bars\n",
    "\n",
    "clinical['Lund'].name = 'Lund'\n",
    "epi_util.saveBoxPlotNew(clinical['Lund'], 'genefu.pam50.subtype', restrict=True,\n",
    "                   var_y='prolif_rate', ylabel='Proliferation rate',\n",
    "                   outdir=figure_outdir, title=True, use_groups = subtype_list,\n",
    "                   palette=consts['palette_jco'], ylim=(-0.03, 1.04), signif_bar_heights=None,\n",
    "                   figsize=figsize, labelfontsize=consts['labelfontsize'], ticksfontsize=consts['ticksfontsize'], sf=sf, linewidth=consts['linewidth'], fliersize=consts['fliersize'])\n",
    "\n",
    "pvalue_tbl = epi_util.getWilcoxonPvalueTable(clinical['Lund'], 'genefu.pam50.subtype', 'prolif_rate', use_groups=subtype_list)\n",
    "print('Wilcoxon rank-sums p-values:')\n",
    "display(pvalue_tbl)"
   ]
  },
  {
   "cell_type": "code",
   "execution_count": 58,
   "id": "2539ebce",
   "metadata": {},
   "outputs": [
    {
     "name": "stderr",
     "output_type": "stream",
     "text": [
      "/Users/danielmonyak/opt/anaconda3/lib/python3.9/site-packages/seaborn/_oldcore.py:1119: FutureWarning: use_inf_as_na option is deprecated and will be removed in a future version. Convert inf values to NaN before operating instead.\n",
      "  with pd.option_context('mode.use_inf_as_na', True):\n",
      "/Users/danielmonyak/opt/anaconda3/lib/python3.9/site-packages/seaborn/_oldcore.py:1119: FutureWarning: use_inf_as_na option is deprecated and will be removed in a future version. Convert inf values to NaN before operating instead.\n",
      "  with pd.option_context('mode.use_inf_as_na', True):\n",
      "/Users/danielmonyak/opt/anaconda3/lib/python3.9/site-packages/seaborn/_oldcore.py:1075: FutureWarning: When grouping with a length-1 list-like, you will need to pass a length-1 tuple to get_group in a future version of pandas. Pass `(name,)` instead of `name` to silence this warning.\n",
      "  data_subset = grouped_data.get_group(pd_key)\n"
     ]
    },
    {
     "data": {
      "image/png": "[encoded data removed]",
      "text/plain": [
       "<Figure size 282.24x207.36 with 1 Axes>"
      ]
     },
     "metadata": {},
     "output_type": "display_data"
    }
   ],
   "source": [
    "## Plot mitotic age distributions in a swarmplot for both cohorts\n",
    "\n",
    "# Format plot data\n",
    "df_ch1 = pd.DataFrame({'mitotic_age':clinical['TCGA'].loc[clinical['TCGA']['in_analysis_dataset'], 'mitotic_age'],\n",
    "                       'Subtype':clinical['TCGA'].loc[clinical['TCGA']['in_analysis_dataset'], 'subtype.pam50'],\n",
    "                       'cohort':'TCGA'}).dropna()\n",
    "df_ch2 = pd.DataFrame({'mitotic_age':clinical['Lund'].loc[clinical['Lund']['in_analysis_dataset'], 'mitotic_age'],\n",
    "                       'Subtype':clinical['Lund'].loc[clinical['Lund']['in_analysis_dataset'], 'genefu.pam50.subtype'],\n",
    "                       'cohort':'Lund'}).dropna()\n",
    "df_combined = pd.concat([df_ch1, df_ch2], axis=0)\n",
    "\n",
    "# Set colors\n",
    "color_list = consts['palette_jco'][:4]\n",
    "color_dict = dict(zip(subtype_list, color_list))\n",
    "\n",
    "# Create plot\n",
    "fig, ax = plt.subplots(figsize=figsize * [1.4, 1.2] * sf)\n",
    "sns.swarmplot(ax=ax, data=df_combined, x='cohort',\n",
    "              y='mitotic_age',\n",
    "              hue='Subtype',\n",
    "              palette=color_dict,\n",
    "              legend=False,\n",
    "             s=12 * sf**2)\n",
    "\n",
    "# Customize figure\n",
    "ax.set_xlabel('')\n",
    "ax.set_ylabel('Mitotic age (generations)', fontsize=consts['labelfontsize'] * sf)\n",
    "ax.set_xticks(ax.get_xticks(),\n",
    "                  [group + f'\\n(n = {(df_combined[\"cohort\"] == group).sum()})'\n",
    "                   for group in ['TCGA', 'Lund']])\n",
    "ax.tick_params(axis='x', labelsize=consts['labelfontsize'] * sf, width=sf, length=8 * sf)\n",
    "ax.tick_params(axis='y', labelsize=consts['ticksfontsize'] * sf, width=sf, length=8 * sf)\n",
    "\n",
    "# Create legend\n",
    "patches = [mpatches.Patch(color=color_dict[group], label=group) for group in color_dict.keys()]\n",
    "plots_x, plots_y = ax.get_position().get_points()[1]\n",
    "fig.legend(handles=patches,\n",
    "           loc='upper right',\n",
    "           bbox_to_anchor=(0.65, plots_y + .005),\n",
    "           fontsize=0.8*consts['labelfontsize'] * sf\n",
    "          )\n",
    "\n",
    "# Save figure\n",
    "fig.savefig(os.path.join(figure_outdir, 'mitotic_age.pdf'), format='pdf', pad_inches=0.1)"
   ]
  },
  {
   "cell_type": "code",
   "execution_count": 59,
   "id": "c60f1e25",
   "metadata": {},
   "outputs": [
    {
     "name": "stderr",
     "output_type": "stream",
     "text": [
      "/Users/danielmonyak/opt/anaconda3/lib/python3.9/site-packages/seaborn/_oldcore.py:1119: FutureWarning: use_inf_as_na option is deprecated and will be removed in a future version. Convert inf values to NaN before operating instead.\n",
      "  with pd.option_context('mode.use_inf_as_na', True):\n",
      "/Users/danielmonyak/opt/anaconda3/lib/python3.9/site-packages/seaborn/_oldcore.py:1119: FutureWarning: use_inf_as_na option is deprecated and will be removed in a future version. Convert inf values to NaN before operating instead.\n",
      "  with pd.option_context('mode.use_inf_as_na', True):\n",
      "/Users/danielmonyak/opt/anaconda3/lib/python3.9/site-packages/seaborn/_oldcore.py:1075: FutureWarning: When grouping with a length-1 list-like, you will need to pass a length-1 tuple to get_group in a future version of pandas. Pass `(name,)` instead of `name` to silence this warning.\n",
      "  data_subset = grouped_data.get_group(pd_key)\n"
     ]
    },
    {
     "data": {
      "image/png": "[encoded data removed]",
      "text/plain": [
       "<Figure size 282.24x207.36 with 1 Axes>"
      ]
     },
     "metadata": {},
     "output_type": "display_data"
    }
   ],
   "source": [
    "## Plot calendar age distributions in a swarmplot for both cohorts\n",
    "\n",
    "# Format plot data\n",
    "df_ch1 = pd.DataFrame({'calendar_age_years':clinical['TCGA'].loc[clinical['TCGA']['in_analysis_dataset'], 'calendar_age_years'],\n",
    "                       'Subtype':clinical['TCGA'].loc[clinical['TCGA']['in_analysis_dataset'], 'subtype.pam50'],\n",
    "                       'cohort':'TCGA'}).dropna()\n",
    "df_ch2 = pd.DataFrame({'calendar_age_years':clinical['Lund'].loc[clinical['Lund']['in_analysis_dataset'], 'calendar_age_years'],\n",
    "                       'Subtype':clinical['Lund'].loc[clinical['Lund']['in_analysis_dataset'], 'genefu.pam50.subtype'],\n",
    "                       'cohort':'Lund'}).dropna()\n",
    "df_combined = pd.concat([df_ch1, df_ch2], axis=0)\n",
    "\n",
    "# Set colors\n",
    "color_list = consts['palette_jco'][:4]\n",
    "color_dict = dict(zip(subtype_list, color_list))\n",
    "\n",
    "# Create plot\n",
    "fig, ax = plt.subplots(figsize=figsize * [1.4, 1.2] * sf)\n",
    "sns.swarmplot(ax=ax, data=df_combined, x='cohort',\n",
    "              y='calendar_age_years',\n",
    "              hue='Subtype',\n",
    "              palette=color_dict,\n",
    "              legend=False,\n",
    "             s=12 * sf**2)\n",
    "\n",
    "# Customize figure\n",
    "ax.set_xlabel('')\n",
    "ax.set_ylabel('Calendar age (years)', fontsize=consts['labelfontsize'] * sf)\n",
    "ax.set_xticks(ax.get_xticks(),\n",
    "                  [group + f'\\n(n = {(df_combined[\"cohort\"] == group).sum()})'\n",
    "                   for group in ['TCGA', 'Lund']])\n",
    "ax.tick_params(axis='x', labelsize=consts['labelfontsize'] * sf, width=sf, length=8 * sf)\n",
    "ax.tick_params(axis='y', labelsize=consts['ticksfontsize'] * sf, width=sf, length=8 * sf)\n",
    "\n",
    "# Create legend\n",
    "patches = [mpatches.Patch(color=color_dict[group], label=group) for group in color_dict.keys()]\n",
    "plots_x, plots_y = ax.get_position().get_points()[1]\n",
    "fig.legend(handles=patches,\n",
    "           loc='upper right',\n",
    "           bbox_to_anchor=(0.65, plots_y + .005),\n",
    "           fontsize=0.8*consts['labelfontsize'] * sf\n",
    "          )\n",
    "\n",
    "# Save figure\n",
    "fig.savefig(os.path.join(figure_outdir, 'calendar_age.pdf'), format='pdf', pad_inches=0.1)"
   ]
  },
  {
   "cell_type": "markdown",
   "id": "d23a4408",
   "metadata": {},
   "source": [
    "## Create statistics tables"
   ]
  },
  {
   "cell_type": "code",
   "execution_count": 60,
   "id": "fe689f1d",
   "metadata": {},
   "outputs": [
    {
     "data": {
      "text/html": [
       "<div>\n",
       "<style scoped>\n",
       "    .dataframe tbody tr th:only-of-type {\n",
       "        vertical-align: middle;\n",
       "    }\n",
       "\n",
       "    .dataframe tbody tr th {\n",
       "        vertical-align: top;\n",
       "    }\n",
       "\n",
       "    .dataframe thead th {\n",
       "        text-align: right;\n",
       "    }\n",
       "</style>\n",
       "<table border=\"1\" class=\"dataframe\">\n",
       "  <thead>\n",
       "    <tr style=\"text-align: right;\">\n",
       "      <th></th>\n",
       "      <th>$c_β$</th>\n",
       "      <th>Mitotic age (Generations)</th>\n",
       "      <th>Calendar age (Years)</th>\n",
       "    </tr>\n",
       "    <tr>\n",
       "      <th></th>\n",
       "      <th></th>\n",
       "      <th></th>\n",
       "      <th></th>\n",
       "    </tr>\n",
       "  </thead>\n",
       "  <tbody>\n",
       "    <tr>\n",
       "      <th>LumA</th>\n",
       "      <td>0.83 (0.79, 0.86)</td>\n",
       "      <td>171.33 (130.16, 224.99)</td>\n",
       "      <td>6.53 (4.37, 9.65)</td>\n",
       "    </tr>\n",
       "    <tr>\n",
       "      <th>LumB</th>\n",
       "      <td>0.8 (0.77, 0.82)</td>\n",
       "      <td>138.35 (100.57, 165.26)</td>\n",
       "      <td>2.41 (1.75, 3.39)</td>\n",
       "    </tr>\n",
       "    <tr>\n",
       "      <th>Her2</th>\n",
       "      <td>0.82 (0.79, 0.84)</td>\n",
       "      <td>163.22 (126.66, 195.04)</td>\n",
       "      <td>2.48 (1.47, 3.39)</td>\n",
       "    </tr>\n",
       "    <tr>\n",
       "      <th>Basal</th>\n",
       "      <td>0.79 (0.76, 0.83)</td>\n",
       "      <td>137.79 (97.34, 175.39)</td>\n",
       "      <td>1.12 (0.73, 1.63)</td>\n",
       "    </tr>\n",
       "    <tr>\n",
       "      <th>Total</th>\n",
       "      <td>0.81 (0.78, 0.84)</td>\n",
       "      <td>151.38 (115.04, 193.93)</td>\n",
       "      <td>3.0 (1.65, 5.46)</td>\n",
       "    </tr>\n",
       "  </tbody>\n",
       "</table>\n",
       "</div>"
      ],
      "text/plain": [
       "                   $c_β$ Mitotic age (Generations) Calendar age (Years)\n",
       "                                                                       \n",
       "LumA   0.83 (0.79, 0.86)   171.33 (130.16, 224.99)    6.53 (4.37, 9.65)\n",
       "LumB    0.8 (0.77, 0.82)   138.35 (100.57, 165.26)    2.41 (1.75, 3.39)\n",
       "Her2   0.82 (0.79, 0.84)   163.22 (126.66, 195.04)    2.48 (1.47, 3.39)\n",
       "Basal  0.79 (0.76, 0.83)    137.79 (97.34, 175.39)    1.12 (0.73, 1.63)\n",
       "Total  0.81 (0.78, 0.84)   151.38 (115.04, 193.93)     3.0 (1.65, 5.46)"
      ]
     },
     "metadata": {},
     "output_type": "display_data"
    }
   ],
   "source": [
    "## Returns a Series with the median and IQR of some metric\n",
    "## Stratified by subtype\n",
    "def subtypeQuartileSer(sample_annotations, metric, label=None):\n",
    "    sample_annotations = sample_annotations.loc[sample_annotations['in_analysis_dataset']]\n",
    "    if label is None:\n",
    "        label = metric\n",
    "    \n",
    "    qrt_func = lambda x:x.quantile([0.25, 0.5, 0.75])\n",
    "    quartile_df = sample_annotations.groupby('subtype')[metric].apply(qrt_func).unstack().loc[subtype_list]\n",
    "    quartile_df = pd.concat([quartile_df, sample_annotations[metric].agg(qrt_func).rename('Total').to_frame().T], axis=0)\n",
    "    quartile_df = np.round(quartile_df, 2)\n",
    "\n",
    "    quartile_df = quartile_df.astype(str)\n",
    "    summary_ser = quartile_df[0.50] + ' (' + quartile_df[0.25] + ', ' + quartile_df[0.75] + ')'\n",
    "    return summary_ser.rename(label)\n",
    "\n",
    "# Combined cohort\n",
    "combined_df = pd.concat([clinical['TCGA'], clinical['Lund']], axis=0)\n",
    "\n",
    "# Combine tables for 3 different metrics\n",
    "quart_summary_df = pd.concat([\n",
    "    subtypeQuartileSer(combined_df, 'c_beta', '$c_β$'),\n",
    "    subtypeQuartileSer(combined_df, 'mitotic_age', 'Mitotic age (Generations)'),\n",
    "    subtypeQuartileSer(combined_df, 'calendar_age_years', 'Calendar age (Years)')\n",
    "], axis=1)\n",
    "quart_summary_df.index.name = ''\n",
    "display(quart_summary_df)"
   ]
  },
  {
   "cell_type": "code",
   "execution_count": 142,
   "id": "77af45d9",
   "metadata": {},
   "outputs": [
    {
     "name": "stderr",
     "output_type": "stream",
     "text": [
      "/var/folders/m9/kv2y3r0s0p1_cl3s3py1wprh0000gn/T/ipykernel_80583/908962245.py:10: FutureWarning: DataFrame.applymap has been deprecated. Use DataFrame.map instead.\n",
      "  subtype_pvalue_df = subtype_pvalue_df.applymap(format_func).fillna('')\n"
     ]
    },
    {
     "data": {
      "text/html": [
       "<div>\n",
       "<style scoped>\n",
       "    .dataframe tbody tr th:only-of-type {\n",
       "        vertical-align: middle;\n",
       "    }\n",
       "\n",
       "    .dataframe tbody tr th {\n",
       "        vertical-align: top;\n",
       "    }\n",
       "\n",
       "    .dataframe thead th {\n",
       "        text-align: right;\n",
       "    }\n",
       "</style>\n",
       "<table border=\"1\" class=\"dataframe\">\n",
       "  <thead>\n",
       "    <tr style=\"text-align: right;\">\n",
       "      <th></th>\n",
       "      <th>LumB</th>\n",
       "      <th>Her2</th>\n",
       "      <th>Basal</th>\n",
       "    </tr>\n",
       "    <tr>\n",
       "      <th>Mitotic Age</th>\n",
       "      <th></th>\n",
       "      <th></th>\n",
       "      <th></th>\n",
       "    </tr>\n",
       "  </thead>\n",
       "  <tbody>\n",
       "    <tr>\n",
       "      <th>LumA</th>\n",
       "      <td>3e-08</td>\n",
       "      <td>2e-01</td>\n",
       "      <td>2e-06</td>\n",
       "    </tr>\n",
       "    <tr>\n",
       "      <th>LumB</th>\n",
       "      <td></td>\n",
       "      <td>2e-03</td>\n",
       "      <td>9e-01</td>\n",
       "    </tr>\n",
       "    <tr>\n",
       "      <th>Her2</th>\n",
       "      <td></td>\n",
       "      <td></td>\n",
       "      <td>5e-03</td>\n",
       "    </tr>\n",
       "  </tbody>\n",
       "</table>\n",
       "</div>"
      ],
      "text/plain": [
       "              LumB   Her2  Basal\n",
       "Mitotic Age                     \n",
       "LumA         3e-08  2e-01  2e-06\n",
       "LumB                2e-03  9e-01\n",
       "Her2                       5e-03"
      ]
     },
     "execution_count": 142,
     "metadata": {},
     "output_type": "execute_result"
    }
   ],
   "source": [
    "## Calculate p-values of Wilcoxon rank-sums test of the mitotic age between different subtypes\n",
    "## In combined cohort\n",
    "\n",
    "subtype_pvalue_df = epi_util.getWilcoxonPvalueTable(combined_df, var_cat='subtype', var_y='mitotic_age', use_groups=subtype_list)\n",
    "subtype_pvalue_df = subtype_pvalue_df.dropna(axis=0, how='all').dropna(axis=1, how='all').fillna(0)\n",
    "def format_func(x):\n",
    "    if x == 0:\n",
    "        return ''\n",
    "    return f'{x:.0e}'\n",
    "subtype_pvalue_df = subtype_pvalue_df.applymap(format_func).fillna('')\n",
    "subtype_pvalue_df.index.name = 'Mitotic Age'\n",
    "subtype_pvalue_df"
   ]
  },
  {
   "cell_type": "code",
   "execution_count": 143,
   "id": "c36b1351",
   "metadata": {},
   "outputs": [
    {
     "name": "stderr",
     "output_type": "stream",
     "text": [
      "/Users/danielmonyak/opt/anaconda3/lib/python3.9/site-packages/docx/styles/styles.py:130: UserWarning: style lookup by style_id is deprecated. Use style name as key instead.\n",
      "  return self._get_style_id_from_style(self[style_name], style_type)\n"
     ]
    }
   ],
   "source": [
    "## Output statistics tables to a word doc\n",
    "\n",
    "import docx\n",
    "\n",
    "def appendTable(doc, df):\n",
    "    t = doc.add_table(df.shape[0]+1, df.shape[1]+1)\n",
    "\n",
    "    t.cell(0, 0).text = df.index.name\n",
    "    \n",
    "    for i in range(df.shape[0]):\n",
    "        t.cell(i+1, 0).text = df.index[i]\n",
    "\n",
    "    for j in range(df.shape[1]):\n",
    "        t.cell(0, j+1).text = df.columns[j]\n",
    "\n",
    "    # add the rest of the data frame\n",
    "    for i in range(df.shape[0]):\n",
    "        for j in range(df.shape[1]):\n",
    "            t.cell(i+1, j+1).text = df.values[i, j]\n",
    "    \n",
    "    t.style = 'TableGrid'\n",
    "\n",
    "doc = docx.Document()\n",
    "\n",
    "appendTable(doc, quart_summary_df)\n",
    "doc.add_paragraph()\n",
    "appendTable(doc, subtype_pvalue_df)\n",
    "\n",
    "# save the doc\n",
    "doc.save('./age_tables.docx')"
   ]
  }
 ],
 "metadata": {
  "kernelspec": {
   "display_name": "Python 3 (ipykernel)",
   "language": "python",
   "name": "python3"
  },
  "language_info": {
   "codemirror_mode": {
    "name": "ipython",
    "version": 3
   },
   "file_extension": ".py",
   "mimetype": "text/x-python",
   "name": "python",
   "nbconvert_exporter": "python",
   "pygments_lexer": "ipython3",
   "version": "3.9.19"
  }
 },
 "nbformat": 4,
 "nbformat_minor": 5
}
