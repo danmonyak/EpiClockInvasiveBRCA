{
 "cells": [
  {
   "cell_type": "markdown",
   "id": "c43d953e-0fd5-4d22-80ff-4d31c2418828",
   "metadata": {},
   "source": [
    "# Select fCpGs\n",
    "\n",
    "Run all cells to:\n",
    "- Import TCGA and normal samples methylation data\n",
    "- Select Clock (fCpG) sites and save\n",
    "- Refine final list of tumors and save\n",
    "- Calculate $c_\\beta$ values and save\n",
    "- Save beta values of Clock sites separately\n",
    "- Generate figures relating to this site selection\n",
    "- Calculate some statistics"
   ]
  },
  {
   "cell_type": "code",
   "execution_count": 1,
   "id": "1e1c4b14",
   "metadata": {},
   "outputs": [],
   "source": [
    "import pandas as pd\n",
    "import numpy as np\n",
    "import os\n",
    "import sys\n",
    "import seaborn as sns \n",
    "import matplotlib.pyplot as plt\n",
    "import matplotlib.patches as mpatches\n",
    "from scipy.stats import linregress\n",
    "import EpiClockInvasiveBRCA.src.util as epi_util\n",
    "consts = epi_util.consts\n",
    "import util as local_util"
   ]
  },
  {
   "cell_type": "code",
   "execution_count": null,
   "id": "7f6af29b-c389-4ad7-bc99-cd50380be63f",
   "metadata": {},
   "outputs": [],
   "source": [
    "## Output directories\n",
    "\n",
    "figure_outdir = 'figures'\n",
    "output_dir = 'outputs'\n",
    "\n",
    "os.makedirs(figure_outdir, exist_ok=True)\n",
    "os.makedirs(output_dir, exist_ok=True)"
   ]
  },
  {
   "cell_type": "code",
   "execution_count": 5,
   "id": "8a56961d",
   "metadata": {},
   "outputs": [],
   "source": [
    "## Import data\n",
    "\n",
    "# Returns list of \"neutral\" CpGs based on 450k and 850k array annotations\n",
    "neutral_DNA_CpG_list = local_util.getNeutralDNACpGs()\n",
    "\n",
    "# Import TCGA and normals data\n",
    "data = local_util.getDataDict()"
   ]
  },
  {
   "cell_type": "markdown",
   "id": "9e20a1a3-27e9-4fb8-951d-7a0a808795ae",
   "metadata": {},
   "source": [
    "## Select 500 CpGs"
   ]
  },
  {
   "cell_type": "code",
   "execution_count": 19,
   "id": "bf040d03-0252-46f5-bc99-38d430adc1f3",
   "metadata": {},
   "outputs": [
    {
     "name": "stdout",
     "output_type": "stream",
     "text": [
      "Selecting CpGs with 634 TCGA tumors and 79 normal samples\n"
     ]
    },
    {
     "ename": "KeyboardInterrupt",
     "evalue": "",
     "output_type": "error",
     "traceback": [
      "\u001b[0;31m---------------------------------------------------------------------------\u001b[0m",
      "\u001b[0;31mKeyboardInterrupt\u001b[0m                         Traceback (most recent call last)",
      "\u001b[0;32m/var/folders/m9/kv2y3r0s0p1_cl3s3py1wprh0000gn/T/ipykernel_25618/3658774555.py\u001b[0m in \u001b[0;36m<module>\u001b[0;34m\u001b[0m\n\u001b[0;32m----> 1\u001b[0;31m \u001b[0mClock_CpGs_final_set\u001b[0m \u001b[0;34m=\u001b[0m \u001b[0mlocal_util\u001b[0m\u001b[0;34m.\u001b[0m\u001b[0mgen_CpG_set\u001b[0m\u001b[0;34m(\u001b[0m\u001b[0mdata\u001b[0m\u001b[0;34m,\u001b[0m \u001b[0mneutral_DNA_CpG_list\u001b[0m\u001b[0;34m)\u001b[0m\u001b[0;34m\u001b[0m\u001b[0;34m\u001b[0m\u001b[0m\n\u001b[0m\u001b[1;32m      2\u001b[0m \u001b[0;34m\u001b[0m\u001b[0m\n\u001b[1;32m      3\u001b[0m \u001b[0mClock_CpGs_filepath\u001b[0m \u001b[0;34m=\u001b[0m \u001b[0mos\u001b[0m\u001b[0;34m.\u001b[0m\u001b[0mpath\u001b[0m\u001b[0;34m.\u001b[0m\u001b[0mjoin\u001b[0m\u001b[0;34m(\u001b[0m\u001b[0moutput_dir\u001b[0m\u001b[0;34m,\u001b[0m \u001b[0;34m'Clock_CpGs.txt'\u001b[0m\u001b[0;34m)\u001b[0m\u001b[0;34m\u001b[0m\u001b[0;34m\u001b[0m\u001b[0m\n\u001b[1;32m      4\u001b[0m \u001b[0;32mif\u001b[0m \u001b[0mos\u001b[0m\u001b[0;34m.\u001b[0m\u001b[0mpath\u001b[0m\u001b[0;34m.\u001b[0m\u001b[0mexists\u001b[0m\u001b[0;34m(\u001b[0m\u001b[0mClock_CpGs_filepath\u001b[0m\u001b[0;34m)\u001b[0m\u001b[0;34m:\u001b[0m\u001b[0;34m\u001b[0m\u001b[0;34m\u001b[0m\u001b[0m\n\u001b[1;32m      5\u001b[0m     \u001b[0mexisting_set\u001b[0m \u001b[0;34m=\u001b[0m \u001b[0mnp\u001b[0m\u001b[0;34m.\u001b[0m\u001b[0mloadtxt\u001b[0m\u001b[0;34m(\u001b[0m\u001b[0mClock_CpGs_filepath\u001b[0m\u001b[0;34m,\u001b[0m \u001b[0mdtype\u001b[0m\u001b[0;34m=\u001b[0m\u001b[0mstr\u001b[0m\u001b[0;34m)\u001b[0m\u001b[0;34m\u001b[0m\u001b[0;34m\u001b[0m\u001b[0m\n",
      "\u001b[0;32m~/Documents/Duke/lab/EpiClockInvasiveBRCA/3. Select fCpGs/util.py\u001b[0m in \u001b[0;36mgen_CpG_set\u001b[0;34m(data, neutral_DNA_CpG_list, n_select)\u001b[0m\n\u001b[1;32m    208\u001b[0m \u001b[0;34m\u001b[0m\u001b[0m\n\u001b[1;32m    209\u001b[0m     \u001b[0;31m# Add beta_means, beta_stds, beta_nans to data dict\u001b[0m\u001b[0;34m\u001b[0m\u001b[0;34m\u001b[0m\u001b[0m\n\u001b[0;32m--> 210\u001b[0;31m     \u001b[0maddMeanStdsNans\u001b[0m\u001b[0;34m(\u001b[0m\u001b[0mdata\u001b[0m\u001b[0;34m)\u001b[0m\u001b[0;34m\u001b[0m\u001b[0;34m\u001b[0m\u001b[0m\n\u001b[0m\u001b[1;32m    211\u001b[0m \u001b[0;34m\u001b[0m\u001b[0m\n\u001b[1;32m    212\u001b[0m     \u001b[0;32mif\u001b[0m \u001b[0;34m'allCpGs'\u001b[0m \u001b[0;32mnot\u001b[0m \u001b[0;32min\u001b[0m \u001b[0mdata\u001b[0m\u001b[0;34m:\u001b[0m\u001b[0;34m\u001b[0m\u001b[0;34m\u001b[0m\u001b[0m\n",
      "\u001b[0;32m~/Documents/Duke/lab/EpiClockInvasiveBRCA/3. Select fCpGs/util.py\u001b[0m in \u001b[0;36maddMeanStdsNans\u001b[0;34m(data)\u001b[0m\n\u001b[1;32m    140\u001b[0m \u001b[0;34m\u001b[0m\u001b[0m\n\u001b[1;32m    141\u001b[0m         \u001b[0mdata\u001b[0m\u001b[0;34m[\u001b[0m\u001b[0mcohort\u001b[0m\u001b[0;34m]\u001b[0m\u001b[0;34m[\u001b[0m\u001b[0;34m'beta_means'\u001b[0m\u001b[0;34m]\u001b[0m \u001b[0;34m=\u001b[0m \u001b[0mdata\u001b[0m\u001b[0;34m[\u001b[0m\u001b[0mcohort\u001b[0m\u001b[0;34m]\u001b[0m\u001b[0;34m[\u001b[0m\u001b[0;34m'beta_values_SELECTION'\u001b[0m\u001b[0;34m]\u001b[0m\u001b[0;34m.\u001b[0m\u001b[0mmean\u001b[0m\u001b[0;34m(\u001b[0m\u001b[0maxis\u001b[0m\u001b[0;34m=\u001b[0m\u001b[0;36m1\u001b[0m\u001b[0;34m)\u001b[0m\u001b[0;34m\u001b[0m\u001b[0;34m\u001b[0m\u001b[0m\n\u001b[0;32m--> 142\u001b[0;31m         \u001b[0mdata\u001b[0m\u001b[0;34m[\u001b[0m\u001b[0mcohort\u001b[0m\u001b[0;34m]\u001b[0m\u001b[0;34m[\u001b[0m\u001b[0;34m'beta_stds'\u001b[0m\u001b[0;34m]\u001b[0m \u001b[0;34m=\u001b[0m \u001b[0mdata\u001b[0m\u001b[0;34m[\u001b[0m\u001b[0mcohort\u001b[0m\u001b[0;34m]\u001b[0m\u001b[0;34m[\u001b[0m\u001b[0;34m'beta_values_SELECTION'\u001b[0m\u001b[0;34m]\u001b[0m\u001b[0;34m.\u001b[0m\u001b[0mstd\u001b[0m\u001b[0;34m(\u001b[0m\u001b[0maxis\u001b[0m\u001b[0;34m=\u001b[0m\u001b[0;36m1\u001b[0m\u001b[0;34m)\u001b[0m\u001b[0;34m\u001b[0m\u001b[0;34m\u001b[0m\u001b[0m\n\u001b[0m\u001b[1;32m    143\u001b[0m         \u001b[0mdata\u001b[0m\u001b[0;34m[\u001b[0m\u001b[0mcohort\u001b[0m\u001b[0;34m]\u001b[0m\u001b[0;34m[\u001b[0m\u001b[0;34m'beta_nans'\u001b[0m\u001b[0;34m]\u001b[0m \u001b[0;34m=\u001b[0m \u001b[0mdata\u001b[0m\u001b[0;34m[\u001b[0m\u001b[0mcohort\u001b[0m\u001b[0;34m]\u001b[0m\u001b[0;34m[\u001b[0m\u001b[0;34m'beta_values_SELECTION'\u001b[0m\u001b[0;34m]\u001b[0m\u001b[0;34m.\u001b[0m\u001b[0misna\u001b[0m\u001b[0;34m(\u001b[0m\u001b[0;34m)\u001b[0m\u001b[0;34m.\u001b[0m\u001b[0msum\u001b[0m\u001b[0;34m(\u001b[0m\u001b[0maxis\u001b[0m\u001b[0;34m=\u001b[0m\u001b[0;36m1\u001b[0m\u001b[0;34m)\u001b[0m\u001b[0;34m\u001b[0m\u001b[0;34m\u001b[0m\u001b[0m\n\u001b[1;32m    144\u001b[0m \u001b[0;34m\u001b[0m\u001b[0m\n",
      "\u001b[0;32m~/opt/anaconda3/lib/python3.9/site-packages/pandas/core/generic.py\u001b[0m in \u001b[0;36mstd\u001b[0;34m(self, axis, skipna, level, ddof, numeric_only, **kwargs)\u001b[0m\n\u001b[1;32m  11715\u001b[0m             \u001b[0;34m**\u001b[0m\u001b[0mkwargs\u001b[0m\u001b[0;34m,\u001b[0m\u001b[0;34m\u001b[0m\u001b[0;34m\u001b[0m\u001b[0m\n\u001b[1;32m  11716\u001b[0m         ):\n\u001b[0;32m> 11717\u001b[0;31m             \u001b[0;32mreturn\u001b[0m \u001b[0mNDFrame\u001b[0m\u001b[0;34m.\u001b[0m\u001b[0mstd\u001b[0m\u001b[0;34m(\u001b[0m\u001b[0mself\u001b[0m\u001b[0;34m,\u001b[0m \u001b[0maxis\u001b[0m\u001b[0;34m,\u001b[0m \u001b[0mskipna\u001b[0m\u001b[0;34m,\u001b[0m \u001b[0mlevel\u001b[0m\u001b[0;34m,\u001b[0m \u001b[0mddof\u001b[0m\u001b[0;34m,\u001b[0m \u001b[0mnumeric_only\u001b[0m\u001b[0;34m,\u001b[0m \u001b[0;34m**\u001b[0m\u001b[0mkwargs\u001b[0m\u001b[0;34m)\u001b[0m\u001b[0;34m\u001b[0m\u001b[0;34m\u001b[0m\u001b[0m\n\u001b[0m\u001b[1;32m  11718\u001b[0m \u001b[0;34m\u001b[0m\u001b[0m\n\u001b[1;32m  11719\u001b[0m         \u001b[0msetattr\u001b[0m\u001b[0;34m(\u001b[0m\u001b[0mcls\u001b[0m\u001b[0;34m,\u001b[0m \u001b[0;34m\"std\"\u001b[0m\u001b[0;34m,\u001b[0m \u001b[0mstd\u001b[0m\u001b[0;34m)\u001b[0m\u001b[0;34m\u001b[0m\u001b[0;34m\u001b[0m\u001b[0m\n",
      "\u001b[0;32m~/opt/anaconda3/lib/python3.9/site-packages/pandas/core/generic.py\u001b[0m in \u001b[0;36mstd\u001b[0;34m(self, axis, skipna, level, ddof, numeric_only, **kwargs)\u001b[0m\n\u001b[1;32m  11303\u001b[0m         \u001b[0;34m**\u001b[0m\u001b[0mkwargs\u001b[0m\u001b[0;34m,\u001b[0m\u001b[0;34m\u001b[0m\u001b[0;34m\u001b[0m\u001b[0m\n\u001b[1;32m  11304\u001b[0m     ) -> Series | float:\n\u001b[0;32m> 11305\u001b[0;31m         return self._stat_function_ddof(\n\u001b[0m\u001b[1;32m  11306\u001b[0m             \u001b[0;34m\"std\"\u001b[0m\u001b[0;34m,\u001b[0m \u001b[0mnanops\u001b[0m\u001b[0;34m.\u001b[0m\u001b[0mnanstd\u001b[0m\u001b[0;34m,\u001b[0m \u001b[0maxis\u001b[0m\u001b[0;34m,\u001b[0m \u001b[0mskipna\u001b[0m\u001b[0;34m,\u001b[0m \u001b[0mlevel\u001b[0m\u001b[0;34m,\u001b[0m \u001b[0mddof\u001b[0m\u001b[0;34m,\u001b[0m \u001b[0mnumeric_only\u001b[0m\u001b[0;34m,\u001b[0m \u001b[0;34m**\u001b[0m\u001b[0mkwargs\u001b[0m\u001b[0;34m\u001b[0m\u001b[0;34m\u001b[0m\u001b[0m\n\u001b[1;32m  11307\u001b[0m         )\n",
      "\u001b[0;32m~/opt/anaconda3/lib/python3.9/site-packages/pandas/core/generic.py\u001b[0m in \u001b[0;36m_stat_function_ddof\u001b[0;34m(self, name, func, axis, skipna, level, ddof, numeric_only, **kwargs)\u001b[0m\n\u001b[1;32m  11264\u001b[0m                 \u001b[0mname\u001b[0m\u001b[0;34m,\u001b[0m \u001b[0maxis\u001b[0m\u001b[0;34m=\u001b[0m\u001b[0maxis\u001b[0m\u001b[0;34m,\u001b[0m \u001b[0mlevel\u001b[0m\u001b[0;34m=\u001b[0m\u001b[0mlevel\u001b[0m\u001b[0;34m,\u001b[0m \u001b[0mskipna\u001b[0m\u001b[0;34m=\u001b[0m\u001b[0mskipna\u001b[0m\u001b[0;34m,\u001b[0m \u001b[0mddof\u001b[0m\u001b[0;34m=\u001b[0m\u001b[0mddof\u001b[0m\u001b[0;34m\u001b[0m\u001b[0;34m\u001b[0m\u001b[0m\n\u001b[1;32m  11265\u001b[0m             )\n\u001b[0;32m> 11266\u001b[0;31m         return self._reduce(\n\u001b[0m\u001b[1;32m  11267\u001b[0m             \u001b[0mfunc\u001b[0m\u001b[0;34m,\u001b[0m \u001b[0mname\u001b[0m\u001b[0;34m,\u001b[0m \u001b[0maxis\u001b[0m\u001b[0;34m=\u001b[0m\u001b[0maxis\u001b[0m\u001b[0;34m,\u001b[0m \u001b[0mnumeric_only\u001b[0m\u001b[0;34m=\u001b[0m\u001b[0mnumeric_only\u001b[0m\u001b[0;34m,\u001b[0m \u001b[0mskipna\u001b[0m\u001b[0;34m=\u001b[0m\u001b[0mskipna\u001b[0m\u001b[0;34m,\u001b[0m \u001b[0mddof\u001b[0m\u001b[0;34m=\u001b[0m\u001b[0mddof\u001b[0m\u001b[0;34m\u001b[0m\u001b[0;34m\u001b[0m\u001b[0m\n\u001b[1;32m  11268\u001b[0m         )\n",
      "\u001b[0;32m~/opt/anaconda3/lib/python3.9/site-packages/pandas/core/frame.py\u001b[0m in \u001b[0;36m_reduce\u001b[0;34m(self, op, name, axis, skipna, numeric_only, filter_type, **kwds)\u001b[0m\n\u001b[1;32m  10877\u001b[0m \u001b[0;34m\u001b[0m\u001b[0m\n\u001b[1;32m  10878\u001b[0m         \u001b[0;32mtry\u001b[0m\u001b[0;34m:\u001b[0m\u001b[0;34m\u001b[0m\u001b[0;34m\u001b[0m\u001b[0m\n\u001b[0;32m> 10879\u001b[0;31m             \u001b[0mresult\u001b[0m \u001b[0;34m=\u001b[0m \u001b[0mfunc\u001b[0m\u001b[0;34m(\u001b[0m\u001b[0mvalues\u001b[0m\u001b[0;34m)\u001b[0m\u001b[0;34m\u001b[0m\u001b[0;34m\u001b[0m\u001b[0m\n\u001b[0m\u001b[1;32m  10880\u001b[0m \u001b[0;34m\u001b[0m\u001b[0m\n\u001b[1;32m  10881\u001b[0m         \u001b[0;32mexcept\u001b[0m \u001b[0mTypeError\u001b[0m\u001b[0;34m:\u001b[0m\u001b[0;34m\u001b[0m\u001b[0;34m\u001b[0m\u001b[0m\n",
      "\u001b[0;32m~/opt/anaconda3/lib/python3.9/site-packages/pandas/core/frame.py\u001b[0m in \u001b[0;36mfunc\u001b[0;34m(values)\u001b[0m\n\u001b[1;32m  10815\u001b[0m         \u001b[0;32mdef\u001b[0m \u001b[0mfunc\u001b[0m\u001b[0;34m(\u001b[0m\u001b[0mvalues\u001b[0m\u001b[0;34m:\u001b[0m \u001b[0mnp\u001b[0m\u001b[0;34m.\u001b[0m\u001b[0mndarray\u001b[0m\u001b[0;34m)\u001b[0m\u001b[0;34m:\u001b[0m\u001b[0;34m\u001b[0m\u001b[0;34m\u001b[0m\u001b[0m\n\u001b[1;32m  10816\u001b[0m             \u001b[0;31m# We only use this in the case that operates on self.values\u001b[0m\u001b[0;34m\u001b[0m\u001b[0;34m\u001b[0m\u001b[0m\n\u001b[0;32m> 10817\u001b[0;31m             \u001b[0;32mreturn\u001b[0m \u001b[0mop\u001b[0m\u001b[0;34m(\u001b[0m\u001b[0mvalues\u001b[0m\u001b[0;34m,\u001b[0m \u001b[0maxis\u001b[0m\u001b[0;34m=\u001b[0m\u001b[0maxis\u001b[0m\u001b[0;34m,\u001b[0m \u001b[0mskipna\u001b[0m\u001b[0;34m=\u001b[0m\u001b[0mskipna\u001b[0m\u001b[0;34m,\u001b[0m \u001b[0;34m**\u001b[0m\u001b[0mkwds\u001b[0m\u001b[0;34m)\u001b[0m\u001b[0;34m\u001b[0m\u001b[0;34m\u001b[0m\u001b[0m\n\u001b[0m\u001b[1;32m  10818\u001b[0m \u001b[0;34m\u001b[0m\u001b[0m\n\u001b[1;32m  10819\u001b[0m         \u001b[0;32mdef\u001b[0m \u001b[0mblk_func\u001b[0m\u001b[0;34m(\u001b[0m\u001b[0mvalues\u001b[0m\u001b[0;34m,\u001b[0m \u001b[0maxis\u001b[0m\u001b[0;34m=\u001b[0m\u001b[0;36m1\u001b[0m\u001b[0;34m)\u001b[0m\u001b[0;34m:\u001b[0m\u001b[0;34m\u001b[0m\u001b[0;34m\u001b[0m\u001b[0m\n",
      "\u001b[0;32m~/opt/anaconda3/lib/python3.9/site-packages/pandas/core/nanops.py\u001b[0m in \u001b[0;36mf\u001b[0;34m(values, axis, skipna, **kwds)\u001b[0m\n\u001b[1;32m    144\u001b[0m                     \u001b[0;31m#  TypeError if called\u001b[0m\u001b[0;34m\u001b[0m\u001b[0;34m\u001b[0m\u001b[0m\n\u001b[1;32m    145\u001b[0m                     \u001b[0mkwds\u001b[0m\u001b[0;34m.\u001b[0m\u001b[0mpop\u001b[0m\u001b[0;34m(\u001b[0m\u001b[0;34m\"mask\"\u001b[0m\u001b[0;34m,\u001b[0m \u001b[0;32mNone\u001b[0m\u001b[0;34m)\u001b[0m\u001b[0;34m\u001b[0m\u001b[0;34m\u001b[0m\u001b[0m\n\u001b[0;32m--> 146\u001b[0;31m                     \u001b[0mresult\u001b[0m \u001b[0;34m=\u001b[0m \u001b[0mbn_func\u001b[0m\u001b[0;34m(\u001b[0m\u001b[0mvalues\u001b[0m\u001b[0;34m,\u001b[0m \u001b[0maxis\u001b[0m\u001b[0;34m=\u001b[0m\u001b[0maxis\u001b[0m\u001b[0;34m,\u001b[0m \u001b[0;34m**\u001b[0m\u001b[0mkwds\u001b[0m\u001b[0;34m)\u001b[0m\u001b[0;34m\u001b[0m\u001b[0;34m\u001b[0m\u001b[0m\n\u001b[0m\u001b[1;32m    147\u001b[0m \u001b[0;34m\u001b[0m\u001b[0m\n\u001b[1;32m    148\u001b[0m                     \u001b[0;31m# prefer to treat inf/-inf as NA, but must compute the func\u001b[0m\u001b[0;34m\u001b[0m\u001b[0;34m\u001b[0m\u001b[0m\n",
      "\u001b[0;31mKeyboardInterrupt\u001b[0m: "
     ]
    }
   ],
   "source": [
    "# Return the Clock set of CpGs\n",
    "Clock_CpGs_final_set = local_util.gen_CpG_set(data, neutral_DNA_CpG_list)\n",
    "\n",
    "# Outfile path\n",
    "Clock_CpGs_filepath = os.path.join(output_dir, 'Clock_CpGs.txt')\n",
    "\n",
    "# Save Clock sites, don't overwrite existing file\n",
    "if os.path.exists(Clock_CpGs_filepath):\n",
    "    existing_set = np.loadtxt(Clock_CpGs_filepath, dtype=str)\n",
    "    assert (np.sort(Clock_CpGs_final_set) == np.sort(existing_set)).all()\n",
    "    print('Current output matches existing file.')\n",
    "else:\n",
    "    np.savetxt(Clock_CpGs_filepath, Clock_CpGs_final_set, fmt='%s')"
   ]
  },
  {
   "cell_type": "markdown",
   "id": "a768f509",
   "metadata": {},
   "source": [
    "## Remove tumors for too many missing Clock beta values"
   ]
  },
  {
   "cell_type": "code",
   "execution_count": 7,
   "id": "de1733c0-77a3-481f-87a5-859610bfc060",
   "metadata": {},
   "outputs": [
    {
     "name": "stdout",
     "output_type": "stream",
     "text": [
      "10 tumors were filtered for having >=5% missing values for the 500 selected sites.\n",
      "624 tumors left\n"
     ]
    }
   ],
   "source": [
    "final_sample_set = data['tumor']['beta_values'].columns[data['tumor']['beta_values'].loc[Clock_CpGs_final_set].isna().mean(axis=0) < 0.05]\n",
    "\n",
    "# Count difference in # tumors\n",
    "n_before = data['tumor']['beta_values'].shape[1]\n",
    "n_after = final_sample_set.shape[0]\n",
    "\n",
    "print(f'{n_before - n_after} tumors were filtered for having >=5% missing values for the 500 selected sites.')\n",
    "print(f'{n_after} tumors left')"
   ]
  },
  {
   "cell_type": "markdown",
   "id": "4b9c985c",
   "metadata": {},
   "source": [
    "## Calculate $c_\\beta$ values"
   ]
  },
  {
   "cell_type": "code",
   "execution_count": 8,
   "id": "ed744325",
   "metadata": {},
   "outputs": [],
   "source": [
    "c_beta_final_samples = 1 - data['tumor']['beta_values'].loc[Clock_CpGs_final_set, final_sample_set].std(axis=0)\n",
    "\n",
    "# Outfile path\n",
    "c_beta_filepath = os.path.join(output_dir, 'TCGA.c_beta.txt')\n",
    "\n",
    "# Save c_beta values, don't overwrite existing file\n",
    "if os.path.exists(c_beta_filepath):\n",
    "    existing_c_beta = pd.read_table(c_beta_filepath, index_col=0, header=None).squeeze(\"columns\")\n",
    "    assert (c_beta_final_samples - existing_c_beta < 1e-6).all()\n",
    "    print('Current output matches existing file.')\n",
    "else:\n",
    "    c_beta_final_samples.to_csv(c_beta_filepath, sep='\\t', header=False)"
   ]
  },
  {
   "cell_type": "markdown",
   "id": "9c1c6427",
   "metadata": {},
   "source": [
    "## Save beta values of Clock sites separately\n",
    "Much smaller file, easier to import in other scripts/notebooks"
   ]
  },
  {
   "cell_type": "code",
   "execution_count": 9,
   "id": "e88be3cf",
   "metadata": {},
   "outputs": [],
   "source": [
    "data['tumor']['beta_values'].loc[Clock_CpGs_final_set].to_csv(\n",
    "    os.path.join(consts['TCGA_datadir'], 'TCGA.methyl.balancedSites.tsv'),\n",
    "    sep='\\t'\n",
    ")"
   ]
  },
  {
   "cell_type": "markdown",
   "id": "cd1ecc37-ce7b-47b9-abbf-1b5e1bcb692d",
   "metadata": {},
   "source": [
    "## Figures"
   ]
  },
  {
   "cell_type": "code",
   "execution_count": null,
   "id": "71ea0152",
   "metadata": {},
   "outputs": [],
   "source": [
    "## Configure graph\n",
    "sf = consts['sf']\n",
    "figsize = np.array([9, 7])\n",
    "sns.set(rc={\"savefig.bbox\":'tight', 'axes.linewidth':sf}, font_scale=1, style='ticks')"
   ]
  },
  {
   "cell_type": "markdown",
   "id": "8a0f27bb",
   "metadata": {},
   "source": [
    "### Prepare data object for figures"
   ]
  },
  {
   "cell_type": "code",
   "execution_count": 10,
   "id": "fa0d52b2-2967-4ba3-aa87-fbd083673a12",
   "metadata": {},
   "outputs": [],
   "source": [
    "## Add beta_means, beta_stds, beta_nans to data dict\n",
    "local_util.addMeanStdsNans(data)"
   ]
  },
  {
   "cell_type": "markdown",
   "id": "801d447e-5fa7-41df-bb59-62d377d6e37b",
   "metadata": {},
   "source": [
    "### Visualization of Site Selection - Figures 1A and 1B"
   ]
  },
  {
   "cell_type": "code",
   "execution_count": 13,
   "id": "38715101-46f2-4a4c-9346-5c776b0466f6",
   "metadata": {},
   "outputs": [
    {
     "data": {
      "image/png": "[encoded data removed]",
      "text/plain": [
       "<Figure size 259.2x201.6 with 1 Axes>"
      ]
     },
     "metadata": {
      "needs_background": "light"
     },
     "output_type": "display_data"
    }
   ],
   "source": [
    "## Figure 1A\n",
    "\n",
    "# Plot tumor and normals mean beta of each site\n",
    "# Highlight region of neutral sites\n",
    "\n",
    "# Create plot\n",
    "fig, ax = plt.subplots(1, 1, figsize=figsize * sf)\n",
    "sns.scatterplot(ax=ax, x=data['tumor']['beta_means'].loc[neutral_DNA_CpG_list],\n",
    "                y=data['normal']['beta_means'].loc[neutral_DNA_CpG_list], s = 5 * sf**2,\n",
    "                color=consts['palette_jco'][2], alpha=consts['opacity']\n",
    "               )\n",
    "\n",
    "# Customize figure\n",
    "ax.set_xlabel('Average β in TCGA', fontsize=consts['labelfontsize'] * sf)\n",
    "ax.set_ylabel('Average β in normals', fontsize=consts['labelfontsize'] * sf)\n",
    "ax.set_title(f'Neutral CpGs (n = {len(neutral_DNA_CpG_list)})', fontsize=consts['labelfontsize'] * sf)\n",
    "ax.tick_params(axis='both', labelsize=consts['ticksfontsize'] * sf, width=sf, length=8 * sf)\n",
    "\n",
    "# Add highlighted region for unbiased sites\n",
    "lower = 0.4\n",
    "upper = 0.6\n",
    "ax.fill([lower, upper, upper, lower], [lower, lower, upper, upper],\n",
    "        color=consts['palette_jco'][3], alpha=0.5, lw=4 * sf)\n",
    "\n",
    "# Add text and arrow labeling the highlighted region\n",
    "ax.text(0.35, 0.85, 'Unbiased CpGs',\n",
    "        ha=\"right\", va=\"bottom\", fontfamily='sans-serif', color='black',\n",
    "        fontsize=consts['labelfontsize'] * 0.8 * sf)\n",
    "ax.arrow(0.18, 0.82, 0.22, -0.22, color='black', length_includes_head=True, head_width=0.03, lw=0.5)\n",
    "\n",
    "# Save figure\n",
    "fig.savefig(os.path.join(figure_outdir, 'Figure_2_A.pdf'), format='pdf', pad_inches=0.1)"
   ]
  },
  {
   "cell_type": "code",
   "execution_count": 14,
   "id": "c1aa7972",
   "metadata": {},
   "outputs": [
    {
     "data": {
      "image/png": "[encoded data removed]",
      "text/plain": [
       "<Figure size 259.2x201.6 with 1 Axes>"
      ]
     },
     "metadata": {
      "needs_background": "light"
     },
     "output_type": "display_data"
    }
   ],
   "source": [
    "## Figure 1B\n",
    "\n",
    "# Plot inter-tumor standard deviation of beta for each unbiased site\n",
    "# Color blue the Clock sites selected (most variable sites)\n",
    "\n",
    "# Generate the set of unbiased sites\n",
    "balanced_means_CpGs = local_util.getCpG_list(data, local_util.CLOCK_CRITERIA, starting_CpG_list=neutral_DNA_CpG_list)\n",
    "\n",
    "# Create plot\n",
    "fig, ax = plt.subplots(1, 1, figsize=figsize * sf)\n",
    "sns.histplot(ax=ax,      # Non-fluctuating sites\n",
    "             x=data['tumor']['beta_stds'].loc[balanced_means_CpGs[~np.isin(balanced_means_CpGs, Clock_CpGs_final_set)]],\n",
    "             color=consts['palette_jco'][3], alpha=consts['opacity']\n",
    "            )\n",
    "sns.histplot(ax=ax,      # Fluctuating sites\n",
    "             x=data['tumor']['beta_stds'].loc[Clock_CpGs_final_set],\n",
    "             color=consts['palette_jco'][0], alpha=consts['opacity']\n",
    "            )\n",
    "\n",
    "# Customize figure\n",
    "ax.set_xlabel('Intertumor standard deviation of β in TCGA', fontsize=consts['labelfontsize'] * sf)\n",
    "ax.set_ylabel(ax.get_ylabel(), fontsize=consts['labelfontsize'] * sf)\n",
    "ax.set_title(f'Neutral and unbiased CpGs (n = {len(balanced_means_CpGs)})', fontsize=consts['labelfontsize'] * sf)\n",
    "ax.tick_params(axis='both', labelsize=consts['ticksfontsize'] * sf, width=sf, length=8 * sf)\n",
    "\n",
    "# Label fluctuating sites\n",
    "ax.text(0.235, 55, 'Fluctuating CpGs',\n",
    "        ha=\"left\", va=\"bottom\", fontfamily='sans-serif', color='black',\n",
    "        fontsize=consts['labelfontsize'] * 0.8 * sf)\n",
    "\n",
    "# Save figure\n",
    "fig.savefig(os.path.join(figure_outdir, 'Figure_2_B.pdf'), format='pdf', pad_inches=0.1)"
   ]
  },
  {
   "cell_type": "markdown",
   "id": "d4ff50ec-b745-42e0-b60e-bd5731e2f3e2",
   "metadata": {},
   "source": [
    "### Display CpG Examples - Figure 2E"
   ]
  },
  {
   "cell_type": "code",
   "execution_count": 15,
   "id": "294ba91c-585c-4fd9-9062-be6da7acfd79",
   "metadata": {},
   "outputs": [
    {
     "data": {
      "image/png": "[encoded data removed]",
      "text/plain": [
       "<Figure size 596.16x201.6 with 2 Axes>"
      ]
     },
     "metadata": {
      "needs_background": "light"
     },
     "output_type": "display_data"
    }
   ],
   "source": [
    "## Plot beta value distribution of two example CpG sites in tumors and normals\n",
    "\n",
    "CpGs_chosen = ['cg07582923', 'cg04197086']\n",
    "\n",
    "# Create plot axes\n",
    "fig, axes = plt.subplots(1, 2, figsize=figsize * sf * [2.3, 1])\n",
    "\n",
    "# Select colors and create legend\n",
    "color_dict = {'TCGA':consts['palette_jco'][0], 'Normals':consts['palette_jco'][3]}\n",
    "patches = [mpatches.Patch(color=color_dict[cohort], label=cohort) for cohort in color_dict.keys()]\n",
    "plots_x, plots_y = axes[0].get_position().get_points()[1]\n",
    "fig.legend(handles=patches,\n",
    "           loc='upper left',\n",
    "           bbox_to_anchor=(plots_x - .33, plots_y - 0.05),\n",
    "           fontsize=0.8*consts['labelfontsize'] * sf\n",
    "          )\n",
    "\n",
    "\n",
    "\n",
    "# Max y-axis top limit (between the two plots)\n",
    "# Used to align the y-axes after plotting\n",
    "ymax_max = 0\n",
    "\n",
    "for i, CpG in enumerate(CpGs_chosen):\n",
    "    ax = axes[i]\n",
    "    \n",
    "    # Create long-form dataframe with \"Cohort\" variable\n",
    "    plot_data = pd.concat([\n",
    "        pd.DataFrame({'beta':data['tumor']['beta_values_SELECTION'].loc[CpG], 'Cohort':'TCGA'}),\n",
    "        pd.DataFrame({'beta':data['normal']['beta_values_SELECTION'].loc[CpG], 'Cohort':'Normals'})\n",
    "    ], axis=0)\n",
    "    \n",
    "    # Plot data\n",
    "    sns.histplot(ax=ax, data=plot_data, x='beta', hue='Cohort',\n",
    "                 common_norm=False, stat='proportion', palette=color_dict, legend=False, alpha=consts['opacity'])\n",
    "    \n",
    "    # Customize figure\n",
    "    ax.set_xlabel('β', fontsize=consts['labelfontsize'] * sf)\n",
    "    ax.set_title(CpG, fontsize=consts['labelfontsize'] * sf)\n",
    "    ax.tick_params(axis='both', labelsize=consts['ticksfontsize'] * sf, width=sf, length=8 * sf)\n",
    "\n",
    "    # Update max y-axis top limit\n",
    "    ymax_max = max(ymax_max, ax.get_ylim()[1])\n",
    "\n",
    "# Align both plots to the same limits\n",
    "axes[0].set_ylim(0, ymax_max)\n",
    "axes[1].set_ylim(0, ymax_max)\n",
    "axes[0].set_xlim(0, 1)\n",
    "axes[1].set_xlim(0, 1)\n",
    "\n",
    "# Only need y-axis label on left plot\n",
    "axes[0].set_ylabel(axes[1].get_ylabel(), fontsize=consts['labelfontsize'] * sf)\n",
    "axes[1].set_ylabel('')\n",
    "\n",
    "# Save figure\n",
    "fig.savefig(os.path.join(figure_outdir, 'Figure_2_E.pdf'), format='pdf', pad_inches=0.1)"
   ]
  },
  {
   "cell_type": "markdown",
   "id": "c6ccdfff",
   "metadata": {},
   "source": [
    "### Statistics"
   ]
  },
  {
   "cell_type": "code",
   "execution_count": 3,
   "id": "73ea7e76",
   "metadata": {},
   "outputs": [],
   "source": [
    "### DELETE\n",
    "# c_beta_final_samples = pd.read_table(os.path.join(output_dir, 'TCGA.c_beta.txt'), index_col=0, header=None).squeeze(\"columns\")"
   ]
  },
  {
   "cell_type": "code",
   "execution_count": 17,
   "id": "e6401604",
   "metadata": {},
   "outputs": [
    {
     "name": "stdout",
     "output_type": "stream",
     "text": [
      "Median standard deviation of clock beta values in TCGA tumors: 0.209\n",
      "Median standard deviation of clock beta values in normal breast samples: 0.089\n",
      "Wilcoxon rank sum test: p = 2e-45\n"
     ]
    }
   ],
   "source": [
    "# Calculate s_beta for tumors\n",
    "s_beta_tumors = 1 - c_beta_final_samples\n",
    "\n",
    "# Calculate s_beta for normals\n",
    "# Apply same threshold for missing Clock sites\n",
    "final_sample_set_normals = data['normal']['beta_values_SELECTION'].columns[data['normal']['beta_values_SELECTION'].loc[Clock_CpGs_final_set].isna().mean(axis=0) < 0.05]\n",
    "s_beta_normals = data['normal']['beta_values_SELECTION'].loc[Clock_CpGs_final_set, final_sample_set_normals].std(axis=0)\n",
    "\n",
    "# Calculate wilcoxon rank-sums p-values\n",
    "pvalue = epi_util.wilcoxonRankSums(s_beta_tumors, s_beta_normals).pvalue\n",
    "\n",
    "print(f'Median standard deviation of clock beta values in TCGA tumors: {np.median(s_beta_tumors):.3f}')\n",
    "print(f'Median standard deviation of clock beta values in normal breast samples: {np.median(s_beta_normals):.3f}')\n",
    "print(f'Wilcoxon rank sum test: p = {pvalue:.0e}')"
   ]
  }
 ],
 "metadata": {
  "kernelspec": {
   "display_name": "Python 3 (ipykernel)",
   "language": "python",
   "name": "python3"
  },
  "language_info": {
   "codemirror_mode": {
    "name": "ipython",
    "version": 3
   },
   "file_extension": ".py",
   "mimetype": "text/x-python",
   "name": "python",
   "nbconvert_exporter": "python",
   "pygments_lexer": "ipython3",
   "version": "3.9.19"
  }
 },
 "nbformat": 4,
 "nbformat_minor": 5
}
