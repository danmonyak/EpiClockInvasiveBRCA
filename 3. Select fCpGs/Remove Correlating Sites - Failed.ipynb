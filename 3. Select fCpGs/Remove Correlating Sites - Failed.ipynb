{
 "cells": [
  {
   "cell_type": "code",
   "execution_count": 167,
   "id": "15b095a2",
   "metadata": {},
   "outputs": [],
   "source": [
    "import pandas as pd\n",
    "import numpy as np\n",
    "import os\n",
    "import sys\n",
    "import seaborn as sns \n",
    "import matplotlib.pyplot as plt\n",
    "import matplotlib.patches as mpatches\n",
    "from scipy.stats import linregress\n",
    "import EpiClockInvasiveBRCA.src.util as epi_util\n",
    "consts = epi_util.consts\n",
    "import util_loyferNormals as local_util\n",
    "\n",
    "from sklearn.linear_model import LinearRegression"
   ]
  },
  {
   "cell_type": "code",
   "execution_count": 172,
   "id": "ea2d813d",
   "metadata": {},
   "outputs": [],
   "source": [
    "TCGA_methyl = pd.read_table(os.path.join(consts['official_indir'], 'TCGA', 'TCGA.methyl.tsv'), index_col=0)"
   ]
  },
  {
   "cell_type": "code",
   "execution_count": 168,
   "id": "06848ef3",
   "metadata": {},
   "outputs": [],
   "source": [
    "TCGA_methyl_Clock = pd.read_table(os.path.join(consts['official_indir'], 'TCGA', 'TCGA.methyl.balancedSites.tsv'), index_col=0)\n",
    "TCGA_methyl_Clock = TCGA_methyl_Clock.rename(columns=epi_util.sampleToPatientID)"
   ]
  },
  {
   "cell_type": "code",
   "execution_count": 24,
   "id": "7adfc7c2",
   "metadata": {},
   "outputs": [
    {
     "data": {
      "text/html": [
       "<div>\n",
       "<style scoped>\n",
       "    .dataframe tbody tr th:only-of-type {\n",
       "        vertical-align: middle;\n",
       "    }\n",
       "\n",
       "    .dataframe tbody tr th {\n",
       "        vertical-align: top;\n",
       "    }\n",
       "\n",
       "    .dataframe thead th {\n",
       "        text-align: right;\n",
       "    }\n",
       "</style>\n",
       "<table border=\"1\" class=\"dataframe\">\n",
       "  <thead>\n",
       "    <tr style=\"text-align: right;\">\n",
       "      <th></th>\n",
       "      <th>TCGA-D8-A27G</th>\n",
       "      <th>TCGA-E2-A1B1</th>\n",
       "      <th>TCGA-AN-A0XO</th>\n",
       "      <th>TCGA-AR-A255</th>\n",
       "      <th>TCGA-GM-A5PV</th>\n",
       "      <th>TCGA-S3-A6ZG</th>\n",
       "      <th>TCGA-OL-A66N</th>\n",
       "      <th>TCGA-UL-AAZ6</th>\n",
       "      <th>TCGA-LL-A5YM</th>\n",
       "      <th>TCGA-LD-A7W5</th>\n",
       "      <th>...</th>\n",
       "      <th>TCGA-E2-A1IL</th>\n",
       "      <th>TCGA-AC-A2FM</th>\n",
       "      <th>TCGA-B6-A1KF</th>\n",
       "      <th>TCGA-AO-A0JF</th>\n",
       "      <th>TCGA-A2-A04R</th>\n",
       "      <th>TCGA-D8-A1XW</th>\n",
       "      <th>TCGA-E2-A1AZ</th>\n",
       "      <th>TCGA-C8-A26V</th>\n",
       "      <th>TCGA-AR-A0TP</th>\n",
       "      <th>TCGA-EW-A2FV</th>\n",
       "    </tr>\n",
       "  </thead>\n",
       "  <tbody>\n",
       "    <tr>\n",
       "      <th>cg00467244</th>\n",
       "      <td>0.765821</td>\n",
       "      <td>0.163875</td>\n",
       "      <td>0.768284</td>\n",
       "      <td>0.841406</td>\n",
       "      <td>0.256586</td>\n",
       "      <td>0.939187</td>\n",
       "      <td>0.814828</td>\n",
       "      <td>0.632245</td>\n",
       "      <td>0.410079</td>\n",
       "      <td>0.663765</td>\n",
       "      <td>...</td>\n",
       "      <td>0.091014</td>\n",
       "      <td>0.918690</td>\n",
       "      <td>0.989873</td>\n",
       "      <td>0.119700</td>\n",
       "      <td>0.838542</td>\n",
       "      <td>0.023671</td>\n",
       "      <td>0.370857</td>\n",
       "      <td>0.102202</td>\n",
       "      <td>0.926408</td>\n",
       "      <td>0.546149</td>\n",
       "    </tr>\n",
       "    <tr>\n",
       "      <th>cg26942432</th>\n",
       "      <td>0.923978</td>\n",
       "      <td>0.442241</td>\n",
       "      <td>0.950996</td>\n",
       "      <td>0.399408</td>\n",
       "      <td>0.249211</td>\n",
       "      <td>0.658178</td>\n",
       "      <td>0.396906</td>\n",
       "      <td>0.968012</td>\n",
       "      <td>0.306221</td>\n",
       "      <td>0.901920</td>\n",
       "      <td>...</td>\n",
       "      <td>0.152789</td>\n",
       "      <td>0.948708</td>\n",
       "      <td>0.057192</td>\n",
       "      <td>0.493335</td>\n",
       "      <td>0.763881</td>\n",
       "      <td>0.445414</td>\n",
       "      <td>0.539894</td>\n",
       "      <td>0.146347</td>\n",
       "      <td>0.067433</td>\n",
       "      <td>0.691451</td>\n",
       "    </tr>\n",
       "    <tr>\n",
       "      <th>cg00011616</th>\n",
       "      <td>0.968080</td>\n",
       "      <td>0.217397</td>\n",
       "      <td>0.218409</td>\n",
       "      <td>0.493724</td>\n",
       "      <td>0.149253</td>\n",
       "      <td>0.556858</td>\n",
       "      <td>0.515964</td>\n",
       "      <td>0.960957</td>\n",
       "      <td>0.951621</td>\n",
       "      <td>0.848249</td>\n",
       "      <td>...</td>\n",
       "      <td>0.094923</td>\n",
       "      <td>0.967406</td>\n",
       "      <td>0.069667</td>\n",
       "      <td>0.382504</td>\n",
       "      <td>0.025772</td>\n",
       "      <td>0.303100</td>\n",
       "      <td>0.343949</td>\n",
       "      <td>0.935045</td>\n",
       "      <td>0.103162</td>\n",
       "      <td>0.226646</td>\n",
       "    </tr>\n",
       "    <tr>\n",
       "      <th>cg25916282</th>\n",
       "      <td>0.680924</td>\n",
       "      <td>0.282701</td>\n",
       "      <td>0.854183</td>\n",
       "      <td>0.781915</td>\n",
       "      <td>0.181898</td>\n",
       "      <td>0.870708</td>\n",
       "      <td>0.902721</td>\n",
       "      <td>0.922257</td>\n",
       "      <td>0.898583</td>\n",
       "      <td>0.434969</td>\n",
       "      <td>...</td>\n",
       "      <td>0.881157</td>\n",
       "      <td>0.941230</td>\n",
       "      <td>0.968413</td>\n",
       "      <td>0.764036</td>\n",
       "      <td>0.065513</td>\n",
       "      <td>0.110802</td>\n",
       "      <td>0.098980</td>\n",
       "      <td>0.606278</td>\n",
       "      <td>0.821508</td>\n",
       "      <td>0.202033</td>\n",
       "    </tr>\n",
       "    <tr>\n",
       "      <th>cg16135989</th>\n",
       "      <td>0.759591</td>\n",
       "      <td>0.478533</td>\n",
       "      <td>0.814554</td>\n",
       "      <td>0.874704</td>\n",
       "      <td>0.435364</td>\n",
       "      <td>0.951123</td>\n",
       "      <td>0.795617</td>\n",
       "      <td>0.957609</td>\n",
       "      <td>0.813781</td>\n",
       "      <td>0.370894</td>\n",
       "      <td>...</td>\n",
       "      <td>0.403757</td>\n",
       "      <td>0.968614</td>\n",
       "      <td>0.162526</td>\n",
       "      <td>0.564249</td>\n",
       "      <td>0.033021</td>\n",
       "      <td>0.128375</td>\n",
       "      <td>0.195602</td>\n",
       "      <td>0.155532</td>\n",
       "      <td>0.966026</td>\n",
       "      <td>0.870539</td>\n",
       "    </tr>\n",
       "    <tr>\n",
       "      <th>...</th>\n",
       "      <td>...</td>\n",
       "      <td>...</td>\n",
       "      <td>...</td>\n",
       "      <td>...</td>\n",
       "      <td>...</td>\n",
       "      <td>...</td>\n",
       "      <td>...</td>\n",
       "      <td>...</td>\n",
       "      <td>...</td>\n",
       "      <td>...</td>\n",
       "      <td>...</td>\n",
       "      <td>...</td>\n",
       "      <td>...</td>\n",
       "      <td>...</td>\n",
       "      <td>...</td>\n",
       "      <td>...</td>\n",
       "      <td>...</td>\n",
       "      <td>...</td>\n",
       "      <td>...</td>\n",
       "      <td>...</td>\n",
       "      <td>...</td>\n",
       "    </tr>\n",
       "    <tr>\n",
       "      <th>cg07318609</th>\n",
       "      <td>0.610217</td>\n",
       "      <td>0.268551</td>\n",
       "      <td>0.707705</td>\n",
       "      <td>0.383356</td>\n",
       "      <td>0.717327</td>\n",
       "      <td>0.589244</td>\n",
       "      <td>0.844370</td>\n",
       "      <td>0.857835</td>\n",
       "      <td>0.695190</td>\n",
       "      <td>0.384250</td>\n",
       "      <td>...</td>\n",
       "      <td>0.576172</td>\n",
       "      <td>0.876456</td>\n",
       "      <td>0.803869</td>\n",
       "      <td>0.505777</td>\n",
       "      <td>0.887755</td>\n",
       "      <td>0.318966</td>\n",
       "      <td>0.143393</td>\n",
       "      <td>0.805452</td>\n",
       "      <td>0.897366</td>\n",
       "      <td>0.393154</td>\n",
       "    </tr>\n",
       "    <tr>\n",
       "      <th>cg08959182</th>\n",
       "      <td>0.655384</td>\n",
       "      <td>0.699199</td>\n",
       "      <td>0.742735</td>\n",
       "      <td>0.349314</td>\n",
       "      <td>0.274549</td>\n",
       "      <td>0.603205</td>\n",
       "      <td>0.349163</td>\n",
       "      <td>0.247209</td>\n",
       "      <td>0.915124</td>\n",
       "      <td>0.539425</td>\n",
       "      <td>...</td>\n",
       "      <td>0.299604</td>\n",
       "      <td>0.542061</td>\n",
       "      <td>0.196197</td>\n",
       "      <td>0.606745</td>\n",
       "      <td>0.559940</td>\n",
       "      <td>0.468192</td>\n",
       "      <td>0.816815</td>\n",
       "      <td>0.930520</td>\n",
       "      <td>NaN</td>\n",
       "      <td>0.413457</td>\n",
       "    </tr>\n",
       "    <tr>\n",
       "      <th>cg20390015</th>\n",
       "      <td>0.711192</td>\n",
       "      <td>0.413556</td>\n",
       "      <td>0.232918</td>\n",
       "      <td>0.364752</td>\n",
       "      <td>0.319208</td>\n",
       "      <td>0.461660</td>\n",
       "      <td>0.356774</td>\n",
       "      <td>0.171339</td>\n",
       "      <td>0.407258</td>\n",
       "      <td>0.596785</td>\n",
       "      <td>...</td>\n",
       "      <td>0.668288</td>\n",
       "      <td>0.464769</td>\n",
       "      <td>0.792212</td>\n",
       "      <td>0.601464</td>\n",
       "      <td>0.147746</td>\n",
       "      <td>0.735613</td>\n",
       "      <td>0.807595</td>\n",
       "      <td>0.322215</td>\n",
       "      <td>0.638000</td>\n",
       "      <td>0.350140</td>\n",
       "    </tr>\n",
       "    <tr>\n",
       "      <th>cg15292097</th>\n",
       "      <td>0.538614</td>\n",
       "      <td>0.541039</td>\n",
       "      <td>0.156808</td>\n",
       "      <td>0.427035</td>\n",
       "      <td>0.383464</td>\n",
       "      <td>0.244195</td>\n",
       "      <td>0.302947</td>\n",
       "      <td>0.339663</td>\n",
       "      <td>0.252008</td>\n",
       "      <td>0.713016</td>\n",
       "      <td>...</td>\n",
       "      <td>0.254008</td>\n",
       "      <td>0.663123</td>\n",
       "      <td>0.817517</td>\n",
       "      <td>0.375878</td>\n",
       "      <td>0.205412</td>\n",
       "      <td>0.764559</td>\n",
       "      <td>0.804663</td>\n",
       "      <td>0.245287</td>\n",
       "      <td>0.933266</td>\n",
       "      <td>0.620109</td>\n",
       "    </tr>\n",
       "    <tr>\n",
       "      <th>cg16775598</th>\n",
       "      <td>0.780274</td>\n",
       "      <td>0.609124</td>\n",
       "      <td>0.175416</td>\n",
       "      <td>0.479721</td>\n",
       "      <td>0.502715</td>\n",
       "      <td>0.353127</td>\n",
       "      <td>0.599369</td>\n",
       "      <td>0.818336</td>\n",
       "      <td>0.561370</td>\n",
       "      <td>0.599332</td>\n",
       "      <td>...</td>\n",
       "      <td>0.345677</td>\n",
       "      <td>0.684714</td>\n",
       "      <td>0.462402</td>\n",
       "      <td>0.494238</td>\n",
       "      <td>0.215853</td>\n",
       "      <td>0.662505</td>\n",
       "      <td>0.781542</td>\n",
       "      <td>0.491814</td>\n",
       "      <td>0.911145</td>\n",
       "      <td>0.783742</td>\n",
       "    </tr>\n",
       "  </tbody>\n",
       "</table>\n",
       "<p>500 rows × 634 columns</p>\n",
       "</div>"
      ],
      "text/plain": [
       "            TCGA-D8-A27G  TCGA-E2-A1B1  TCGA-AN-A0XO  TCGA-AR-A255  \\\n",
       "cg00467244      0.765821      0.163875      0.768284      0.841406   \n",
       "cg26942432      0.923978      0.442241      0.950996      0.399408   \n",
       "cg00011616      0.968080      0.217397      0.218409      0.493724   \n",
       "cg25916282      0.680924      0.282701      0.854183      0.781915   \n",
       "cg16135989      0.759591      0.478533      0.814554      0.874704   \n",
       "...                  ...           ...           ...           ...   \n",
       "cg07318609      0.610217      0.268551      0.707705      0.383356   \n",
       "cg08959182      0.655384      0.699199      0.742735      0.349314   \n",
       "cg20390015      0.711192      0.413556      0.232918      0.364752   \n",
       "cg15292097      0.538614      0.541039      0.156808      0.427035   \n",
       "cg16775598      0.780274      0.609124      0.175416      0.479721   \n",
       "\n",
       "            TCGA-GM-A5PV  TCGA-S3-A6ZG  TCGA-OL-A66N  TCGA-UL-AAZ6  \\\n",
       "cg00467244      0.256586      0.939187      0.814828      0.632245   \n",
       "cg26942432      0.249211      0.658178      0.396906      0.968012   \n",
       "cg00011616      0.149253      0.556858      0.515964      0.960957   \n",
       "cg25916282      0.181898      0.870708      0.902721      0.922257   \n",
       "cg16135989      0.435364      0.951123      0.795617      0.957609   \n",
       "...                  ...           ...           ...           ...   \n",
       "cg07318609      0.717327      0.589244      0.844370      0.857835   \n",
       "cg08959182      0.274549      0.603205      0.349163      0.247209   \n",
       "cg20390015      0.319208      0.461660      0.356774      0.171339   \n",
       "cg15292097      0.383464      0.244195      0.302947      0.339663   \n",
       "cg16775598      0.502715      0.353127      0.599369      0.818336   \n",
       "\n",
       "            TCGA-LL-A5YM  TCGA-LD-A7W5  ...  TCGA-E2-A1IL  TCGA-AC-A2FM  \\\n",
       "cg00467244      0.410079      0.663765  ...      0.091014      0.918690   \n",
       "cg26942432      0.306221      0.901920  ...      0.152789      0.948708   \n",
       "cg00011616      0.951621      0.848249  ...      0.094923      0.967406   \n",
       "cg25916282      0.898583      0.434969  ...      0.881157      0.941230   \n",
       "cg16135989      0.813781      0.370894  ...      0.403757      0.968614   \n",
       "...                  ...           ...  ...           ...           ...   \n",
       "cg07318609      0.695190      0.384250  ...      0.576172      0.876456   \n",
       "cg08959182      0.915124      0.539425  ...      0.299604      0.542061   \n",
       "cg20390015      0.407258      0.596785  ...      0.668288      0.464769   \n",
       "cg15292097      0.252008      0.713016  ...      0.254008      0.663123   \n",
       "cg16775598      0.561370      0.599332  ...      0.345677      0.684714   \n",
       "\n",
       "            TCGA-B6-A1KF  TCGA-AO-A0JF  TCGA-A2-A04R  TCGA-D8-A1XW  \\\n",
       "cg00467244      0.989873      0.119700      0.838542      0.023671   \n",
       "cg26942432      0.057192      0.493335      0.763881      0.445414   \n",
       "cg00011616      0.069667      0.382504      0.025772      0.303100   \n",
       "cg25916282      0.968413      0.764036      0.065513      0.110802   \n",
       "cg16135989      0.162526      0.564249      0.033021      0.128375   \n",
       "...                  ...           ...           ...           ...   \n",
       "cg07318609      0.803869      0.505777      0.887755      0.318966   \n",
       "cg08959182      0.196197      0.606745      0.559940      0.468192   \n",
       "cg20390015      0.792212      0.601464      0.147746      0.735613   \n",
       "cg15292097      0.817517      0.375878      0.205412      0.764559   \n",
       "cg16775598      0.462402      0.494238      0.215853      0.662505   \n",
       "\n",
       "            TCGA-E2-A1AZ  TCGA-C8-A26V  TCGA-AR-A0TP  TCGA-EW-A2FV  \n",
       "cg00467244      0.370857      0.102202      0.926408      0.546149  \n",
       "cg26942432      0.539894      0.146347      0.067433      0.691451  \n",
       "cg00011616      0.343949      0.935045      0.103162      0.226646  \n",
       "cg25916282      0.098980      0.606278      0.821508      0.202033  \n",
       "cg16135989      0.195602      0.155532      0.966026      0.870539  \n",
       "...                  ...           ...           ...           ...  \n",
       "cg07318609      0.143393      0.805452      0.897366      0.393154  \n",
       "cg08959182      0.816815      0.930520           NaN      0.413457  \n",
       "cg20390015      0.807595      0.322215      0.638000      0.350140  \n",
       "cg15292097      0.804663      0.245287      0.933266      0.620109  \n",
       "cg16775598      0.781542      0.491814      0.911145      0.783742  \n",
       "\n",
       "[500 rows x 634 columns]"
      ]
     },
     "execution_count": 24,
     "metadata": {},
     "output_type": "execute_result"
    }
   ],
   "source": [
    "TCGA_methyl_Clock"
   ]
  },
  {
   "cell_type": "code",
   "execution_count": 33,
   "id": "57311041",
   "metadata": {},
   "outputs": [
    {
     "data": {
      "text/plain": [
       "LinregressResult(slope=-1.2119906343603934, intercept=1.7283449581431964, rvalue=-0.6694965418120506, pvalue=1.1788708616882195e-83, stderr=0.05349006831395087, intercept_stderr=0.042188288855665494)"
      ]
     },
     "execution_count": 33,
     "metadata": {},
     "output_type": "execute_result"
    }
   ],
   "source": [
    "c_beta = 1 - TCGA_methyl_Clock.std(axis=0)\n",
    "linregress(c_beta, clinical['CPE'])"
   ]
  },
  {
   "cell_type": "code",
   "execution_count": null,
   "id": "f14fbd73",
   "metadata": {},
   "outputs": [],
   "source": [
    "linregress"
   ]
  },
  {
   "cell_type": "code",
   "execution_count": null,
   "id": "16fcc1ed",
   "metadata": {
    "scrolled": true
   },
   "outputs": [],
   "source": [
    "clinical = pd.read_table(os.path.join(consts['official_indir'], 'TCGA', 'TCGA.clinical.tsv'))\n",
    "clinical = clinical.set_index('submitter_id')\n",
    "clinical = clinical.loc[TCGA_methyl_Clock.columns]"
   ]
  },
  {
   "cell_type": "code",
   "execution_count": 189,
   "id": "77f681df",
   "metadata": {},
   "outputs": [],
   "source": [
    "def summarizeCorrelationEffect(beta_values, quadratic, get_R2_ser=False, n_sites=100, search_sites=None):\n",
    "    # Calculate R2 between a site's beta values across tumors and the CPE purity values\n",
    "    site_list = []\n",
    "    R2_list = []\n",
    "    if search_sites is None:\n",
    "        search_sites = beta.values.index\n",
    "    for i, site in enumerate(search_sites):\n",
    "        if i % 10000 == 0:\n",
    "            print(i)\n",
    "        site_ser = beta_values.loc[site]\n",
    "        if site_ser.isna().all():        # All values are NaN\n",
    "            continue\n",
    "        site_ser = site_ser.fillna(site_ser.mean())\n",
    "\n",
    "        X = site_ser.values\n",
    "        \n",
    "        if quadratic:\n",
    "            X = np.vstack([X, X**2]).T\n",
    "        else:\n",
    "            X = np.reshape(X, [-1,1])\n",
    "        \n",
    "        y = clinical['CPE'].values\n",
    "        lm = LinearRegression()\n",
    "        try:\n",
    "            lm.fit(X, y)\n",
    "            R2 = lm.score(X, y)\n",
    "\n",
    "            site_list.append(site)\n",
    "            R2_list.append(R2)\n",
    "        except:\n",
    "            continue\n",
    "    R2_ser = pd.Series(index=site_list, data=R2_list)\n",
    "\n",
    "    if get_R2_ser:\n",
    "        return R2_ser\n",
    "    \n",
    "    # Plot dsitribution correlation values\n",
    "    plt.hist(R2_ser, bins=40)\n",
    "\n",
    "    # Try least correlating sites\n",
    "    # Calculate c_beta and see how it correlates with purity\n",
    "#     notCorrelating_sites = R2_ser.index[R2_ser < 0.0001]\n",
    "    notCorrelating_sites = R2_ser.sort_values()[:n_sites].index\n",
    "    print(f\"Max R^2 = {R2_ser[notCorrelating_sites[-1]]:.4f}\")\n",
    "    print(notCorrelating_sites.shape)\n",
    "    c_beta_notCorrelating = 1 - beta_values.loc[notCorrelating_sites].std(axis=0)\n",
    "    print(linregress(c_beta_notCorrelating, clinical['CPE']))\n",
    "    return notCorrelating_sites"
   ]
  },
  {
   "cell_type": "code",
   "execution_count": 177,
   "id": "5ba40ba1",
   "metadata": {},
   "outputs": [
    {
     "name": "stdout",
     "output_type": "stream",
     "text": [
      "0\n",
      "Max R^2 = 0.0006\n",
      "(60,)\n",
      "LinregressResult(slope=-1.1750515256768688, intercept=1.7059917002855645, rvalue=-0.6584233885703715, pvalue=4.875425316886641e-80, stderr=0.053429965277122626, intercept_stderr=0.04244835911324622)\n"
     ]
    },
    {
     "data": {
      "text/plain": [
       "Index(['cg11468255', 'cg24202916', 'cg11245681', 'cg19734013', 'cg12917153',\n",
       "       'cg06500792', 'cg10785793', 'cg04102894', 'cg06528645', 'cg13166642',\n",
       "       'cg03977831', 'cg25987564', 'cg22254983', 'cg14020846', 'cg06976144',\n",
       "       'cg09085041', 'cg20223392', 'cg00464757', 'cg21231262', 'cg23153661',\n",
       "       'cg12813239', 'cg04399631', 'cg26113233', 'cg05484949', 'cg20449074',\n",
       "       'cg21144063', 'cg09552548', 'cg09460553', 'cg05365199', 'cg11187807',\n",
       "       'cg16697438', 'cg03873153', 'cg16329658', 'cg22360016', 'cg19223064',\n",
       "       'cg12960126', 'cg25017223', 'cg02565878', 'cg22782017', 'cg00697672',\n",
       "       'cg13461554', 'cg00354437', 'cg22745354', 'cg22305293', 'cg24082677',\n",
       "       'cg11125758', 'cg11203293', 'cg08802482', 'cg17766026', 'cg07352127',\n",
       "       'cg08936580', 'cg16752400', 'cg19192626', 'cg20364574', 'cg19651757',\n",
       "       'cg03282312', 'cg26967792', 'cg05001848', 'cg04103847', 'cg22695084'],\n",
       "      dtype='object')"
      ]
     },
     "execution_count": 177,
     "metadata": {},
     "output_type": "execute_result"
    },
    {
     "data": {
      "image/png": "[encoded data removed]",
      "text/plain": [
       "<Figure size 432x288 with 1 Axes>"
      ]
     },
     "metadata": {
      "needs_background": "light"
     },
     "output_type": "display_data"
    }
   ],
   "source": [
    "summarizeCorrelationEffect(TCGA_methyl_Clock, quadratic=False, n_sites=60)"
   ]
  },
  {
   "cell_type": "code",
   "execution_count": 138,
   "id": "4fdd9081",
   "metadata": {},
   "outputs": [
    {
     "name": "stdout",
     "output_type": "stream",
     "text": [
      "Max R^2 = 0.0571\n",
      "(10,)\n",
      "LinregressResult(slope=-0.5214302598599285, intercept=1.1920027893159468, rvalue=-0.32857090536123074, pvalue=1.9994933895794387e-17, stderr=0.05962124409637534, intercept_stderr=0.047872716096943276)\n"
     ]
    },
    {
     "data": {
      "image/png": "[encoded data removed]",
      "text/plain": [
       "<Figure size 432x288 with 1 Axes>"
      ]
     },
     "metadata": {
      "needs_background": "light"
     },
     "output_type": "display_data"
    }
   ],
   "source": [
    "summarizeCorrelationEffect(TCGA_methyl_Clock, quadratic=True, n_sites=10)"
   ]
  },
  {
   "cell_type": "code",
   "execution_count": null,
   "id": "a57ac2d3",
   "metadata": {},
   "outputs": [],
   "source": [
    "TCGA_methyl_unbiasedSites = pd.read_table('/Users/danielmonyak/Library/CloudStorage/Box-Box/PROJECT 06023: MolClocks/PanCancer_Paper/Datasets/beta_values_unbiased_sites/BRCA.methyl.unbiased_sites.tsv', index_col=0)"
   ]
  },
  {
   "cell_type": "code",
   "execution_count": 141,
   "id": "a04e2330",
   "metadata": {},
   "outputs": [
    {
     "data": {
      "text/plain": [
       "LinregressResult(slope=-1.5077814283314024, intercept=2.032273765307147, rvalue=-0.7032771803459155, pvalue=1.0061182191544946e-95, stderr=0.06062775157241853, intercept_stderr=0.0506451532344555)"
      ]
     },
     "execution_count": 141,
     "metadata": {},
     "output_type": "execute_result"
    }
   ],
   "source": [
    "c_beta_unbiased = 1 - TCGA_methyl_unbiasedSites.std(axis=0)\n",
    "linregress(c_beta_unbiased, clinical['CPE'])"
   ]
  },
  {
   "cell_type": "code",
   "execution_count": 143,
   "id": "4e8a3e45",
   "metadata": {},
   "outputs": [
    {
     "data": {
      "text/plain": [
       "(12905, 634)"
      ]
     },
     "execution_count": 143,
     "metadata": {},
     "output_type": "execute_result"
    }
   ],
   "source": [
    "TCGA_methyl_unbiasedSites.shape"
   ]
  },
  {
   "cell_type": "code",
   "execution_count": 148,
   "id": "6a9d11a1",
   "metadata": {},
   "outputs": [
    {
     "name": "stdout",
     "output_type": "stream",
     "text": [
      "Max R^2 = 0.0000\n",
      "(100,)\n",
      "LinregressResult(slope=-1.4579796055547036, intercept=1.9921829814629715, rvalue=-0.669573896560856, pvalue=1.110838084808076e-83, stderr=0.06433308725941263, intercept_stderr=0.053802413566880744)\n"
     ]
    },
    {
     "data": {
      "image/png": "[encoded data removed]",
      "text/plain": [
       "<Figure size 432x288 with 1 Axes>"
      ]
     },
     "metadata": {
      "needs_background": "light"
     },
     "output_type": "display_data"
    }
   ],
   "source": [
    "summarizeCorrelationEffect(TCGA_methyl_unbiasedSites, quadratic=False, n_sites=100)"
   ]
  },
  {
   "cell_type": "code",
   "execution_count": 150,
   "id": "b7d5221f",
   "metadata": {},
   "outputs": [
    {
     "name": "stdout",
     "output_type": "stream",
     "text": [
      "Max R^2 = 0.0563\n",
      "(500,)\n",
      "LinregressResult(slope=-1.391220885981775, intercept=1.959100100900755, rvalue=-0.47515964325739707, pvalue=5.058075795832306e-37, stderr=0.10247811411358167, intercept_stderr=0.0873241137923681)\n"
     ]
    },
    {
     "data": {
      "image/png": "[encoded data removed]",
      "text/plain": [
       "<Figure size 432x288 with 1 Axes>"
      ]
     },
     "metadata": {
      "needs_background": "light"
     },
     "output_type": "display_data"
    }
   ],
   "source": [
    "summarizeCorrelationEffect(TCGA_methyl_unbiasedSites, quadratic=True, n_sites=500)"
   ]
  },
  {
   "cell_type": "code",
   "execution_count": 158,
   "id": "4488a07c",
   "metadata": {},
   "outputs": [
    {
     "name": "stdout",
     "output_type": "stream",
     "text": [
      "Max R^2 = 0.0223\n",
      "(100,)\n",
      "LinregressResult(slope=-0.6925104888207699, intercept=1.3730968789298275, rvalue=-0.2506798251995668, pvalue=1.5335635271857073e-10, stderr=0.10637883217360232, intercept_stderr=0.09203433092090847)\n"
     ]
    },
    {
     "data": {
      "image/png": "[encoded data removed]",
      "text/plain": [
       "<Figure size 432x288 with 1 Axes>"
      ]
     },
     "metadata": {
      "needs_background": "light"
     },
     "output_type": "display_data"
    }
   ],
   "source": [
    "sites = summarizeCorrelationEffect(TCGA_methyl_unbiasedSites, quadratic=True, n_sites=100)"
   ]
  },
  {
   "cell_type": "code",
   "execution_count": 162,
   "id": "bb756a7a",
   "metadata": {},
   "outputs": [
    {
     "data": {
      "text/plain": [
       "(array([ 3.,  4.,  2.,  5., 20., 43., 13.,  7.,  1.,  2.]),\n",
       " array([0.01330936, 0.10439002, 0.19547067, 0.28655133, 0.37763199,\n",
       "        0.46871264, 0.5597933 , 0.65087395, 0.74195461, 0.83303527,\n",
       "        0.92411592]),\n",
       " <BarContainer object of 10 artists>)"
      ]
     },
     "execution_count": 162,
     "metadata": {},
     "output_type": "execute_result"
    },
    {
     "data": {
      "image/png": "[encoded data removed]",
      "text/plain": [
       "<Figure size 432x288 with 1 Axes>"
      ]
     },
     "metadata": {
      "needs_background": "light"
     },
     "output_type": "display_data"
    }
   ],
   "source": [
    "plt.hist(TCGA_methyl_unbiasedSites.loc[sites].iloc[:, 2])"
   ]
  },
  {
   "cell_type": "code",
   "execution_count": 166,
   "id": "935e5227",
   "metadata": {},
   "outputs": [
    {
     "data": {
      "text/plain": [
       "(array([  950.,  1108.,  2269.,  7112., 18905., 20009.,  7555.,  3142.,\n",
       "         1593.,   694.]),\n",
       " array([0.00951131, 0.10689099, 0.20427067, 0.30165036, 0.39903004,\n",
       "        0.49640973, 0.59378941, 0.6911691 , 0.78854878, 0.88592846,\n",
       "        0.98330815]),\n",
       " <BarContainer object of 10 artists>)"
      ]
     },
     "execution_count": 166,
     "metadata": {},
     "output_type": "execute_result"
    },
    {
     "data": {
      "image/png": "[encoded data removed]",
      "text/plain": [
       "<Figure size 432x288 with 1 Axes>"
      ]
     },
     "metadata": {
      "needs_background": "light"
     },
     "output_type": "display_data"
    }
   ],
   "source": [
    "plt.hist(TCGA_methyl_unbiasedSites.loc[sites].values.flatten())"
   ]
  },
  {
   "cell_type": "markdown",
   "id": "fc2ace41",
   "metadata": {},
   "source": [
    "So also this does is just select for sites that have zero variability (stuck at 0.5)"
   ]
  },
  {
   "cell_type": "markdown",
   "id": "46f1c72f",
   "metadata": {},
   "source": [
    "## All sites"
   ]
  },
  {
   "cell_type": "code",
   "execution_count": 182,
   "id": "07990d96",
   "metadata": {},
   "outputs": [],
   "source": [
    "TCGA_methyl_siteMeans = TCGA_methyl.mean(axis=1)"
   ]
  },
  {
   "cell_type": "code",
   "execution_count": 195,
   "id": "3eb897f8",
   "metadata": {},
   "outputs": [],
   "source": [
    "unbiased_sites = TCGA_methyl_siteMeans.index[(TCGA_methyl_siteMeans > 0.3) & (TCGA_methyl_siteMeans < 0.7)].values"
   ]
  },
  {
   "cell_type": "code",
   "execution_count": 196,
   "id": "c1e6d955",
   "metadata": {},
   "outputs": [
    {
     "name": "stdout",
     "output_type": "stream",
     "text": [
      "0\n",
      "10000\n",
      "20000\n",
      "30000\n",
      "40000\n",
      "50000\n",
      "60000\n",
      "70000\n",
      "80000\n",
      "90000\n"
     ]
    }
   ],
   "source": [
    "R2_ser = summarizeCorrelationEffect(TCGA_methyl, quadratic=True, get_R2_ser=True, search_sites=unbiased_sites)"
   ]
  },
  {
   "cell_type": "code",
   "execution_count": 199,
   "id": "27816563",
   "metadata": {},
   "outputs": [
    {
     "name": "stdout",
     "output_type": "stream",
     "text": [
      "Max R^2 = 0.0091\n",
      "(500,)\n",
      "LinregressResult(slope=-1.0210676910881726, intercept=1.563025163918081, rvalue=-0.20626785940459347, pvalue=1.6066996670531563e-07, stderr=0.19267408048312243, intercept_stderr=0.14885370592091368)\n"
     ]
    },
    {
     "data": {
      "image/png": "[encoded data removed]",
      "text/plain": [
       "<Figure size 432x288 with 1 Axes>"
      ]
     },
     "metadata": {
      "needs_background": "light"
     },
     "output_type": "display_data"
    }
   ],
   "source": [
    "n_sites = 500\n",
    "beta_values = TCGA_methyl\n",
    "\n",
    "# Plot dsitribution correlation values\n",
    "plt.hist(R2_ser, bins=40)\n",
    "\n",
    "# Try least correlating sites\n",
    "# Calculate c_beta and see how it correlates with purity\n",
    "#     notCorrelating_sites = R2_ser.index[R2_ser < 0.0001]\n",
    "notCorrelating_sites = R2_ser.sort_values()[:n_sites].index\n",
    "print(f\"Max R^2 = {R2_ser[notCorrelating_sites[-1]]:.4f}\")\n",
    "print(notCorrelating_sites.shape)\n",
    "c_beta_notCorrelating = 1 - beta_values.loc[notCorrelating_sites].std(axis=0)\n",
    "print(linregress(c_beta_notCorrelating, clinical['CPE']))"
   ]
  },
  {
   "cell_type": "code",
   "execution_count": 200,
   "id": "494471b6",
   "metadata": {},
   "outputs": [
    {
     "data": {
      "text/plain": [
       "(array([ 8945., 10751., 16514., 25964., 23202., 27058., 29717., 22068.,\n",
       "        16921.,  8085.]),\n",
       " array([0.0092381 , 0.10737054, 0.20550298, 0.30363542, 0.40176786,\n",
       "        0.4999003 , 0.59803274, 0.69616518, 0.79429761, 0.89243005,\n",
       "        0.99056249]),\n",
       " <BarContainer object of 10 artists>)"
      ]
     },
     "execution_count": 200,
     "metadata": {},
     "output_type": "execute_result"
    },
    {
     "data": {
      "image/png": "[encoded data removed]",
      "text/plain": [
       "<Figure size 432x288 with 1 Axes>"
      ]
     },
     "metadata": {
      "needs_background": "light"
     },
     "output_type": "display_data"
    }
   ],
   "source": [
    "plt.hist(TCGA_methyl.loc[notCorrelating_sites].values.flatten())"
   ]
  },
  {
   "cell_type": "code",
   "execution_count": 203,
   "id": "fd30b890",
   "metadata": {},
   "outputs": [],
   "source": [
    "c_beta = 1 - TCGA_methyl.loc[notCorrelating_sites].std(axis=0)"
   ]
  },
  {
   "cell_type": "code",
   "execution_count": 220,
   "id": "376a1b38",
   "metadata": {},
   "outputs": [
    {
     "data": {
      "text/plain": [
       "<Axes: xlabel='TCGA-BH-A1ET-01A-11D-A138-05', ylabel='Count'>"
      ]
     },
     "execution_count": 220,
     "metadata": {},
     "output_type": "execute_result"
    },
    {
     "data": {
      "image/png": "[encoded data removed]",
      "text/plain": [
       "<Figure size 432x288 with 1 Axes>"
      ]
     },
     "metadata": {
      "needs_background": "light"
     },
     "output_type": "display_data"
    }
   ],
   "source": [
    "samp = c_beta.sort_values().index[600]\n",
    "sns.histplot(TCGA_methyl.loc[notCorrelating_sites, samp], bins=30)"
   ]
  },
  {
   "cell_type": "code",
   "execution_count": 205,
   "id": "ab6f93fd",
   "metadata": {},
   "outputs": [
    {
     "data": {
      "text/plain": [
       "(array([  1.,   4.,   3.,   3.,  22.,  79., 174., 231., 106.,  11.]),\n",
       " array([0.6666905 , 0.6818366 , 0.69698269, 0.71212878, 0.72727487,\n",
       "        0.74242096, 0.75756706, 0.77271315, 0.78785924, 0.80300533,\n",
       "        0.81815142]),\n",
       " <BarContainer object of 10 artists>)"
      ]
     },
     "execution_count": 205,
     "metadata": {},
     "output_type": "execute_result"
    },
    {
     "data": {
      "image/png": "[encoded data removed]",
      "text/plain": [
       "<Figure size 432x288 with 1 Axes>"
      ]
     },
     "metadata": {
      "needs_background": "light"
     },
     "output_type": "display_data"
    }
   ],
   "source": [
    "plt.hist(c_beta)"
   ]
  },
  {
   "cell_type": "code",
   "execution_count": null,
   "id": "419bde55",
   "metadata": {},
   "outputs": [],
   "source": []
  }
 ],
 "metadata": {
  "kernelspec": {
   "display_name": "Python 3 (ipykernel)",
   "language": "python",
   "name": "python3"
  },
  "language_info": {
   "codemirror_mode": {
    "name": "ipython",
    "version": 3
   },
   "file_extension": ".py",
   "mimetype": "text/x-python",
   "name": "python",
   "nbconvert_exporter": "python",
   "pygments_lexer": "ipython3",
   "version": "3.9.19"
  }
 },
 "nbformat": 4,
 "nbformat_minor": 5
}
