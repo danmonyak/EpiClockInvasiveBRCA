{
 "cells": [
  {
   "cell_type": "markdown",
   "id": "c43d953e-0fd5-4d22-80ff-4d31c2418828",
   "metadata": {},
   "source": [
    "# Select fCpGs\n",
    "\n",
    "Run all cells to:\n",
    "- Import TCGA and normal samples methylation data\n",
    "- Select Clock (fCpG) sites and save\n",
    "- Refine final list of tumors and save\n",
    "- Calculate $c_\\beta$ values and save\n",
    "- Save beta values of Clock sites separately\n",
    "- Generate figures relating to this site selection\n",
    "- Calculate some statistics"
   ]
  },
  {
   "cell_type": "code",
   "execution_count": 9,
   "id": "1e1c4b14",
   "metadata": {},
   "outputs": [],
   "source": [
    "import pandas as pd\n",
    "import numpy as np\n",
    "import os\n",
    "import sys\n",
    "import seaborn as sns \n",
    "import matplotlib.pyplot as plt\n",
    "import matplotlib.patches as mpatches\n",
    "from scipy.stats import linregress\n",
    "import EpiClockInvasiveBRCA.src.util as epi_util\n",
    "consts = epi_util.consts\n",
    "import util_loyferNormals as local_util\n",
    "from sklearn.cluster import KMeans"
   ]
  },
  {
   "cell_type": "code",
   "execution_count": 3,
   "id": "7f6af29b-c389-4ad7-bc99-cd50380be63f",
   "metadata": {},
   "outputs": [],
   "source": [
    "## Output directories\n",
    "\n",
    "figure_outdir = 'figures_LoyferNormalsAnticlust'\n",
    "output_dir = 'outputs_LoyferNormalsAnticlust'\n",
    "\n",
    "os.makedirs(figure_outdir, exist_ok=True)\n",
    "os.makedirs(output_dir, exist_ok=True)"
   ]
  },
  {
   "cell_type": "code",
   "execution_count": 5,
   "id": "8a56961d",
   "metadata": {},
   "outputs": [],
   "source": [
    "## Import data\n",
    "\n",
    "# Returns list of \"neutral\" CpGs based on 450k and 850k array annotations\n",
    "# neutral_DNA_CpG_list = local_util.getNeutralDNACpGs()\n",
    "\n",
    "# Import TCGA and normals data\n",
    "data = local_util.getDataDict()"
   ]
  },
  {
   "cell_type": "markdown",
   "id": "9e20a1a3-27e9-4fb8-951d-7a0a808795ae",
   "metadata": {},
   "source": [
    "## Select 500 CpGs"
   ]
  },
  {
   "cell_type": "markdown",
   "id": "80f987df",
   "metadata": {},
   "source": [
    "### Return the set of unbiased CpGs"
   ]
  },
  {
   "cell_type": "code",
   "execution_count": 24,
   "id": "0216866d",
   "metadata": {},
   "outputs": [
    {
     "data": {
      "text/plain": [
       "(3007,)"
      ]
     },
     "execution_count": 24,
     "metadata": {},
     "output_type": "execute_result"
    }
   ],
   "source": [
    "tumor_means = data['tumor']['beta_values_SELECTION'].mean(axis=1)\n",
    "basal_means = data['basal']['beta_values_SELECTION'].mean(axis=1)\n",
    "luminal_means = data['luminal']['beta_values_SELECTION'].mean(axis=1)\n",
    "\n",
    "tumor_centered = (tumor_means > 0.4) & (tumor_means < 0.6)\n",
    "basal_centered = (basal_means > 0.4) & (basal_means < 0.6)\n",
    "luminal_centered = (luminal_means > 0.4) & (luminal_means < 0.6)\n",
    "\n",
    "assert (basal_centered.index == luminal_centered.index).all()\n",
    "assert (tumor_centered.index == luminal_centered.index).all()\n",
    "\n",
    "centered_all = basal_centered.index.values[tumor_centered & basal_centered & luminal_centered]\n",
    "centered_all.shape"
   ]
  },
  {
   "cell_type": "code",
   "execution_count": 20,
   "id": "70f37ef1",
   "metadata": {},
   "outputs": [
    {
     "data": {
      "text/plain": [
       "(1884,)"
      ]
     },
     "execution_count": 20,
     "metadata": {},
     "output_type": "execute_result"
    }
   ],
   "source": [
    "np.intersect1d(centered_both, neutral_DNA_CpG_list).shape"
   ]
  },
  {
   "cell_type": "code",
   "execution_count": 25,
   "id": "70da347a",
   "metadata": {},
   "outputs": [
    {
     "data": {
      "text/plain": [
       "(592,)"
      ]
     },
     "execution_count": 25,
     "metadata": {},
     "output_type": "execute_result"
    }
   ],
   "source": [
    "np.intersect1d(centered_all, neutral_DNA_CpG_list).shape"
   ]
  },
  {
   "cell_type": "code",
   "execution_count": 27,
   "id": "8a555e20",
   "metadata": {},
   "outputs": [
    {
     "name": "stdout",
     "output_type": "stream",
     "text": [
      "Selecting CpGs with 634 TCGA tumors, 4 normal basal samples, 4 normal luminal samples\n",
      "2717 unbiased CpGs\n"
     ]
    }
   ],
   "source": [
    "unbiased_CpGs = local_util.gen_CpG_set(data, neutral_DNA_CpG_list=None, n_select=None)\n",
    "\n",
    "print(f'{unbiased_CpGs.shape[0]} unbiased CpGs')\n",
    "\n",
    "beta_values_unbiased_sites = data['tumor']['beta_values_SELECTION'].loc[unbiased_CpGs]"
   ]
  },
  {
   "cell_type": "code",
   "execution_count": 29,
   "id": "699878a0",
   "metadata": {},
   "outputs": [],
   "source": [
    "def clusteringWeights(km_beta_values, random_state=None):\n",
    "    \"\"\"\n",
    "    Return the clustering weights w_s of each CpG site s\n",
    "    See \"Calculating clustering weight\" notebook in \"Select_fCpGs\" directory\n",
    "    \n",
    "    Parameters\n",
    "    ----------\n",
    "    km_beta_values : DataFrame of beta values (# CpGs x # tumors)\n",
    "    random_state : random_state variable to pass to KMeans for deterministic output\n",
    "    \n",
    "    Returns\n",
    "    -------\n",
    "    w : Series with clustering weight of each site\n",
    "    \"\"\"\n",
    "    km = KMeans(n_clusters=4, random_state=random_state).fit(km_beta_values.T)\n",
    "    \n",
    "    n = pd.Series(km.labels_).value_counts().sort_index()\n",
    "    k_dict = {}\n",
    "    for i in range(n.shape[0]-1):\n",
    "        for j in range(i+1, n.shape[0]):\n",
    "            k_dict[(i, j)] = n.loc[i] * n.loc[j]\n",
    "    k = pd.Series(data=k_dict)\n",
    "    k_frac = k / k.sum()\n",
    "    \n",
    "    w = pd.Series(index=km_beta_values.index, data=0)\n",
    "    n_clusters = km.cluster_centers_.shape[0]\n",
    "    for i in range(n_clusters-1):\n",
    "        for j in range(i+1, n_clusters):\n",
    "            centroid_diff = pd.Series(\n",
    "                data=np.abs(km.cluster_centers_[i] - km.cluster_centers_[j]),\n",
    "                index=km_beta_values.index)\n",
    "            w += centroid_diff * k_frac.loc[(i, j)]\n",
    "    \n",
    "    return w"
   ]
  },
  {
   "cell_type": "code",
   "execution_count": 30,
   "id": "923bf2da",
   "metadata": {},
   "outputs": [
    {
     "name": "stdout",
     "output_type": "stream",
     "text": [
      "Picking 500 target sites\n",
      "2037 not stuck, unbiased sites\n",
      "Picked 500 Clock sites\n"
     ]
    }
   ],
   "source": [
    "target_n = 500\n",
    "print(f'Picking {target_n} target sites')\n",
    "\n",
    "\n",
    "########################\n",
    "##### SELECT SITES #####\n",
    "########################\n",
    "\n",
    "# 1. Eliminate stuck sites\n",
    "\n",
    "# Calculate inter-tumor stdevs of sites\n",
    "# Make array of unbiased sites that are not in the lowest 25%\n",
    "balanced_beta_stdevs = beta_values_unbiased_sites.std(axis=1).dropna()\n",
    "balanced_notStuck = balanced_beta_stdevs.index[balanced_beta_stdevs > np.quantile(balanced_beta_stdevs, 0.25)].values\n",
    "beta_values_unbiased_sites = beta_values_unbiased_sites.loc[balanced_notStuck]\n",
    "\n",
    "print(f'{beta_values_unbiased_sites.shape[0]} not stuck, unbiased sites')\n",
    "\n",
    "# 2. Eliminate clustering sites\n",
    "\n",
    "# Fill missing values with mean of that site across tumors\n",
    "km_beta_values = beta_values_unbiased_sites.apply(lambda x:x.fillna(x.mean()), axis=1)\n",
    "\n",
    "# Determine clustering weights\n",
    "# See local_util for details\n",
    "clustering_weights_list = [clusteringWeights(km_beta_values, random_state=0) for i in range(50)]\n",
    "clustering_weights_ser = pd.concat(clustering_weights_list, axis=1).mean(axis=1)\n",
    "\n",
    "# Sort sites by clustering weights and select 500 sites with the lowest weight\n",
    "Clock_CpGs_final_set = clustering_weights_ser.sort_values().index[:target_n].values\n",
    "\n",
    "print(f'Picked {Clock_CpGs_final_set.shape[0]} Clock sites')"
   ]
  },
  {
   "cell_type": "code",
   "execution_count": 31,
   "id": "bf040d03-0252-46f5-bc99-38d430adc1f3",
   "metadata": {},
   "outputs": [],
   "source": [
    "# Outfile path\n",
    "Clock_CpGs_filepath = os.path.join(output_dir, 'Clock_CpGs.txt')\n",
    "\n",
    "# Save Clock sites, don't overwrite existing file\n",
    "if os.path.exists(Clock_CpGs_filepath):\n",
    "    existing_set = np.loadtxt(Clock_CpGs_filepath, dtype=str)\n",
    "    assert (np.sort(Clock_CpGs_final_set) == np.sort(existing_set)).all()\n",
    "    print('Current output matches existing file.')\n",
    "else:\n",
    "    np.savetxt(Clock_CpGs_filepath, Clock_CpGs_final_set, fmt='%s')"
   ]
  },
  {
   "cell_type": "markdown",
   "id": "a768f509",
   "metadata": {},
   "source": [
    "## Remove tumors for too many missing Clock beta values"
   ]
  },
  {
   "cell_type": "code",
   "execution_count": 32,
   "id": "de1733c0-77a3-481f-87a5-859610bfc060",
   "metadata": {},
   "outputs": [
    {
     "name": "stdout",
     "output_type": "stream",
     "text": [
      "0 tumors were filtered for having >=5% missing values for the 500 selected sites.\n",
      "634 tumors left\n"
     ]
    }
   ],
   "source": [
    "final_sample_set = data['tumor']['beta_values'].columns[data['tumor']['beta_values'].loc[Clock_CpGs_final_set].isna().mean(axis=0) < 0.05]\n",
    "\n",
    "# Count difference in # tumors\n",
    "n_before = data['tumor']['beta_values'].shape[1]\n",
    "n_after = final_sample_set.shape[0]\n",
    "\n",
    "print(f'{n_before - n_after} tumors were filtered for having >=5% missing values for the 500 selected sites.')\n",
    "print(f'{n_after} tumors left')"
   ]
  },
  {
   "cell_type": "markdown",
   "id": "4b9c985c",
   "metadata": {},
   "source": [
    "## Calculate $c_\\beta$ values"
   ]
  },
  {
   "cell_type": "code",
   "execution_count": 33,
   "id": "ed744325",
   "metadata": {},
   "outputs": [],
   "source": [
    "c_beta_final_samples = 1 - data['tumor']['beta_values'].loc[Clock_CpGs_final_set, final_sample_set].std(axis=0)\n",
    "\n",
    "# Outfile path\n",
    "c_beta_filepath = os.path.join(output_dir, 'TCGA.c_beta.txt')\n",
    "\n",
    "# Save c_beta values, don't overwrite existing file\n",
    "if os.path.exists(c_beta_filepath):\n",
    "    existing_c_beta = pd.read_table(c_beta_filepath, index_col=0, header=None).squeeze(\"columns\")\n",
    "    assert (c_beta_final_samples - existing_c_beta < 1e-6).all()\n",
    "    print('Current output matches existing file.')\n",
    "else:\n",
    "    c_beta_final_samples.to_csv(c_beta_filepath, sep='\\t', header=False)"
   ]
  },
  {
   "cell_type": "markdown",
   "id": "9c1c6427",
   "metadata": {},
   "source": [
    "## Save beta values of Clock sites separately\n",
    "Much smaller file, easier to import in other scripts/notebooks"
   ]
  },
  {
   "cell_type": "code",
   "execution_count": 34,
   "id": "e88be3cf",
   "metadata": {},
   "outputs": [],
   "source": [
    "data['tumor']['beta_values'].loc[Clock_CpGs_final_set].to_csv(\n",
    "    os.path.join(consts['TCGA_datadir'], 'TCGA.methyl.Clock_loyferAnticlust.tsv'),\n",
    "    sep='\\t'\n",
    ")"
   ]
  },
  {
   "cell_type": "markdown",
   "id": "cd1ecc37-ce7b-47b9-abbf-1b5e1bcb692d",
   "metadata": {},
   "source": [
    "## Figures"
   ]
  },
  {
   "cell_type": "code",
   "execution_count": null,
   "id": "71ea0152",
   "metadata": {},
   "outputs": [],
   "source": [
    "## Configure graph\n",
    "sf = consts['sf']\n",
    "figsize = np.array([9, 7])\n",
    "sns.set(rc={\"savefig.bbox\":'tight', 'axes.linewidth':sf}, font_scale=1, style='ticks')"
   ]
  },
  {
   "cell_type": "markdown",
   "id": "8a0f27bb",
   "metadata": {},
   "source": [
    "### Prepare data object for figures"
   ]
  },
  {
   "cell_type": "code",
   "execution_count": null,
   "id": "fa0d52b2-2967-4ba3-aa87-fbd083673a12",
   "metadata": {},
   "outputs": [],
   "source": [
    "## Add beta_means, beta_stds, beta_nans to data dict\n",
    "local_util.addMeanStdsNans(data)"
   ]
  },
  {
   "cell_type": "markdown",
   "id": "801d447e-5fa7-41df-bb59-62d377d6e37b",
   "metadata": {},
   "source": [
    "### Visualization of Site Selection - Figures 1A and 1B"
   ]
  },
  {
   "cell_type": "code",
   "execution_count": null,
   "id": "38715101-46f2-4a4c-9346-5c776b0466f6",
   "metadata": {},
   "outputs": [],
   "source": [
    "## Figure 1A\n",
    "\n",
    "# Plot tumor and normals mean beta of each site\n",
    "# Highlight region of neutral sites\n",
    "\n",
    "# Create plot\n",
    "fig, ax = plt.subplots(1, 1, figsize=figsize * sf)\n",
    "sns.scatterplot(ax=ax, x=data['tumor']['beta_means'].loc[neutral_DNA_CpG_list],\n",
    "                y=data['normal']['beta_means'].loc[neutral_DNA_CpG_list], s = 5 * sf**2,\n",
    "                color=consts['palette_jco'][2], alpha=consts['opacity']\n",
    "               )\n",
    "\n",
    "# Customize figure\n",
    "ax.set_xlabel('Average β in TCGA', fontsize=consts['labelfontsize'] * sf)\n",
    "ax.set_ylabel('Average β in normals', fontsize=consts['labelfontsize'] * sf)\n",
    "ax.set_title(f'Neutral CpGs (n = {len(neutral_DNA_CpG_list)})', fontsize=consts['labelfontsize'] * sf)\n",
    "ax.tick_params(axis='both', labelsize=consts['ticksfontsize'] * sf, width=sf, length=8 * sf)\n",
    "\n",
    "# Add highlighted region for unbiased sites\n",
    "lower = 0.4\n",
    "upper = 0.6\n",
    "ax.fill([lower, upper, upper, lower], [lower, lower, upper, upper],\n",
    "        color=consts['palette_jco'][3], alpha=0.5, lw=4 * sf)\n",
    "\n",
    "# Add text and arrow labeling the highlighted region\n",
    "ax.text(0.35, 0.85, 'Unbiased CpGs',\n",
    "        ha=\"right\", va=\"bottom\", fontfamily='sans-serif', color='black',\n",
    "        fontsize=consts['labelfontsize'] * 0.8 * sf)\n",
    "ax.arrow(0.18, 0.82, 0.22, -0.22, color='black', length_includes_head=True, head_width=0.03, lw=0.5)\n",
    "\n",
    "# Save figure\n",
    "fig.savefig(os.path.join(figure_outdir, 'Figure_2_A.pdf'), format='pdf', pad_inches=0.1)"
   ]
  },
  {
   "cell_type": "code",
   "execution_count": null,
   "id": "c1aa7972",
   "metadata": {},
   "outputs": [],
   "source": [
    "## Figure 1B\n",
    "\n",
    "# Plot inter-tumor standard deviation of beta for each unbiased site\n",
    "# Color blue the Clock sites selected (most variable sites)\n",
    "\n",
    "# Generate the set of unbiased sites\n",
    "balanced_means_CpGs = local_util.getCpG_list(data, local_util.CLOCK_CRITERIA, starting_CpG_list=neutral_DNA_CpG_list)\n",
    "\n",
    "# Create plot\n",
    "fig, ax = plt.subplots(1, 1, figsize=figsize * sf)\n",
    "sns.histplot(ax=ax,      # Non-fluctuating sites\n",
    "             x=data['tumor']['beta_stds'].loc[balanced_means_CpGs[~np.isin(balanced_means_CpGs, Clock_CpGs_final_set)]],\n",
    "             color=consts['palette_jco'][3], alpha=consts['opacity']\n",
    "            )\n",
    "sns.histplot(ax=ax,      # Fluctuating sites\n",
    "             x=data['tumor']['beta_stds'].loc[Clock_CpGs_final_set],\n",
    "             color=consts['palette_jco'][0], alpha=consts['opacity']\n",
    "            )\n",
    "\n",
    "# Customize figure\n",
    "ax.set_xlabel('Intertumor standard deviation of β in TCGA', fontsize=consts['labelfontsize'] * sf)\n",
    "ax.set_ylabel(ax.get_ylabel(), fontsize=consts['labelfontsize'] * sf)\n",
    "ax.set_title(f'Neutral and unbiased CpGs (n = {len(balanced_means_CpGs)})', fontsize=consts['labelfontsize'] * sf)\n",
    "ax.tick_params(axis='both', labelsize=consts['ticksfontsize'] * sf, width=sf, length=8 * sf)\n",
    "\n",
    "# Label fluctuating sites\n",
    "ax.text(0.235, 55, 'Fluctuating CpGs',\n",
    "        ha=\"left\", va=\"bottom\", fontfamily='sans-serif', color='black',\n",
    "        fontsize=consts['labelfontsize'] * 0.8 * sf)\n",
    "\n",
    "# Save figure\n",
    "fig.savefig(os.path.join(figure_outdir, 'Figure_2_B.pdf'), format='pdf', pad_inches=0.1)"
   ]
  },
  {
   "cell_type": "markdown",
   "id": "d4ff50ec-b745-42e0-b60e-bd5731e2f3e2",
   "metadata": {},
   "source": [
    "### Display CpG Examples - Figure 2E"
   ]
  },
  {
   "cell_type": "code",
   "execution_count": null,
   "id": "294ba91c-585c-4fd9-9062-be6da7acfd79",
   "metadata": {},
   "outputs": [],
   "source": [
    "## Plot beta value distribution of two example CpG sites in tumors and normals\n",
    "\n",
    "CpGs_chosen = ['cg07582923', 'cg04197086']\n",
    "\n",
    "# Create plot axes\n",
    "fig, axes = plt.subplots(1, 2, figsize=figsize * sf * [2.3, 1])\n",
    "\n",
    "# Select colors and create legend\n",
    "color_dict = {'TCGA':consts['palette_jco'][0], 'Normals':consts['palette_jco'][3]}\n",
    "patches = [mpatches.Patch(color=color_dict[cohort], label=cohort) for cohort in color_dict.keys()]\n",
    "plots_x, plots_y = axes[0].get_position().get_points()[1]\n",
    "fig.legend(handles=patches,\n",
    "           loc='upper left',\n",
    "           bbox_to_anchor=(plots_x - .33, plots_y - 0.05),\n",
    "           fontsize=0.8*consts['labelfontsize'] * sf\n",
    "          )\n",
    "\n",
    "\n",
    "\n",
    "# Max y-axis top limit (between the two plots)\n",
    "# Used to align the y-axes after plotting\n",
    "ymax_max = 0\n",
    "\n",
    "for i, CpG in enumerate(CpGs_chosen):\n",
    "    ax = axes[i]\n",
    "    \n",
    "    # Create long-form dataframe with \"Cohort\" variable\n",
    "    plot_data = pd.concat([\n",
    "        pd.DataFrame({'beta':data['tumor']['beta_values_SELECTION'].loc[CpG], 'Cohort':'TCGA'}),\n",
    "        pd.DataFrame({'beta':data['normal']['beta_values_SELECTION'].loc[CpG], 'Cohort':'Normals'})\n",
    "    ], axis=0)\n",
    "    \n",
    "    # Plot data\n",
    "    sns.histplot(ax=ax, data=plot_data, x='beta', hue='Cohort',\n",
    "                 common_norm=False, stat='proportion', palette=color_dict, legend=False, alpha=consts['opacity'])\n",
    "    \n",
    "    # Customize figure\n",
    "    ax.set_xlabel('β', fontsize=consts['labelfontsize'] * sf)\n",
    "    ax.set_title(CpG, fontsize=consts['labelfontsize'] * sf)\n",
    "    ax.tick_params(axis='both', labelsize=consts['ticksfontsize'] * sf, width=sf, length=8 * sf)\n",
    "\n",
    "    # Update max y-axis top limit\n",
    "    ymax_max = max(ymax_max, ax.get_ylim()[1])\n",
    "\n",
    "# Align both plots to the same limits\n",
    "axes[0].set_ylim(0, ymax_max)\n",
    "axes[1].set_ylim(0, ymax_max)\n",
    "axes[0].set_xlim(0, 1)\n",
    "axes[1].set_xlim(0, 1)\n",
    "\n",
    "# Only need y-axis label on left plot\n",
    "axes[0].set_ylabel(axes[1].get_ylabel(), fontsize=consts['labelfontsize'] * sf)\n",
    "axes[1].set_ylabel('')\n",
    "\n",
    "# Save figure\n",
    "fig.savefig(os.path.join(figure_outdir, 'Figure_2_E.pdf'), format='pdf', pad_inches=0.1)"
   ]
  },
  {
   "cell_type": "markdown",
   "id": "c6ccdfff",
   "metadata": {},
   "source": [
    "### Statistics"
   ]
  },
  {
   "cell_type": "code",
   "execution_count": null,
   "id": "73ea7e76",
   "metadata": {},
   "outputs": [],
   "source": [
    "### DELETE\n",
    "# c_beta_final_samples = pd.read_table(os.path.join(output_dir, 'TCGA.c_beta.txt'), index_col=0, header=None).squeeze(\"columns\")"
   ]
  },
  {
   "cell_type": "code",
   "execution_count": null,
   "id": "e6401604",
   "metadata": {},
   "outputs": [],
   "source": [
    "# Calculate s_beta for tumors\n",
    "s_beta_tumors = 1 - c_beta_final_samples\n",
    "\n",
    "# Calculate s_beta for normals\n",
    "# Apply same threshold for missing Clock sites\n",
    "final_sample_set_normals = data['normal']['beta_values_SELECTION'].columns[data['normal']['beta_values_SELECTION'].loc[Clock_CpGs_final_set].isna().mean(axis=0) < 0.05]\n",
    "s_beta_normals = data['normal']['beta_values_SELECTION'].loc[Clock_CpGs_final_set, final_sample_set_normals].std(axis=0)\n",
    "\n",
    "# Calculate wilcoxon rank-sums p-values\n",
    "pvalue = epi_util.wilcoxonRankSums(s_beta_tumors, s_beta_normals).pvalue\n",
    "\n",
    "print(f'Median standard deviation of clock beta values in TCGA tumors: {np.median(s_beta_tumors):.3f}')\n",
    "print(f'Median standard deviation of clock beta values in normal breast samples: {np.median(s_beta_normals):.3f}')\n",
    "print(f'Wilcoxon rank sum test: p = {pvalue:.0e}')"
   ]
  }
 ],
 "metadata": {
  "kernelspec": {
   "display_name": "Python 3 (ipykernel)",
   "language": "python",
   "name": "python3"
  },
  "language_info": {
   "codemirror_mode": {
    "name": "ipython",
    "version": 3
   },
   "file_extension": ".py",
   "mimetype": "text/x-python",
   "name": "python",
   "nbconvert_exporter": "python",
   "pygments_lexer": "ipython3",
   "version": "3.9.19"
  }
 },
 "nbformat": 4,
 "nbformat_minor": 5
}
