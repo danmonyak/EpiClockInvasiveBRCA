{
 "cells": [
  {
   "cell_type": "markdown",
   "id": "c43d953e-0fd5-4d22-80ff-4d31c2418828",
   "metadata": {},
   "source": [
    "# Select fCpGs\n",
    "\n",
    "Run all cells to:\n",
    "- Import TCGA and normal samples methylation data\n",
    "- Select Clock (fCpG) sites and save\n",
    "- Refine final list of tumors and save\n",
    "- Calculate $c_\\beta$ values and save\n",
    "- Save beta values of Clock sites separately\n",
    "- Generate figures relating to this site selection\n",
    "- Calculate some statistics"
   ]
  },
  {
   "cell_type": "code",
   "execution_count": 5,
   "id": "1e1c4b14",
   "metadata": {},
   "outputs": [],
   "source": [
    "import pandas as pd\n",
    "import numpy as np\n",
    "import os\n",
    "import sys\n",
    "import seaborn as sns \n",
    "import matplotlib.pyplot as plt\n",
    "import matplotlib.patches as mpatches\n",
    "from scipy.stats import linregress, chi2_contingency\n",
    "import EpiClockInvasiveBRCA.src.util as epi_util\n",
    "consts = epi_util.consts\n",
    "import util_revision as local_util"
   ]
  },
  {
   "cell_type": "code",
   "execution_count": 6,
   "id": "7f6af29b-c389-4ad7-bc99-cd50380be63f",
   "metadata": {},
   "outputs": [],
   "source": [
    "## Output directories\n",
    "\n",
    "figure_outdir = 'figures_revision'\n",
    "output_dir = 'outputs_revision'\n",
    "\n",
    "os.makedirs(figure_outdir, exist_ok=True)\n",
    "os.makedirs(output_dir, exist_ok=True)"
   ]
  },
  {
   "cell_type": "code",
   "execution_count": 16,
   "id": "8a56961d",
   "metadata": {},
   "outputs": [],
   "source": [
    "## Import data\n",
    "\n",
    "# Returns list of \"neutral\" CpGs based on 450k and 850k array annotations\n",
    "neutral_DNA_CpG_list = local_util.getNeutralDNACpGs()\n",
    "\n",
    "# Import TCGA and normals data\n",
    "data = local_util.getDataDict()"
   ]
  },
  {
   "cell_type": "markdown",
   "id": "ab5c22ea",
   "metadata": {},
   "source": [
    "### Report purity of loyfer normals"
   ]
  },
  {
   "cell_type": "code",
   "execution_count": null,
   "id": "5cf4a77f",
   "metadata": {},
   "outputs": [],
   "source": [
    "# loyfer_indir = os.path.join(consts['official_indir'], 'Loyfer')\n",
    "# basal = pd.read_table(os.path.join(loyfer_indir, 'beta_values-Breast-Basal.tsv'), index_col=0)\n",
    "# luminal = pd.read_table(os.path.join(loyfer_indir, 'beta_values-Breast-Luminal.tsv'), index_col=0)\n",
    "# basal_LUMP = epi_util.getLUMP_values(basal)\n",
    "# luminal_LUMP = epi_util.getLUMP_values(luminal)\n",
    "basal_LUMP = data['basal']['purity']\n",
    "luminal_LUMP = data['luminal']['purity']\n",
    "\n",
    "display(basal_LUMP)\n",
    "display(luminal_LUMP)\n",
    "\n",
    "print(min(min(basal_LUMP), min(luminal_LUMP)))"
   ]
  },
  {
   "cell_type": "markdown",
   "id": "3be5abee",
   "metadata": {},
   "source": [
    "### Output LUMP values while all the beta values are loaded"
   ]
  },
  {
   "cell_type": "code",
   "execution_count": 7,
   "id": "f933604f",
   "metadata": {},
   "outputs": [],
   "source": [
    "# Unrelated\n",
    "TCGA_LUMP_values = epi_util.getLUMP_values(data['tumor']['beta_values']).rename('LUMP')\n",
    "TCGA_LUMP_values.to_csv(os.path.join(consts['TCGA_datadir'], 'TCGA.LUMP_values.tsv'), sep='\\t')"
   ]
  },
  {
   "cell_type": "markdown",
   "id": "9e20a1a3-27e9-4fb8-951d-7a0a808795ae",
   "metadata": {},
   "source": [
    "## Select 500 CpGs"
   ]
  },
  {
   "cell_type": "code",
   "execution_count": 11,
   "id": "bf040d03-0252-46f5-bc99-38d430adc1f3",
   "metadata": {},
   "outputs": [
    {
     "name": "stdout",
     "output_type": "stream",
     "text": [
      "Selecting CpGs with 634 TCGA tumors, 4 normal basal samples, 4 normal luminal samples, 79 normal bulk samples\n",
      "Starting with 482421 CpGs\n",
      "Picking 500 from with 1187 resulting CpGs\n",
      "Current output matches existing file.\n"
     ]
    }
   ],
   "source": [
    "# Return the Clock set of CpGs\n",
    "Clock_CpGs_final_set = local_util.gen_CpG_set(data, neutral_DNA_CpG_list=None)\n",
    "\n",
    "# Outfile path\n",
    "Clock_CpGs_filepath = os.path.join(output_dir, 'Clock_CpGs.txt')\n",
    "\n",
    "# Save Clock sites, don't overwrite existing file\n",
    "if os.path.exists(Clock_CpGs_filepath):\n",
    "    existing_set = np.loadtxt(Clock_CpGs_filepath, dtype=str)\n",
    "    assert (np.sort(Clock_CpGs_final_set) == np.sort(existing_set)).all()\n",
    "    print('Current output matches existing file.')\n",
    "else:\n",
    "    np.savetxt(Clock_CpGs_filepath, Clock_CpGs_final_set, fmt='%s')"
   ]
  },
  {
   "cell_type": "markdown",
   "id": "7b51a49e",
   "metadata": {},
   "source": [
    "### Chi-square test - neutral DNA CpGs"
   ]
  },
  {
   "cell_type": "code",
   "execution_count": 17,
   "id": "a20cc203",
   "metadata": {},
   "outputs": [
    {
     "name": "stdout",
     "output_type": "stream",
     "text": [
      "Contingency table:\n"
     ]
    },
    {
     "data": {
      "text/plain": [
       "array([[ 85961, 395960],\n",
       "       [   138,    362]])"
      ]
     },
     "metadata": {},
     "output_type": "display_data"
    },
    {
     "name": "stdout",
     "output_type": "stream",
     "text": [
      "\n",
      "Chi square: P = 2e-08\n",
      "Fraction of non-Clock sites that are neutral:  0.178\n",
      "Fraction of Clock sites that are neutral:  0.276\n",
      "Odds ratio: 1.76\n"
     ]
    }
   ],
   "source": [
    "# Construct sets for easy and intersection and difference functions\n",
    "allCpGs_set = set(data['allCpGs'])\n",
    "Clock_CpGs_set = set(Clock_CpGs_final_set)\n",
    "neutral_DNA_CpG_list_set = set(neutral_DNA_CpG_list)\n",
    "notClock_CpGs_set = allCpGs_set.difference(Clock_CpGs_set)\n",
    "\n",
    "# Derive counts for contingency table\n",
    "n_notClock_neutral = len(notClock_CpGs_set.intersection(neutral_DNA_CpG_list_set))\n",
    "n_notClock_notNeutral = len(notClock_CpGs_set.difference(neutral_DNA_CpG_list_set))\n",
    "\n",
    "n_clock_neutral = len(Clock_CpGs_set.intersection(neutral_DNA_CpG_list_set))\n",
    "n_clock_notNeutral = len(Clock_CpGs_set.difference(neutral_DNA_CpG_list_set))\n",
    "\n",
    "# Make contingency table\n",
    "observed_values = np.array(\n",
    "    [\n",
    "        [n_notClock_neutral, n_notClock_notNeutral],\n",
    "        [n_clock_neutral, n_clock_notNeutral]\n",
    "    ]\n",
    ")\n",
    "print('Contingency table:')\n",
    "display(observed_values)\n",
    "\n",
    "chi2, p_value, degrees_of_freedom, expected_values = chi2_contingency(observed_values)\n",
    "print(f'\\nChi square: P = {p_value:.0e}')\n",
    "\n",
    "print(f'Fraction of non-Clock sites that are neutral: {n_notClock_neutral / len(notClock_CpGs_set) : .3f}')\n",
    "print(f'Fraction of Clock sites that are neutral: {n_clock_neutral / len(Clock_CpGs_set) : .3f}')\n",
    "\n",
    "odds_ratio = (observed_values[0, 1]*observed_values[1, 0]) / (observed_values[0, 0]*observed_values[1, 1])\n",
    "print(f'Odds ratio: {odds_ratio:.2f}')"
   ]
  },
  {
   "cell_type": "markdown",
   "id": "a768f509",
   "metadata": {},
   "source": [
    "## Remove tumors for too many missing Clock beta values"
   ]
  },
  {
   "cell_type": "code",
   "execution_count": 18,
   "id": "de1733c0-77a3-481f-87a5-859610bfc060",
   "metadata": {},
   "outputs": [
    {
     "name": "stdout",
     "output_type": "stream",
     "text": [
      "1 tumors were filtered for having >=5% missing values for the 500 selected sites.\n",
      "633 tumors left\n"
     ]
    }
   ],
   "source": [
    "final_sample_set = data['tumor']['beta_values'].columns[data['tumor']['beta_values'].loc[Clock_CpGs_final_set].isna().mean(axis=0) < 0.05]\n",
    "\n",
    "# Count difference in # tumors\n",
    "n_before = data['tumor']['beta_values'].shape[1]\n",
    "n_after = final_sample_set.shape[0]\n",
    "\n",
    "print(f'{n_before - n_after} tumors were filtered for having >=5% missing values for the 500 selected sites.')\n",
    "print(f'{n_after} tumors left')"
   ]
  },
  {
   "cell_type": "markdown",
   "id": "4b9c985c",
   "metadata": {},
   "source": [
    "## Calculate $c_\\beta$ values"
   ]
  },
  {
   "cell_type": "code",
   "execution_count": 22,
   "id": "ed744325",
   "metadata": {},
   "outputs": [
    {
     "name": "stdout",
     "output_type": "stream",
     "text": [
      "Current output matches existing file.\n"
     ]
    }
   ],
   "source": [
    "c_beta_final_samples = 1 - data['tumor']['beta_values'].loc[Clock_CpGs_final_set, final_sample_set].std(axis=0)\n",
    "\n",
    "# Outfile path\n",
    "c_beta_filepath = os.path.join(output_dir, 'TCGA.c_beta.txt')\n",
    "\n",
    "# Save c_beta values, don't overwrite existing file\n",
    "if os.path.exists(c_beta_filepath):\n",
    "    existing_c_beta = pd.read_table(c_beta_filepath, index_col=0, header=None).squeeze(\"columns\")\n",
    "    assert (c_beta_final_samples - existing_c_beta < 1e-6).all()\n",
    "    print('Current output matches existing file.')\n",
    "else:\n",
    "    c_beta_final_samples.to_csv(c_beta_filepath, sep='\\t', header=False)"
   ]
  },
  {
   "cell_type": "markdown",
   "id": "9c1c6427",
   "metadata": {},
   "source": [
    "## Save beta values of Clock sites separately\n",
    "Much smaller files, easier to import in other scripts/notebooks"
   ]
  },
  {
   "cell_type": "code",
   "execution_count": 19,
   "id": "f869a382",
   "metadata": {},
   "outputs": [],
   "source": [
    "beta_values_Clock_TCGA = data['tumor']['beta_values'].loc[Clock_CpGs_final_set, final_sample_set]\n",
    "beta_values_Clock_normals = data['normals']['beta_values_SELECTION'].loc[Clock_CpGs_final_set]"
   ]
  },
  {
   "cell_type": "code",
   "execution_count": 48,
   "id": "e88be3cf",
   "metadata": {},
   "outputs": [
    {
     "ename": "ImportError",
     "evalue": "cannot import name 'SequenceNotStr' from 'pandas._typing' (/Users/danielmonyak/opt/anaconda3/lib/python3.9/site-packages/pandas/_typing.py)",
     "output_type": "error",
     "traceback": [
      "\u001b[0;31m---------------------------------------------------------------------------\u001b[0m",
      "\u001b[0;31mImportError\u001b[0m                               Traceback (most recent call last)",
      "\u001b[0;32m/var/folders/m9/kv2y3r0s0p1_cl3s3py1wprh0000gn/T/ipykernel_3147/928737592.py\u001b[0m in \u001b[0;36m<module>\u001b[0;34m\u001b[0m\n\u001b[1;32m      2\u001b[0m \u001b[0mbeta_values_Clock_normals\u001b[0m \u001b[0;34m=\u001b[0m \u001b[0mdata\u001b[0m\u001b[0;34m[\u001b[0m\u001b[0;34m'normals'\u001b[0m\u001b[0;34m]\u001b[0m\u001b[0;34m[\u001b[0m\u001b[0;34m'beta_values'\u001b[0m\u001b[0;34m]\u001b[0m\u001b[0;34m.\u001b[0m\u001b[0mloc\u001b[0m\u001b[0;34m[\u001b[0m\u001b[0mClock_CpGs_final_set\u001b[0m\u001b[0;34m]\u001b[0m\u001b[0;34m\u001b[0m\u001b[0;34m\u001b[0m\u001b[0m\n\u001b[1;32m      3\u001b[0m \u001b[0;34m\u001b[0m\u001b[0m\n\u001b[0;32m----> 4\u001b[0;31m beta_values_Clock_TCGA.to_csv(\n\u001b[0m\u001b[1;32m      5\u001b[0m     \u001b[0mos\u001b[0m\u001b[0;34m.\u001b[0m\u001b[0mpath\u001b[0m\u001b[0;34m.\u001b[0m\u001b[0mjoin\u001b[0m\u001b[0;34m(\u001b[0m\u001b[0mconsts\u001b[0m\u001b[0;34m[\u001b[0m\u001b[0;34m'TCGA_datadir'\u001b[0m\u001b[0;34m]\u001b[0m\u001b[0;34m,\u001b[0m \u001b[0;34m'TCGA.methyl.Clock_revision.tsv'\u001b[0m\u001b[0;34m)\u001b[0m\u001b[0;34m,\u001b[0m\u001b[0;34m\u001b[0m\u001b[0;34m\u001b[0m\u001b[0m\n\u001b[1;32m      6\u001b[0m     \u001b[0msep\u001b[0m\u001b[0;34m=\u001b[0m\u001b[0;34m'\\t'\u001b[0m\u001b[0;34m\u001b[0m\u001b[0;34m\u001b[0m\u001b[0m\n",
      "\u001b[0;32m~/opt/anaconda3/lib/python3.9/site-packages/pandas/util/_decorators.py\u001b[0m in \u001b[0;36mwrapper\u001b[0;34m(*args, **kwargs)\u001b[0m\n\u001b[1;32m    209\u001b[0m                         \u001b[0;34mf\"or {repr(new_arg_name)}, not both.\"\u001b[0m\u001b[0;34m\u001b[0m\u001b[0;34m\u001b[0m\u001b[0m\n\u001b[1;32m    210\u001b[0m                     )\n\u001b[0;32m--> 211\u001b[0;31m                     \u001b[0;32mraise\u001b[0m \u001b[0mTypeError\u001b[0m\u001b[0;34m(\u001b[0m\u001b[0mmsg\u001b[0m\u001b[0;34m)\u001b[0m\u001b[0;34m\u001b[0m\u001b[0;34m\u001b[0m\u001b[0m\n\u001b[0m\u001b[1;32m    212\u001b[0m                 \u001b[0mkwargs\u001b[0m\u001b[0;34m[\u001b[0m\u001b[0mnew_arg_name\u001b[0m\u001b[0;34m]\u001b[0m \u001b[0;34m=\u001b[0m \u001b[0mnew_arg_value\u001b[0m\u001b[0;34m\u001b[0m\u001b[0;34m\u001b[0m\u001b[0m\n\u001b[1;32m    213\u001b[0m             \u001b[0;32mreturn\u001b[0m \u001b[0mfunc\u001b[0m\u001b[0;34m(\u001b[0m\u001b[0;34m*\u001b[0m\u001b[0margs\u001b[0m\u001b[0;34m,\u001b[0m \u001b[0;34m**\u001b[0m\u001b[0mkwargs\u001b[0m\u001b[0;34m)\u001b[0m\u001b[0;34m\u001b[0m\u001b[0;34m\u001b[0m\u001b[0m\n",
      "\u001b[0;32m~/opt/anaconda3/lib/python3.9/site-packages/pandas/core/generic.py\u001b[0m in \u001b[0;36mto_csv\u001b[0;34m(self, path_or_buf, sep, na_rep, float_format, columns, header, index, index_label, mode, encoding, compression, quoting, quotechar, lineterminator, chunksize, date_format, doublequote, escapechar, decimal, errors, storage_options)\u001b[0m\n\u001b[1;32m   3718\u001b[0m         \u001b[0mReturns\u001b[0m\u001b[0;34m\u001b[0m\u001b[0;34m\u001b[0m\u001b[0m\n\u001b[1;32m   3719\u001b[0m         \u001b[0;34m-\u001b[0m\u001b[0;34m-\u001b[0m\u001b[0;34m-\u001b[0m\u001b[0;34m-\u001b[0m\u001b[0;34m-\u001b[0m\u001b[0;34m-\u001b[0m\u001b[0;34m-\u001b[0m\u001b[0;34m\u001b[0m\u001b[0;34m\u001b[0m\u001b[0m\n\u001b[0;32m-> 3720\u001b[0;31m         \u001b[0mstr\u001b[0m \u001b[0;32mor\u001b[0m \u001b[0;32mNone\u001b[0m\u001b[0;34m\u001b[0m\u001b[0;34m\u001b[0m\u001b[0m\n\u001b[0m\u001b[1;32m   3721\u001b[0m             \u001b[0mIf\u001b[0m \u001b[0mbuf\u001b[0m \u001b[0;32mis\u001b[0m \u001b[0;32mNone\u001b[0m\u001b[0;34m,\u001b[0m \u001b[0mreturns\u001b[0m \u001b[0mthe\u001b[0m \u001b[0mresult\u001b[0m \u001b[0;32mas\u001b[0m \u001b[0ma\u001b[0m \u001b[0mstring\u001b[0m\u001b[0;34m.\u001b[0m \u001b[0mOtherwise\u001b[0m \u001b[0mreturns\u001b[0m \u001b[0;32mNone\u001b[0m\u001b[0;34m.\u001b[0m\u001b[0;34m\u001b[0m\u001b[0;34m\u001b[0m\u001b[0m\n\u001b[1;32m   3722\u001b[0m         \"\"\"\n",
      "\u001b[0;32m~/opt/anaconda3/lib/python3.9/site-packages/pandas/util/_decorators.py\u001b[0m in \u001b[0;36mwrapper\u001b[0;34m(*args, **kwargs)\u001b[0m\n\u001b[1;32m    209\u001b[0m                         \u001b[0;34mf\"or {repr(new_arg_name)}, not both.\"\u001b[0m\u001b[0;34m\u001b[0m\u001b[0;34m\u001b[0m\u001b[0m\n\u001b[1;32m    210\u001b[0m                     )\n\u001b[0;32m--> 211\u001b[0;31m                     \u001b[0;32mraise\u001b[0m \u001b[0mTypeError\u001b[0m\u001b[0;34m(\u001b[0m\u001b[0mmsg\u001b[0m\u001b[0;34m)\u001b[0m\u001b[0;34m\u001b[0m\u001b[0;34m\u001b[0m\u001b[0m\n\u001b[0m\u001b[1;32m    212\u001b[0m                 \u001b[0mkwargs\u001b[0m\u001b[0;34m[\u001b[0m\u001b[0mnew_arg_name\u001b[0m\u001b[0;34m]\u001b[0m \u001b[0;34m=\u001b[0m \u001b[0mnew_arg_value\u001b[0m\u001b[0;34m\u001b[0m\u001b[0;34m\u001b[0m\u001b[0m\n\u001b[1;32m    213\u001b[0m             \u001b[0;32mreturn\u001b[0m \u001b[0mfunc\u001b[0m\u001b[0;34m(\u001b[0m\u001b[0;34m*\u001b[0m\u001b[0margs\u001b[0m\u001b[0;34m,\u001b[0m \u001b[0;34m**\u001b[0m\u001b[0mkwargs\u001b[0m\u001b[0;34m)\u001b[0m\u001b[0;34m\u001b[0m\u001b[0;34m\u001b[0m\u001b[0m\n",
      "\u001b[0;32m~/opt/anaconda3/lib/python3.9/site-packages/pandas/io/formats/format.py\u001b[0m in \u001b[0;36mto_csv\u001b[0;34m(self, path_or_buf, encoding, sep, columns, index_label, mode, compression, quoting, quotechar, lineterminator, chunksize, date_format, doublequote, escapechar, errors, storage_options)\u001b[0m\n\u001b[1;32m   1160\u001b[0m \u001b[0;34m\u001b[0m\u001b[0m\n\u001b[1;32m   1161\u001b[0m     \u001b[0;32mreturn\u001b[0m \u001b[0mfmt_obj\u001b[0m\u001b[0;34m.\u001b[0m\u001b[0mget_result\u001b[0m\u001b[0;34m(\u001b[0m\u001b[0;34m)\u001b[0m\u001b[0;34m\u001b[0m\u001b[0;34m\u001b[0m\u001b[0m\n\u001b[0;32m-> 1162\u001b[0;31m \u001b[0;34m\u001b[0m\u001b[0m\n\u001b[0m\u001b[1;32m   1163\u001b[0m \u001b[0;34m\u001b[0m\u001b[0m\n\u001b[1;32m   1164\u001b[0m \u001b[0;32mclass\u001b[0m \u001b[0m_GenericArrayFormatter\u001b[0m\u001b[0;34m:\u001b[0m\u001b[0;34m\u001b[0m\u001b[0;34m\u001b[0m\u001b[0m\n",
      "\u001b[0;32m~/opt/anaconda3/lib/python3.9/site-packages/pandas/io/formats/csvs.py\u001b[0m in \u001b[0;36m<module>\u001b[0;34m\u001b[0m\n\u001b[1;32m     22\u001b[0m \u001b[0;34m\u001b[0m\u001b[0m\n\u001b[1;32m     23\u001b[0m \u001b[0;32mfrom\u001b[0m \u001b[0mpandas\u001b[0m\u001b[0;34m.\u001b[0m\u001b[0m_libs\u001b[0m \u001b[0;32mimport\u001b[0m \u001b[0mwriters\u001b[0m \u001b[0;32mas\u001b[0m \u001b[0mlibwriters\u001b[0m\u001b[0;34m\u001b[0m\u001b[0;34m\u001b[0m\u001b[0m\n\u001b[0;32m---> 24\u001b[0;31m \u001b[0;32mfrom\u001b[0m \u001b[0mpandas\u001b[0m\u001b[0;34m.\u001b[0m\u001b[0m_typing\u001b[0m \u001b[0;32mimport\u001b[0m \u001b[0mSequenceNotStr\u001b[0m\u001b[0;34m\u001b[0m\u001b[0;34m\u001b[0m\u001b[0m\n\u001b[0m\u001b[1;32m     25\u001b[0m \u001b[0;32mfrom\u001b[0m \u001b[0mpandas\u001b[0m\u001b[0;34m.\u001b[0m\u001b[0mutil\u001b[0m\u001b[0;34m.\u001b[0m\u001b[0m_decorators\u001b[0m \u001b[0;32mimport\u001b[0m \u001b[0mcache_readonly\u001b[0m\u001b[0;34m\u001b[0m\u001b[0;34m\u001b[0m\u001b[0m\n\u001b[1;32m     26\u001b[0m \u001b[0;34m\u001b[0m\u001b[0m\n",
      "\u001b[0;31mImportError\u001b[0m: cannot import name 'SequenceNotStr' from 'pandas._typing' (/Users/danielmonyak/opt/anaconda3/lib/python3.9/site-packages/pandas/_typing.py)"
     ]
    }
   ],
   "source": [
    "beta_values_Clock_TCGA.to_csv(\n",
    "    os.path.join(consts['TCGA_datadir'], 'TCGA.methyl.Clock_revision.tsv'),\n",
    "    sep='\\t'\n",
    ")\n",
    "beta_values_Clock_normals.to_csv(\n",
    "    os.path.join(consts['official_indir'], 'Johnson', 'Johnson.methyl.Clock_revision.tsv'),\n",
    "    sep='\\t'\n",
    ")"
   ]
  },
  {
   "cell_type": "markdown",
   "id": "cd1ecc37-ce7b-47b9-abbf-1b5e1bcb692d",
   "metadata": {},
   "source": [
    "## Figures"
   ]
  },
  {
   "cell_type": "code",
   "execution_count": 20,
   "id": "71ea0152",
   "metadata": {},
   "outputs": [],
   "source": [
    "## Configure graph\n",
    "sf = consts['sf']\n",
    "figsize = np.array([9, 7])\n",
    "sns.set(rc={\"savefig.bbox\":'tight', 'axes.linewidth':sf}, font_scale=1, style='ticks')"
   ]
  },
  {
   "cell_type": "markdown",
   "id": "8a0f27bb",
   "metadata": {},
   "source": [
    "### Prepare data object for figures"
   ]
  },
  {
   "cell_type": "code",
   "execution_count": 65,
   "id": "fa0d52b2-2967-4ba3-aa87-fbd083673a12",
   "metadata": {},
   "outputs": [],
   "source": [
    "## Add beta_means, beta_stds, beta_nans to data dict\n",
    "local_util.addMeanStdsNans(data)"
   ]
  },
  {
   "cell_type": "markdown",
   "id": "801d447e-5fa7-41df-bb59-62d377d6e37b",
   "metadata": {},
   "source": [
    "### Visualization of Site Selection - Figures 2A and 2B"
   ]
  },
  {
   "cell_type": "code",
   "execution_count": 69,
   "id": "dfb11abc",
   "metadata": {},
   "outputs": [
    {
     "name": "stdout",
     "output_type": "stream",
     "text": [
      "Starting with 482421 CpGs\n"
     ]
    },
    {
     "data": {
      "image/png": "[encoded data removed]",
      "text/plain": [
       "<Figure size 518.4x201.6 with 2 Axes>"
      ]
     },
     "metadata": {
      "needs_background": "light"
     },
     "output_type": "display_data"
    }
   ],
   "source": [
    "## Figure 2A\n",
    "\n",
    "# Plot tumor and normals mean beta of each site\n",
    "# Highlight region of selected sites\n",
    "\n",
    "fig, axes = plt.subplots(1, 2, figsize=figsize * [2, 1] * sf)\n",
    "fig.tight_layout(w_pad=4)\n",
    "\n",
    "########################################\n",
    "############### Left plot ##############\n",
    "########################################\n",
    "\n",
    "# Plot data\n",
    "sns.scatterplot(ax=axes[0], x=data['tumor']['beta_means'],\n",
    "                y=data['normals']['beta_means'], s = 5 * sf**2,\n",
    "                color=consts['palette_jco'][2], alpha=consts['opacity']\n",
    "               )\n",
    "\n",
    "# Customize figure\n",
    "axes[0].set_xlabel('Average $β$ in TCGA', fontsize=consts['labelfontsize'] * sf)\n",
    "axes[0].set_ylabel('Average $β$ in normals', fontsize=consts['labelfontsize'] * sf)\n",
    "axes[0].set_title(f'All CpGs (n = {data[\"tumor\"][\"beta_means\"].shape[0]:,})', fontsize=consts['labelfontsize'] * sf)\n",
    "axes[0].tick_params(axis='both', labelsize=consts['ticksfontsize'] * sf, width=sf, length=8 * sf)\n",
    "\n",
    "# Add highlighted region for unbiased sites\n",
    "lower = 0.4\n",
    "upper = 0.6\n",
    "axes[0].fill([lower, upper, upper, lower], [lower, lower, upper, upper],\n",
    "        color=consts['palette_jco'][1], alpha=0.5, lw=4 * sf)\n",
    "\n",
    "# Add text and arrow labeling the highlighted region\n",
    "axes[0].text(0.35, 0.85, 'Unbiased Set I',\n",
    "        ha=\"right\", va=\"bottom\", fontfamily='sans-serif', color='black',\n",
    "        fontsize=consts['labelfontsize'] * 0.8 * sf)\n",
    "axes[0].arrow(0.18, 0.82, 0.22, -0.22, color='black', length_includes_head=True, head_width=0.03, lw=0.5)\n",
    "\n",
    "########################################\n",
    "############### Right plot #############\n",
    "########################################\n",
    "\n",
    "# Get theoretical sites selected from first step (only using tumor and normals cohorts)\n",
    "tumorNormals_criteria = local_util.CLOCK_CRITERIA.copy()\n",
    "del tumorNormals_criteria['basal']\n",
    "del tumorNormals_criteria['luminal']\n",
    "tumorNormal_unbiased_CpGs = local_util.getCpG_list(data, tumorNormals_criteria, starting_CpG_list=None)\n",
    "\n",
    "# Plot data\n",
    "sns.scatterplot(ax=axes[1], x=data['basal']['beta_means'].loc[tumorNormal_unbiased_CpGs],\n",
    "                y=data['luminal']['beta_means'].loc[tumorNormal_unbiased_CpGs], s = 5 * sf**2,\n",
    "                color=consts['palette_jco'][1], alpha=consts['opacity']\n",
    "               )\n",
    "\n",
    "# Customize figure\n",
    "axes[1].set_xlabel('Average $β$ in basal epithelial', fontsize=consts['labelfontsize'] * sf)\n",
    "axes[1].set_ylabel('Average $β$ in luminal epithelial', fontsize=consts['labelfontsize'] * sf)\n",
    "axes[1].set_title(f'Unbiased Set I (n = {tumorNormal_unbiased_CpGs.shape[0]:,})', fontsize=consts['labelfontsize'] * sf)\n",
    "axes[1].tick_params(axis='both', labelsize=consts['ticksfontsize'] * sf, width=sf, length=8 * sf)\n",
    "\n",
    "# Add highlighted region for unbiased sites\n",
    "lower = 0.4\n",
    "upper = 0.6\n",
    "axes[1].fill([lower, upper, upper, lower], [lower, lower, upper, upper],\n",
    "        color=consts['palette_jco'][3], alpha=0.5, lw=4 * sf)\n",
    "\n",
    "# Add text and arrow labeling the highlighted region\n",
    "axes[1].text(0.35, 0.85, 'Unbiased Set II',\n",
    "        ha=\"right\", va=\"bottom\", fontfamily='sans-serif', color='black',\n",
    "        fontsize=consts['labelfontsize'] * 0.8 * sf)\n",
    "axes[1].arrow(0.18, 0.82, 0.22, -0.22, color='black', length_includes_head=True, head_width=0.03, lw=0.5)\n",
    "\n",
    "########################################\n",
    "############### Save figure ############\n",
    "fig.savefig(os.path.join(figure_outdir, 'Figure_2_AB.pdf'), format='pdf', pad_inches=0.1)"
   ]
  },
  {
   "cell_type": "code",
   "execution_count": 70,
   "id": "c1aa7972",
   "metadata": {},
   "outputs": [
    {
     "name": "stdout",
     "output_type": "stream",
     "text": [
      "Starting with 482421 CpGs\n"
     ]
    },
    {
     "name": "stderr",
     "output_type": "stream",
     "text": [
      "/Users/danielmonyak/opt/anaconda3/lib/python3.9/site-packages/seaborn/_oldcore.py:1119: FutureWarning: use_inf_as_na option is deprecated and will be removed in a future version. Convert inf values to NaN before operating instead.\n",
      "  with pd.option_context('mode.use_inf_as_na', True):\n",
      "/Users/danielmonyak/opt/anaconda3/lib/python3.9/site-packages/seaborn/_oldcore.py:1119: FutureWarning: use_inf_as_na option is deprecated and will be removed in a future version. Convert inf values to NaN before operating instead.\n",
      "  with pd.option_context('mode.use_inf_as_na', True):\n"
     ]
    },
    {
     "data": {
      "image/png": "[encoded data removed]",
      "text/plain": [
       "<Figure size 259.2x201.6 with 1 Axes>"
      ]
     },
     "metadata": {
      "needs_background": "light"
     },
     "output_type": "display_data"
    }
   ],
   "source": [
    "## Figure 1B\n",
    "\n",
    "# Plot inter-tumor standard deviation of beta for each unbiased site\n",
    "# Color blue the Clock sites selected (most variable sites)\n",
    "\n",
    "# Generate the set of unbiased sites\n",
    "balanced_means_CpGs = local_util.getCpG_list(data, local_util.CLOCK_CRITERIA, starting_CpG_list=None)\n",
    "\n",
    "# Create plot\n",
    "fig, ax = plt.subplots(1, 1, figsize=figsize * sf)\n",
    "sns.histplot(ax=ax,      # Non-fluctuating sites\n",
    "             x=data['tumor']['beta_stds'].loc[balanced_means_CpGs[~np.isin(balanced_means_CpGs, Clock_CpGs_final_set)]],\n",
    "             color=consts['palette_jco'][3], alpha=consts['opacity']\n",
    "            )\n",
    "sns.histplot(ax=ax,      # Fluctuating sites\n",
    "             x=data['tumor']['beta_stds'].loc[Clock_CpGs_final_set],\n",
    "             color=consts['palette_jco'][0], alpha=consts['opacity']\n",
    "            )\n",
    "\n",
    "# Customize figure\n",
    "ax.set_xlabel('Intertumor standard deviation of $β$ in TCGA', fontsize=consts['labelfontsize'] * sf)\n",
    "ax.set_ylabel(ax.get_ylabel(), fontsize=consts['labelfontsize'] * sf)\n",
    "ax.set_title(f'Unbiased Set II (n = {len(balanced_means_CpGs)})', fontsize=consts['labelfontsize'] * sf)\n",
    "ax.tick_params(axis='both', labelsize=consts['ticksfontsize'] * sf, width=sf, length=8 * sf)\n",
    "\n",
    "# Label fluctuating sites\n",
    "ax.text(0.24, 25, 'Fluctuating CpGs',\n",
    "        ha=\"left\", va=\"bottom\", fontfamily='sans-serif', color='black',\n",
    "        fontsize=consts['labelfontsize'] * 0.8 * sf)\n",
    "\n",
    "# Save figure\n",
    "fig.savefig(os.path.join(figure_outdir, 'Figure_2_C.pdf'), format='pdf', pad_inches=0.1)"
   ]
  },
  {
   "cell_type": "markdown",
   "id": "c6ccdfff",
   "metadata": {},
   "source": [
    "### Variance of normal vs tumor samples"
   ]
  },
  {
   "cell_type": "code",
   "execution_count": 80,
   "id": "73ea7e76",
   "metadata": {},
   "outputs": [],
   "source": [
    "### DELETE\n",
    "# c_beta_final_samples = pd.read_table(os.path.join(output_dir, 'TCGA.c_beta.txt'), index_col=0, header=None).squeeze(\"columns\")"
   ]
  },
  {
   "cell_type": "code",
   "execution_count": 23,
   "id": "e6401604",
   "metadata": {
    "scrolled": true
   },
   "outputs": [
    {
     "name": "stdout",
     "output_type": "stream",
     "text": [
      "Median standard deviation of clock beta values in TCGA tumors: 0.19\n",
      "Median standard deviation of clock beta values in normal breast samples: 0.08\n",
      "Wilcoxon rank sum test: p = 3e-45\n"
     ]
    }
   ],
   "source": [
    "# Calculate s_beta for tumors\n",
    "s_beta_tumors = 1 - c_beta_final_samples\n",
    "\n",
    "# Calculate s_beta for normals\n",
    "# Apply same threshold for missing Clock sites\n",
    "# final_sample_set_normals = data['normals']['beta_values_SELECTION'].columns[data['normals']['beta_values_SELECTION'].loc[Clock_CpGs_final_set].isna().mean(axis=0) < 0.05]\n",
    "# s_beta_normals = data['normals']['beta_values_SELECTION'].loc[Clock_CpGs_final_set, final_sample_set_normals].std(axis=0)\n",
    "s_beta_normals = beta_values_Clock_normals.std(axis=0)\n",
    "\n",
    "# Calculate wilcoxon rank-sums p-values\n",
    "pvalue = epi_util.wilcoxonRankSums(s_beta_tumors, s_beta_normals).pvalue\n",
    "\n",
    "print(f'Median standard deviation of clock beta values in TCGA tumors: {np.median(s_beta_tumors):.2f}')\n",
    "print(f'Median standard deviation of clock beta values in normal breast samples: {np.median(s_beta_normals):.2f}')\n",
    "print(f'Wilcoxon rank sum test: p = {pvalue:.0e}')"
   ]
  },
  {
   "cell_type": "code",
   "execution_count": 46,
   "id": "96beafbe",
   "metadata": {},
   "outputs": [
    {
     "data": {
      "text/plain": [
       "color\n",
       "#0073C2FF    316500\n",
       "#EFC000FF     39500\n",
       "Name: count, dtype: int64"
      ]
     },
     "execution_count": 46,
     "metadata": {},
     "output_type": "execute_result"
    }
   ],
   "source": [
    "combined_plot_data['color'].value_counts()"
   ]
  },
  {
   "cell_type": "code",
   "execution_count": 69,
   "id": "b377d212",
   "metadata": {},
   "outputs": [
    {
     "name": "stderr",
     "output_type": "stream",
     "text": [
      "/Users/danielmonyak/opt/anaconda3/lib/python3.9/site-packages/seaborn/_oldcore.py:1119: FutureWarning: use_inf_as_na option is deprecated and will be removed in a future version. Convert inf values to NaN before operating instead.\n",
      "  with pd.option_context('mode.use_inf_as_na', True):\n",
      "/Users/danielmonyak/opt/anaconda3/lib/python3.9/site-packages/seaborn/_oldcore.py:1075: FutureWarning: When grouping with a length-1 list-like, you will need to pass a length-1 tuple to get_group in a future version of pandas. Pass `(name,)` instead of `name` to silence this warning.\n",
      "  data_subset = grouped_data.get_group(pd_key)\n",
      "/Users/danielmonyak/opt/anaconda3/lib/python3.9/site-packages/seaborn/_oldcore.py:1075: FutureWarning: When grouping with a length-1 list-like, you will need to pass a length-1 tuple to get_group in a future version of pandas. Pass `(name,)` instead of `name` to silence this warning.\n",
      "  data_subset = grouped_data.get_group(pd_key)\n",
      "/Users/danielmonyak/opt/anaconda3/lib/python3.9/site-packages/seaborn/_oldcore.py:1075: FutureWarning: When grouping with a length-1 list-like, you will need to pass a length-1 tuple to get_group in a future version of pandas. Pass `(name,)` instead of `name` to silence this warning.\n",
      "  data_subset = grouped_data.get_group(pd_key)\n"
     ]
    },
    {
     "data": {
      "text/plain": [
       "color\n",
       "#0073C2FF    633\n",
       "#EFC000FF     79\n",
       "Name: count, dtype: int64"
      ]
     },
     "metadata": {},
     "output_type": "display_data"
    },
    {
     "data": {
      "image/png": "[encoded data removed]",
      "text/plain": [
       "<Figure size 259.2x201.6 with 1 Axes>"
      ]
     },
     "metadata": {
      "needs_background": "light"
     },
     "output_type": "display_data"
    }
   ],
   "source": [
    "# Create plot\n",
    "fig, ax = plt.subplots(figsize=figsize * sf)\n",
    "\n",
    "# Plot data\n",
    "\n",
    "color_dict = {'TCGA':consts['palette_jco'][0], 'Normals':consts['palette_jco'][1]}\n",
    "\n",
    "normals_plot_data = pd.melt(beta_values_Clock_normals[data['normals']['pureSamples']])\n",
    "normals_plot_data['color'] = color_dict['Normals']\n",
    "tumors_plot_data = pd.melt(beta_values_Clock_TCGA.loc[:, beta_values_Clock_TCGA.columns.isin(data['tumor']['pureSamples'])])\n",
    "tumors_plot_data['color'] = color_dict['TCGA']\n",
    "\n",
    "combined_plot_data = pd.concat([normals_plot_data, tumors_plot_data], axis=0).reset_index()\n",
    "\n",
    "\n",
    "# n_samps_tum = data['tumor']['pureSamples'].shape[0]\n",
    "# sns.kdeplot(ax=ax, data=pd.melt(beta_values_Clock_TCGA.loc[:, beta_values_Clock_TCGA.columns.isin(data['tumor']['pureSamples'])]),\n",
    "#             x='value', lw=0.5, alpha=0.5,\n",
    "#             hue='variable', palette=[color_dict['TCGA'] for i in range(n_samps_tum)],\n",
    "#             legend=False, common_norm=False, cut=0)\n",
    "\n",
    "# n_samps_norm = data['normals']['pureSamples'].shape[0]\n",
    "# sns.kdeplot(ax=ax, data=pd.melt(beta_values_Clock_normals[data['normals']['pureSamples']]),\n",
    "#             x='value', lw=0.5, alpha=1,\n",
    "#             hue='variable', palette=[color_dict['Normals'] for i in range(n_samps_norm)],\n",
    "#             legend=False, common_norm=False, cut=0)\n",
    "\n",
    "color_df = combined_plot_data[['variable', 'color']].drop_duplicates().set_index('variable')['color']\n",
    "sns.kdeplot(ax=ax, data=combined_plot_data,\n",
    "            x='value', lw=0.5, alpha=0.5,\n",
    "            hue='variable',\n",
    "#             palette=combined_plot_data['color'].tolist(),\n",
    "            palette=color_df.to_dict(),\n",
    "            legend=False, common_norm=False, cut=0)\n",
    "\n",
    "display(color_df.value_counts())\n",
    "\n",
    "# Customize figure\n",
    "ax.set_xlabel('$β$', fontsize=consts['labelfontsize'] * sf)\n",
    "ax.set_ylabel(\"Kernel density\", fontsize=consts['labelfontsize'] * sf)\n",
    "ax.tick_params(axis='both', labelsize=consts['ticksfontsize'] * sf, width=sf, length=8 * sf)\n",
    "\n",
    "# Legend\n",
    "patches = [mpatches.Patch(color=color_dict[group], label=group) for group in color_dict.keys()]\n",
    "plots_x, plots_y = ax.get_position().get_points()[1]\n",
    "fig.legend(handles=patches,\n",
    "           loc='upper right',\n",
    "           bbox_to_anchor=(plots_x, plots_y + .005),\n",
    "           fontsize=0.8 * consts['labelfontsize'] * sf\n",
    "          )\n",
    "\n",
    "# Save figure\n",
    "fig.savefig(os.path.join(figure_outdir, 'KDE spaghetti plot.pdf'), format='pdf', pad_inches=0.1)"
   ]
  },
  {
   "cell_type": "markdown",
   "id": "a2612a2d",
   "metadata": {},
   "source": [
    "## Loyfer Normals"
   ]
  },
  {
   "cell_type": "code",
   "execution_count": 10,
   "id": "59c7d723",
   "metadata": {},
   "outputs": [],
   "source": [
    "loyfer_indir = os.path.join(consts['official_indir'], 'Loyfer')\n",
    "\n",
    "beta_values_cells = {}\n",
    "cell_types = ['Adipocytes', 'Endothelium', 'Fibroblasts',\n",
    "             'T-CD4', 'T-CD8', 'NK', 'B-cells', 'Monocytes', 'Macrophages']\n",
    "for ct in cell_types:\n",
    "    beta_values_cells[ct] = pd.read_table(os.path.join(loyfer_indir, f'beta_values-{ct}.tsv'), index_col=0)"
   ]
  },
  {
   "cell_type": "code",
   "execution_count": 20,
   "id": "cd4b1c3c",
   "metadata": {},
   "outputs": [
    {
     "data": {
      "text/plain": [
       "'Adipocytes, Endothelium, Fibroblasts, T-CD4, T-CD8, NK, B-cells, Monocytes, Macrophages'"
      ]
     },
     "execution_count": 20,
     "metadata": {},
     "output_type": "execute_result"
    }
   ],
   "source": [
    "', '.join(cell_types)"
   ]
  },
  {
   "cell_type": "code",
   "execution_count": 11,
   "id": "ff8a4b95",
   "metadata": {
    "scrolled": true
   },
   "outputs": [],
   "source": [
    "beta_means_loyfer = pd.concat([beta_values_cells[ct].mean(axis=1).rename(ct) for ct in cell_types], axis=1)\n",
    "Clock_CpGs = np.loadtxt(os.path.join(consts['repo_dir'], '3. Select fCpGs', 'outputs_revision', 'Clock_CpGs.txt'), dtype=str)"
   ]
  },
  {
   "cell_type": "code",
   "execution_count": 18,
   "id": "7e2926bf",
   "metadata": {},
   "outputs": [
    {
     "data": {
      "text/plain": [
       "Text(0.5, 1.0, 'Mean = 0.48, SD = 0.22')"
      ]
     },
     "execution_count": 18,
     "metadata": {},
     "output_type": "execute_result"
    },
    {
     "data": {
      "image/png": "[encoded data removed]",
      "text/plain": [
       "<Figure size 259.2x201.6 with 1 Axes>"
      ]
     },
     "metadata": {
      "needs_background": "light"
     },
     "output_type": "display_data"
    }
   ],
   "source": [
    "# Create plot\n",
    "fig, ax = plt.subplots(figsize=figsize * sf)\n",
    "\n",
    "inter_celltype_mean_beta_values = beta_means_loyfer.loc[Clock_CpGs].mean(axis=1)\n",
    "sns.histplot(ax=ax, x=inter_celltype_mean_beta_values)\n",
    "\n",
    "\n",
    "# Customize figure\n",
    "ax.set_xlabel('Mean β across stromal/immune cell types', fontsize=consts['labelfontsize'] * sf)\n",
    "ax.set_ylabel(ax.get_ylabel(), fontsize=consts['labelfontsize'] * sf)\n",
    "ax.tick_params(axis='both', labelsize=consts['ticksfontsize'] * sf, width=sf, length=8 * sf)\n",
    "ax.set_xlim(0, 1)\n",
    "\n",
    "mean = inter_celltype_mean_beta_values.mean()\n",
    "stdev = inter_celltype_mean_beta_values.std()\n",
    "ax.set_title(f'Mean = {mean:.2f}, SD = {stdev:.2f}')"
   ]
  },
  {
   "cell_type": "code",
   "execution_count": 14,
   "id": "d71ef7c6",
   "metadata": {},
   "outputs": [
    {
     "data": {
      "text/plain": [
       "0.21729348267017337"
      ]
     },
     "execution_count": 14,
     "metadata": {},
     "output_type": "execute_result"
    }
   ],
   "source": [
    "beta_means_loyfer.loc[Clock_CpGs].mean(axis=1).std()"
   ]
  },
  {
   "cell_type": "markdown",
   "id": "826d0601",
   "metadata": {},
   "source": [
    "# Check ranking of fCpG variability in low and high purity tumors"
   ]
  },
  {
   "cell_type": "code",
   "execution_count": 10,
   "id": "b4e1dcc6",
   "metadata": {},
   "outputs": [],
   "source": [
    "Clock_CpGs = np.loadtxt(os.path.join(consts['repo_dir'], '3. Select fCpGs', 'outputs_revision', 'Clock_CpGs.txt'), dtype=str)\n",
    "balanced_means_CpGs = np.loadtxt(os.path.join(output_dir, 'balanced_means_CpGs.txt'), dtype=str)\n",
    "\n",
    "# Import clinical table\n",
    "clinical = pd.read_table(os.path.join(consts['TCGA_datadir'], 'TCGA.clinical.tsv'), index_col=0)\n",
    "clinical = clinical.set_index('bcr_patient_barcode')\n",
    "\n",
    "# Extract purity values from clinical table and sort by purity value\n",
    "# Match sample IDs from beta value table to patient IDs in clinical table\n",
    "patient_purity = clinical.loc[[epi_util.sampleToPatientID(x) for x in data['tumor']['pureSamples']], 'CPE']\n",
    "sample_purity = pd.Series(index=data['tumor']['pureSamples'], data=patient_purity.values)\n",
    "sample_purity = sample_purity.sort_values(ascending=True)"
   ]
  },
  {
   "cell_type": "code",
   "execution_count": 11,
   "id": "137c98b1",
   "metadata": {},
   "outputs": [],
   "source": [
    "n_samps = sample_purity.shape[0]\n",
    "n_samps_qtr = int(n_samps/4)\n",
    "bottom_qtr_tumors = sample_purity.index[:n_samps_qtr].values\n",
    "top_qtr_tumors = sample_purity.index[n_samps_qtr:].values"
   ]
  },
  {
   "cell_type": "code",
   "execution_count": 12,
   "id": "5dc8d668",
   "metadata": {},
   "outputs": [],
   "source": [
    "data['tumor']['beta_stds_bottomQtrTumors'] = data['tumor']['beta_values_SELECTION'][bottom_qtr_tumors].std(axis=1)\n",
    "data['tumor']['beta_stds_topQtrTumors'] = data['tumor']['beta_values_SELECTION'][top_qtr_tumors].std(axis=1)"
   ]
  },
  {
   "cell_type": "code",
   "execution_count": 13,
   "id": "df8e753f",
   "metadata": {},
   "outputs": [],
   "source": [
    "Clock_CpGs_bottomQtrTumors = local_util.getHighestRankedCpGs(data=data, n_select=500, sample_rank='tumor',\n",
    "                                                             stat_rank='beta_stds_bottomQtrTumors',\n",
    "                                                             good_end='higher', criteria_CpGs=balanced_means_CpGs)\n",
    "Clock_CpGs_topQtrTumors = local_util.getHighestRankedCpGs(data=data, n_select=500, sample_rank='tumor',\n",
    "                                                          stat_rank='beta_stds_topQtrTumors',\n",
    "                                                          good_end='higher', criteria_CpGs=balanced_means_CpGs)"
   ]
  },
  {
   "cell_type": "code",
   "execution_count": 19,
   "id": "b09882f5",
   "metadata": {},
   "outputs": [
    {
     "name": "stdout",
     "output_type": "stream",
     "text": [
      "Fraction of Clock fCpGs that are still selected when only using the 25% least pure tumors: 0.912\n",
      "Fraction of Clock fCpGs that are still selected when only using the 25% most pure tumors: 0.986\n"
     ]
    }
   ],
   "source": [
    "frac_in_bottomClock = np.intersect1d(Clock_CpGs, Clock_CpGs_bottomQtrTumors).shape[0] / 500\n",
    "frac_in_topClock = np.intersect1d(Clock_CpGs, Clock_CpGs_topQtrTumors).shape[0] / 500\n",
    "print(f'Fraction of Clock fCpGs that are still selected when only using the 25% least pure tumors: {frac_in_bottomClock}')\n",
    "print(f'Fraction of Clock fCpGs that are still selected when only using the 25% most pure tumors: {frac_in_topClock}')"
   ]
  }
 ],
 "metadata": {
  "kernelspec": {
   "display_name": "Python 3 (ipykernel)",
   "language": "python",
   "name": "python3"
  },
  "language_info": {
   "codemirror_mode": {
    "name": "ipython",
    "version": 3
   },
   "file_extension": ".py",
   "mimetype": "text/x-python",
   "name": "python",
   "nbconvert_exporter": "python",
   "pygments_lexer": "ipython3",
   "version": "3.9.19"
  }
 },
 "nbformat": 4,
 "nbformat_minor": 5
}
