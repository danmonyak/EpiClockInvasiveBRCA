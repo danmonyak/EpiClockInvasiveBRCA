{
 "cells": [
  {
   "cell_type": "markdown",
   "id": "c43d953e-0fd5-4d22-80ff-4d31c2418828",
   "metadata": {},
   "source": [
    "# Select fCpGs\n",
    "\n",
    "Run all cells to:\n",
    "- Import TCGA and normal samples methylation data\n",
    "- Select Clock (fCpG) sites and save\n",
    "- Refine final list of tumors and save\n",
    "- Calculate $c_\\beta$ values and save\n",
    "- Save beta values of Clock sites separately\n",
    "- Generate figures relating to this site selection\n",
    "- Calculate some statistics"
   ]
  },
  {
   "cell_type": "code",
   "execution_count": 1,
   "id": "1e1c4b14",
   "metadata": {},
   "outputs": [],
   "source": [
    "import pandas as pd\n",
    "import numpy as np\n",
    "import os\n",
    "import sys\n",
    "import seaborn as sns \n",
    "import matplotlib.pyplot as plt\n",
    "import matplotlib.patches as mpatches\n",
    "from scipy.stats import linregress\n",
    "import EpiClockInvasiveBRCA.src.util as epi_util\n",
    "consts = epi_util.consts\n",
    "import util_loyferNormals as local_util"
   ]
  },
  {
   "cell_type": "code",
   "execution_count": 3,
   "id": "7f6af29b-c389-4ad7-bc99-cd50380be63f",
   "metadata": {},
   "outputs": [],
   "source": [
    "## Output directories\n",
    "\n",
    "figure_outdir = 'figures_LoyferNormals'\n",
    "output_dir = 'outputs_LoyferNormals'\n",
    "\n",
    "os.makedirs(figure_outdir, exist_ok=True)\n",
    "os.makedirs(output_dir, exist_ok=True)"
   ]
  },
  {
   "cell_type": "code",
   "execution_count": null,
   "id": "526bc878",
   "metadata": {},
   "outputs": [],
   "source": []
  },
  {
   "cell_type": "code",
   "execution_count": 4,
   "id": "8a56961d",
   "metadata": {},
   "outputs": [
    {
     "ename": "TimeoutError",
     "evalue": "[Errno 60] Operation timed out",
     "output_type": "error",
     "traceback": [
      "\u001b[0;31m---------------------------------------------------------------------------\u001b[0m",
      "\u001b[0;31mTimeoutError\u001b[0m                              Traceback (most recent call last)",
      "\u001b[0;32m/var/folders/m9/kv2y3r0s0p1_cl3s3py1wprh0000gn/T/ipykernel_62882/670693863.py\u001b[0m in \u001b[0;36m<module>\u001b[0;34m\u001b[0m\n\u001b[1;32m      5\u001b[0m \u001b[0;34m\u001b[0m\u001b[0m\n\u001b[1;32m      6\u001b[0m \u001b[0;31m# Import TCGA and normals data\u001b[0m\u001b[0;34m\u001b[0m\u001b[0;34m\u001b[0m\u001b[0m\n\u001b[0;32m----> 7\u001b[0;31m \u001b[0mdata\u001b[0m \u001b[0;34m=\u001b[0m \u001b[0mlocal_util\u001b[0m\u001b[0;34m.\u001b[0m\u001b[0mgetDataDict\u001b[0m\u001b[0;34m(\u001b[0m\u001b[0;34m)\u001b[0m\u001b[0;34m\u001b[0m\u001b[0;34m\u001b[0m\u001b[0m\n\u001b[0m",
      "\u001b[0;32m~/Documents/Duke/lab/EpiClockInvasiveBRCA/3. Select fCpGs/util_loyferNormals.py\u001b[0m in \u001b[0;36mgetDataDict\u001b[0;34m()\u001b[0m\n\u001b[1;32m    105\u001b[0m     \u001b[0mdata\u001b[0m \u001b[0;34m=\u001b[0m \u001b[0;34m{\u001b[0m\u001b[0;34m'tumor'\u001b[0m\u001b[0;34m:\u001b[0m\u001b[0;34m{\u001b[0m\u001b[0;34m}\u001b[0m\u001b[0;34m,\u001b[0m \u001b[0;34m'basal'\u001b[0m\u001b[0;34m:\u001b[0m\u001b[0;34m{\u001b[0m\u001b[0;34m}\u001b[0m\u001b[0;34m,\u001b[0m \u001b[0;34m'luminal'\u001b[0m\u001b[0;34m:\u001b[0m\u001b[0;34m{\u001b[0m\u001b[0;34m}\u001b[0m\u001b[0;34m}\u001b[0m\u001b[0;34m\u001b[0m\u001b[0;34m\u001b[0m\u001b[0m\n\u001b[1;32m    106\u001b[0m \u001b[0;34m\u001b[0m\u001b[0m\n\u001b[0;32m--> 107\u001b[0;31m     \u001b[0mdata\u001b[0m\u001b[0;34m[\u001b[0m\u001b[0;34m'tumor'\u001b[0m\u001b[0;34m]\u001b[0m\u001b[0;34m[\u001b[0m\u001b[0;34m'beta_values'\u001b[0m\u001b[0;34m]\u001b[0m \u001b[0;34m=\u001b[0m \u001b[0mpd\u001b[0m\u001b[0;34m.\u001b[0m\u001b[0mread_table\u001b[0m\u001b[0;34m(\u001b[0m\u001b[0mos\u001b[0m\u001b[0;34m.\u001b[0m\u001b[0mpath\u001b[0m\u001b[0;34m.\u001b[0m\u001b[0mjoin\u001b[0m\u001b[0;34m(\u001b[0m\u001b[0mconsts\u001b[0m\u001b[0;34m[\u001b[0m\u001b[0;34m'TCGA_datadir'\u001b[0m\u001b[0;34m]\u001b[0m\u001b[0;34m,\u001b[0m \u001b[0;34m'TCGA.methyl.tsv'\u001b[0m\u001b[0;34m)\u001b[0m\u001b[0;34m,\u001b[0m \u001b[0mindex_col\u001b[0m\u001b[0;34m=\u001b[0m\u001b[0;36m0\u001b[0m\u001b[0;34m)\u001b[0m\u001b[0;34m\u001b[0m\u001b[0;34m\u001b[0m\u001b[0m\n\u001b[0m\u001b[1;32m    108\u001b[0m \u001b[0;31m#     data['normal']['beta_values'] = pd.read_table(os.path.join(consts['official_indir'], 'Johnson', 'johnson-beta_values.txt'), index_col=0)\u001b[0m\u001b[0;34m\u001b[0m\u001b[0;34m\u001b[0m\u001b[0m\n\u001b[1;32m    109\u001b[0m \u001b[0;34m\u001b[0m\u001b[0m\n",
      "\u001b[0;32m~/opt/anaconda3/lib/python3.9/site-packages/pandas/util/_decorators.py\u001b[0m in \u001b[0;36mwrapper\u001b[0;34m(*args, **kwargs)\u001b[0m\n\u001b[1;32m    209\u001b[0m                 \u001b[0;32melse\u001b[0m\u001b[0;34m:\u001b[0m\u001b[0;34m\u001b[0m\u001b[0;34m\u001b[0m\u001b[0m\n\u001b[1;32m    210\u001b[0m                     \u001b[0mkwargs\u001b[0m\u001b[0;34m[\u001b[0m\u001b[0mnew_arg_name\u001b[0m\u001b[0;34m]\u001b[0m \u001b[0;34m=\u001b[0m \u001b[0mnew_arg_value\u001b[0m\u001b[0;34m\u001b[0m\u001b[0;34m\u001b[0m\u001b[0m\n\u001b[0;32m--> 211\u001b[0;31m             \u001b[0;32mreturn\u001b[0m \u001b[0mfunc\u001b[0m\u001b[0;34m(\u001b[0m\u001b[0;34m*\u001b[0m\u001b[0margs\u001b[0m\u001b[0;34m,\u001b[0m \u001b[0;34m**\u001b[0m\u001b[0mkwargs\u001b[0m\u001b[0;34m)\u001b[0m\u001b[0;34m\u001b[0m\u001b[0;34m\u001b[0m\u001b[0m\n\u001b[0m\u001b[1;32m    212\u001b[0m \u001b[0;34m\u001b[0m\u001b[0m\n\u001b[1;32m    213\u001b[0m         \u001b[0;32mreturn\u001b[0m \u001b[0mcast\u001b[0m\u001b[0;34m(\u001b[0m\u001b[0mF\u001b[0m\u001b[0;34m,\u001b[0m \u001b[0mwrapper\u001b[0m\u001b[0;34m)\u001b[0m\u001b[0;34m\u001b[0m\u001b[0;34m\u001b[0m\u001b[0m\n",
      "\u001b[0;32m~/opt/anaconda3/lib/python3.9/site-packages/pandas/util/_decorators.py\u001b[0m in \u001b[0;36mwrapper\u001b[0;34m(*args, **kwargs)\u001b[0m\n\u001b[1;32m    329\u001b[0m                     \u001b[0mstacklevel\u001b[0m\u001b[0;34m=\u001b[0m\u001b[0mfind_stack_level\u001b[0m\u001b[0;34m(\u001b[0m\u001b[0;34m)\u001b[0m\u001b[0;34m,\u001b[0m\u001b[0;34m\u001b[0m\u001b[0;34m\u001b[0m\u001b[0m\n\u001b[1;32m    330\u001b[0m                 )\n\u001b[0;32m--> 331\u001b[0;31m             \u001b[0;32mreturn\u001b[0m \u001b[0mfunc\u001b[0m\u001b[0;34m(\u001b[0m\u001b[0;34m*\u001b[0m\u001b[0margs\u001b[0m\u001b[0;34m,\u001b[0m \u001b[0;34m**\u001b[0m\u001b[0mkwargs\u001b[0m\u001b[0;34m)\u001b[0m\u001b[0;34m\u001b[0m\u001b[0;34m\u001b[0m\u001b[0m\n\u001b[0m\u001b[1;32m    332\u001b[0m \u001b[0;34m\u001b[0m\u001b[0m\n\u001b[1;32m    333\u001b[0m         \u001b[0;31m# error: \"Callable[[VarArg(Any), KwArg(Any)], Any]\" has no\u001b[0m\u001b[0;34m\u001b[0m\u001b[0;34m\u001b[0m\u001b[0m\n",
      "\u001b[0;32m~/opt/anaconda3/lib/python3.9/site-packages/pandas/io/parsers/readers.py\u001b[0m in \u001b[0;36mread_table\u001b[0;34m(filepath_or_buffer, sep, delimiter, header, names, index_col, usecols, squeeze, prefix, mangle_dupe_cols, dtype, engine, converters, true_values, false_values, skipinitialspace, skiprows, skipfooter, nrows, na_values, keep_default_na, na_filter, verbose, skip_blank_lines, parse_dates, infer_datetime_format, keep_date_col, date_parser, dayfirst, cache_dates, iterator, chunksize, compression, thousands, decimal, lineterminator, quotechar, quoting, doublequote, escapechar, comment, encoding, encoding_errors, dialect, error_bad_lines, warn_bad_lines, on_bad_lines, delim_whitespace, low_memory, memory_map, float_precision, storage_options)\u001b[0m\n\u001b[1;32m   1287\u001b[0m     \u001b[0mkwds\u001b[0m\u001b[0;34m.\u001b[0m\u001b[0mupdate\u001b[0m\u001b[0;34m(\u001b[0m\u001b[0mkwds_defaults\u001b[0m\u001b[0;34m)\u001b[0m\u001b[0;34m\u001b[0m\u001b[0;34m\u001b[0m\u001b[0m\n\u001b[1;32m   1288\u001b[0m \u001b[0;34m\u001b[0m\u001b[0m\n\u001b[0;32m-> 1289\u001b[0;31m     \u001b[0;32mreturn\u001b[0m \u001b[0m_read\u001b[0m\u001b[0;34m(\u001b[0m\u001b[0mfilepath_or_buffer\u001b[0m\u001b[0;34m,\u001b[0m \u001b[0mkwds\u001b[0m\u001b[0;34m)\u001b[0m\u001b[0;34m\u001b[0m\u001b[0;34m\u001b[0m\u001b[0m\n\u001b[0m\u001b[1;32m   1290\u001b[0m \u001b[0;34m\u001b[0m\u001b[0m\n\u001b[1;32m   1291\u001b[0m \u001b[0;34m\u001b[0m\u001b[0m\n",
      "\u001b[0;32m~/opt/anaconda3/lib/python3.9/site-packages/pandas/io/parsers/readers.py\u001b[0m in \u001b[0;36m_read\u001b[0;34m(filepath_or_buffer, kwds)\u001b[0m\n\u001b[1;32m    603\u001b[0m \u001b[0;34m\u001b[0m\u001b[0m\n\u001b[1;32m    604\u001b[0m     \u001b[0;31m# Create the parser.\u001b[0m\u001b[0;34m\u001b[0m\u001b[0;34m\u001b[0m\u001b[0m\n\u001b[0;32m--> 605\u001b[0;31m     \u001b[0mparser\u001b[0m \u001b[0;34m=\u001b[0m \u001b[0mTextFileReader\u001b[0m\u001b[0;34m(\u001b[0m\u001b[0mfilepath_or_buffer\u001b[0m\u001b[0;34m,\u001b[0m \u001b[0;34m**\u001b[0m\u001b[0mkwds\u001b[0m\u001b[0;34m)\u001b[0m\u001b[0;34m\u001b[0m\u001b[0;34m\u001b[0m\u001b[0m\n\u001b[0m\u001b[1;32m    606\u001b[0m \u001b[0;34m\u001b[0m\u001b[0m\n\u001b[1;32m    607\u001b[0m     \u001b[0;32mif\u001b[0m \u001b[0mchunksize\u001b[0m \u001b[0;32mor\u001b[0m \u001b[0miterator\u001b[0m\u001b[0;34m:\u001b[0m\u001b[0;34m\u001b[0m\u001b[0;34m\u001b[0m\u001b[0m\n",
      "\u001b[0;32m~/opt/anaconda3/lib/python3.9/site-packages/pandas/io/parsers/readers.py\u001b[0m in \u001b[0;36m__init__\u001b[0;34m(self, f, engine, **kwds)\u001b[0m\n\u001b[1;32m   1440\u001b[0m \u001b[0;34m\u001b[0m\u001b[0m\n\u001b[1;32m   1441\u001b[0m         \u001b[0mself\u001b[0m\u001b[0;34m.\u001b[0m\u001b[0mhandles\u001b[0m\u001b[0;34m:\u001b[0m \u001b[0mIOHandles\u001b[0m \u001b[0;34m|\u001b[0m \u001b[0;32mNone\u001b[0m \u001b[0;34m=\u001b[0m \u001b[0;32mNone\u001b[0m\u001b[0;34m\u001b[0m\u001b[0;34m\u001b[0m\u001b[0m\n\u001b[0;32m-> 1442\u001b[0;31m         \u001b[0mself\u001b[0m\u001b[0;34m.\u001b[0m\u001b[0m_engine\u001b[0m \u001b[0;34m=\u001b[0m \u001b[0mself\u001b[0m\u001b[0;34m.\u001b[0m\u001b[0m_make_engine\u001b[0m\u001b[0;34m(\u001b[0m\u001b[0mf\u001b[0m\u001b[0;34m,\u001b[0m \u001b[0mself\u001b[0m\u001b[0;34m.\u001b[0m\u001b[0mengine\u001b[0m\u001b[0;34m)\u001b[0m\u001b[0;34m\u001b[0m\u001b[0;34m\u001b[0m\u001b[0m\n\u001b[0m\u001b[1;32m   1443\u001b[0m \u001b[0;34m\u001b[0m\u001b[0m\n\u001b[1;32m   1444\u001b[0m     \u001b[0;32mdef\u001b[0m \u001b[0mclose\u001b[0m\u001b[0;34m(\u001b[0m\u001b[0mself\u001b[0m\u001b[0;34m)\u001b[0m \u001b[0;34m->\u001b[0m \u001b[0;32mNone\u001b[0m\u001b[0;34m:\u001b[0m\u001b[0;34m\u001b[0m\u001b[0;34m\u001b[0m\u001b[0m\n",
      "\u001b[0;32m~/opt/anaconda3/lib/python3.9/site-packages/pandas/io/parsers/readers.py\u001b[0m in \u001b[0;36m_make_engine\u001b[0;34m(self, f, engine)\u001b[0m\n\u001b[1;32m   1751\u001b[0m \u001b[0;34m\u001b[0m\u001b[0m\n\u001b[1;32m   1752\u001b[0m         \u001b[0;32mtry\u001b[0m\u001b[0;34m:\u001b[0m\u001b[0;34m\u001b[0m\u001b[0;34m\u001b[0m\u001b[0m\n\u001b[0;32m-> 1753\u001b[0;31m             \u001b[0;32mreturn\u001b[0m \u001b[0mmapping\u001b[0m\u001b[0;34m[\u001b[0m\u001b[0mengine\u001b[0m\u001b[0;34m]\u001b[0m\u001b[0;34m(\u001b[0m\u001b[0mf\u001b[0m\u001b[0;34m,\u001b[0m \u001b[0;34m**\u001b[0m\u001b[0mself\u001b[0m\u001b[0;34m.\u001b[0m\u001b[0moptions\u001b[0m\u001b[0;34m)\u001b[0m\u001b[0;34m\u001b[0m\u001b[0;34m\u001b[0m\u001b[0m\n\u001b[0m\u001b[1;32m   1754\u001b[0m         \u001b[0;32mexcept\u001b[0m \u001b[0mException\u001b[0m\u001b[0;34m:\u001b[0m\u001b[0;34m\u001b[0m\u001b[0;34m\u001b[0m\u001b[0m\n\u001b[1;32m   1755\u001b[0m             \u001b[0;32mif\u001b[0m \u001b[0mself\u001b[0m\u001b[0;34m.\u001b[0m\u001b[0mhandles\u001b[0m \u001b[0;32mis\u001b[0m \u001b[0;32mnot\u001b[0m \u001b[0;32mNone\u001b[0m\u001b[0;34m:\u001b[0m\u001b[0;34m\u001b[0m\u001b[0;34m\u001b[0m\u001b[0m\n",
      "\u001b[0;32m~/opt/anaconda3/lib/python3.9/site-packages/pandas/io/parsers/c_parser_wrapper.py\u001b[0m in \u001b[0;36m__init__\u001b[0;34m(self, src, **kwds)\u001b[0m\n\u001b[1;32m     77\u001b[0m \u001b[0;34m\u001b[0m\u001b[0m\n\u001b[1;32m     78\u001b[0m         \u001b[0mkwds\u001b[0m\u001b[0;34m[\u001b[0m\u001b[0;34m\"dtype\"\u001b[0m\u001b[0;34m]\u001b[0m \u001b[0;34m=\u001b[0m \u001b[0mensure_dtype_objs\u001b[0m\u001b[0;34m(\u001b[0m\u001b[0mkwds\u001b[0m\u001b[0;34m.\u001b[0m\u001b[0mget\u001b[0m\u001b[0;34m(\u001b[0m\u001b[0;34m\"dtype\"\u001b[0m\u001b[0;34m,\u001b[0m \u001b[0;32mNone\u001b[0m\u001b[0;34m)\u001b[0m\u001b[0;34m)\u001b[0m\u001b[0;34m\u001b[0m\u001b[0;34m\u001b[0m\u001b[0m\n\u001b[0;32m---> 79\u001b[0;31m         \u001b[0mself\u001b[0m\u001b[0;34m.\u001b[0m\u001b[0m_reader\u001b[0m \u001b[0;34m=\u001b[0m \u001b[0mparsers\u001b[0m\u001b[0;34m.\u001b[0m\u001b[0mTextReader\u001b[0m\u001b[0;34m(\u001b[0m\u001b[0msrc\u001b[0m\u001b[0;34m,\u001b[0m \u001b[0;34m**\u001b[0m\u001b[0mkwds\u001b[0m\u001b[0;34m)\u001b[0m\u001b[0;34m\u001b[0m\u001b[0;34m\u001b[0m\u001b[0m\n\u001b[0m\u001b[1;32m     80\u001b[0m \u001b[0;34m\u001b[0m\u001b[0m\n\u001b[1;32m     81\u001b[0m         \u001b[0mself\u001b[0m\u001b[0;34m.\u001b[0m\u001b[0munnamed_cols\u001b[0m \u001b[0;34m=\u001b[0m \u001b[0mself\u001b[0m\u001b[0;34m.\u001b[0m\u001b[0m_reader\u001b[0m\u001b[0;34m.\u001b[0m\u001b[0munnamed_cols\u001b[0m\u001b[0;34m\u001b[0m\u001b[0;34m\u001b[0m\u001b[0m\n",
      "\u001b[0;32m~/opt/anaconda3/lib/python3.9/site-packages/pandas/_libs/parsers.pyx\u001b[0m in \u001b[0;36mpandas._libs.parsers.TextReader.__cinit__\u001b[0;34m()\u001b[0m\n",
      "\u001b[0;32m~/opt/anaconda3/lib/python3.9/site-packages/pandas/_libs/parsers.pyx\u001b[0m in \u001b[0;36mpandas._libs.parsers.TextReader._get_header\u001b[0;34m()\u001b[0m\n",
      "\u001b[0;32m~/opt/anaconda3/lib/python3.9/site-packages/pandas/_libs/parsers.pyx\u001b[0m in \u001b[0;36mpandas._libs.parsers.TextReader._tokenize_rows\u001b[0;34m()\u001b[0m\n",
      "\u001b[0;32m~/opt/anaconda3/lib/python3.9/site-packages/pandas/_libs/parsers.pyx\u001b[0m in \u001b[0;36mpandas._libs.parsers.raise_parser_error\u001b[0;34m()\u001b[0m\n",
      "\u001b[0;31mTimeoutError\u001b[0m: [Errno 60] Operation timed out"
     ]
    }
   ],
   "source": [
    "## Import data\n",
    "\n",
    "# Returns list of \"neutral\" CpGs based on 450k and 850k array annotations\n",
    "# neutral_DNA_CpG_list = local_util.getNeutralDNACpGs()\n",
    "\n",
    "# Import TCGA and normals data\n",
    "data = local_util.getDataDict()"
   ]
  },
  {
   "cell_type": "markdown",
   "id": "9e20a1a3-27e9-4fb8-951d-7a0a808795ae",
   "metadata": {},
   "source": [
    "## Select 500 CpGs"
   ]
  },
  {
   "cell_type": "code",
   "execution_count": 8,
   "id": "bf040d03-0252-46f5-bc99-38d430adc1f3",
   "metadata": {},
   "outputs": [
    {
     "name": "stdout",
     "output_type": "stream",
     "text": [
      "Selecting CpGs with 634 TCGA tumors, 4 normal basal samples, 4 normal luminal samples\n",
      "Current output matches existing file.\n"
     ]
    }
   ],
   "source": [
    "# Return the Clock set of CpGs\n",
    "Clock_CpGs_final_set = local_util.gen_CpG_set(data, neutral_DNA_CpG_list=None)\n",
    "\n",
    "# Outfile path\n",
    "Clock_CpGs_filepath = os.path.join(output_dir, 'Clock_CpGs.txt')\n",
    "\n",
    "# Save Clock sites, don't overwrite existing file\n",
    "if os.path.exists(Clock_CpGs_filepath):\n",
    "    existing_set = np.loadtxt(Clock_CpGs_filepath, dtype=str)\n",
    "    assert (np.sort(Clock_CpGs_final_set) == np.sort(existing_set)).all()\n",
    "    print('Current output matches existing file.')\n",
    "else:\n",
    "    np.savetxt(Clock_CpGs_filepath, Clock_CpGs_final_set, fmt='%s')"
   ]
  },
  {
   "cell_type": "markdown",
   "id": "a768f509",
   "metadata": {},
   "source": [
    "## Remove tumors for too many missing Clock beta values"
   ]
  },
  {
   "cell_type": "code",
   "execution_count": 9,
   "id": "de1733c0-77a3-481f-87a5-859610bfc060",
   "metadata": {},
   "outputs": [
    {
     "name": "stdout",
     "output_type": "stream",
     "text": [
      "4 tumors were filtered for having >=5% missing values for the 500 selected sites.\n",
      "630 tumors left\n"
     ]
    }
   ],
   "source": [
    "final_sample_set = data['tumor']['beta_values'].columns[data['tumor']['beta_values'].loc[Clock_CpGs_final_set].isna().mean(axis=0) < 0.05]\n",
    "\n",
    "# Count difference in # tumors\n",
    "n_before = data['tumor']['beta_values'].shape[1]\n",
    "n_after = final_sample_set.shape[0]\n",
    "\n",
    "print(f'{n_before - n_after} tumors were filtered for having >=5% missing values for the 500 selected sites.')\n",
    "print(f'{n_after} tumors left')"
   ]
  },
  {
   "cell_type": "markdown",
   "id": "4b9c985c",
   "metadata": {},
   "source": [
    "## Calculate $c_\\beta$ values"
   ]
  },
  {
   "cell_type": "code",
   "execution_count": 12,
   "id": "ed744325",
   "metadata": {},
   "outputs": [
    {
     "name": "stdout",
     "output_type": "stream",
     "text": [
      "Current output matches existing file.\n"
     ]
    }
   ],
   "source": [
    "c_beta_final_samples = 1 - data['tumor']['beta_values'].loc[Clock_CpGs_final_set, final_sample_set].std(axis=0)\n",
    "\n",
    "# Outfile path\n",
    "c_beta_filepath = os.path.join(output_dir, 'TCGA.c_beta.txt')\n",
    "\n",
    "# Save c_beta values, don't overwrite existing file\n",
    "if os.path.exists(c_beta_filepath):\n",
    "    existing_c_beta = pd.read_table(c_beta_filepath, index_col=0, header=None).squeeze(\"columns\")\n",
    "    assert (c_beta_final_samples - existing_c_beta < 1e-6).all()\n",
    "    print('Current output matches existing file.')\n",
    "else:\n",
    "    c_beta_final_samples.to_csv(c_beta_filepath, sep='\\t', header=False)"
   ]
  },
  {
   "cell_type": "markdown",
   "id": "9c1c6427",
   "metadata": {},
   "source": [
    "## Save beta values of Clock sites separately\n",
    "Much smaller file, easier to import in other scripts/notebooks"
   ]
  },
  {
   "cell_type": "code",
   "execution_count": 13,
   "id": "e88be3cf",
   "metadata": {},
   "outputs": [],
   "source": [
    "data['tumor']['beta_values'].loc[Clock_CpGs_final_set].to_csv(\n",
    "    os.path.join(consts['TCGA_datadir'], 'TCGA.methyl.Clock_loyfer.tsv'),\n",
    "    sep='\\t'\n",
    ")"
   ]
  },
  {
   "cell_type": "markdown",
   "id": "cd1ecc37-ce7b-47b9-abbf-1b5e1bcb692d",
   "metadata": {},
   "source": [
    "## Figures"
   ]
  },
  {
   "cell_type": "code",
   "execution_count": null,
   "id": "71ea0152",
   "metadata": {},
   "outputs": [],
   "source": [
    "## Configure graph\n",
    "sf = consts['sf']\n",
    "figsize = np.array([9, 7])\n",
    "sns.set(rc={\"savefig.bbox\":'tight', 'axes.linewidth':sf}, font_scale=1, style='ticks')"
   ]
  },
  {
   "cell_type": "markdown",
   "id": "8a0f27bb",
   "metadata": {},
   "source": [
    "### Prepare data object for figures"
   ]
  },
  {
   "cell_type": "code",
   "execution_count": null,
   "id": "fa0d52b2-2967-4ba3-aa87-fbd083673a12",
   "metadata": {},
   "outputs": [],
   "source": [
    "## Add beta_means, beta_stds, beta_nans to data dict\n",
    "local_util.addMeanStdsNans(data)"
   ]
  },
  {
   "cell_type": "markdown",
   "id": "801d447e-5fa7-41df-bb59-62d377d6e37b",
   "metadata": {},
   "source": [
    "### Visualization of Site Selection - Figures 1A and 1B"
   ]
  },
  {
   "cell_type": "code",
   "execution_count": null,
   "id": "38715101-46f2-4a4c-9346-5c776b0466f6",
   "metadata": {},
   "outputs": [],
   "source": [
    "## Figure 1A\n",
    "\n",
    "# Plot tumor and normals mean beta of each site\n",
    "# Highlight region of neutral sites\n",
    "\n",
    "# Create plot\n",
    "fig, ax = plt.subplots(1, 1, figsize=figsize * sf)\n",
    "sns.scatterplot(ax=ax, x=data['tumor']['beta_means'].loc[neutral_DNA_CpG_list],\n",
    "                y=data['normal']['beta_means'].loc[neutral_DNA_CpG_list], s = 5 * sf**2,\n",
    "                color=consts['palette_jco'][2], alpha=consts['opacity']\n",
    "               )\n",
    "\n",
    "# Customize figure\n",
    "ax.set_xlabel('Average β in TCGA', fontsize=consts['labelfontsize'] * sf)\n",
    "ax.set_ylabel('Average β in normals', fontsize=consts['labelfontsize'] * sf)\n",
    "ax.set_title(f'Neutral CpGs (n = {len(neutral_DNA_CpG_list)})', fontsize=consts['labelfontsize'] * sf)\n",
    "ax.tick_params(axis='both', labelsize=consts['ticksfontsize'] * sf, width=sf, length=8 * sf)\n",
    "\n",
    "# Add highlighted region for unbiased sites\n",
    "lower = 0.4\n",
    "upper = 0.6\n",
    "ax.fill([lower, upper, upper, lower], [lower, lower, upper, upper],\n",
    "        color=consts['palette_jco'][3], alpha=0.5, lw=4 * sf)\n",
    "\n",
    "# Add text and arrow labeling the highlighted region\n",
    "ax.text(0.35, 0.85, 'Unbiased CpGs',\n",
    "        ha=\"right\", va=\"bottom\", fontfamily='sans-serif', color='black',\n",
    "        fontsize=consts['labelfontsize'] * 0.8 * sf)\n",
    "ax.arrow(0.18, 0.82, 0.22, -0.22, color='black', length_includes_head=True, head_width=0.03, lw=0.5)\n",
    "\n",
    "# Save figure\n",
    "fig.savefig(os.path.join(figure_outdir, 'Figure_2_A.pdf'), format='pdf', pad_inches=0.1)"
   ]
  },
  {
   "cell_type": "code",
   "execution_count": null,
   "id": "c1aa7972",
   "metadata": {},
   "outputs": [],
   "source": [
    "## Figure 1B\n",
    "\n",
    "# Plot inter-tumor standard deviation of beta for each unbiased site\n",
    "# Color blue the Clock sites selected (most variable sites)\n",
    "\n",
    "# Generate the set of unbiased sites\n",
    "balanced_means_CpGs = local_util.getCpG_list(data, local_util.CLOCK_CRITERIA, starting_CpG_list=neutral_DNA_CpG_list)\n",
    "\n",
    "# Create plot\n",
    "fig, ax = plt.subplots(1, 1, figsize=figsize * sf)\n",
    "sns.histplot(ax=ax,      # Non-fluctuating sites\n",
    "             x=data['tumor']['beta_stds'].loc[balanced_means_CpGs[~np.isin(balanced_means_CpGs, Clock_CpGs_final_set)]],\n",
    "             color=consts['palette_jco'][3], alpha=consts['opacity']\n",
    "            )\n",
    "sns.histplot(ax=ax,      # Fluctuating sites\n",
    "             x=data['tumor']['beta_stds'].loc[Clock_CpGs_final_set],\n",
    "             color=consts['palette_jco'][0], alpha=consts['opacity']\n",
    "            )\n",
    "\n",
    "# Customize figure\n",
    "ax.set_xlabel('Intertumor standard deviation of β in TCGA', fontsize=consts['labelfontsize'] * sf)\n",
    "ax.set_ylabel(ax.get_ylabel(), fontsize=consts['labelfontsize'] * sf)\n",
    "ax.set_title(f'Neutral and unbiased CpGs (n = {len(balanced_means_CpGs)})', fontsize=consts['labelfontsize'] * sf)\n",
    "ax.tick_params(axis='both', labelsize=consts['ticksfontsize'] * sf, width=sf, length=8 * sf)\n",
    "\n",
    "# Label fluctuating sites\n",
    "ax.text(0.235, 55, 'Fluctuating CpGs',\n",
    "        ha=\"left\", va=\"bottom\", fontfamily='sans-serif', color='black',\n",
    "        fontsize=consts['labelfontsize'] * 0.8 * sf)\n",
    "\n",
    "# Save figure\n",
    "fig.savefig(os.path.join(figure_outdir, 'Figure_2_B.pdf'), format='pdf', pad_inches=0.1)"
   ]
  },
  {
   "cell_type": "markdown",
   "id": "d4ff50ec-b745-42e0-b60e-bd5731e2f3e2",
   "metadata": {},
   "source": [
    "### Display CpG Examples - Figure 2E"
   ]
  },
  {
   "cell_type": "code",
   "execution_count": null,
   "id": "294ba91c-585c-4fd9-9062-be6da7acfd79",
   "metadata": {},
   "outputs": [],
   "source": [
    "## Plot beta value distribution of two example CpG sites in tumors and normals\n",
    "\n",
    "CpGs_chosen = ['cg07582923', 'cg04197086']\n",
    "\n",
    "# Create plot axes\n",
    "fig, axes = plt.subplots(1, 2, figsize=figsize * sf * [2.3, 1])\n",
    "\n",
    "# Select colors and create legend\n",
    "color_dict = {'TCGA':consts['palette_jco'][0], 'Normals':consts['palette_jco'][3]}\n",
    "patches = [mpatches.Patch(color=color_dict[cohort], label=cohort) for cohort in color_dict.keys()]\n",
    "plots_x, plots_y = axes[0].get_position().get_points()[1]\n",
    "fig.legend(handles=patches,\n",
    "           loc='upper left',\n",
    "           bbox_to_anchor=(plots_x - .33, plots_y - 0.05),\n",
    "           fontsize=0.8*consts['labelfontsize'] * sf\n",
    "          )\n",
    "\n",
    "\n",
    "\n",
    "# Max y-axis top limit (between the two plots)\n",
    "# Used to align the y-axes after plotting\n",
    "ymax_max = 0\n",
    "\n",
    "for i, CpG in enumerate(CpGs_chosen):\n",
    "    ax = axes[i]\n",
    "    \n",
    "    # Create long-form dataframe with \"Cohort\" variable\n",
    "    plot_data = pd.concat([\n",
    "        pd.DataFrame({'beta':data['tumor']['beta_values_SELECTION'].loc[CpG], 'Cohort':'TCGA'}),\n",
    "        pd.DataFrame({'beta':data['normal']['beta_values_SELECTION'].loc[CpG], 'Cohort':'Normals'})\n",
    "    ], axis=0)\n",
    "    \n",
    "    # Plot data\n",
    "    sns.histplot(ax=ax, data=plot_data, x='beta', hue='Cohort',\n",
    "                 common_norm=False, stat='proportion', palette=color_dict, legend=False, alpha=consts['opacity'])\n",
    "    \n",
    "    # Customize figure\n",
    "    ax.set_xlabel('β', fontsize=consts['labelfontsize'] * sf)\n",
    "    ax.set_title(CpG, fontsize=consts['labelfontsize'] * sf)\n",
    "    ax.tick_params(axis='both', labelsize=consts['ticksfontsize'] * sf, width=sf, length=8 * sf)\n",
    "\n",
    "    # Update max y-axis top limit\n",
    "    ymax_max = max(ymax_max, ax.get_ylim()[1])\n",
    "\n",
    "# Align both plots to the same limits\n",
    "axes[0].set_ylim(0, ymax_max)\n",
    "axes[1].set_ylim(0, ymax_max)\n",
    "axes[0].set_xlim(0, 1)\n",
    "axes[1].set_xlim(0, 1)\n",
    "\n",
    "# Only need y-axis label on left plot\n",
    "axes[0].set_ylabel(axes[1].get_ylabel(), fontsize=consts['labelfontsize'] * sf)\n",
    "axes[1].set_ylabel('')\n",
    "\n",
    "# Save figure\n",
    "fig.savefig(os.path.join(figure_outdir, 'Figure_2_E.pdf'), format='pdf', pad_inches=0.1)"
   ]
  },
  {
   "cell_type": "markdown",
   "id": "c6ccdfff",
   "metadata": {},
   "source": [
    "### Statistics"
   ]
  },
  {
   "cell_type": "code",
   "execution_count": null,
   "id": "73ea7e76",
   "metadata": {},
   "outputs": [],
   "source": [
    "### DELETE\n",
    "# c_beta_final_samples = pd.read_table(os.path.join(output_dir, 'TCGA.c_beta.txt'), index_col=0, header=None).squeeze(\"columns\")"
   ]
  },
  {
   "cell_type": "code",
   "execution_count": null,
   "id": "e6401604",
   "metadata": {
    "scrolled": true
   },
   "outputs": [],
   "source": [
    "# Calculate s_beta for tumors\n",
    "s_beta_tumors = 1 - c_beta_final_samples\n",
    "\n",
    "# Calculate s_beta for normals\n",
    "# Apply same threshold for missing Clock sites\n",
    "final_sample_set_normals = data['normal']['beta_values_SELECTION'].columns[data['normal']['beta_values_SELECTION'].loc[Clock_CpGs_final_set].isna().mean(axis=0) < 0.05]\n",
    "s_beta_normals = data['normal']['beta_values_SELECTION'].loc[Clock_CpGs_final_set, final_sample_set_normals].std(axis=0)\n",
    "\n",
    "# Calculate wilcoxon rank-sums p-values\n",
    "pvalue = epi_util.wilcoxonRankSums(s_beta_tumors, s_beta_normals).pvalue\n",
    "\n",
    "print(f'Median standard deviation of clock beta values in TCGA tumors: {np.median(s_beta_tumors):.3f}')\n",
    "print(f'Median standard deviation of clock beta values in normal breast samples: {np.median(s_beta_normals):.3f}')\n",
    "print(f'Wilcoxon rank sum test: p = {pvalue:.0e}')"
   ]
  }
 ],
 "metadata": {
  "kernelspec": {
   "display_name": "Python 3 (ipykernel)",
   "language": "python",
   "name": "python3"
  },
  "language_info": {
   "codemirror_mode": {
    "name": "ipython",
    "version": 3
   },
   "file_extension": ".py",
   "mimetype": "text/x-python",
   "name": "python",
   "nbconvert_exporter": "python",
   "pygments_lexer": "ipython3",
   "version": "3.9.19"
  }
 },
 "nbformat": 4,
 "nbformat_minor": 5
}
